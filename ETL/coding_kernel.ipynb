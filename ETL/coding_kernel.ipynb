{
 "cells": [
  {
   "cell_type": "code",
   "execution_count": 1,
   "metadata": {},
   "outputs": [],
   "source": [
    "import pandas as pd\n",
    "import numpy as np"
   ]
  },
  {
   "cell_type": "code",
   "execution_count": 2,
   "metadata": {},
   "outputs": [],
   "source": [
    "from coolorange import *"
   ]
  },
  {
   "cell_type": "code",
   "execution_count": 3,
   "metadata": {},
   "outputs": [],
   "source": [
    "import pickle"
   ]
  },
  {
   "cell_type": "code",
   "execution_count": 4,
   "metadata": {},
   "outputs": [
    {
     "name": "stdout",
     "output_type": "stream",
     "text": [
      "Loading file: ../../M2020-06-21D.xls\n",
      "Loaded: Race(1)\n",
      "Loaded: Race(2)\n",
      "Loaded: Race(3)\n",
      "Loaded: Race(4)\n",
      "Loaded: Race(5)\n",
      "Loaded: Race(6)\n",
      "Loaded: Race(7)\n",
      "Loaded: Race(8)\n",
      "Loaded: Race(9)\n",
      "Loaded: Race(10)\n",
      "Loaded: Race(11)\n",
      "Status: Completed\n",
      "\n"
     ]
    }
   ],
   "source": [
    "data = load_whole_excel('../../M2020-06-21D.xls', 'Race', combined=True)"
   ]
  },
  {
   "cell_type": "code",
   "execution_count": null,
   "metadata": {},
   "outputs": [],
   "source": []
  },
  {
   "cell_type": "code",
   "execution_count": 5,
   "metadata": {},
   "outputs": [],
   "source": [
    "# result = extract_missing_result(data, '../../geckodriver')"
   ]
  },
  {
   "cell_type": "code",
   "execution_count": 6,
   "metadata": {},
   "outputs": [],
   "source": [
    "col_names = ['東(正)',\n",
    " '東(副)',\n",
    " '東(冷)',\n",
    " '蘋(正)',\n",
    " '蘋(副)',\n",
    " '蘋(冷)',\n",
    " '專(正)',\n",
    " '專(副)',\n",
    " '專(冷)',\n",
    " 'W.H. FixOdd',\n",
    " 'S.B.      FixOdd']"
   ]
  },
  {
   "cell_type": "code",
   "execution_count": 7,
   "metadata": {},
   "outputs": [
    {
     "name": "stderr",
     "output_type": "stream",
     "text": [
      "/home/esmond/anaconda3/lib/python3.7/site-packages/sklearn/base.py:318: UserWarning: Trying to unpickle estimator DecisionTreeClassifier from version 0.22.2.post1 when using version 0.22.1. This might lead to breaking code or invalid results. Use at your own risk.\n",
      "  UserWarning)\n",
      "/home/esmond/anaconda3/lib/python3.7/site-packages/sklearn/base.py:318: UserWarning: Trying to unpickle estimator RandomForestClassifier from version 0.22.2.post1 when using version 0.22.1. This might lead to breaking code or invalid results. Use at your own risk.\n",
      "  UserWarning)\n"
     ]
    }
   ],
   "source": [
    "model = pickle.load(open('../../model_rf_4_24_new.sav', 'rb'))"
   ]
  },
  {
   "cell_type": "code",
   "execution_count": 8,
   "metadata": {},
   "outputs": [],
   "source": [
    "result = {'2020_06_21_1': ['1', '11', '8'],\n",
    " '2020_06_21_2': ['3', '13', '7'],\n",
    " '2020_06_21_3': ['3', '5'],\n",
    " '2020_06_21_4': ['3', '5', '7'],\n",
    " '2020_06_21_5': ['1', '3', '2'],\n",
    " '2020_06_21_6': ['6', '13', '11'],\n",
    " '2020_06_21_7': ['8', '10', '9'],\n",
    " '2020_06_21_8': ['5', '7', '2'],\n",
    " '2020_06_21_9': ['11', '3', '4'],\n",
    " '2020_06_21_10': ['3', '14', '7'],\n",
    " '2020_06_21_11': ['5', '10', '8']}"
   ]
  },
  {
   "cell_type": "code",
   "execution_count": null,
   "metadata": {},
   "outputs": [],
   "source": []
  },
  {
   "cell_type": "code",
   "execution_count": 14,
   "metadata": {},
   "outputs": [],
   "source": [
    "# def twin_t_match(model, data, result, col_names, core_only=False):\n",
    "#     \"\"\" calculateif twin_t_match\n",
    "    \n",
    "#     Parameters: model (model object) - the prediction model obj\n",
    "#                 data (DataFrame) - the data load from ETL methods\n",
    "#                 result (dict) - a dictionary of real result, \n",
    "#                                 can be extracted from ETL method: extract_missing_result()\n",
    "#                                 o/w, need to follow the format {race_id:list/array of first 3 places}\n",
    "#                 col_names (array-like) - the column names in order that matches with the model dimension\n",
    "#                 core_only (boo) - if we only bet on position (i.e. first 3 places)\n",
    "#                                   optional, default is False, i.e. bet on twin-t, not position\n",
    "                                \n",
    "#     Returns: (dict) - dictionary contains the match result\n",
    "#     \"\"\"\n",
    "    \n",
    "#     def single_race_twin_t(model, separated, col_names, id_, result, core_only=False):\n",
    "#         \"\"\" single race result match with twin-t method\n",
    "#         \"\"\"\n",
    "#         cal_result = model.predict_proba(separated[id_][col_names].values)[:,1]\n",
    "#         sorted_cal_result = np.argsort(cal_result)[::-1] + 1\n",
    "\n",
    "#         real_result = [int(i) for i in result[id_]]\n",
    "\n",
    "#         core_win = [sorted_cal_result[i] in real_result for i in [0,1,2]]\n",
    "#         rest_win = not bool(len(set(real_result) - set(sorted_cal_result[:8])))\n",
    "\n",
    "#         if core_only:\n",
    "#             return core_win\n",
    "#         else:\n",
    "#             prediction_result = np.array(core_win) * np.array(rest_win)\n",
    "#             return prediction_result\n",
    "    \n",
    "#     file_name = data.file_name.unique()[0]\n",
    "#     unique_sheet_name = data.sheet_name.unique()\n",
    "#     separated = {'_'.join(format_date_race(file_name, i)):data[data.sheet_name == i] for i in unique_sheet_name}\n",
    "\n",
    "#     all_prediction_result = {i:single_race_twin_t(model, separated, col_names, i, result, core_only) for i in separated}\n",
    "#     return all_prediction_result"
   ]
  },
  {
   "cell_type": "code",
   "execution_count": 9,
   "metadata": {},
   "outputs": [],
   "source": []
  },
  {
   "cell_type": "code",
   "execution_count": null,
   "metadata": {},
   "outputs": [],
   "source": []
  },
  {
   "cell_type": "code",
   "execution_count": null,
   "metadata": {},
   "outputs": [],
   "source": []
  },
  {
   "cell_type": "code",
   "execution_count": 9,
   "metadata": {},
   "outputs": [
    {
     "data": {
      "text/plain": [
       "{'2020_06_21_1': [True, False, False],\n",
       " '2020_06_21_2': [False, True, False],\n",
       " '2020_06_21_3': [False, False, True],\n",
       " '2020_06_21_4': [True, False, False],\n",
       " '2020_06_21_5': [True, True, False],\n",
       " '2020_06_21_6': [False, False, False],\n",
       " '2020_06_21_7': [False, False, True],\n",
       " '2020_06_21_8': [False, False, True],\n",
       " '2020_06_21_9': [True, True, False],\n",
       " '2020_06_21_10': [False, False, True],\n",
       " '2020_06_21_11': [True, False, True]}"
      ]
     },
     "execution_count": 9,
     "metadata": {},
     "output_type": "execute_result"
    }
   ],
   "source": [
    "twin_t_match(model, data, result, col_names, core_only=True)"
   ]
  },
  {
   "cell_type": "code",
   "execution_count": null,
   "metadata": {},
   "outputs": [],
   "source": []
  },
  {
   "cell_type": "code",
   "execution_count": null,
   "metadata": {},
   "outputs": [],
   "source": []
  },
  {
   "cell_type": "code",
   "execution_count": null,
   "metadata": {},
   "outputs": [],
   "source": []
  },
  {
   "cell_type": "code",
   "execution_count": null,
   "metadata": {},
   "outputs": [],
   "source": []
  },
  {
   "cell_type": "code",
   "execution_count": null,
   "metadata": {},
   "outputs": [],
   "source": []
  },
  {
   "cell_type": "code",
   "execution_count": null,
   "metadata": {},
   "outputs": [],
   "source": []
  },
  {
   "cell_type": "code",
   "execution_count": null,
   "metadata": {},
   "outputs": [],
   "source": []
  },
  {
   "cell_type": "code",
   "execution_count": null,
   "metadata": {},
   "outputs": [],
   "source": []
  },
  {
   "cell_type": "code",
   "execution_count": null,
   "metadata": {},
   "outputs": [],
   "source": []
  }
 ],
 "metadata": {
  "kernelspec": {
   "display_name": "Python 3",
   "language": "python",
   "name": "python3"
  },
  "language_info": {
   "codemirror_mode": {
    "name": "ipython",
    "version": 3
   },
   "file_extension": ".py",
   "mimetype": "text/x-python",
   "name": "python",
   "nbconvert_exporter": "python",
   "pygments_lexer": "ipython3",
   "version": "3.7.6"
  }
 },
 "nbformat": 4,
 "nbformat_minor": 4
}
