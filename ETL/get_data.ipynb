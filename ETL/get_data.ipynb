{
 "cells": [
  {
   "cell_type": "code",
   "execution_count": 1,
   "metadata": {
    "ExecuteTime": {
<<<<<<< HEAD
     "end_time": "2020-05-17T06:51:12.048746Z",
     "start_time": "2020-05-17T06:51:11.522514Z"
=======
     "end_time": "2020-05-02T11:33:32.745594Z",
     "start_time": "2020-05-02T11:33:31.973900Z"
>>>>>>> 910c800abce44000ad1704d1558f68fa4eaccb9e
    }
   },
   "outputs": [],
   "source": [
    "from tools import *\n",
    "from load_data import *\n",
    "from scraper import *"
   ]
  },
  {
   "cell_type": "code",
   "execution_count": 2,
   "metadata": {
    "ExecuteTime": {
<<<<<<< HEAD
     "end_time": "2020-05-17T06:51:12.058271Z",
     "start_time": "2020-05-17T06:51:12.052570Z"
    }
   },
   "outputs": [],
   "source": [
    "import os\n",
    "import re"
   ]
  },
  {
   "cell_type": "code",
   "execution_count": 3,
   "metadata": {
    "ExecuteTime": {
     "end_time": "2020-05-17T06:51:12.069142Z",
     "start_time": "2020-05-17T06:51:12.065017Z"
=======
     "end_time": "2020-05-02T11:33:32.757633Z",
     "start_time": "2020-05-02T11:33:32.749584Z"
>>>>>>> 910c800abce44000ad1704d1558f68fa4eaccb9e
    }
   },
   "outputs": [],
   "source": [
    "import pandas as pd"
   ]
  },
  {
   "cell_type": "code",
<<<<<<< HEAD
   "execution_count": 4,
   "metadata": {
    "ExecuteTime": {
     "end_time": "2020-05-17T06:51:12.087515Z",
     "start_time": "2020-05-17T06:51:12.075533Z"
    }
   },
   "outputs": [],
   "source": [
    "from tqdm import tqdm_notebook as tqdm"
   ]
  },
  {
   "cell_type": "markdown",
   "metadata": {},
   "source": [
    "# Core Data"
   ]
  },
  {
   "cell_type": "code",
   "execution_count": 5,
   "metadata": {
    "ExecuteTime": {
     "end_time": "2020-05-17T06:51:13.066523Z",
     "start_time": "2020-05-17T06:51:13.002155Z"
    }
   },
   "outputs": [],
   "source": [
    "data = pd.read_csv('../model/5_2_2020_data.csv')"
   ]
  },
  {
   "cell_type": "code",
   "execution_count": 6,
   "metadata": {
    "ExecuteTime": {
     "end_time": "2020-05-17T06:51:13.348125Z",
     "start_time": "2020-05-17T06:51:13.154308Z"
    }
   },
   "outputs": [],
   "source": [
    "subset = subset_df(data, 'file_name')"
   ]
  },
  {
   "cell_type": "code",
   "execution_count": 7,
   "metadata": {
    "ExecuteTime": {
     "end_time": "2020-05-17T06:51:14.292619Z",
     "start_time": "2020-05-17T06:51:13.360335Z"
    }
   },
   "outputs": [],
   "source": [
    "by_race = [subset_df(i, 'sheet_name') for i in subset]\n",
    "by_race = unlist(by_race)"
=======
   "execution_count": 22,
   "metadata": {
    "ExecuteTime": {
     "end_time": "2020-05-02T10:24:18.667823Z",
     "start_time": "2020-05-02T10:24:18.574417Z"
    }
   },
   "outputs": [
    {
     "data": {
      "text/html": [
       "<div>\n",
       "<style scoped>\n",
       "    .dataframe tbody tr th:only-of-type {\n",
       "        vertical-align: middle;\n",
       "    }\n",
       "\n",
       "    .dataframe tbody tr th {\n",
       "        vertical-align: top;\n",
       "    }\n",
       "\n",
       "    .dataframe thead th {\n",
       "        text-align: right;\n",
       "    }\n",
       "</style>\n",
       "<table border=\"1\" class=\"dataframe\">\n",
       "  <thead>\n",
       "    <tr style=\"text-align: right;\">\n",
       "      <th></th>\n",
       "      <th>horse_num</th>\n",
       "      <th>oriental_1</th>\n",
       "      <th>oriental_2</th>\n",
       "      <th>oriental_3</th>\n",
       "      <th>oriental_sum</th>\n",
       "      <th>apple_1</th>\n",
       "      <th>apple_2</th>\n",
       "      <th>apple_3</th>\n",
       "      <th>apple_sum</th>\n",
       "      <th>pro_1</th>\n",
       "      <th>...</th>\n",
       "      <th>total_2</th>\n",
       "      <th>total_3</th>\n",
       "      <th>total_sum</th>\n",
       "      <th>w_h_odd</th>\n",
       "      <th>s_b_odd</th>\n",
       "      <th>result</th>\n",
       "      <th>file_name</th>\n",
       "      <th>sheet_name</th>\n",
       "      <th>W.H. FixOdd 60</th>\n",
       "      <th>S.B.Fix Odd 60</th>\n",
       "    </tr>\n",
       "  </thead>\n",
       "  <tbody>\n",
       "    <tr>\n",
       "      <th>0</th>\n",
       "      <td>1</td>\n",
       "      <td>4</td>\n",
       "      <td>2</td>\n",
       "      <td>0</td>\n",
       "      <td>6.0</td>\n",
       "      <td>2.0</td>\n",
       "      <td>1.0</td>\n",
       "      <td>1.0</td>\n",
       "      <td>4.0</td>\n",
       "      <td>3.0</td>\n",
       "      <td>...</td>\n",
       "      <td>5.0</td>\n",
       "      <td>4.0</td>\n",
       "      <td>18.0</td>\n",
       "      <td>11.0</td>\n",
       "      <td>11.0</td>\n",
       "      <td>0.0</td>\n",
       "      <td>M2018-04-11D</td>\n",
       "      <td>Race(1)</td>\n",
       "      <td>NaN</td>\n",
       "      <td>NaN</td>\n",
       "    </tr>\n",
       "    <tr>\n",
       "      <th>1</th>\n",
       "      <td>2</td>\n",
       "      <td>0</td>\n",
       "      <td>3</td>\n",
       "      <td>5</td>\n",
       "      <td>8.0</td>\n",
       "      <td>1.0</td>\n",
       "      <td>1.0</td>\n",
       "      <td>3.0</td>\n",
       "      <td>5.0</td>\n",
       "      <td>4.0</td>\n",
       "      <td>...</td>\n",
       "      <td>7.0</td>\n",
       "      <td>11.0</td>\n",
       "      <td>23.0</td>\n",
       "      <td>10.0</td>\n",
       "      <td>10.0</td>\n",
       "      <td>0.0</td>\n",
       "      <td>M2018-04-11D</td>\n",
       "      <td>Race(1)</td>\n",
       "      <td>NaN</td>\n",
       "      <td>NaN</td>\n",
       "    </tr>\n",
       "    <tr>\n",
       "      <th>2</th>\n",
       "      <td>3</td>\n",
       "      <td>0</td>\n",
       "      <td>0</td>\n",
       "      <td>0</td>\n",
       "      <td>0.0</td>\n",
       "      <td>0.0</td>\n",
       "      <td>0.0</td>\n",
       "      <td>0.0</td>\n",
       "      <td>0.0</td>\n",
       "      <td>0.0</td>\n",
       "      <td>...</td>\n",
       "      <td>0.0</td>\n",
       "      <td>0.0</td>\n",
       "      <td>0.0</td>\n",
       "      <td>41.0</td>\n",
       "      <td>41.0</td>\n",
       "      <td>0.0</td>\n",
       "      <td>M2018-04-11D</td>\n",
       "      <td>Race(1)</td>\n",
       "      <td>NaN</td>\n",
       "      <td>NaN</td>\n",
       "    </tr>\n",
       "    <tr>\n",
       "      <th>3</th>\n",
       "      <td>4</td>\n",
       "      <td>3</td>\n",
       "      <td>2</td>\n",
       "      <td>0</td>\n",
       "      <td>5.0</td>\n",
       "      <td>2.0</td>\n",
       "      <td>1.0</td>\n",
       "      <td>11.0</td>\n",
       "      <td>14.0</td>\n",
       "      <td>3.0</td>\n",
       "      <td>...</td>\n",
       "      <td>4.0</td>\n",
       "      <td>12.0</td>\n",
       "      <td>24.0</td>\n",
       "      <td>8.0</td>\n",
       "      <td>8.0</td>\n",
       "      <td>0.0</td>\n",
       "      <td>M2018-04-11D</td>\n",
       "      <td>Race(1)</td>\n",
       "      <td>NaN</td>\n",
       "      <td>NaN</td>\n",
       "    </tr>\n",
       "    <tr>\n",
       "      <th>4</th>\n",
       "      <td>5</td>\n",
       "      <td>3</td>\n",
       "      <td>2</td>\n",
       "      <td>5</td>\n",
       "      <td>10.0</td>\n",
       "      <td>3.0</td>\n",
       "      <td>3.0</td>\n",
       "      <td>3.0</td>\n",
       "      <td>9.0</td>\n",
       "      <td>2.0</td>\n",
       "      <td>...</td>\n",
       "      <td>10.0</td>\n",
       "      <td>8.0</td>\n",
       "      <td>26.0</td>\n",
       "      <td>4.6</td>\n",
       "      <td>4.6</td>\n",
       "      <td>0.0</td>\n",
       "      <td>M2018-04-11D</td>\n",
       "      <td>Race(1)</td>\n",
       "      <td>NaN</td>\n",
       "      <td>NaN</td>\n",
       "    </tr>\n",
       "    <tr>\n",
       "      <th>...</th>\n",
       "      <td>...</td>\n",
       "      <td>...</td>\n",
       "      <td>...</td>\n",
       "      <td>...</td>\n",
       "      <td>...</td>\n",
       "      <td>...</td>\n",
       "      <td>...</td>\n",
       "      <td>...</td>\n",
       "      <td>...</td>\n",
       "      <td>...</td>\n",
       "      <td>...</td>\n",
       "      <td>...</td>\n",
       "      <td>...</td>\n",
       "      <td>...</td>\n",
       "      <td>...</td>\n",
       "      <td>...</td>\n",
       "      <td>...</td>\n",
       "      <td>...</td>\n",
       "      <td>...</td>\n",
       "      <td>...</td>\n",
       "      <td>...</td>\n",
       "    </tr>\n",
       "    <tr>\n",
       "      <th>20276</th>\n",
       "      <td>12</td>\n",
       "      <td>2</td>\n",
       "      <td>5</td>\n",
       "      <td>3</td>\n",
       "      <td>10.0</td>\n",
       "      <td>2.0</td>\n",
       "      <td>9.0</td>\n",
       "      <td>12.0</td>\n",
       "      <td>23.0</td>\n",
       "      <td>2.0</td>\n",
       "      <td>...</td>\n",
       "      <td>24.0</td>\n",
       "      <td>19.0</td>\n",
       "      <td>49.0</td>\n",
       "      <td>8.5</td>\n",
       "      <td>8.5</td>\n",
       "      <td>0.0</td>\n",
       "      <td>M2020-04-26D</td>\n",
       "      <td>Race(9)</td>\n",
       "      <td>9.0</td>\n",
       "      <td>10.0</td>\n",
       "    </tr>\n",
       "    <tr>\n",
       "      <th>20277</th>\n",
       "      <td>11</td>\n",
       "      <td>0</td>\n",
       "      <td>2</td>\n",
       "      <td>0</td>\n",
       "      <td>2.0</td>\n",
       "      <td>0.0</td>\n",
       "      <td>1.0</td>\n",
       "      <td>0.0</td>\n",
       "      <td>1.0</td>\n",
       "      <td>0.0</td>\n",
       "      <td>...</td>\n",
       "      <td>5.0</td>\n",
       "      <td>0.0</td>\n",
       "      <td>5.0</td>\n",
       "      <td>8.5</td>\n",
       "      <td>11.0</td>\n",
       "      <td>2.0</td>\n",
       "      <td>M2020-04-26D</td>\n",
       "      <td>Race(9)</td>\n",
       "      <td>11.0</td>\n",
       "      <td>12.0</td>\n",
       "    </tr>\n",
       "    <tr>\n",
       "      <th>20278</th>\n",
       "      <td>10</td>\n",
       "      <td>0</td>\n",
       "      <td>3</td>\n",
       "      <td>6</td>\n",
       "      <td>9.0</td>\n",
       "      <td>0.0</td>\n",
       "      <td>1.0</td>\n",
       "      <td>1.0</td>\n",
       "      <td>2.0</td>\n",
       "      <td>0.0</td>\n",
       "      <td>...</td>\n",
       "      <td>6.0</td>\n",
       "      <td>7.0</td>\n",
       "      <td>13.0</td>\n",
       "      <td>20.0</td>\n",
       "      <td>26.0</td>\n",
       "      <td>0.0</td>\n",
       "      <td>M2020-04-26D</td>\n",
       "      <td>Race(9)</td>\n",
       "      <td>19.0</td>\n",
       "      <td>18.0</td>\n",
       "    </tr>\n",
       "    <tr>\n",
       "      <th>20279</th>\n",
       "      <td>3</td>\n",
       "      <td>0</td>\n",
       "      <td>2</td>\n",
       "      <td>3</td>\n",
       "      <td>5.0</td>\n",
       "      <td>0.0</td>\n",
       "      <td>1.0</td>\n",
       "      <td>0.0</td>\n",
       "      <td>1.0</td>\n",
       "      <td>0.0</td>\n",
       "      <td>...</td>\n",
       "      <td>3.0</td>\n",
       "      <td>3.0</td>\n",
       "      <td>6.0</td>\n",
       "      <td>19.0</td>\n",
       "      <td>21.0</td>\n",
       "      <td>0.0</td>\n",
       "      <td>M2020-04-26D</td>\n",
       "      <td>Race(9)</td>\n",
       "      <td>21.0</td>\n",
       "      <td>23.0</td>\n",
       "    </tr>\n",
       "    <tr>\n",
       "      <th>20280</th>\n",
       "      <td>13</td>\n",
       "      <td>0</td>\n",
       "      <td>0</td>\n",
       "      <td>0</td>\n",
       "      <td>0.0</td>\n",
       "      <td>0.0</td>\n",
       "      <td>0.0</td>\n",
       "      <td>0.0</td>\n",
       "      <td>0.0</td>\n",
       "      <td>0.0</td>\n",
       "      <td>...</td>\n",
       "      <td>0.0</td>\n",
       "      <td>0.0</td>\n",
       "      <td>0.0</td>\n",
       "      <td>20.0</td>\n",
       "      <td>26.0</td>\n",
       "      <td>0.0</td>\n",
       "      <td>M2020-04-26D</td>\n",
       "      <td>Race(9)</td>\n",
       "      <td>23.0</td>\n",
       "      <td>23.0</td>\n",
       "    </tr>\n",
       "  </tbody>\n",
       "</table>\n",
       "<p>20281 rows × 24 columns</p>\n",
       "</div>"
      ],
      "text/plain": [
       "       horse_num oriental_1 oriental_2 oriental_3  oriental_sum  apple_1  \\\n",
       "0              1          4          2          0           6.0      2.0   \n",
       "1              2          0          3          5           8.0      1.0   \n",
       "2              3          0          0          0           0.0      0.0   \n",
       "3              4          3          2          0           5.0      2.0   \n",
       "4              5          3          2          5          10.0      3.0   \n",
       "...          ...        ...        ...        ...           ...      ...   \n",
       "20276         12          2          5          3          10.0      2.0   \n",
       "20277         11          0          2          0           2.0      0.0   \n",
       "20278         10          0          3          6           9.0      0.0   \n",
       "20279          3          0          2          3           5.0      0.0   \n",
       "20280         13          0          0          0           0.0      0.0   \n",
       "\n",
       "       apple_2  apple_3  apple_sum  pro_1  ...  total_2  total_3  total_sum  \\\n",
       "0          1.0      1.0        4.0    3.0  ...      5.0      4.0       18.0   \n",
       "1          1.0      3.0        5.0    4.0  ...      7.0     11.0       23.0   \n",
       "2          0.0      0.0        0.0    0.0  ...      0.0      0.0        0.0   \n",
       "3          1.0     11.0       14.0    3.0  ...      4.0     12.0       24.0   \n",
       "4          3.0      3.0        9.0    2.0  ...     10.0      8.0       26.0   \n",
       "...        ...      ...        ...    ...  ...      ...      ...        ...   \n",
       "20276      9.0     12.0       23.0    2.0  ...     24.0     19.0       49.0   \n",
       "20277      1.0      0.0        1.0    0.0  ...      5.0      0.0        5.0   \n",
       "20278      1.0      1.0        2.0    0.0  ...      6.0      7.0       13.0   \n",
       "20279      1.0      0.0        1.0    0.0  ...      3.0      3.0        6.0   \n",
       "20280      0.0      0.0        0.0    0.0  ...      0.0      0.0        0.0   \n",
       "\n",
       "       w_h_odd  s_b_odd  result     file_name  sheet_name  W.H. FixOdd 60  \\\n",
       "0         11.0     11.0     0.0  M2018-04-11D     Race(1)             NaN   \n",
       "1         10.0     10.0     0.0  M2018-04-11D     Race(1)             NaN   \n",
       "2         41.0     41.0     0.0  M2018-04-11D     Race(1)             NaN   \n",
       "3          8.0      8.0     0.0  M2018-04-11D     Race(1)             NaN   \n",
       "4          4.6      4.6     0.0  M2018-04-11D     Race(1)             NaN   \n",
       "...        ...      ...     ...           ...         ...             ...   \n",
       "20276      8.5      8.5     0.0  M2020-04-26D     Race(9)             9.0   \n",
       "20277      8.5     11.0     2.0  M2020-04-26D     Race(9)            11.0   \n",
       "20278     20.0     26.0     0.0  M2020-04-26D     Race(9)            19.0   \n",
       "20279     19.0     21.0     0.0  M2020-04-26D     Race(9)            21.0   \n",
       "20280     20.0     26.0     0.0  M2020-04-26D     Race(9)            23.0   \n",
       "\n",
       "       S.B.Fix Odd 60  \n",
       "0                 NaN  \n",
       "1                 NaN  \n",
       "2                 NaN  \n",
       "3                 NaN  \n",
       "4                 NaN  \n",
       "...               ...  \n",
       "20276            10.0  \n",
       "20277            12.0  \n",
       "20278            18.0  \n",
       "20279            23.0  \n",
       "20280            23.0  \n",
       "\n",
       "[20281 rows x 24 columns]"
      ]
     },
     "execution_count": 22,
     "metadata": {},
     "output_type": "execute_result"
    }
   ],
   "source": [
    "pd.read_csv('../model/5_2_2020_data.csv')"
>>>>>>> 910c800abce44000ad1704d1558f68fa4eaccb9e
   ]
  },
  {
   "cell_type": "code",
<<<<<<< HEAD
   "execution_count": 8,
   "metadata": {
    "ExecuteTime": {
     "end_time": "2020-05-17T06:51:16.262025Z",
     "start_time": "2020-05-17T06:51:14.294782Z"
    },
    "scrolled": true
   },
   "outputs": [],
   "source": [
    "by_race_dict = dict()\n",
    "for i in by_race:\n",
    "    date = i.file_name.unique()[0]\n",
    "    race = i.sheet_name.unique()[0]\n",
    "    id_ = '_'.join(format_date_race(date, race))\n",
    "    by_race_dict[id_] = i[[j for j in list(i) if ('sum' not in j) and ('total' not in j) and (j not in ['file_name','sheet_name','result'])]].reset_index(drop=True)"
   ]
  },
  {
   "cell_type": "markdown",
   "metadata": {},
   "source": [
    "# HKJC Data"
   ]
  },
  {
   "cell_type": "code",
   "execution_count": 9,
   "metadata": {
    "ExecuteTime": {
     "end_time": "2020-05-17T06:51:17.006455Z",
     "start_time": "2020-05-17T06:51:17.001576Z"
    }
   },
   "outputs": [],
   "source": [
    "path = '../../extra_size_files/data/5_1_2020_info'"
   ]
  },
  {
   "cell_type": "code",
   "execution_count": 10,
   "metadata": {
    "ExecuteTime": {
     "end_time": "2020-05-17T06:51:17.375451Z",
     "start_time": "2020-05-17T06:51:17.364698Z"
    }
   },
   "outputs": [],
   "source": [
    "all_dir = os.listdir(path)"
   ]
  },
  {
   "cell_type": "code",
   "execution_count": 11,
   "metadata": {
    "ExecuteTime": {
     "end_time": "2020-05-17T06:51:17.504714Z",
     "start_time": "2020-05-17T06:51:17.498126Z"
    }
   },
   "outputs": [],
   "source": [
    "rp = [i for i in all_dir if 'rp' in i]\n",
    "rt = [i for i in all_dir if 'rt' in i]\n",
    "result = [i for i in all_dir if 'result' in i]"
   ]
  },
  {
   "cell_type": "markdown",
   "metadata": {},
   "source": [
    "## Race tab"
   ]
  },
  {
   "cell_type": "code",
   "execution_count": 12,
   "metadata": {
    "ExecuteTime": {
     "end_time": "2020-05-17T06:51:18.674551Z",
     "start_time": "2020-05-17T06:51:18.582234Z"
    }
   },
   "outputs": [],
   "source": [
    "# get race tab\n",
    "race_tab = list()\n",
    "for i in rt:\n",
    "    with open(os.path.join(path, i)) as f:\n",
    "        wow = [i.strip() for i in f.readlines()]\n",
    "    race_tab.append(wow)"
   ]
  },
  {
   "cell_type": "code",
   "execution_count": 13,
   "metadata": {
    "ExecuteTime": {
     "end_time": "2020-05-17T06:51:18.811130Z",
     "start_time": "2020-05-17T06:51:18.802536Z"
=======
   "execution_count": null,
   "metadata": {},
   "outputs": [],
   "source": []
  },
  {
   "cell_type": "code",
   "execution_count": null,
   "metadata": {},
   "outputs": [],
   "source": []
  },
  {
   "cell_type": "code",
   "execution_count": null,
   "metadata": {},
   "outputs": [],
   "source": []
  },
  {
   "cell_type": "code",
   "execution_count": 5,
   "metadata": {
    "ExecuteTime": {
     "end_time": "2020-05-02T10:16:43.854854Z",
     "start_time": "2020-05-02T10:16:39.818655Z"
>>>>>>> 910c800abce44000ad1704d1558f68fa4eaccb9e
    }
   },
   "outputs": [],
   "source": [
<<<<<<< HEAD
    "id_rt = [re.sub(r'_rt.txt', '', i) for i in rt]"
   ]
  },
  {
   "cell_type": "markdown",
   "metadata": {},
   "source": [
    "### Length class"
=======
    "hkjc = HKJCRaceResult('../../../geckodriver')"
>>>>>>> 910c800abce44000ad1704d1558f68fa4eaccb9e
   ]
  },
  {
   "cell_type": "code",
<<<<<<< HEAD
   "execution_count": 14,
   "metadata": {
    "ExecuteTime": {
     "end_time": "2020-05-17T06:51:19.993817Z",
     "start_time": "2020-05-17T06:51:19.987921Z"
=======
   "execution_count": 17,
   "metadata": {
    "ExecuteTime": {
     "end_time": "2020-05-02T10:23:06.270212Z",
     "start_time": "2020-05-02T10:22:57.441383Z"
>>>>>>> 910c800abce44000ad1704d1558f68fa4eaccb9e
    }
   },
   "outputs": [],
   "source": [
<<<<<<< HEAD
    "def length_class_detector(str_):\n",
    "    \"\"\" detect length and class\n",
    "    \"\"\"\n",
    "    detect = re.findall(r'[0-9]{3,4}M', str_)\n",
    "    if detect:\n",
    "        return True\n",
    "    else:\n",
    "        return False"
=======
    "hkjc.load_race_source('2020', '04', '29', '2')"
>>>>>>> 910c800abce44000ad1704d1558f68fa4eaccb9e
   ]
  },
  {
   "cell_type": "code",
<<<<<<< HEAD
   "execution_count": 15,
   "metadata": {
    "ExecuteTime": {
     "end_time": "2020-05-17T06:51:20.256674Z",
     "start_time": "2020-05-17T06:51:20.215859Z"
    }
   },
   "outputs": [],
   "source": [
    "length_class = [[i for i in j if length_class_detector(i)] for j in race_tab]"
   ]
  },
  {
   "cell_type": "code",
   "execution_count": 16,
   "metadata": {
    "ExecuteTime": {
     "end_time": "2020-05-17T06:51:20.393344Z",
     "start_time": "2020-05-17T06:51:20.383288Z"
    }
   },
   "outputs": [],
   "source": [
    "# create df for length and class\n",
    "length_class_col = ['Class','Length','Rating','Class_Note']\n",
    "length_class_df = pd.DataFrame([unlist([i.split(' - ') for i in j]) for j in length_class], columns=length_class_col)"
=======
   "execution_count": 18,
   "metadata": {
    "ExecuteTime": {
     "end_time": "2020-05-02T10:23:08.973272Z",
     "start_time": "2020-05-02T10:23:08.952503Z"
    }
   },
   "outputs": [
    {
     "data": {
      "text/plain": [
       "['RACE 2 (613)',\n",
       " 'Class 5 - 1800M - (40-0)',\n",
       " 'Going :',\n",
       " 'GOOD TO FIRM',\n",
       " 'WAN CHAI HANDICAP',\n",
       " 'Course :',\n",
       " 'TURF - \"A\" Course',\n",
       " 'HK$ 725,000',\n",
       " 'Time :',\n",
       " '(13.43)',\n",
       " '(36.14)',\n",
       " '(1:01.01)',\n",
       " '(1:25.32)',\n",
       " '(1:49.33)',\n",
       " 'Sectional Time :',\n",
       " '13.43',\n",
       " '22.71',\n",
       " '24.87',\n",
       " '24.31',\n",
       " '24.01']"
      ]
     },
     "execution_count": 18,
     "metadata": {},
     "output_type": "execute_result"
    }
   ],
   "source": [
    "hkjc.extract_race_tab()"
>>>>>>> 910c800abce44000ad1704d1558f68fa4eaccb9e
   ]
  },
  {
   "cell_type": "code",
<<<<<<< HEAD
   "execution_count": 17,
   "metadata": {
    "ExecuteTime": {
     "end_time": "2020-05-17T06:51:20.791522Z",
     "start_time": "2020-05-17T06:51:20.773992Z"
=======
   "execution_count": 19,
   "metadata": {
    "ExecuteTime": {
     "end_time": "2020-05-02T10:23:10.698602Z",
     "start_time": "2020-05-02T10:23:10.664950Z"
>>>>>>> 910c800abce44000ad1704d1558f68fa4eaccb9e
    }
   },
   "outputs": [
    {
     "data": {
      "text/html": [
       "<div>\n",
       "<style scoped>\n",
       "    .dataframe tbody tr th:only-of-type {\n",
       "        vertical-align: middle;\n",
       "    }\n",
       "\n",
       "    .dataframe tbody tr th {\n",
       "        vertical-align: top;\n",
       "    }\n",
       "\n",
       "    .dataframe thead th {\n",
       "        text-align: right;\n",
       "    }\n",
       "</style>\n",
       "<table border=\"1\" class=\"dataframe\">\n",
       "  <thead>\n",
       "    <tr style=\"text-align: right;\">\n",
       "      <th></th>\n",
<<<<<<< HEAD
       "      <th>Class</th>\n",
       "      <th>Length</th>\n",
       "      <th>Rating</th>\n",
       "      <th>Class_Note</th>\n",
=======
       "      <th>Plc.</th>\n",
       "      <th>Horse No.</th>\n",
       "      <th>Horse</th>\n",
       "      <th>Jockey</th>\n",
       "      <th>Trainer</th>\n",
       "      <th>Actual Wt.</th>\n",
       "      <th>Declar. Horse Wt.</th>\n",
       "      <th>Draw</th>\n",
       "      <th>LBW</th>\n",
       "      <th>RunningPosition</th>\n",
       "      <th>Finish Time</th>\n",
       "      <th>Win Odds</th>\n",
>>>>>>> 910c800abce44000ad1704d1558f68fa4eaccb9e
       "    </tr>\n",
       "  </thead>\n",
       "  <tbody>\n",
       "    <tr>\n",
       "      <th>0</th>\n",
<<<<<<< HEAD
       "      <td>Class 4</td>\n",
       "      <td>1400M</td>\n",
       "      <td>(60-40)</td>\n",
       "      <td>None</td>\n",
       "    </tr>\n",
       "    <tr>\n",
       "      <th>1</th>\n",
       "      <td>Class 2</td>\n",
       "      <td>1400M</td>\n",
       "      <td>(100-80)</td>\n",
       "      <td>None</td>\n",
       "    </tr>\n",
       "    <tr>\n",
       "      <th>2</th>\n",
       "      <td>Class 4</td>\n",
       "      <td>1800M</td>\n",
       "      <td>(60-35)</td>\n",
       "      <td>None</td>\n",
       "    </tr>\n",
       "    <tr>\n",
       "      <th>3</th>\n",
       "      <td>Class 2</td>\n",
       "      <td>1200M</td>\n",
       "      <td>(105-80)</td>\n",
       "      <td>None</td>\n",
       "    </tr>\n",
       "    <tr>\n",
       "      <th>4</th>\n",
       "      <td>Class 3</td>\n",
       "      <td>1000M</td>\n",
       "      <td>(80-60)</td>\n",
       "      <td>None</td>\n",
       "    </tr>\n",
       "  </tbody>\n",
       "</table>\n",
       "</div>"
      ],
      "text/plain": [
       "     Class Length    Rating Class_Note\n",
       "0  Class 4  1400M   (60-40)       None\n",
       "1  Class 2  1400M  (100-80)       None\n",
       "2  Class 4  1800M   (60-35)       None\n",
       "3  Class 2  1200M  (105-80)       None\n",
       "4  Class 3  1000M   (80-60)       None"
      ]
     },
     "execution_count": 17,
     "metadata": {},
     "output_type": "execute_result"
    }
   ],
   "source": [
    "length_class_df.head()"
   ]
  },
  {
   "cell_type": "markdown",
   "metadata": {},
   "source": [
    "### Going & Course"
   ]
  },
  {
   "cell_type": "code",
   "execution_count": 18,
   "metadata": {
    "ExecuteTime": {
     "end_time": "2020-05-17T06:51:21.983685Z",
     "start_time": "2020-05-17T06:51:21.976772Z"
    }
   },
   "outputs": [],
   "source": [
    "def extract_going_course(in_list):\n",
    "    \"\"\" extract going and course, use it to loop through race tab\n",
    "    \"\"\"\n",
    "    info = [i for i,j in enumerate(in_list) if ' :' in j] + [len(in_list)]\n",
    "    info_extracted = [in_list[info[i]:info[i+1]] for i in range(len(info)-1)]\n",
    "    info_dict = {re.findall(r'\\w{1,10}',i[0])[0]:i[1:] for i in info_extracted}\n",
    "    return info_dict['Going'], [i for i in info_dict['Course'] if 'HK$' not in i]"
   ]
  },
  {
   "cell_type": "code",
   "execution_count": 19,
   "metadata": {
    "ExecuteTime": {
     "end_time": "2020-05-17T06:51:22.343907Z",
     "start_time": "2020-05-17T06:51:22.324722Z"
    }
   },
   "outputs": [],
   "source": [
    "all_going_course = [extract_going_course(i) for i in race_tab]"
   ]
  },
  {
   "cell_type": "code",
   "execution_count": 20,
   "metadata": {
    "ExecuteTime": {
     "end_time": "2020-05-17T06:51:22.501425Z",
     "start_time": "2020-05-17T06:51:22.496189Z"
    }
   },
   "outputs": [],
   "source": [
    "going_df = pd.DataFrame([i[0] for i in all_going_course], columns=['Going','Handicap'])"
   ]
  },
  {
   "cell_type": "code",
   "execution_count": 21,
   "metadata": {
    "ExecuteTime": {
     "end_time": "2020-05-17T06:51:22.656657Z",
     "start_time": "2020-05-17T06:51:22.650498Z"
    }
   },
   "outputs": [],
   "source": [
    "course_df = pd.DataFrame([i[1] for i in all_going_course], columns=['Course'])"
   ]
  },
  {
   "cell_type": "markdown",
   "metadata": {
    "ExecuteTime": {
     "end_time": "2020-05-16T07:22:17.336107Z",
     "start_time": "2020-05-16T07:22:17.326986Z"
    }
   },
   "source": [
    "### Combine Length, Class, Going, and Course"
   ]
  },
  {
   "cell_type": "code",
   "execution_count": 22,
   "metadata": {
    "ExecuteTime": {
     "end_time": "2020-05-17T06:51:23.717060Z",
     "start_time": "2020-05-17T06:51:23.708217Z"
    }
   },
   "outputs": [],
   "source": [
    "race_tab_df = pd.concat([length_class_df, going_df, course_df], 1)\n",
    "race_tab_df['id'] = id_rt"
   ]
  },
  {
   "cell_type": "markdown",
   "metadata": {},
   "source": [
    "## Race Performance & Core data"
   ]
  },
  {
   "cell_type": "code",
   "execution_count": 23,
   "metadata": {
    "ExecuteTime": {
     "end_time": "2020-05-17T06:51:28.293489Z",
     "start_time": "2020-05-17T06:51:24.760771Z"
    }
   },
   "outputs": [],
   "source": [
    "race_per_dict = {re.sub(r'_rp.csv', '', i):pd.read_csv(os.path.join(path, i)) for i in rp}"
   ]
  },
  {
   "cell_type": "code",
   "execution_count": 24,
   "metadata": {
    "ExecuteTime": {
     "end_time": "2020-05-17T06:51:30.467990Z",
     "start_time": "2020-05-17T06:51:28.295740Z"
    }
   },
   "outputs": [],
   "source": [
    "# clean Horse No. issue, ' 11 ', etc\n",
    "race_per_dict_cleaned = dict()\n",
    "for i in race_per_dict:\n",
    "    df = race_per_dict[i]\n",
    "    df['horse_num'] = [str(i).strip() for i in df['Horse No.'].values]\n",
    "    race_per_dict_cleaned[i] = df[[i for i in list(df) if i != 'Horse No.']]"
   ]
  },
  {
   "cell_type": "code",
   "execution_count": 25,
   "metadata": {
    "ExecuteTime": {
     "end_time": "2020-05-17T06:51:44.905236Z",
     "start_time": "2020-05-17T06:51:30.960490Z"
    }
   },
   "outputs": [
    {
     "data": {
      "application/vnd.jupyter.widget-view+json": {
       "model_id": "2cbdb405ba5548f883decd9640c638c4",
       "version_major": 2,
       "version_minor": 0
      },
      "text/plain": [
       "HBox(children=(IntProgress(value=0, max=1541), HTML(value='')))"
      ]
     },
     "metadata": {},
     "output_type": "display_data"
    },
    {
     "name": "stdout",
     "output_type": "stream",
     "text": [
      "\n"
     ]
    }
   ],
   "source": [
    "core_performance = dict()\n",
    "for i in tqdm(id_rt):\n",
    "    a = race_per_dict_cleaned[i].astype({'horse_num':'str'})\n",
    "    b = by_race_dict[i].astype({'horse_num':'str'})\n",
    "\n",
    "    merged = a.merge(b, left_on='horse_num', right_on='horse_num', how='outer')\n",
    "    cleaned = merged[[i for i in list(merged) if i != 'horse_num']]\n",
    "    cleaned['race_id'] = [i]*cleaned.shape[0]\n",
    "\n",
    "    core_performance[i] = cleaned"
   ]
  },
  {
   "cell_type": "markdown",
   "metadata": {
    "ExecuteTime": {
     "end_time": "2020-05-16T09:22:24.497757Z",
     "start_time": "2020-05-16T09:22:24.492956Z"
    }
   },
   "source": [
    "# All data"
   ]
  },
  {
   "cell_type": "code",
   "execution_count": 26,
   "metadata": {
    "ExecuteTime": {
     "end_time": "2020-05-17T06:51:51.332963Z",
     "start_time": "2020-05-17T06:51:49.701465Z"
    }
   },
   "outputs": [],
   "source": [
    "vote_info_result = pd.concat(core_performance.values())"
=======
       "      <td>1</td>\n",
       "      <td>2</td>\n",
       "      <td>VICTORIOUS SEEKER(C091)</td>\n",
       "      <td>J Moreira</td>\n",
       "      <td>P O'Sullivan</td>\n",
       "      <td>133</td>\n",
       "      <td>1097</td>\n",
       "      <td>2</td>\n",
       "      <td>-</td>\n",
       "      <td>7 8 8 7 1</td>\n",
       "      <td>1:49.33</td>\n",
       "      <td>2.6</td>\n",
       "    </tr>\n",
       "    <tr>\n",
       "      <th>1</th>\n",
       "      <td>2</td>\n",
       "      <td>4</td>\n",
       "      <td>CURLING LUXURY(A083)</td>\n",
       "      <td>C Wong</td>\n",
       "      <td>Y S Tsui</td>\n",
       "      <td>125</td>\n",
       "      <td>1031</td>\n",
       "      <td>1</td>\n",
       "      <td>2</td>\n",
       "      <td>2 2 2 2 2</td>\n",
       "      <td>1:49.63</td>\n",
       "      <td>7.5</td>\n",
       "    </tr>\n",
       "    <tr>\n",
       "      <th>2</th>\n",
       "      <td>3</td>\n",
       "      <td>12</td>\n",
       "      <td>VIRTUS STAR(B395)</td>\n",
       "      <td>Z Purton</td>\n",
       "      <td>F C Lor</td>\n",
       "      <td>120</td>\n",
       "      <td>1068</td>\n",
       "      <td>6</td>\n",
       "      <td>3</td>\n",
       "      <td>5 6 6 5 3</td>\n",
       "      <td>1:49.78</td>\n",
       "      <td>4.8</td>\n",
       "    </tr>\n",
       "    <tr>\n",
       "      <th>3</th>\n",
       "      <td>4</td>\n",
       "      <td>3</td>\n",
       "      <td>ENJOYABLE SUCCESS(B150)</td>\n",
       "      <td>B Shinn</td>\n",
       "      <td>C W Chang</td>\n",
       "      <td>131</td>\n",
       "      <td>1071</td>\n",
       "      <td>3</td>\n",
       "      <td>4-1/4</td>\n",
       "      <td>10 9 9 9 4</td>\n",
       "      <td>1:50.01</td>\n",
       "      <td>8</td>\n",
       "    </tr>\n",
       "    <tr>\n",
       "      <th>4</th>\n",
       "      <td>5</td>\n",
       "      <td>11</td>\n",
       "      <td>GOLDEN GENERAL(A346)</td>\n",
       "      <td>C Y Ho</td>\n",
       "      <td>K H Ting</td>\n",
       "      <td>122</td>\n",
       "      <td>1185</td>\n",
       "      <td>8</td>\n",
       "      <td>4-3/4</td>\n",
       "      <td>4 4 4 4 5</td>\n",
       "      <td>1:50.07</td>\n",
       "      <td>27</td>\n",
       "    </tr>\n",
       "    <tr>\n",
       "      <th>5</th>\n",
       "      <td>6</td>\n",
       "      <td>8</td>\n",
       "      <td>AEROFLASH(C310)</td>\n",
       "      <td>C Schofield</td>\n",
       "      <td>J Moore</td>\n",
       "      <td>127</td>\n",
       "      <td>1201</td>\n",
       "      <td>9</td>\n",
       "      <td>5-1/4</td>\n",
       "      <td>8 7 7 8 6</td>\n",
       "      <td>1:50.15</td>\n",
       "      <td>13</td>\n",
       "    </tr>\n",
       "    <tr>\n",
       "      <th>6</th>\n",
       "      <td>7</td>\n",
       "      <td>7</td>\n",
       "      <td>FORTUNE PATROL(A245)</td>\n",
       "      <td>K Teetan</td>\n",
       "      <td>A T Millard</td>\n",
       "      <td>129</td>\n",
       "      <td>1025</td>\n",
       "      <td>5</td>\n",
       "      <td>5-1/2</td>\n",
       "      <td>12 11 12 12 7</td>\n",
       "      <td>1:50.20</td>\n",
       "      <td>10</td>\n",
       "    </tr>\n",
       "    <tr>\n",
       "      <th>7</th>\n",
       "      <td>8</td>\n",
       "      <td>10</td>\n",
       "      <td>WINNERS BROTHER(C220)</td>\n",
       "      <td>M L Yeung</td>\n",
       "      <td>K L Man</td>\n",
       "      <td>123</td>\n",
       "      <td>1055</td>\n",
       "      <td>7</td>\n",
       "      <td>5-1/2</td>\n",
       "      <td>3 3 3 3 8</td>\n",
       "      <td>1:50.22</td>\n",
       "      <td>29</td>\n",
       "    </tr>\n",
       "    <tr>\n",
       "      <th>8</th>\n",
       "      <td>9</td>\n",
       "      <td>1</td>\n",
       "      <td>MERIDIAN TALENT(C516)</td>\n",
       "      <td>H W Lai</td>\n",
       "      <td>R Gibson</td>\n",
       "      <td>133</td>\n",
       "      <td>1146</td>\n",
       "      <td>11</td>\n",
       "      <td>5-1/2</td>\n",
       "      <td>9 10 10 10 9</td>\n",
       "      <td>1:50.22</td>\n",
       "      <td>331</td>\n",
       "    </tr>\n",
       "    <tr>\n",
       "      <th>9</th>\n",
       "      <td>10</td>\n",
       "      <td>5</td>\n",
       "      <td>GOLDEN KID(V232)</td>\n",
       "      <td>M Chadwick</td>\n",
       "      <td>K W Lui</td>\n",
       "      <td>130</td>\n",
       "      <td>1079</td>\n",
       "      <td>12</td>\n",
       "      <td>6</td>\n",
       "      <td>11 12 11 11 10</td>\n",
       "      <td>1:50.29</td>\n",
       "      <td>43</td>\n",
       "    </tr>\n",
       "    <tr>\n",
       "      <th>10</th>\n",
       "      <td>11</td>\n",
       "      <td>6</td>\n",
       "      <td>BRING IT ON(V407)</td>\n",
       "      <td>A Hamelin</td>\n",
       "      <td>C H Yip</td>\n",
       "      <td>129</td>\n",
       "      <td>1141</td>\n",
       "      <td>10</td>\n",
       "      <td>8-1/4</td>\n",
       "      <td>1 1 1 1 11</td>\n",
       "      <td>1:50.66</td>\n",
       "      <td>10</td>\n",
       "    </tr>\n",
       "    <tr>\n",
       "      <th>11</th>\n",
       "      <td>12</td>\n",
       "      <td>9</td>\n",
       "      <td>DR LUCKY STAR(C335)</td>\n",
       "      <td>M F Poon</td>\n",
       "      <td>D J Hall</td>\n",
       "      <td>123</td>\n",
       "      <td>1026</td>\n",
       "      <td>4</td>\n",
       "      <td>10-1/2</td>\n",
       "      <td>6 5 5 6 12</td>\n",
       "      <td>1:50.99</td>\n",
       "      <td>149</td>\n",
       "    </tr>\n",
       "  </tbody>\n",
       "</table>\n",
       "</div>"
      ],
      "text/plain": [
       "   Plc. Horse No.                    Horse         Jockey         Trainer  \\\n",
       "0     1        2   VICTORIOUS SEEKER(C091)     J Moreira    P O'Sullivan    \n",
       "1     2        4      CURLING LUXURY(A083)        C Wong        Y S Tsui    \n",
       "2     3       12         VIRTUS STAR(B395)      Z Purton         F C Lor    \n",
       "3     4        3   ENJOYABLE SUCCESS(B150)       B Shinn       C W Chang    \n",
       "4     5       11      GOLDEN GENERAL(A346)        C Y Ho        K H Ting    \n",
       "5     6        8           AEROFLASH(C310)   C Schofield         J Moore    \n",
       "6     7        7      FORTUNE PATROL(A245)      K Teetan     A T Millard    \n",
       "7     8       10     WINNERS BROTHER(C220)     M L Yeung         K L Man    \n",
       "8     9        1     MERIDIAN TALENT(C516)       H W Lai        R Gibson    \n",
       "9    10        5          GOLDEN KID(V232)    M Chadwick         K W Lui    \n",
       "10   11        6         BRING IT ON(V407)     A Hamelin         C H Yip    \n",
       "11   12        9       DR LUCKY STAR(C335)      M F Poon        D J Hall    \n",
       "\n",
       "   Actual Wt. Declar. Horse Wt. Draw     LBW   RunningPosition Finish Time  \\\n",
       "0         133              1097    2       -        7 8 8 7 1      1:49.33   \n",
       "1         125              1031    1       2        2 2 2 2 2      1:49.63   \n",
       "2         120              1068    6       3        5 6 6 5 3      1:49.78   \n",
       "3         131              1071    3   4-1/4       10 9 9 9 4      1:50.01   \n",
       "4         122              1185    8   4-3/4        4 4 4 4 5      1:50.07   \n",
       "5         127              1201    9   5-1/4        8 7 7 8 6      1:50.15   \n",
       "6         129              1025    5   5-1/2    12 11 12 12 7      1:50.20   \n",
       "7         123              1055    7   5-1/2        3 3 3 3 8      1:50.22   \n",
       "8         133              1146   11   5-1/2     9 10 10 10 9      1:50.22   \n",
       "9         130              1079   12       6   11 12 11 11 10      1:50.29   \n",
       "10        129              1141   10   8-1/4       1 1 1 1 11      1:50.66   \n",
       "11        123              1026    4  10-1/2       6 5 5 6 12      1:50.99   \n",
       "\n",
       "   Win Odds  \n",
       "0       2.6  \n",
       "1       7.5  \n",
       "2       4.8  \n",
       "3         8  \n",
       "4        27  \n",
       "5        13  \n",
       "6        10  \n",
       "7        29  \n",
       "8       331  \n",
       "9        43  \n",
       "10       10  \n",
       "11      149  "
      ]
     },
     "execution_count": 19,
     "metadata": {},
     "output_type": "execute_result"
    }
   ],
   "source": [
    "hkjc.extract_race_performance()"
>>>>>>> 910c800abce44000ad1704d1558f68fa4eaccb9e
   ]
  },
  {
   "cell_type": "code",
<<<<<<< HEAD
   "execution_count": 27,
   "metadata": {
    "ExecuteTime": {
     "end_time": "2020-05-17T06:51:51.390254Z",
     "start_time": "2020-05-17T06:51:51.335280Z"
    }
   },
   "outputs": [],
   "source": [
    "all_data = vote_info_result.merge(race_tab_df, left_on='race_id', right_on='id')\n",
    "all_data = all_data[[i for i in list(all_data) if i != 'id']]"
   ]
  },
  {
   "cell_type": "markdown",
   "metadata": {},
   "source": [
    "## Clean all data"
   ]
  },
  {
   "cell_type": "code",
   "execution_count": 28,
   "metadata": {
    "ExecuteTime": {
     "end_time": "2020-05-17T06:51:52.596475Z",
     "start_time": "2020-05-17T06:51:52.570681Z"
=======
   "execution_count": 20,
   "metadata": {
    "ExecuteTime": {
     "end_time": "2020-05-02T10:23:11.589013Z",
     "start_time": "2020-05-02T10:23:11.560536Z"
>>>>>>> 910c800abce44000ad1704d1558f68fa4eaccb9e
    }
   },
   "outputs": [
    {
     "data": {
      "text/html": [
       "<div>\n",
       "<style scoped>\n",
       "    .dataframe tbody tr th:only-of-type {\n",
       "        vertical-align: middle;\n",
       "    }\n",
       "\n",
       "    .dataframe tbody tr th {\n",
       "        vertical-align: top;\n",
       "    }\n",
       "\n",
       "    .dataframe thead th {\n",
       "        text-align: right;\n",
       "    }\n",
       "</style>\n",
       "<table border=\"1\" class=\"dataframe\">\n",
       "  <thead>\n",
       "    <tr style=\"text-align: right;\">\n",
       "      <th></th>\n",
<<<<<<< HEAD
       "      <th>Plc.</th>\n",
       "      <th>Horse</th>\n",
       "      <th>Jockey</th>\n",
       "      <th>Trainer</th>\n",
       "      <th>Actual Wt.</th>\n",
       "      <th>Declar. Horse Wt.</th>\n",
       "      <th>Draw</th>\n",
       "      <th>LBW</th>\n",
       "      <th>RunningPosition</th>\n",
       "      <th>Finish Time</th>\n",
       "      <th>...</th>\n",
       "      <th>W.H. FixOdd 60</th>\n",
       "      <th>S.B.Fix Odd 60</th>\n",
       "      <th>race_id</th>\n",
       "      <th>Class</th>\n",
       "      <th>Length</th>\n",
       "      <th>Rating</th>\n",
       "      <th>Class_Note</th>\n",
       "      <th>Going</th>\n",
       "      <th>Handicap</th>\n",
       "      <th>Course</th>\n",
=======
       "      <th>Pool</th>\n",
       "      <th>Winning Combination</th>\n",
       "      <th>Dividend (HK$)</th>\n",
>>>>>>> 910c800abce44000ad1704d1558f68fa4eaccb9e
       "    </tr>\n",
       "  </thead>\n",
       "  <tbody>\n",
       "    <tr>\n",
       "      <th>0</th>\n",
<<<<<<< HEAD
       "      <td>1</td>\n",
       "      <td>ULTIMATE GLORY(S235)</td>\n",
       "      <td>Z Purton</td>\n",
       "      <td>K L Man</td>\n",
       "      <td>132.0</td>\n",
       "      <td>1278</td>\n",
       "      <td>7</td>\n",
       "      <td>-</td>\n",
       "      <td>13 13 12 1</td>\n",
       "      <td>1:21.93</td>\n",
       "      <td>...</td>\n",
       "      <td>NaN</td>\n",
       "      <td>NaN</td>\n",
       "      <td>2019_05_11_5</td>\n",
       "      <td>Class 4</td>\n",
       "      <td>1400M</td>\n",
       "      <td>(60-40)</td>\n",
       "      <td>None</td>\n",
       "      <td>GOOD</td>\n",
       "      <td>FRIENDSHIP BRIDGE HANDICAP</td>\n",
       "      <td>TURF - \"C\" Course</td>\n",
       "    </tr>\n",
       "  </tbody>\n",
       "</table>\n",
       "<p>1 rows × 32 columns</p>\n",
       "</div>"
      ],
      "text/plain": [
       "  Plc.                 Horse      Jockey    Trainer  Actual Wt.  \\\n",
       "0    1  ULTIMATE GLORY(S235)   Z Purton    K L Man        132.0   \n",
       "\n",
       "  Declar. Horse Wt. Draw LBW RunningPosition Finish Time  ... W.H. FixOdd 60  \\\n",
       "0              1278    7   -     13 13 12 1      1:21.93  ...            NaN   \n",
       "\n",
       "  S.B.Fix Odd 60       race_id    Class  Length   Rating  Class_Note  Going  \\\n",
       "0            NaN  2019_05_11_5  Class 4   1400M  (60-40)        None   GOOD   \n",
       "\n",
       "                     Handicap             Course  \n",
       "0  FRIENDSHIP BRIDGE HANDICAP  TURF - \"C\" Course  \n",
       "\n",
       "[1 rows x 32 columns]"
      ]
     },
     "execution_count": 28,
=======
       "      <td>WIN</td>\n",
       "      <td>2</td>\n",
       "      <td>26.50</td>\n",
       "    </tr>\n",
       "    <tr>\n",
       "      <th>1</th>\n",
       "      <td>PLACE</td>\n",
       "      <td>2</td>\n",
       "      <td>12.50</td>\n",
       "    </tr>\n",
       "    <tr>\n",
       "      <th>2</th>\n",
       "      <td>PLACE</td>\n",
       "      <td>4</td>\n",
       "      <td>21.00</td>\n",
       "    </tr>\n",
       "    <tr>\n",
       "      <th>3</th>\n",
       "      <td>PLACE</td>\n",
       "      <td>12</td>\n",
       "      <td>17.50</td>\n",
       "    </tr>\n",
       "    <tr>\n",
       "      <th>4</th>\n",
       "      <td>QUINELLA</td>\n",
       "      <td>2,4</td>\n",
       "      <td>88.00</td>\n",
       "    </tr>\n",
       "    <tr>\n",
       "      <th>5</th>\n",
       "      <td>QUINELLA PLACE</td>\n",
       "      <td>2,4</td>\n",
       "      <td>37.00</td>\n",
       "    </tr>\n",
       "    <tr>\n",
       "      <th>6</th>\n",
       "      <td>QUINELLA PLACE</td>\n",
       "      <td>2,12</td>\n",
       "      <td>30.00</td>\n",
       "    </tr>\n",
       "    <tr>\n",
       "      <th>7</th>\n",
       "      <td>QUINELLA PLACE</td>\n",
       "      <td>4,12</td>\n",
       "      <td>50.00</td>\n",
       "    </tr>\n",
       "    <tr>\n",
       "      <th>8</th>\n",
       "      <td>3 PICK 1(COMPOSITE WIN)</td>\n",
       "      <td>A1</td>\n",
       "      <td>17.00</td>\n",
       "    </tr>\n",
       "    <tr>\n",
       "      <th>9</th>\n",
       "      <td>3 PICK 1(COMPOSITE WIN)</td>\n",
       "      <td>A2</td>\n",
       "      <td>NOT WIN</td>\n",
       "    </tr>\n",
       "    <tr>\n",
       "      <th>10</th>\n",
       "      <td>3 PICK 1(COMPOSITE WIN)</td>\n",
       "      <td>A3</td>\n",
       "      <td>NOT WIN</td>\n",
       "    </tr>\n",
       "    <tr>\n",
       "      <th>11</th>\n",
       "      <td>3 PICK 1(COMPOSITE WIN)</td>\n",
       "      <td></td>\n",
       "      <td>Detail</td>\n",
       "    </tr>\n",
       "    <tr>\n",
       "      <th>12</th>\n",
       "      <td>TIERCE</td>\n",
       "      <td>2,4,12</td>\n",
       "      <td>647.00</td>\n",
       "    </tr>\n",
       "    <tr>\n",
       "      <th>13</th>\n",
       "      <td>TRIO</td>\n",
       "      <td>2,4,12</td>\n",
       "      <td>152.00</td>\n",
       "    </tr>\n",
       "    <tr>\n",
       "      <th>14</th>\n",
       "      <td>FIRST 4</td>\n",
       "      <td>2,3,4,12</td>\n",
       "      <td>197.00</td>\n",
       "    </tr>\n",
       "    <tr>\n",
       "      <th>15</th>\n",
       "      <td>QUARTET</td>\n",
       "      <td>2,4,12,3</td>\n",
       "      <td>3,517.00</td>\n",
       "    </tr>\n",
       "    <tr>\n",
       "      <th>16</th>\n",
       "      <td>1ST DOUBLE</td>\n",
       "      <td>4/2</td>\n",
       "      <td>209.00</td>\n",
       "    </tr>\n",
       "    <tr>\n",
       "      <th>17</th>\n",
       "      <td>1ST DOUBLE</td>\n",
       "      <td>4/4</td>\n",
       "      <td>109.50</td>\n",
       "    </tr>\n",
       "  </tbody>\n",
       "</table>\n",
       "</div>"
      ],
      "text/plain": [
       "                       Pool Winning Combination Dividend (HK$)\n",
       "0                       WIN                   2          26.50\n",
       "1                     PLACE                   2          12.50\n",
       "2                     PLACE                   4          21.00\n",
       "3                     PLACE                  12          17.50\n",
       "4                  QUINELLA                 2,4          88.00\n",
       "5            QUINELLA PLACE                 2,4          37.00\n",
       "6            QUINELLA PLACE                2,12          30.00\n",
       "7            QUINELLA PLACE                4,12          50.00\n",
       "8   3 PICK 1(COMPOSITE WIN)                  A1          17.00\n",
       "9   3 PICK 1(COMPOSITE WIN)                  A2        NOT WIN\n",
       "10  3 PICK 1(COMPOSITE WIN)                  A3        NOT WIN\n",
       "11  3 PICK 1(COMPOSITE WIN)                             Detail\n",
       "12                   TIERCE              2,4,12         647.00\n",
       "13                     TRIO              2,4,12         152.00\n",
       "14                  FIRST 4            2,3,4,12         197.00\n",
       "15                  QUARTET            2,4,12,3       3,517.00\n",
       "16               1ST DOUBLE                 4/2         209.00\n",
       "17               1ST DOUBLE                 4/4         109.50"
      ]
     },
     "execution_count": 20,
>>>>>>> 910c800abce44000ad1704d1558f68fa4eaccb9e
     "metadata": {},
     "output_type": "execute_result"
    }
   ],
   "source": [
<<<<<<< HEAD
    "all_data.head(1)"
   ]
  },
  {
   "cell_type": "markdown",
   "metadata": {},
   "source": [
    "## Plc."
   ]
  },
  {
   "cell_type": "code",
   "execution_count": 29,
   "metadata": {
    "ExecuteTime": {
     "end_time": "2020-05-17T06:51:54.102560Z",
     "start_time": "2020-05-17T06:51:54.099465Z"
    },
    "scrolled": false
   },
   "outputs": [],
   "source": [
    "# for i in list(all_data):\n",
    "#     print(i)\n",
    "#     print(all_data[i].unique())"
   ]
  },
  {
   "cell_type": "code",
   "execution_count": 30,
   "metadata": {
    "ExecuteTime": {
     "end_time": "2020-05-17T06:51:54.278945Z",
     "start_time": "2020-05-17T06:51:54.276071Z"
    }
   },
   "outputs": [],
   "source": [
    "col_ = list(all_data)[0]"
   ]
  },
  {
   "cell_type": "code",
   "execution_count": 31,
   "metadata": {
    "ExecuteTime": {
     "end_time": "2020-05-17T06:51:54.575991Z",
     "start_time": "2020-05-17T06:51:54.568092Z"
    }
   },
   "outputs": [
    {
     "data": {
      "text/plain": [
       "array(['1', '2', '3', '4', '5', '6', '7', '8', '9', '10', '11', '12',\n",
       "       '13', '14', 'WV', 1, 2, 3, 4, 5, 6, 7, 8, 9, 10, 11, 12, 13, 14,\n",
       "       '3 DH', 'WX', nan, '5 DH', '2 DH', 'WX-A', 'WV-A', '8 DH', '9 DH',\n",
       "       'UR', '7 DH', 'FE', 'TNP', 'DNF', 'PU', '10 DH', '12 DH', '1 DH',\n",
       "       '11 DH', '4 DH', 'WXNR', '6 DH'], dtype=object)"
      ]
     },
     "execution_count": 31,
     "metadata": {},
     "output_type": "execute_result"
    }
   ],
   "source": [
    "all_data[col_].unique()"
   ]
  },
  {
   "cell_type": "code",
   "execution_count": 32,
   "metadata": {
    "ExecuteTime": {
     "end_time": "2020-05-17T06:51:55.715571Z",
     "start_time": "2020-05-17T06:51:55.708978Z"
    }
   },
   "outputs": [],
   "source": [
    "def fix_plc(input_):\n",
    "    if isinstance(input_, str):\n",
    "        return input_\n",
    "    elif isinstance(input_, (int,float)) and not np.isnan(input_):\n",
    "        return str(int(input_))\n",
    "    else:\n",
    "        return input_"
   ]
  },
  {
   "cell_type": "code",
   "execution_count": 33,
   "metadata": {
    "ExecuteTime": {
     "end_time": "2020-05-17T06:51:56.179542Z",
     "start_time": "2020-05-17T06:51:56.141452Z"
    }
   },
   "outputs": [],
   "source": [
    "all_data[col_] = [fix_plc(i) for i in all_data[col_]]"
   ]
  },
  {
   "cell_type": "markdown",
   "metadata": {
    "ExecuteTime": {
     "end_time": "2020-05-17T00:38:11.483820Z",
     "start_time": "2020-05-17T00:38:11.462809Z"
    }
   },
   "source": [
    "## Replace abnormal nan"
   ]
  },
  {
   "cell_type": "code",
   "execution_count": 34,
   "metadata": {
    "ExecuteTime": {
     "end_time": "2020-05-17T06:51:57.157354Z",
     "start_time": "2020-05-17T06:51:57.153445Z"
    }
   },
   "outputs": [],
   "source": [
    "replace = [' --- ', '---','-']"
=======
    "hkjc.extract_race_result()"
>>>>>>> 910c800abce44000ad1704d1558f68fa4eaccb9e
   ]
  },
  {
   "cell_type": "code",
<<<<<<< HEAD
   "execution_count": 35,
   "metadata": {
    "ExecuteTime": {
     "end_time": "2020-05-17T06:51:57.365162Z",
     "start_time": "2020-05-17T06:51:57.320289Z"
    }
   },
   "outputs": [],
   "source": [
    "all_data = all_data.replace(replace, np.nan)"
   ]
  },
  {
   "cell_type": "markdown",
   "metadata": {},
   "source": [
    "## Fix oriental dtypes"
   ]
  },
  {
   "cell_type": "code",
   "execution_count": 36,
   "metadata": {
    "ExecuteTime": {
     "end_time": "2020-05-17T06:51:58.506572Z",
     "start_time": "2020-05-17T06:51:58.456218Z"
    }
   },
   "outputs": [],
   "source": [
    "all_data = all_data.astype({i:j for i,j in zip(['oriental_1','oriental_2','oriental_3'], ['float']*3)})"
   ]
  },
  {
   "cell_type": "markdown",
   "metadata": {},
   "source": [
    "## Fix Length from \"2000M\" to 2000"
   ]
  },
  {
   "cell_type": "code",
   "execution_count": 37,
   "metadata": {
    "ExecuteTime": {
     "end_time": "2020-05-17T06:51:58.864660Z",
     "start_time": "2020-05-17T06:51:58.807139Z"
    }
   },
   "outputs": [],
   "source": [
    "all_data['Length'] = [float(re.findall(r'^[0-9]{3,4}', i)[0]) for i in all_data.Length]"
   ]
  },
  {
   "cell_type": "markdown",
   "metadata": {
    "ExecuteTime": {
     "end_time": "2020-05-17T06:32:57.370198Z",
     "start_time": "2020-05-17T06:32:57.362327Z"
    }
   },
   "source": [
    "## FIx 'Declar. Horse Wt.', 'Draw' dytpes"
   ]
  },
  {
   "cell_type": "code",
   "execution_count": 38,
   "metadata": {
    "ExecuteTime": {
     "end_time": "2020-05-17T06:51:59.242402Z",
     "start_time": "2020-05-17T06:51:59.203799Z"
    }
   },
   "outputs": [],
   "source": [
    "all_data = all_data.astype({'Declar. Horse Wt.':'float', 'Draw':'float', 'Win Odds':'float'})"
   ]
  },
  {
   "cell_type": "markdown",
   "metadata": {},
   "source": [
    "## Fix 'Draw' dtypes"
   ]
  },
  {
   "cell_type": "code",
   "execution_count": 39,
   "metadata": {
    "ExecuteTime": {
     "end_time": "2020-05-17T06:52:01.345041Z",
     "start_time": "2020-05-17T06:52:01.337218Z"
    }
   },
   "outputs": [
    {
     "data": {
      "text/plain": [
       "Plc.                  object\n",
       "Horse                 object\n",
       "Jockey                object\n",
       "Trainer               object\n",
       "Actual Wt.           float64\n",
       "Declar. Horse Wt.    float64\n",
       "Draw                 float64\n",
       "LBW                   object\n",
       "RunningPosition       object\n",
       "Finish Time           object\n",
       "Win Odds             float64\n",
       "oriental_1           float64\n",
       "oriental_2           float64\n",
       "oriental_3           float64\n",
       "apple_1              float64\n",
       "apple_2              float64\n",
       "apple_3              float64\n",
       "pro_1                float64\n",
       "pro_2                float64\n",
       "pro_3                float64\n",
       "w_h_odd              float64\n",
       "s_b_odd              float64\n",
       "W.H. FixOdd 60       float64\n",
       "S.B.Fix Odd 60       float64\n",
       "race_id               object\n",
       "Class                 object\n",
       "Length               float64\n",
       "Rating                object\n",
       "Class_Note            object\n",
       "Going                 object\n",
       "Handicap              object\n",
       "Course                object\n",
       "dtype: object"
      ]
     },
     "execution_count": 39,
     "metadata": {},
     "output_type": "execute_result"
    }
   ],
   "source": [
    "all_data.dtypes"
   ]
  },
  {
   "cell_type": "markdown",
   "metadata": {},
   "source": [
    "# Export to csv"
   ]
  },
  {
   "cell_type": "code",
   "execution_count": 40,
   "metadata": {
    "ExecuteTime": {
     "end_time": "2020-05-17T06:52:07.492388Z",
     "start_time": "2020-05-17T06:52:07.041217Z"
    }
   },
   "outputs": [],
   "source": [
    "all_data.to_csv('../model/model_data_5_2.csv', index=False)"
   ]
=======
   "execution_count": null,
   "metadata": {},
   "outputs": [],
   "source": []
>>>>>>> 910c800abce44000ad1704d1558f68fa4eaccb9e
  }
 ],
 "metadata": {
  "kernelspec": {
   "display_name": "Python 3",
   "language": "python",
   "name": "python3"
  },
  "language_info": {
   "codemirror_mode": {
    "name": "ipython",
    "version": 3
   },
   "file_extension": ".py",
   "mimetype": "text/x-python",
   "name": "python",
   "nbconvert_exporter": "python",
   "pygments_lexer": "ipython3",
   "version": "3.7.3"
  },
  "toc": {
   "base_numbering": 1,
   "nav_menu": {},
   "number_sections": true,
   "sideBar": true,
   "skip_h1_title": false,
   "title_cell": "Table of Contents",
   "title_sidebar": "Contents",
   "toc_cell": false,
   "toc_position": {},
   "toc_section_display": true,
   "toc_window_display": false
  }
 },
 "nbformat": 4,
 "nbformat_minor": 2
}
