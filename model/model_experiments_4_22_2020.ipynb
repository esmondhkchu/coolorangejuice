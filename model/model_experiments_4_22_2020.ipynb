{
 "cells": [
  {
   "cell_type": "markdown",
   "metadata": {},
   "source": [
    "[Load Data](#load)\n",
    "\n",
    "[Data Preparation](#prepare)\n",
    "1. [Balance and Split](#bs)\n",
    "2. [Scale](#scale)\n",
    "\n",
    "[Model](#model)\n",
    "1. [Random Forest](#rf)\n",
    "2. [Gaussian NB](#gnb)\n",
    "3. [Logistic Regression](#logit)\n",
    "4. [KNN](#knn)\n",
    "5. [Neural Network](#nn)\n",
    "\n",
    "[Evaluation](#evaluation)\n",
    "1. [Precision & Recall](#precision_recall)\n",
    "2. [AUC ROC](#auc_roc)"
   ]
  },
  {
   "cell_type": "code",
   "execution_count": 1,
   "metadata": {
    "ExecuteTime": {
     "end_time": "2020-05-03T04:12:30.339202Z",
     "start_time": "2020-05-03T04:12:29.923456Z"
    }
   },
   "outputs": [],
   "source": [
    "import numpy as np\n",
    "import pandas as pd"
   ]
  },
  {
   "cell_type": "code",
   "execution_count": 2,
   "metadata": {
    "ExecuteTime": {
     "end_time": "2020-05-03T04:12:30.826535Z",
     "start_time": "2020-05-03T04:12:30.342803Z"
    }
   },
   "outputs": [],
   "source": [
    "import seaborn as sns\n",
    "import matplotlib.pyplot as plt"
   ]
  },
  {
   "cell_type": "code",
   "execution_count": 3,
   "metadata": {
    "ExecuteTime": {
     "end_time": "2020-05-03T04:12:30.881942Z",
     "start_time": "2020-05-03T04:12:30.828691Z"
    }
   },
   "outputs": [],
   "source": [
    "from tqdm import tqdm_notebook as tqdm"
   ]
  },
  {
   "cell_type": "markdown",
   "metadata": {},
   "source": [
    "<a id='load'></a>\n",
    "# Load data"
   ]
  },
  {
   "cell_type": "code",
   "execution_count": 4,
   "metadata": {
    "ExecuteTime": {
     "end_time": "2020-05-03T04:12:31.091867Z",
     "start_time": "2020-05-03T04:12:31.069624Z"
    }
   },
   "outputs": [],
   "source": [
    "data = pd.read_csv('./4_22_2020_data.csv')"
   ]
  },
  {
   "cell_type": "markdown",
   "metadata": {},
   "source": [
    "<a id='prepare'></a>\n",
    "# Prepare data"
   ]
  },
  {
   "cell_type": "code",
   "execution_count": 5,
   "metadata": {
    "ExecuteTime": {
     "end_time": "2020-05-03T04:12:34.741628Z",
     "start_time": "2020-05-03T04:12:34.737208Z"
    }
   },
   "outputs": [],
   "source": [
    "exclude = ['horse_num','oriental_sum','apple_sum','pro_sum',\n",
    "           'total_1','total_2','total_3','total_sum','file_name',\n",
    "           'sheet_name','W.H. FixOdd 60','S.B.Fix Odd 60']"
   ]
  },
  {
   "cell_type": "code",
   "execution_count": 6,
   "metadata": {
    "ExecuteTime": {
     "end_time": "2020-05-03T04:12:35.177731Z",
     "start_time": "2020-05-03T04:12:35.167312Z"
    }
   },
   "outputs": [],
   "source": [
    "data_ex = data[[i for i in list(data) if i not in exclude]].dropna()\n",
    "X = data_ex[[i for i in data_ex if i != 'result']]\n",
    "y = (data_ex['result'] > 0).astype('int')"
   ]
  },
  {
   "cell_type": "code",
   "execution_count": 7,
   "metadata": {
    "ExecuteTime": {
     "end_time": "2020-05-03T04:12:36.339091Z",
     "start_time": "2020-05-03T04:12:36.328779Z"
    }
   },
   "outputs": [],
   "source": [
    "# plt.figure(figsize=(10,10))\n",
    "# sns.heatmap(data_ex.corr(), square=True, cmap='PiYG')\n",
    "# plt.show()"
   ]
  },
  {
   "cell_type": "markdown",
   "metadata": {},
   "source": [
    "<a id='bs'></a>\n",
    "## Balance and Split"
   ]
  },
  {
   "cell_type": "code",
   "execution_count": 8,
   "metadata": {
    "ExecuteTime": {
     "end_time": "2020-05-03T04:12:38.568316Z",
     "start_time": "2020-05-03T04:12:36.935068Z"
    }
   },
   "outputs": [
    {
     "name": "stderr",
     "output_type": "stream",
     "text": [
      "Using TensorFlow backend.\n"
     ]
    }
   ],
   "source": [
    "from imblearn import over_sampling, under_sampling\n",
    "from imblearn.pipeline import Pipeline"
   ]
  },
  {
   "cell_type": "code",
   "execution_count": 9,
   "metadata": {
    "ExecuteTime": {
     "end_time": "2020-05-03T04:12:38.575258Z",
     "start_time": "2020-05-03T04:12:38.570482Z"
    }
   },
   "outputs": [],
   "source": [
    "# create sampling strategy\n",
    "# both oversampling and undersampling\n",
    "over = over_sampling.SMOTE(0.8)\n",
    "under = under_sampling.RandomUnderSampler(0.8)"
   ]
  },
  {
   "cell_type": "code",
   "execution_count": 10,
   "metadata": {
    "ExecuteTime": {
     "end_time": "2020-05-03T04:12:38.964685Z",
     "start_time": "2020-05-03T04:12:38.956167Z"
    }
   },
   "outputs": [],
   "source": [
    "# create pipeline\n",
    "pipeline = Pipeline([('o', over),('u', under)])"
   ]
  },
  {
   "cell_type": "code",
   "execution_count": 11,
   "metadata": {
    "ExecuteTime": {
     "end_time": "2020-05-03T04:12:39.443351Z",
     "start_time": "2020-05-03T04:12:39.404710Z"
    }
   },
   "outputs": [],
   "source": [
    "X_sam, y_sam = pipeline.fit_resample(X, y)"
   ]
  },
  {
   "cell_type": "code",
   "execution_count": 12,
   "metadata": {
    "ExecuteTime": {
     "end_time": "2020-05-03T04:12:39.605849Z",
     "start_time": "2020-05-03T04:12:39.602769Z"
    }
   },
   "outputs": [],
   "source": [
    "from sklearn.model_selection import train_test_split"
   ]
  },
  {
   "cell_type": "code",
   "execution_count": 13,
   "metadata": {
    "ExecuteTime": {
     "end_time": "2020-05-03T04:12:40.110085Z",
     "start_time": "2020-05-03T04:12:40.103304Z"
    }
   },
   "outputs": [],
   "source": [
    "X_train, X_test, y_train, y_test = train_test_split(X_sam, y_sam, test_size=0.15)"
   ]
  },
  {
   "cell_type": "markdown",
   "metadata": {},
   "source": [
    "<a id='scale'></a>\n",
    "## Scale"
   ]
  },
  {
   "cell_type": "code",
   "execution_count": 14,
   "metadata": {
    "ExecuteTime": {
     "end_time": "2020-05-03T04:12:40.788902Z",
     "start_time": "2020-05-03T04:12:40.784138Z"
    }
   },
   "outputs": [],
   "source": [
    "from sklearn.preprocessing import StandardScaler"
   ]
  },
  {
   "cell_type": "code",
   "execution_count": 15,
   "metadata": {
    "ExecuteTime": {
     "end_time": "2020-05-03T04:12:41.148269Z",
     "start_time": "2020-05-03T04:12:41.135859Z"
    }
   },
   "outputs": [
    {
     "data": {
      "text/plain": [
       "StandardScaler(copy=True, with_mean=True, with_std=True)"
      ]
     },
     "execution_count": 15,
     "metadata": {},
     "output_type": "execute_result"
    }
   ],
   "source": [
    "scaler = StandardScaler()\n",
    "scaler.fit(X_train)"
   ]
  },
  {
   "cell_type": "code",
   "execution_count": 16,
   "metadata": {
    "ExecuteTime": {
     "end_time": "2020-05-03T04:12:41.568855Z",
     "start_time": "2020-05-03T04:12:41.554208Z"
    }
   },
   "outputs": [],
   "source": [
    "X_train_n = scaler.transform(X_train)\n",
    "X_test_n = scaler.transform(X_test)"
   ]
  },
  {
   "cell_type": "markdown",
   "metadata": {},
   "source": [
    "<a id='model'></a>\n",
    "# Model"
   ]
  },
  {
   "cell_type": "code",
   "execution_count": 17,
   "metadata": {
    "ExecuteTime": {
     "end_time": "2020-05-03T04:12:42.458105Z",
     "start_time": "2020-05-03T04:12:42.455158Z"
    }
   },
   "outputs": [],
   "source": [
    "from sklearn.metrics import confusion_matrix"
   ]
  },
  {
   "cell_type": "code",
   "execution_count": 18,
   "metadata": {
    "ExecuteTime": {
     "end_time": "2020-05-03T04:12:42.911684Z",
     "start_time": "2020-05-03T04:12:42.906668Z"
    }
   },
   "outputs": [],
   "source": [
    "def precision_recall(true, predict, print_=True):\n",
    "    cm = confusion_matrix(true, predict)\n",
    "    if print_:\n",
    "        print('Confusion Matrix:')\n",
    "        print(cm)\n",
    "        print()\n",
    "    \n",
    "    tn, fp, fn, tp = confusion_matrix(true, predict).ravel()\n",
    "    precision = tp / (tp+fp)\n",
    "    recall = tp / (tp+fn)\n",
    "    \n",
    "    if print_:\n",
    "        print('Precision:', precision)\n",
    "        print('Recall:', recall)\n",
    "    else:\n",
    "        return precision, recall"
   ]
  },
  {
   "cell_type": "markdown",
   "metadata": {},
   "source": [
    "<a id='rf'></a>\n",
    "## Random Forest"
   ]
  },
  {
   "cell_type": "code",
   "execution_count": 19,
   "metadata": {
    "ExecuteTime": {
     "end_time": "2020-05-03T04:12:43.860409Z",
     "start_time": "2020-05-03T04:12:43.855324Z"
    }
   },
   "outputs": [],
   "source": [
    "from sklearn.ensemble import RandomForestClassifier\n",
    "from sklearn.model_selection import RandomizedSearchCV"
   ]
  },
  {
   "cell_type": "code",
   "execution_count": 20,
   "metadata": {
    "ExecuteTime": {
     "end_time": "2020-05-03T02:09:12.225221Z",
     "start_time": "2020-05-03T02:09:12.217266Z"
    }
   },
   "outputs": [],
   "source": [
    "# Number of trees in random forest\n",
    "n_estimators = [int(x) for x in np.linspace(start = 200, stop = 2000, num = 10)]\n",
    "# Number of features to consider at every split\n",
    "max_features = ['auto', 'sqrt']\n",
    "# Maximum number of levels in tree\n",
    "max_depth = [int(x) for x in np.linspace(10, 110, num = 11)]\n",
    "max_depth.append(None)\n",
    "# Minimum number of samples required to split a node\n",
    "min_samples_split = [2, 5, 10]\n",
    "# Minimum number of samples required at each leaf node\n",
    "min_samples_leaf = [1, 2, 4]\n",
    "# Method of selecting samples for training each tree\n",
    "bootstrap = [True, False]"
   ]
  },
  {
   "cell_type": "code",
   "execution_count": 21,
   "metadata": {
    "ExecuteTime": {
     "end_time": "2020-05-03T02:09:18.576132Z",
     "start_time": "2020-05-03T02:09:18.572105Z"
    }
   },
   "outputs": [],
   "source": [
    "# Create the random grid\n",
    "random_grid = {'n_estimators': n_estimators,\n",
    "               'max_features': max_features,\n",
    "               'max_depth': max_depth,\n",
    "               'min_samples_split': min_samples_split,\n",
    "               'min_samples_leaf': min_samples_leaf,\n",
    "               'bootstrap': bootstrap}"
   ]
  },
  {
   "cell_type": "code",
   "execution_count": 20,
   "metadata": {
    "ExecuteTime": {
     "end_time": "2020-05-03T04:12:51.850823Z",
     "start_time": "2020-05-03T04:12:51.846150Z"
    }
   },
   "outputs": [],
   "source": [
    "# rf = RandomForestClassifier()\n",
    "\n",
    "# rf_random = RandomizedSearchCV(estimator=rf, \n",
    "#                                param_distributions=random_grid, \n",
    "#                                n_iter = 100, \n",
    "#                                cv = 5, \n",
    "#                                verbose=2,\n",
    "#                                random_state=42, \n",
    "#                                n_jobs = -1)"
   ]
  },
  {
   "cell_type": "code",
   "execution_count": 21,
   "metadata": {
    "ExecuteTime": {
     "end_time": "2020-05-03T04:12:55.957724Z",
     "start_time": "2020-05-03T04:12:55.954580Z"
    }
   },
   "outputs": [],
   "source": [
    "# rf_random.fit(X_train, y_train)"
   ]
  },
  {
   "cell_type": "code",
   "execution_count": 34,
   "metadata": {
    "ExecuteTime": {
     "end_time": "2020-05-03T03:40:08.615679Z",
     "start_time": "2020-05-03T03:40:08.608915Z"
    }
   },
   "outputs": [
    {
     "data": {
      "text/plain": [
       "{'n_estimators': 1400,\n",
       " 'min_samples_split': 5,\n",
       " 'min_samples_leaf': 1,\n",
       " 'max_features': 'sqrt',\n",
       " 'max_depth': 80,\n",
       " 'bootstrap': False}"
      ]
     },
     "execution_count": 34,
     "metadata": {},
     "output_type": "execute_result"
    }
   ],
   "source": [
    "# rf_random.best_params_"
   ]
  },
  {
   "cell_type": "code",
   "execution_count": 35,
   "metadata": {
    "ExecuteTime": {
     "end_time": "2020-05-03T03:41:16.334616Z",
     "start_time": "2020-05-03T03:41:16.331520Z"
    }
   },
   "outputs": [],
   "source": [
    "# # old\n",
    "# rf_best_old = RandomForestClassifier(n_estimators=800, \n",
    "#                                  min_samples_split=2,\n",
    "#                                  min_samples_leaf=2,\n",
    "#                                  max_features='sqrt',\n",
    "#                                  max_depth=50,\n",
    "#                                  bootstrap=False)"
   ]
  },
  {
   "cell_type": "code",
   "execution_count": 22,
   "metadata": {
    "ExecuteTime": {
     "end_time": "2020-05-03T04:13:05.063723Z",
     "start_time": "2020-05-03T04:13:05.060366Z"
    }
   },
   "outputs": [],
   "source": [
    "rf_best = RandomForestClassifier(n_estimators=1400, \n",
    "                                 min_samples_split=5,\n",
    "                                 min_samples_leaf=1,\n",
    "                                 max_features='sqrt',\n",
    "                                 max_depth=80,\n",
    "                                 bootstrap=False)"
   ]
  },
  {
   "cell_type": "code",
   "execution_count": 23,
   "metadata": {
    "ExecuteTime": {
     "end_time": "2020-05-03T04:13:20.391976Z",
     "start_time": "2020-05-03T04:13:07.930014Z"
    }
   },
   "outputs": [
    {
     "data": {
      "text/plain": [
       "RandomForestClassifier(bootstrap=False, ccp_alpha=0.0, class_weight=None,\n",
       "                       criterion='gini', max_depth=80, max_features='sqrt',\n",
       "                       max_leaf_nodes=None, max_samples=None,\n",
       "                       min_impurity_decrease=0.0, min_impurity_split=None,\n",
       "                       min_samples_leaf=1, min_samples_split=5,\n",
       "                       min_weight_fraction_leaf=0.0, n_estimators=1400,\n",
       "                       n_jobs=None, oob_score=False, random_state=None,\n",
       "                       verbose=0, warm_start=False)"
      ]
     },
     "execution_count": 23,
     "metadata": {},
     "output_type": "execute_result"
    }
   ],
   "source": [
    "rf_best.fit(X_train, y_train)"
   ]
  },
  {
   "cell_type": "code",
   "execution_count": 24,
   "metadata": {
    "ExecuteTime": {
     "end_time": "2020-05-03T04:13:24.442730Z",
     "start_time": "2020-05-03T04:13:24.099013Z"
    }
   },
   "outputs": [
    {
     "name": "stdout",
     "output_type": "stream",
     "text": [
      "Confusion Matrix:\n",
      "[[544  64]\n",
      " [ 97 400]]\n",
      "\n",
      "Precision: 0.8620689655172413\n",
      "Recall: 0.8048289738430584\n"
     ]
    }
   ],
   "source": [
    "precision_recall(y_test, rf_best.predict(X_test), print_=True)"
   ]
  },
  {
   "cell_type": "code",
   "execution_count": 25,
   "metadata": {
    "ExecuteTime": {
     "end_time": "2020-05-03T04:13:37.014278Z",
     "start_time": "2020-05-03T04:13:37.011177Z"
    }
   },
   "outputs": [],
   "source": [
    "import pickle"
   ]
  },
  {
   "cell_type": "code",
   "execution_count": 60,
   "metadata": {
    "ExecuteTime": {
     "end_time": "2020-05-03T04:15:40.796041Z",
     "start_time": "2020-05-03T04:15:40.419246Z"
    }
   },
   "outputs": [],
   "source": [
    "filename = 'model_rf_4_24.sav'\n",
    "pickle.dump(rf_best, open(filename, 'wb'))"
   ]
  },
  {
   "cell_type": "markdown",
   "metadata": {},
   "source": [
    "<a id='svm'></a>\n",
    "## SVM"
   ]
  },
  {
   "cell_type": "code",
   "execution_count": 26,
   "metadata": {
    "ExecuteTime": {
     "end_time": "2020-05-03T04:13:42.653521Z",
     "start_time": "2020-05-03T04:13:42.648863Z"
    }
   },
   "outputs": [],
   "source": [
    "from sklearn.svm import SVC"
   ]
  },
  {
   "cell_type": "code",
   "execution_count": 27,
   "metadata": {
    "ExecuteTime": {
     "end_time": "2020-05-03T04:13:44.150070Z",
     "start_time": "2020-05-03T04:13:42.920407Z"
    }
   },
   "outputs": [
    {
     "data": {
      "text/plain": [
       "SVC(C=1.0, break_ties=False, cache_size=200, class_weight=None, coef0=0.0,\n",
       "    decision_function_shape='ovr', degree=3, gamma='auto', kernel='rbf',\n",
       "    max_iter=-1, probability=False, random_state=None, shrinking=True,\n",
       "    tol=0.001, verbose=False)"
      ]
     },
     "execution_count": 27,
     "metadata": {},
     "output_type": "execute_result"
    }
   ],
   "source": [
    "svm = SVC(gamma='auto',)\n",
    "svm.fit(X_train_n, y_train)"
   ]
  },
  {
   "cell_type": "markdown",
   "metadata": {},
   "source": [
    "<a id='gnb'></a>\n",
    "## Gaussian NB"
   ]
  },
  {
   "cell_type": "code",
   "execution_count": 28,
   "metadata": {
    "ExecuteTime": {
     "end_time": "2020-05-03T04:13:44.172270Z",
     "start_time": "2020-05-03T04:13:44.153449Z"
    }
   },
   "outputs": [],
   "source": [
    "from sklearn.naive_bayes import GaussianNB"
   ]
  },
  {
   "cell_type": "code",
   "execution_count": 29,
   "metadata": {
    "ExecuteTime": {
     "end_time": "2020-05-03T04:13:44.187535Z",
     "start_time": "2020-05-03T04:13:44.175369Z"
    }
   },
   "outputs": [
    {
     "data": {
      "text/plain": [
       "GaussianNB(priors=None, var_smoothing=1e-09)"
      ]
     },
     "execution_count": 29,
     "metadata": {},
     "output_type": "execute_result"
    }
   ],
   "source": [
    "gnb = GaussianNB()\n",
    "gnb.fit(X_train, y_train)"
   ]
  },
  {
   "cell_type": "markdown",
   "metadata": {},
   "source": [
    "<a id='logit'></a>\n",
    "## Logistic Regression"
   ]
  },
  {
   "cell_type": "code",
   "execution_count": 30,
   "metadata": {
    "ExecuteTime": {
     "end_time": "2020-05-03T04:13:45.255320Z",
     "start_time": "2020-05-03T04:13:45.252038Z"
    }
   },
   "outputs": [],
   "source": [
    "from sklearn.linear_model import LogisticRegressionCV"
   ]
  },
  {
   "cell_type": "code",
   "execution_count": 31,
   "metadata": {
    "ExecuteTime": {
     "end_time": "2020-05-03T04:13:46.254399Z",
     "start_time": "2020-05-03T04:13:45.435743Z"
    }
   },
   "outputs": [
    {
     "name": "stderr",
     "output_type": "stream",
     "text": [
      "[Parallel(n_jobs=1)]: Using backend SequentialBackend with 1 concurrent workers.\n",
      "[Parallel(n_jobs=1)]: Done   1 out of   1 | elapsed:    0.2s remaining:    0.0s\n",
      "[Parallel(n_jobs=1)]: Done  10 out of  10 | elapsed:    0.8s finished\n"
     ]
    },
    {
     "data": {
      "text/plain": [
       "LogisticRegressionCV(Cs=10, class_weight=None, cv=10, dual=False,\n",
       "                     fit_intercept=True, intercept_scaling=1.0, l1_ratios=None,\n",
       "                     max_iter=100, multi_class='auto', n_jobs=None,\n",
       "                     penalty='l2', random_state=None, refit=True, scoring=None,\n",
       "                     solver='lbfgs', tol=0.0001, verbose=2)"
      ]
     },
     "execution_count": 31,
     "metadata": {},
     "output_type": "execute_result"
    }
   ],
   "source": [
    "logit = LogisticRegressionCV(cv=10, verbose=2)\n",
    "logit.fit(X_train_n, y_train)"
   ]
  },
  {
   "cell_type": "code",
   "execution_count": 32,
   "metadata": {
    "ExecuteTime": {
     "end_time": "2020-05-03T04:13:46.419013Z",
     "start_time": "2020-05-03T04:13:46.257289Z"
    }
   },
   "outputs": [
    {
     "data": {
      "image/png": "[encoded data removed]",
      "text/plain": [
       "<Figure size 720x360 with 1 Axes>"
      ]
     },
     "metadata": {
      "needs_background": "light"
     },
     "output_type": "display_data"
    }
   ],
   "source": [
    "plt.figure(figsize=(10,5))\n",
    "plt.bar(range(len(logit.coef_.reshape(-1))), logit.coef_.reshape(-1))\n",
    "plt.show()"
   ]
  },
  {
   "cell_type": "markdown",
   "metadata": {},
   "source": [
    "<a id='knn'></a>\n",
    "## KNN"
   ]
  },
  {
   "cell_type": "code",
   "execution_count": 33,
   "metadata": {
    "ExecuteTime": {
     "end_time": "2020-05-03T04:13:47.426743Z",
     "start_time": "2020-05-03T04:13:47.423702Z"
    }
   },
   "outputs": [],
   "source": [
    "from sklearn.neighbors import KNeighborsClassifier\n",
    "from sklearn.model_selection import cross_val_score"
   ]
  },
  {
   "cell_type": "code",
   "execution_count": 34,
   "metadata": {
    "ExecuteTime": {
     "end_time": "2020-05-03T04:13:47.691346Z",
     "start_time": "2020-05-03T04:13:47.687604Z"
    }
   },
   "outputs": [],
   "source": [
    "def knn_cv(n, X, y):\n",
    "    knn = KNeighborsClassifier(n_neighbors=n)\n",
    "    score = cross_val_score(knn, X, y, cv=10)\n",
    "    return score.mean()"
   ]
  },
  {
   "cell_type": "code",
   "execution_count": 35,
   "metadata": {
    "ExecuteTime": {
     "end_time": "2020-05-03T04:14:09.753886Z",
     "start_time": "2020-05-03T04:13:48.011965Z"
    }
   },
   "outputs": [
    {
     "data": {
      "application/vnd.jupyter.widget-view+json": {
       "model_id": "4264844c5a2543f5b58636fcea4579a2",
       "version_major": 2,
       "version_minor": 0
      },
      "text/plain": [
       "HBox(children=(IntProgress(value=0, max=48), HTML(value='')))"
      ]
     },
     "metadata": {},
     "output_type": "display_data"
    },
    {
     "name": "stdout",
     "output_type": "stream",
     "text": [
      "\n"
     ]
    }
   ],
   "source": [
    "all_knn_scores = [knn_cv(i, X_train_n, y_train) for i in tqdm(range(3, 99, 2))]"
   ]
  },
  {
   "cell_type": "code",
   "execution_count": 36,
   "metadata": {
    "ExecuteTime": {
     "end_time": "2020-05-03T04:14:10.072165Z",
     "start_time": "2020-05-03T04:14:09.756703Z"
    }
   },
   "outputs": [
    {
     "data": {
      "image/png": "[encoded data removed]",
      "text/plain": [
       "<Figure size 720x360 with 1 Axes>"
      ]
     },
     "metadata": {
      "needs_background": "light"
     },
     "output_type": "display_data"
    }
   ],
   "source": [
    "plt.figure(figsize=(10,5))\n",
    "plt.plot(all_knn_scores)\n",
    "plt.xticks(range(len(all_knn_scores)), range(3,99,2), rotation=30)\n",
    "plt.show()"
   ]
  },
  {
   "cell_type": "code",
   "execution_count": 37,
   "metadata": {
    "ExecuteTime": {
     "end_time": "2020-05-03T04:14:12.643575Z",
     "start_time": "2020-05-03T04:14:12.631583Z"
    }
   },
   "outputs": [
    {
     "data": {
      "text/plain": [
       "KNeighborsClassifier(algorithm='auto', leaf_size=30, metric='minkowski',\n",
       "                     metric_params=None, n_jobs=None, n_neighbors=3, p=2,\n",
       "                     weights='uniform')"
      ]
     },
     "execution_count": 37,
     "metadata": {},
     "output_type": "execute_result"
    }
   ],
   "source": [
    "knn_best = KNeighborsClassifier(n_neighbors=3)\n",
    "knn_best.fit(X_train_n, y_train)"
   ]
  },
  {
   "cell_type": "markdown",
   "metadata": {},
   "source": [
    "<a id='nn'></a>\n",
    "## Neural Network"
   ]
  },
  {
   "cell_type": "code",
   "execution_count": 38,
   "metadata": {
    "ExecuteTime": {
     "end_time": "2020-05-03T04:14:14.017318Z",
     "start_time": "2020-05-03T04:14:14.012120Z"
    }
   },
   "outputs": [],
   "source": [
    "X_val_n, X_test_dnn, y_val, y_test_dnn = train_test_split(X_test_n, y_test, test_size=0.2)"
   ]
  },
  {
   "cell_type": "code",
   "execution_count": 39,
   "metadata": {
    "ExecuteTime": {
     "end_time": "2020-05-03T04:14:14.782633Z",
     "start_time": "2020-05-03T04:14:14.777243Z"
    }
   },
   "outputs": [],
   "source": [
    "from keras import models\n",
    "from keras import layers"
   ]
  },
  {
   "cell_type": "code",
   "execution_count": 40,
   "metadata": {
    "ExecuteTime": {
     "end_time": "2020-05-03T04:14:17.161710Z",
     "start_time": "2020-05-03T04:14:16.731036Z"
    }
   },
   "outputs": [
    {
     "name": "stderr",
     "output_type": "stream",
     "text": [
      "WARNING: Logging before flag parsing goes to stderr.\n",
      "W0502 21:14:16.741622 4508767680 deprecation_wrapper.py:119] From /anaconda3/lib/python3.7/site-packages/keras/backend/tensorflow_backend.py:74: The name tf.get_default_graph is deprecated. Please use tf.compat.v1.get_default_graph instead.\n",
      "\n",
      "W0502 21:14:16.760931 4508767680 deprecation_wrapper.py:119] From /anaconda3/lib/python3.7/site-packages/keras/backend/tensorflow_backend.py:517: The name tf.placeholder is deprecated. Please use tf.compat.v1.placeholder instead.\n",
      "\n",
      "W0502 21:14:16.787948 4508767680 deprecation_wrapper.py:119] From /anaconda3/lib/python3.7/site-packages/keras/backend/tensorflow_backend.py:4138: The name tf.random_uniform is deprecated. Please use tf.random.uniform instead.\n",
      "\n",
      "W0502 21:14:16.814853 4508767680 deprecation_wrapper.py:119] From /anaconda3/lib/python3.7/site-packages/keras/backend/tensorflow_backend.py:133: The name tf.placeholder_with_default is deprecated. Please use tf.compat.v1.placeholder_with_default instead.\n",
      "\n",
      "W0502 21:14:16.826373 4508767680 deprecation.py:506] From /anaconda3/lib/python3.7/site-packages/keras/backend/tensorflow_backend.py:3445: calling dropout (from tensorflow.python.ops.nn_ops) with keep_prob is deprecated and will be removed in a future version.\n",
      "Instructions for updating:\n",
      "Please use `rate` instead of `keep_prob`. Rate should be set to `rate = 1 - keep_prob`.\n"
     ]
    }
   ],
   "source": [
    "dnn = models.Sequential()\n",
    "dnn.add(layers.Dense(128, activation='relu', input_shape=(11,)))\n",
    "dnn.add(layers.Dropout(0.2))\n",
    "dnn.add(layers.Dense(128, activation='relu'))\n",
    "dnn.add(layers.Dropout(0.2))\n",
    "dnn.add(layers.Dense(128, activation='relu'))\n",
    "dnn.add(layers.Dropout(0.2))\n",
    "dnn.add(layers.Dense(128, activation='relu'))\n",
    "dnn.add(layers.Dropout(0.2))\n",
    "dnn.add(layers.Dense(128, activation='relu'))\n",
    "dnn.add(layers.Dropout(0.2))\n",
    "dnn.add(layers.Dense(128, activation='relu'))\n",
    "dnn.add(layers.Dropout(0.2))\n",
    "dnn.add(layers.Dense(128, activation='relu'))\n",
    "dnn.add(layers.Dropout(0.2))\n",
    "dnn.add(layers.Dense(128, activation='relu'))\n",
    "dnn.add(layers.Dropout(0.2))\n",
    "dnn.add(layers.Dense(128, activation='relu', input_shape=(11,)))\n",
    "dnn.add(layers.Dropout(0.2))\n",
    "dnn.add(layers.Dense(128, activation='relu', input_shape=(11,)))\n",
    "dnn.add(layers.Dropout(0.2))\n",
    "dnn.add(layers.Dense(128, activation='relu', input_shape=(11,)))\n",
    "dnn.add(layers.Dropout(0.2))\n",
    "dnn.add(layers.Dense(1, activation='sigmoid'))"
   ]
  },
  {
   "cell_type": "code",
   "execution_count": 41,
   "metadata": {
    "ExecuteTime": {
     "end_time": "2020-05-03T04:14:18.852948Z",
     "start_time": "2020-05-03T04:14:18.808077Z"
    }
   },
   "outputs": [
    {
     "name": "stderr",
     "output_type": "stream",
     "text": [
      "W0502 21:14:18.809587 4508767680 deprecation_wrapper.py:119] From /anaconda3/lib/python3.7/site-packages/keras/optimizers.py:790: The name tf.train.Optimizer is deprecated. Please use tf.compat.v1.train.Optimizer instead.\n",
      "\n",
      "W0502 21:14:18.830336 4508767680 deprecation_wrapper.py:119] From /anaconda3/lib/python3.7/site-packages/keras/backend/tensorflow_backend.py:3376: The name tf.log is deprecated. Please use tf.math.log instead.\n",
      "\n",
      "W0502 21:14:18.834836 4508767680 deprecation.py:323] From /anaconda3/lib/python3.7/site-packages/tensorflow/python/ops/nn_impl.py:180: add_dispatch_support.<locals>.wrapper (from tensorflow.python.ops.array_ops) is deprecated and will be removed in a future version.\n",
      "Instructions for updating:\n",
      "Use tf.where in 2.0, which has the same broadcast rule as np.where\n"
     ]
    }
   ],
   "source": [
    "dnn.compile(optimizer='rmsprop', loss='binary_crossentropy', metrics=['acc'])"
   ]
  },
  {
   "cell_type": "code",
   "execution_count": 42,
   "metadata": {
    "ExecuteTime": {
     "end_time": "2020-05-03T04:14:36.742557Z",
     "start_time": "2020-05-03T04:14:20.323019Z"
    }
   },
   "outputs": [],
   "source": [
    "history = dnn.fit(X_train_n, y_train, \n",
    "                    epochs=100, \n",
    "                    batch_size=512, \n",
    "                    verbose=0,\n",
    "                    validation_data=[X_val_n, y_val])"
   ]
  },
  {
   "cell_type": "code",
   "execution_count": 43,
   "metadata": {
    "ExecuteTime": {
     "end_time": "2020-05-03T04:14:39.512484Z",
     "start_time": "2020-05-03T04:14:39.283913Z"
    }
   },
   "outputs": [
    {
     "data": {
      "image/png": "[encoded data removed]",
      "text/plain": [
       "<Figure size 720x360 with 2 Axes>"
      ]
     },
     "metadata": {
      "needs_background": "light"
     },
     "output_type": "display_data"
    }
   ],
   "source": [
    "plt.figure(figsize=(10,5))\n",
    "\n",
    "plt.subplot(2,1,1)\n",
    "plt.plot(history.history['acc'], label='acc')\n",
    "plt.plot(history.history['val_acc'], label='val_acc')\n",
    "plt.legend()\n",
    "\n",
    "plt.subplot(2,1,2)\n",
    "plt.plot(history.history['loss'], label='loss')\n",
    "plt.plot(history.history['val_loss'], label='val_loss')\n",
    "plt.legend()\n",
    "\n",
    "plt.show()"
   ]
  },
  {
   "cell_type": "code",
   "execution_count": 44,
   "metadata": {
    "ExecuteTime": {
     "end_time": "2020-05-03T04:14:42.824542Z",
     "start_time": "2020-05-03T04:14:42.499327Z"
    }
   },
   "outputs": [],
   "source": [
    "dnn_best = models.Sequential()\n",
    "dnn_best.add(layers.Dense(128, activation='relu', input_shape=(11,)))\n",
    "dnn_best.add(layers.Dropout(0.2))\n",
    "dnn_best.add(layers.Dense(128, activation='relu'))\n",
    "dnn_best.add(layers.Dropout(0.2))\n",
    "dnn_best.add(layers.Dense(128, activation='relu'))\n",
    "dnn_best.add(layers.Dropout(0.2))\n",
    "dnn_best.add(layers.Dense(128, activation='relu'))\n",
    "dnn_best.add(layers.Dropout(0.2))\n",
    "dnn_best.add(layers.Dense(128, activation='relu'))\n",
    "dnn_best.add(layers.Dropout(0.2))\n",
    "dnn_best.add(layers.Dense(128, activation='relu'))\n",
    "dnn_best.add(layers.Dropout(0.2))\n",
    "dnn_best.add(layers.Dense(128, activation='relu'))\n",
    "dnn_best.add(layers.Dropout(0.2))\n",
    "dnn_best.add(layers.Dense(128, activation='relu'))\n",
    "dnn_best.add(layers.Dropout(0.2))\n",
    "dnn_best.add(layers.Dense(128, activation='relu', input_shape=(11,)))\n",
    "dnn_best.add(layers.Dropout(0.2))\n",
    "dnn_best.add(layers.Dense(128, activation='relu', input_shape=(11,)))\n",
    "dnn_best.add(layers.Dropout(0.2))\n",
    "dnn_best.add(layers.Dense(128, activation='relu', input_shape=(11,)))\n",
    "dnn_best.add(layers.Dropout(0.2))\n",
    "dnn_best.add(layers.Dense(1, activation='sigmoid'))"
   ]
  },
  {
   "cell_type": "code",
   "execution_count": 45,
   "metadata": {
    "ExecuteTime": {
     "end_time": "2020-05-03T04:14:48.510567Z",
     "start_time": "2020-05-03T04:14:48.468596Z"
    }
   },
   "outputs": [],
   "source": [
    "dnn_best.compile(optimizer='rmsprop', loss='binary_crossentropy', metrics=['acc'])"
   ]
  },
  {
   "cell_type": "code",
   "execution_count": 46,
   "metadata": {
    "ExecuteTime": {
     "end_time": "2020-05-03T04:14:58.618306Z",
     "start_time": "2020-05-03T04:14:51.052711Z"
    }
   },
   "outputs": [],
   "source": [
    "history_best = dnn_best.fit(X_train_n, y_train, \n",
    "                            epochs=40, \n",
    "                            batch_size=512, \n",
    "                            verbose=0,\n",
    "                            validation_data=[X_val_n, y_val])"
   ]
  },
  {
   "cell_type": "markdown",
   "metadata": {},
   "source": [
    "<a id='evaluation'></a>\n",
    "# Evaluation"
   ]
  },
  {
   "cell_type": "markdown",
   "metadata": {},
   "source": [
    "<a id='precision_recall'></a>\n",
    "## Precision & Recall"
   ]
  },
  {
   "cell_type": "code",
   "execution_count": 47,
   "metadata": {
    "ExecuteTime": {
     "end_time": "2020-05-03T04:15:04.141102Z",
     "start_time": "2020-05-03T04:15:03.491497Z"
    }
   },
   "outputs": [],
   "source": [
    "# random forest\n",
    "rf_score = rf_best.score(X_test, y_test)\n",
    "rf_predict = rf_best.predict(X_test)"
   ]
  },
  {
   "cell_type": "code",
   "execution_count": 48,
   "metadata": {
    "ExecuteTime": {
     "end_time": "2020-05-03T04:15:04.370474Z",
     "start_time": "2020-05-03T04:15:04.143367Z"
    }
   },
   "outputs": [],
   "source": [
    "# svm\n",
    "svm_score = svm.score(X_test_n, y_test)\n",
    "svm_predict = svm.predict(X_test_n)"
   ]
  },
  {
   "cell_type": "code",
   "execution_count": 49,
   "metadata": {
    "ExecuteTime": {
     "end_time": "2020-05-03T04:15:04.381601Z",
     "start_time": "2020-05-03T04:15:04.376156Z"
    }
   },
   "outputs": [],
   "source": [
    "# gnb\n",
    "gnb_score = gnb.score(X_test, y_test)\n",
    "gnb_predict = gnb.predict(X_test)"
   ]
  },
  {
   "cell_type": "code",
   "execution_count": 50,
   "metadata": {
    "ExecuteTime": {
     "end_time": "2020-05-03T04:15:04.868199Z",
     "start_time": "2020-05-03T04:15:04.864289Z"
    }
   },
   "outputs": [],
   "source": [
    "# logistic regression\n",
    "logit_score = logit.score(X_test_n, y_test)\n",
    "logit_predict = logit.predict(X_test_n)"
   ]
  },
  {
   "cell_type": "code",
   "execution_count": 51,
   "metadata": {
    "ExecuteTime": {
     "end_time": "2020-05-03T04:15:05.599294Z",
     "start_time": "2020-05-03T04:15:05.497526Z"
    }
   },
   "outputs": [],
   "source": [
    "# knn\n",
    "knn_score = knn_best.score(X_test_n, y_test)\n",
    "knn_predict = knn_best.predict(X_test_n)"
   ]
  },
  {
   "cell_type": "code",
   "execution_count": 52,
   "metadata": {
    "ExecuteTime": {
     "end_time": "2020-05-03T04:15:06.117243Z",
     "start_time": "2020-05-03T04:15:05.932803Z"
    }
   },
   "outputs": [
    {
     "name": "stdout",
     "output_type": "stream",
     "text": [
      "221/221 [==============================] - 0s 50us/step\n"
     ]
    }
   ],
   "source": [
    "# nn\n",
    "dnn_loss, dnn_score = dnn_best.evaluate(X_test_dnn, y_test_dnn)\n",
    "dnn_predict = pd.Series(dnn_best.predict(X_test_dnn).reshape(-1) >= 0.5).astype('int')"
   ]
  },
  {
   "cell_type": "code",
   "execution_count": 53,
   "metadata": {
    "ExecuteTime": {
     "end_time": "2020-05-03T04:15:06.485990Z",
     "start_time": "2020-05-03T04:15:06.481290Z"
    }
   },
   "outputs": [],
   "source": [
    "from sklearn.metrics import roc_curve, auc"
   ]
  },
  {
   "cell_type": "code",
   "execution_count": 54,
   "metadata": {
    "ExecuteTime": {
     "end_time": "2020-05-03T04:15:06.912000Z",
     "start_time": "2020-05-03T04:15:06.899117Z"
    }
   },
   "outputs": [],
   "source": [
    "dnn_fpr, dnn_tpr, dnn_threshold = roc_curve(y_test_dnn, dnn_best.predict(X_test_dnn).reshape(-1))\n",
    "dnn_auc = auc(dnn_fpr, dnn_tpr)"
   ]
  },
  {
   "cell_type": "code",
   "execution_count": 55,
   "metadata": {
    "ExecuteTime": {
     "end_time": "2020-05-03T04:15:08.154382Z",
     "start_time": "2020-05-03T04:15:08.120728Z"
    }
   },
   "outputs": [],
   "source": [
    "pr_dict = {\n",
    "    'rf':precision_recall(y_test, rf_predict, print_=False),\n",
    "    'svm':precision_recall(y_test, svm_predict, print_=False),\n",
    "    'gnb':precision_recall(y_test, gnb_predict, print_=False),\n",
    "    'logit':precision_recall(y_test, logit_predict, print_=False),\n",
    "    'knn':precision_recall(y_test, knn_predict, print_=False),\n",
    "    'dnn':precision_recall(y_test_dnn, dnn_predict, print_=False)\n",
    "}"
   ]
  },
  {
   "cell_type": "code",
   "execution_count": 56,
   "metadata": {
    "ExecuteTime": {
     "end_time": "2020-05-03T04:15:08.721849Z",
     "start_time": "2020-05-03T04:15:08.701980Z"
    }
   },
   "outputs": [],
   "source": [
    "pr_df = pd.DataFrame.from_dict(pr_dict, orient='index', columns=['precision','recall'])\n",
    "pr_df['F1'] = 2*((pr_df['precision']*pr_df['recall']) / (pr_df['precision']+pr_df['recall']))\n",
    "pr_df['accuracy'] = [rf_score, svm_score, gnb_score, logit_score, knn_score, dnn_score]"
   ]
  },
  {
   "cell_type": "code",
   "execution_count": 57,
   "metadata": {
    "ExecuteTime": {
     "end_time": "2020-05-03T04:15:10.618899Z",
     "start_time": "2020-05-03T04:15:10.606219Z"
    }
   },
   "outputs": [
    {
     "data": {
      "text/html": [
       "<div>\n",
       "<style scoped>\n",
       "    .dataframe tbody tr th:only-of-type {\n",
       "        vertical-align: middle;\n",
       "    }\n",
       "\n",
       "    .dataframe tbody tr th {\n",
       "        vertical-align: top;\n",
       "    }\n",
       "\n",
       "    .dataframe thead th {\n",
       "        text-align: right;\n",
       "    }\n",
       "</style>\n",
       "<table border=\"1\" class=\"dataframe\">\n",
       "  <thead>\n",
       "    <tr style=\"text-align: right;\">\n",
       "      <th></th>\n",
       "      <th>precision</th>\n",
       "      <th>recall</th>\n",
       "      <th>F1</th>\n",
       "      <th>accuracy</th>\n",
       "    </tr>\n",
       "  </thead>\n",
       "  <tbody>\n",
       "    <tr>\n",
       "      <th>rf</th>\n",
       "      <td>0.862069</td>\n",
       "      <td>0.804829</td>\n",
       "      <td>0.832466</td>\n",
       "      <td>0.854299</td>\n",
       "    </tr>\n",
       "    <tr>\n",
       "      <th>svm</th>\n",
       "      <td>0.694444</td>\n",
       "      <td>0.653924</td>\n",
       "      <td>0.673575</td>\n",
       "      <td>0.714932</td>\n",
       "    </tr>\n",
       "    <tr>\n",
       "      <th>gnb</th>\n",
       "      <td>0.670306</td>\n",
       "      <td>0.617706</td>\n",
       "      <td>0.642932</td>\n",
       "      <td>0.691403</td>\n",
       "    </tr>\n",
       "    <tr>\n",
       "      <th>logit</th>\n",
       "      <td>0.673036</td>\n",
       "      <td>0.637827</td>\n",
       "      <td>0.654959</td>\n",
       "      <td>0.697738</td>\n",
       "    </tr>\n",
       "    <tr>\n",
       "      <th>knn</th>\n",
       "      <td>0.705387</td>\n",
       "      <td>0.843058</td>\n",
       "      <td>0.768103</td>\n",
       "      <td>0.771041</td>\n",
       "    </tr>\n",
       "    <tr>\n",
       "      <th>dnn</th>\n",
       "      <td>0.610294</td>\n",
       "      <td>0.855670</td>\n",
       "      <td>0.712446</td>\n",
       "      <td>0.696833</td>\n",
       "    </tr>\n",
       "  </tbody>\n",
       "</table>\n",
       "</div>"
      ],
      "text/plain": [
       "       precision    recall        F1  accuracy\n",
       "rf      0.862069  0.804829  0.832466  0.854299\n",
       "svm     0.694444  0.653924  0.673575  0.714932\n",
       "gnb     0.670306  0.617706  0.642932  0.691403\n",
       "logit   0.673036  0.637827  0.654959  0.697738\n",
       "knn     0.705387  0.843058  0.768103  0.771041\n",
       "dnn     0.610294  0.855670  0.712446  0.696833"
      ]
     },
     "execution_count": 57,
     "metadata": {},
     "output_type": "execute_result"
    }
   ],
   "source": [
    "pr_df"
   ]
  },
  {
   "cell_type": "markdown",
   "metadata": {},
   "source": [
    "<a id='auc_roc'></a>\n",
    "## AUC ROC"
   ]
  },
  {
   "cell_type": "code",
   "execution_count": 58,
   "metadata": {
    "ExecuteTime": {
     "end_time": "2020-05-03T04:15:12.861415Z",
     "start_time": "2020-05-03T04:15:12.857737Z"
    }
   },
   "outputs": [],
   "source": [
    "from sklearn.metrics import plot_roc_curve"
   ]
  },
  {
   "cell_type": "code",
   "execution_count": 59,
   "metadata": {
    "ExecuteTime": {
     "end_time": "2020-05-03T04:15:14.897326Z",
     "start_time": "2020-05-03T04:15:14.281715Z"
    }
   },
   "outputs": [
    {
     "data": {
      "image/png": "[encoded data removed]",
      "text/plain": [
       "<Figure size 720x360 with 1 Axes>"
      ]
     },
     "metadata": {
      "needs_background": "light"
     },
     "output_type": "display_data"
    }
   ],
   "source": [
    "fig, ax = plt.subplots(figsize=(10,5))\n",
    "plot_roc_curve(rf_best, X_test, y_test, ax=ax)\n",
    "plot_roc_curve(svm, X_test_n, y_test, ax=ax)\n",
    "plot_roc_curve(gnb, X_test, y_test, ax=ax)\n",
    "plot_roc_curve(logit, X_test_n, y_test, ax=ax)\n",
    "plot_roc_curve(knn_best, X_test_n, y_test, ax=ax)\n",
    "plt.plot(dnn_fpr, dnn_tpr, label='Deep Neural Network (AUC={})'.format(round(dnn_auc, 3)))\n",
    "ax.plot([0, 1], [0, 1], linestyle='--', lw=2, color='black',\n",
    "        label='Chance', alpha=.8)\n",
    "plt.legend()\n",
    "plt.show()"
   ]
  },
  {
   "cell_type": "code",
   "execution_count": null,
   "metadata": {},
   "outputs": [],
   "source": []
  }
 ],
 "metadata": {
  "kernelspec": {
   "display_name": "Python 3",
   "language": "python",
   "name": "python3"
  },
  "language_info": {
   "codemirror_mode": {
    "name": "ipython",
    "version": 3
   },
   "file_extension": ".py",
   "mimetype": "text/x-python",
   "name": "python",
   "nbconvert_exporter": "python",
   "pygments_lexer": "ipython3",
   "version": "3.7.3"
  },
  "toc": {
   "base_numbering": 1,
   "nav_menu": {},
   "number_sections": true,
   "sideBar": true,
   "skip_h1_title": false,
   "title_cell": "Table of Contents",
   "title_sidebar": "Contents",
   "toc_cell": false,
   "toc_position": {},
   "toc_section_display": true,
   "toc_window_display": false
  }
 },
 "nbformat": 4,
 "nbformat_minor": 2
}
