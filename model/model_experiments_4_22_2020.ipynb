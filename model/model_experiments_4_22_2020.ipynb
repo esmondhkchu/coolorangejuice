{
 "cells": [
  {
   "cell_type": "markdown",
   "metadata": {},
   "source": [
    "[Load Data](#load)\n",
    "\n",
    "[Data Preparation](#prepare)\n",
    "1. [Balance and Split](#bs)\n",
    "2. [Scale](#scale)\n",
    "\n",
    "[Model](#model)\n",
    "1. [Random Forest](#rf)\n",
    "2. [Gaussian NB](#gnb)\n",
    "3. [Logistic Regression](#logit)\n",
    "4. [KNN](#knn)\n",
    "5. [Neural Network](#nn)\n",
    "\n",
    "[Evaluation](#evaluation)\n",
    "1. [Precision & Recall](#precision_recall)\n",
    "2. [AUC ROC](#auc_roc)"
   ]
  },
  {
   "cell_type": "code",
   "execution_count": 2,
   "metadata": {
    "ExecuteTime": {
     "end_time": "2020-04-25T12:03:08.786945Z",
     "start_time": "2020-04-25T12:03:08.026621Z"
    }
   },
   "outputs": [],
   "source": [
    "import numpy as np\n",
    "import pandas as pd"
   ]
  },
  {
   "cell_type": "code",
   "execution_count": 3,
   "metadata": {
    "ExecuteTime": {
     "end_time": "2020-04-25T12:03:09.477342Z",
     "start_time": "2020-04-25T12:03:08.789386Z"
    }
   },
   "outputs": [],
   "source": [
    "import seaborn as sns\n",
    "import matplotlib.pyplot as plt"
   ]
  },
  {
   "cell_type": "code",
   "execution_count": 4,
   "metadata": {
    "ExecuteTime": {
     "end_time": "2020-04-25T12:03:09.531002Z",
     "start_time": "2020-04-25T12:03:09.480158Z"
    }
   },
   "outputs": [],
   "source": [
    "from tqdm import tqdm_notebook as tqdm"
   ]
  },
  {
   "cell_type": "markdown",
   "metadata": {},
   "source": [
    "<a id='load'></a>\n",
    "# Load data"
   ]
  },
  {
   "cell_type": "code",
   "execution_count": 11,
   "metadata": {
    "ExecuteTime": {
     "end_time": "2020-04-25T12:06:28.551480Z",
     "start_time": "2020-04-25T12:06:28.535633Z"
    }
   },
   "outputs": [],
   "source": [
    "data = pd.read_csv('./data.csv')"
   ]
  },
  {
   "cell_type": "markdown",
   "metadata": {},
   "source": [
    "<a id='prepare'></a>\n",
    "# Prepare data"
   ]
  },
  {
   "cell_type": "code",
   "execution_count": 13,
   "metadata": {
    "ExecuteTime": {
     "end_time": "2020-04-25T12:06:34.440412Z",
     "start_time": "2020-04-25T12:06:34.436925Z"
    }
   },
   "outputs": [],
   "source": [
    "exclude = ['horse_num','oriental_sum','apple_sum','pro_sum',\n",
    "           'total_1','total_2','total_3','total_sum','file_name',\n",
    "           'sheet_name','W.H. FixOdd 60','S.B.Fix Odd 60']"
   ]
  },
  {
   "cell_type": "code",
   "execution_count": 14,
   "metadata": {
    "ExecuteTime": {
     "end_time": "2020-04-25T12:06:35.581480Z",
     "start_time": "2020-04-25T12:06:35.570761Z"
    }
   },
   "outputs": [],
   "source": [
    "data_ex = data[[i for i in list(data) if i not in exclude]].dropna()\n",
    "X = data_ex[[i for i in data_ex if i != 'result']]\n",
    "y = (data_ex['result'] > 0).astype('int')"
   ]
  },
  {
   "cell_type": "code",
   "execution_count": 15,
   "metadata": {
    "ExecuteTime": {
     "end_time": "2020-04-25T12:06:36.604474Z",
     "start_time": "2020-04-25T12:06:36.337000Z"
    }
   },
   "outputs": [
    {
     "data": {
      "image/png": "[encoded data removed]",
      "text/plain": [
       "<Figure size 720x720 with 2 Axes>"
      ]
     },
     "metadata": {
      "needs_background": "light"
     },
     "output_type": "display_data"
    }
   ],
   "source": [
    "plt.figure(figsize=(10,10))\n",
    "sns.heatmap(data_ex.corr(), square=True, cmap='PiYG')\n",
    "plt.show()"
   ]
  },
  {
   "cell_type": "markdown",
   "metadata": {},
   "source": [
    "<a id='bs'></a>\n",
    "## Balance and Split"
   ]
  },
  {
   "cell_type": "code",
   "execution_count": 16,
   "metadata": {
    "ExecuteTime": {
     "end_time": "2020-04-25T12:06:42.673650Z",
     "start_time": "2020-04-25T12:06:40.891141Z"
    }
   },
   "outputs": [
    {
     "name": "stderr",
     "output_type": "stream",
     "text": [
      "Using TensorFlow backend.\n"
     ]
    }
   ],
   "source": [
    "from imblearn import over_sampling, under_sampling\n",
    "from imblearn.pipeline import Pipeline"
   ]
  },
  {
   "cell_type": "code",
   "execution_count": 17,
   "metadata": {
    "ExecuteTime": {
     "end_time": "2020-04-25T12:06:43.942671Z",
     "start_time": "2020-04-25T12:06:43.937187Z"
    }
   },
   "outputs": [],
   "source": [
    "# create sampling strategy\n",
    "# both oversampling and undersampling\n",
    "over = over_sampling.SMOTE(0.8)\n",
    "under = under_sampling.RandomUnderSampler(0.8)"
   ]
  },
  {
   "cell_type": "code",
   "execution_count": 18,
   "metadata": {
    "ExecuteTime": {
     "end_time": "2020-04-25T12:06:44.981642Z",
     "start_time": "2020-04-25T12:06:44.975455Z"
    }
   },
   "outputs": [],
   "source": [
    "# create pipeline\n",
    "pipeline = Pipeline([('o', over),('u', under)])"
   ]
  },
  {
   "cell_type": "code",
   "execution_count": 19,
   "metadata": {
    "ExecuteTime": {
     "end_time": "2020-04-25T12:06:46.261174Z",
     "start_time": "2020-04-25T12:06:46.227020Z"
    }
   },
   "outputs": [],
   "source": [
    "X_sam, y_sam = pipeline.fit_resample(X, y)"
   ]
  },
  {
   "cell_type": "code",
   "execution_count": 20,
   "metadata": {
    "ExecuteTime": {
     "end_time": "2020-04-25T12:06:46.826356Z",
     "start_time": "2020-04-25T12:06:46.823107Z"
    }
   },
   "outputs": [],
   "source": [
    "from sklearn.model_selection import train_test_split"
   ]
  },
  {
   "cell_type": "code",
   "execution_count": 21,
   "metadata": {
    "ExecuteTime": {
     "end_time": "2020-04-25T12:06:47.341586Z",
     "start_time": "2020-04-25T12:06:47.335119Z"
    }
   },
   "outputs": [],
   "source": [
    "X_train, X_test, y_train, y_test = train_test_split(X_sam, y_sam, test_size=0.15)"
   ]
  },
  {
   "cell_type": "markdown",
   "metadata": {},
   "source": [
    "<a id='scale'></a>\n",
    "## Scale"
   ]
  },
  {
   "cell_type": "code",
   "execution_count": 23,
   "metadata": {
    "ExecuteTime": {
     "end_time": "2020-04-25T12:06:55.900568Z",
     "start_time": "2020-04-25T12:06:55.896884Z"
    }
   },
   "outputs": [],
   "source": [
    "from sklearn.preprocessing import StandardScaler"
   ]
  },
  {
   "cell_type": "code",
   "execution_count": 24,
   "metadata": {
    "ExecuteTime": {
     "end_time": "2020-04-25T12:06:56.697310Z",
     "start_time": "2020-04-25T12:06:56.688111Z"
    }
   },
   "outputs": [
    {
     "data": {
      "text/plain": [
       "StandardScaler(copy=True, with_mean=True, with_std=True)"
      ]
     },
     "execution_count": 24,
     "metadata": {},
     "output_type": "execute_result"
    }
   ],
   "source": [
    "scaler = StandardScaler()\n",
    "scaler.fit(X_train)"
   ]
  },
  {
   "cell_type": "code",
   "execution_count": 25,
   "metadata": {
    "ExecuteTime": {
     "end_time": "2020-04-25T12:06:57.595744Z",
     "start_time": "2020-04-25T12:06:57.588826Z"
    }
   },
   "outputs": [],
   "source": [
    "X_train_n = scaler.transform(X_train)\n",
    "X_test_n = scaler.transform(X_test)"
   ]
  },
  {
   "cell_type": "markdown",
   "metadata": {},
   "source": [
    "<a id='model'></a>\n",
    "# Model"
   ]
  },
  {
   "cell_type": "code",
   "execution_count": 26,
   "metadata": {
    "ExecuteTime": {
     "end_time": "2020-04-25T12:07:00.062118Z",
     "start_time": "2020-04-25T12:07:00.058074Z"
    }
   },
   "outputs": [],
   "source": [
    "from sklearn.metrics import confusion_matrix"
   ]
  },
  {
   "cell_type": "code",
   "execution_count": 27,
   "metadata": {
    "ExecuteTime": {
     "end_time": "2020-04-25T12:07:01.108101Z",
     "start_time": "2020-04-25T12:07:01.098704Z"
    }
   },
   "outputs": [],
   "source": [
    "def precision_recall(true, predict, print_=True):\n",
    "    cm = confusion_matrix(true, predict)\n",
    "    if print_:\n",
    "        print('Confusion Matrix:')\n",
    "        print(cm)\n",
    "        print()\n",
    "    \n",
    "    tn, fp, fn, tp = confusion_matrix(true, predict).ravel()\n",
    "    precision = tp / (tp+fp)\n",
    "    recall = tp / (tp+fn)\n",
    "    \n",
    "    if print_:\n",
    "        print('Precision:', precision)\n",
    "        print('Recall:', recall)\n",
    "    else:\n",
    "        return precision, recall"
   ]
  },
  {
   "cell_type": "markdown",
   "metadata": {},
   "source": [
    "<a id='rf'></a>\n",
    "## Random Forest"
   ]
  },
  {
   "cell_type": "code",
   "execution_count": 28,
   "metadata": {
    "ExecuteTime": {
     "end_time": "2020-04-25T12:07:03.166327Z",
     "start_time": "2020-04-25T12:07:03.162960Z"
    }
   },
   "outputs": [],
   "source": [
    "from sklearn.ensemble import RandomForestClassifier\n",
    "from sklearn.model_selection import RandomizedSearchCV"
   ]
  },
  {
   "cell_type": "code",
   "execution_count": 32,
   "metadata": {
    "ExecuteTime": {
     "end_time": "2020-04-25T12:07:24.709161Z",
     "start_time": "2020-04-25T12:07:24.701795Z"
    }
   },
   "outputs": [],
   "source": [
    "# Number of trees in random forest\n",
    "n_estimators = [int(x) for x in np.linspace(start = 200, stop = 2000, num = 10)]\n",
    "# Number of features to consider at every split\n",
    "max_features = ['auto', 'sqrt']\n",
    "# Maximum number of levels in tree\n",
    "max_depth = [int(x) for x in np.linspace(10, 110, num = 11)]\n",
    "max_depth.append(None)\n",
    "# Minimum number of samples required to split a node\n",
    "min_samples_split = [2, 5, 10]\n",
    "# Minimum number of samples required at each leaf node\n",
    "min_samples_leaf = [1, 2, 4]\n",
    "# Method of selecting samples for training each tree\n",
    "bootstrap = [True, False]"
   ]
  },
  {
   "cell_type": "code",
   "execution_count": 33,
   "metadata": {
    "ExecuteTime": {
     "end_time": "2020-04-25T12:07:25.303296Z",
     "start_time": "2020-04-25T12:07:25.299536Z"
    }
   },
   "outputs": [],
   "source": [
    "# Create the random grid\n",
    "random_grid = {'n_estimators': n_estimators,\n",
    "               'max_features': max_features,\n",
    "               'max_depth': max_depth,\n",
    "               'min_samples_split': min_samples_split,\n",
    "               'min_samples_leaf': min_samples_leaf,\n",
    "               'bootstrap': bootstrap}"
   ]
  },
  {
   "cell_type": "code",
   "execution_count": 34,
   "metadata": {
    "ExecuteTime": {
     "end_time": "2020-04-25T12:07:27.618129Z",
     "start_time": "2020-04-25T12:07:27.612507Z"
    }
   },
   "outputs": [],
   "source": [
    "rf = RandomForestClassifier()\n",
    "\n",
    "rf_random = RandomizedSearchCV(estimator=rf, \n",
    "                               param_distributions=random_grid, \n",
    "                               n_iter = 100, \n",
    "                               cv = 5, \n",
    "                               verbose=2,\n",
    "                               random_state=42, \n",
    "                               n_jobs = -1)"
   ]
  },
  {
   "cell_type": "code",
   "execution_count": 35,
   "metadata": {
    "ExecuteTime": {
     "end_time": "2020-04-25T12:26:57.972187Z",
     "start_time": "2020-04-25T12:07:31.098822Z"
    }
   },
   "outputs": [
    {
     "name": "stdout",
     "output_type": "stream",
     "text": [
      "Fitting 5 folds for each of 100 candidates, totalling 500 fits\n"
     ]
    },
    {
     "name": "stderr",
     "output_type": "stream",
     "text": [
      "[Parallel(n_jobs=-1)]: Using backend LokyBackend with 4 concurrent workers.\n",
      "[Parallel(n_jobs=-1)]: Done  33 tasks      | elapsed:  1.5min\n",
      "[Parallel(n_jobs=-1)]: Done 154 tasks      | elapsed:  7.0min\n",
      "[Parallel(n_jobs=-1)]: Done 357 tasks      | elapsed: 14.7min\n",
      "[Parallel(n_jobs=-1)]: Done 500 out of 500 | elapsed: 19.3min finished\n"
     ]
    },
    {
     "data": {
      "text/plain": [
       "RandomizedSearchCV(cv=5, error_score=nan,\n",
       "                   estimator=RandomForestClassifier(bootstrap=True,\n",
       "                                                    ccp_alpha=0.0,\n",
       "                                                    class_weight=None,\n",
       "                                                    criterion='gini',\n",
       "                                                    max_depth=None,\n",
       "                                                    max_features='auto',\n",
       "                                                    max_leaf_nodes=None,\n",
       "                                                    max_samples=None,\n",
       "                                                    min_impurity_decrease=0.0,\n",
       "                                                    min_impurity_split=None,\n",
       "                                                    min_samples_leaf=1,\n",
       "                                                    min_samples_split=2,\n",
       "                                                    min_weight_fraction_leaf=0.0,\n",
       "                                                    n_estimators=100,\n",
       "                                                    n_jobs...\n",
       "                   param_distributions={'bootstrap': [True, False],\n",
       "                                        'max_depth': [10, 20, 30, 40, 50, 60,\n",
       "                                                      70, 80, 90, 100, 110,\n",
       "                                                      None],\n",
       "                                        'max_features': ['auto', 'sqrt'],\n",
       "                                        'min_samples_leaf': [1, 2, 4],\n",
       "                                        'min_samples_split': [2, 5, 10],\n",
       "                                        'n_estimators': [200, 400, 600, 800,\n",
       "                                                         1000, 1200, 1400, 1600,\n",
       "                                                         1800, 2000]},\n",
       "                   pre_dispatch='2*n_jobs', random_state=42, refit=True,\n",
       "                   return_train_score=False, scoring=None, verbose=2)"
      ]
     },
     "execution_count": 35,
     "metadata": {},
     "output_type": "execute_result"
    }
   ],
   "source": [
    "rf_random.fit(X_train, y_train)"
   ]
  },
  {
   "cell_type": "code",
   "execution_count": 36,
   "metadata": {
    "ExecuteTime": {
     "end_time": "2020-04-25T12:27:22.610561Z",
     "start_time": "2020-04-25T12:27:22.603690Z"
    }
   },
   "outputs": [
    {
     "data": {
      "text/plain": [
       "{'n_estimators': 800,\n",
       " 'min_samples_split': 2,\n",
       " 'min_samples_leaf': 2,\n",
       " 'max_features': 'sqrt',\n",
       " 'max_depth': 50,\n",
       " 'bootstrap': False}"
      ]
     },
     "execution_count": 36,
     "metadata": {},
     "output_type": "execute_result"
    }
   ],
   "source": [
    "rf_random.best_params_"
   ]
  },
  {
   "cell_type": "code",
   "execution_count": 37,
   "metadata": {
    "ExecuteTime": {
     "end_time": "2020-04-25T12:27:39.544585Z",
     "start_time": "2020-04-25T12:27:39.539800Z"
    }
   },
   "outputs": [],
   "source": [
    "rf_best = RandomForestClassifier(n_estimators=800, \n",
    "                                 min_samples_split=2,\n",
    "                                 min_samples_leaf=2,\n",
    "                                 max_features='sqrt',\n",
    "                                 max_depth=50,\n",
    "                                 bootstrap=False)"
   ]
  },
  {
   "cell_type": "code",
   "execution_count": 38,
   "metadata": {
    "ExecuteTime": {
     "end_time": "2020-04-25T12:27:48.073415Z",
     "start_time": "2020-04-25T12:27:41.205886Z"
    }
   },
   "outputs": [
    {
     "data": {
      "text/plain": [
       "RandomForestClassifier(bootstrap=False, ccp_alpha=0.0, class_weight=None,\n",
       "                       criterion='gini', max_depth=50, max_features='sqrt',\n",
       "                       max_leaf_nodes=None, max_samples=None,\n",
       "                       min_impurity_decrease=0.0, min_impurity_split=None,\n",
       "                       min_samples_leaf=2, min_samples_split=2,\n",
       "                       min_weight_fraction_leaf=0.0, n_estimators=800,\n",
       "                       n_jobs=None, oob_score=False, random_state=None,\n",
       "                       verbose=0, warm_start=False)"
      ]
     },
     "execution_count": 38,
     "metadata": {},
     "output_type": "execute_result"
    }
   ],
   "source": [
    "rf_best.fit(X_train, y_train)"
   ]
  },
  {
   "cell_type": "code",
   "execution_count": 40,
   "metadata": {
    "ExecuteTime": {
     "end_time": "2020-04-25T12:28:11.098971Z",
     "start_time": "2020-04-25T12:28:11.094300Z"
    }
   },
   "outputs": [],
   "source": [
    "import pickle"
   ]
  },
  {
   "cell_type": "code",
   "execution_count": 41,
   "metadata": {
    "ExecuteTime": {
     "end_time": "2020-04-25T12:28:11.841188Z",
     "start_time": "2020-04-25T12:28:11.624934Z"
    }
   },
   "outputs": [],
   "source": [
    "# filename = 'model_rf.sav'\n",
    "# pickle.dump(rf_best, open(filename, 'wb'))"
   ]
  },
  {
   "cell_type": "markdown",
   "metadata": {},
   "source": [
    "<a id='svm'></a>\n",
    "## SVM"
   ]
  },
  {
   "cell_type": "code",
   "execution_count": 42,
   "metadata": {
    "ExecuteTime": {
     "end_time": "2020-04-25T12:28:14.925082Z",
     "start_time": "2020-04-25T12:28:14.922345Z"
    }
   },
   "outputs": [],
   "source": [
    "from sklearn.svm import SVC"
   ]
  },
  {
   "cell_type": "code",
   "execution_count": 43,
   "metadata": {
    "ExecuteTime": {
     "end_time": "2020-04-25T12:28:16.555001Z",
     "start_time": "2020-04-25T12:28:15.466606Z"
    }
   },
   "outputs": [
    {
     "data": {
      "text/plain": [
       "SVC(C=1.0, break_ties=False, cache_size=200, class_weight=None, coef0=0.0,\n",
       "    decision_function_shape='ovr', degree=3, gamma='auto', kernel='rbf',\n",
       "    max_iter=-1, probability=False, random_state=None, shrinking=True,\n",
       "    tol=0.001, verbose=False)"
      ]
     },
     "execution_count": 43,
     "metadata": {},
     "output_type": "execute_result"
    }
   ],
   "source": [
    "svm = SVC(gamma='auto',)\n",
    "svm.fit(X_train_n, y_train)"
   ]
  },
  {
   "cell_type": "markdown",
   "metadata": {},
   "source": [
    "<a id='gnb'></a>\n",
    "## Gaussian NB"
   ]
  },
  {
   "cell_type": "code",
   "execution_count": 44,
   "metadata": {
    "ExecuteTime": {
     "end_time": "2020-04-25T12:28:18.391071Z",
     "start_time": "2020-04-25T12:28:18.378780Z"
    }
   },
   "outputs": [],
   "source": [
    "from sklearn.naive_bayes import GaussianNB"
   ]
  },
  {
   "cell_type": "code",
   "execution_count": 45,
   "metadata": {
    "ExecuteTime": {
     "end_time": "2020-04-25T12:28:18.680031Z",
     "start_time": "2020-04-25T12:28:18.669509Z"
    }
   },
   "outputs": [
    {
     "data": {
      "text/plain": [
       "GaussianNB(priors=None, var_smoothing=1e-09)"
      ]
     },
     "execution_count": 45,
     "metadata": {},
     "output_type": "execute_result"
    }
   ],
   "source": [
    "gnb = GaussianNB()\n",
    "gnb.fit(X_train, y_train)"
   ]
  },
  {
   "cell_type": "markdown",
   "metadata": {},
   "source": [
    "<a id='logit'></a>\n",
    "## Logistic Regression"
   ]
  },
  {
   "cell_type": "code",
   "execution_count": 46,
   "metadata": {
    "ExecuteTime": {
     "end_time": "2020-04-25T12:28:21.712459Z",
     "start_time": "2020-04-25T12:28:21.708925Z"
    }
   },
   "outputs": [],
   "source": [
    "from sklearn.linear_model import LogisticRegressionCV"
   ]
  },
  {
   "cell_type": "code",
   "execution_count": 47,
   "metadata": {
    "ExecuteTime": {
     "end_time": "2020-04-25T12:28:22.873559Z",
     "start_time": "2020-04-25T12:28:22.117702Z"
    }
   },
   "outputs": [
    {
     "name": "stderr",
     "output_type": "stream",
     "text": [
      "[Parallel(n_jobs=1)]: Using backend SequentialBackend with 1 concurrent workers.\n",
      "[Parallel(n_jobs=1)]: Done   1 out of   1 | elapsed:    0.1s remaining:    0.0s\n",
      "[Parallel(n_jobs=1)]: Done  10 out of  10 | elapsed:    0.7s finished\n"
     ]
    },
    {
     "data": {
      "text/plain": [
       "LogisticRegressionCV(Cs=10, class_weight=None, cv=10, dual=False,\n",
       "                     fit_intercept=True, intercept_scaling=1.0, l1_ratios=None,\n",
       "                     max_iter=100, multi_class='auto', n_jobs=None,\n",
       "                     penalty='l2', random_state=None, refit=True, scoring=None,\n",
       "                     solver='lbfgs', tol=0.0001, verbose=2)"
      ]
     },
     "execution_count": 47,
     "metadata": {},
     "output_type": "execute_result"
    }
   ],
   "source": [
    "logit = LogisticRegressionCV(cv=10, verbose=2)\n",
    "logit.fit(X_train_n, y_train)"
   ]
  },
  {
   "cell_type": "code",
   "execution_count": 48,
   "metadata": {
    "ExecuteTime": {
     "end_time": "2020-04-25T12:28:23.871063Z",
     "start_time": "2020-04-25T12:28:23.725801Z"
    }
   },
   "outputs": [
    {
     "data": {
      "image/png": "[encoded data removed]",
      "text/plain": [
       "<Figure size 720x360 with 1 Axes>"
      ]
     },
     "metadata": {
      "needs_background": "light"
     },
     "output_type": "display_data"
    }
   ],
   "source": [
    "plt.figure(figsize=(10,5))\n",
    "plt.bar(range(len(logit.coef_.reshape(-1))), logit.coef_.reshape(-1))\n",
    "plt.show()"
   ]
  },
  {
   "cell_type": "markdown",
   "metadata": {},
   "source": [
    "<a id='knn'></a>\n",
    "## KNN"
   ]
  },
  {
   "cell_type": "code",
   "execution_count": 49,
   "metadata": {
    "ExecuteTime": {
     "end_time": "2020-04-25T12:28:27.937357Z",
     "start_time": "2020-04-25T12:28:27.929743Z"
    }
   },
   "outputs": [],
   "source": [
    "from sklearn.neighbors import KNeighborsClassifier\n",
    "from sklearn.model_selection import cross_val_score"
   ]
  },
  {
   "cell_type": "code",
   "execution_count": 50,
   "metadata": {
    "ExecuteTime": {
     "end_time": "2020-04-25T12:28:28.617381Z",
     "start_time": "2020-04-25T12:28:28.613201Z"
    }
   },
   "outputs": [],
   "source": [
    "def knn_cv(n, X, y):\n",
    "    knn = KNeighborsClassifier(n_neighbors=n)\n",
    "    score = cross_val_score(knn, X, y, cv=10)\n",
    "    return score.mean()"
   ]
  },
  {
   "cell_type": "code",
   "execution_count": 51,
   "metadata": {
    "ExecuteTime": {
     "end_time": "2020-04-25T12:28:53.565196Z",
     "start_time": "2020-04-25T12:28:31.358089Z"
    }
   },
   "outputs": [
    {
     "data": {
      "application/vnd.jupyter.widget-view+json": {
       "model_id": "aedbb51c1d1a4e9b9df9ac30059fb350",
       "version_major": 2,
       "version_minor": 0
      },
      "text/plain": [
       "HBox(children=(IntProgress(value=0, max=48), HTML(value='')))"
      ]
     },
     "metadata": {},
     "output_type": "display_data"
    },
    {
     "name": "stdout",
     "output_type": "stream",
     "text": [
      "\n"
     ]
    }
   ],
   "source": [
    "all_knn_scores = [knn_cv(i, X_train_n, y_train) for i in tqdm(range(3, 99, 2))]"
   ]
  },
  {
   "cell_type": "code",
   "execution_count": 52,
   "metadata": {
    "ExecuteTime": {
     "end_time": "2020-04-25T12:28:56.176379Z",
     "start_time": "2020-04-25T12:28:55.836266Z"
    }
   },
   "outputs": [
    {
     "data": {
      "image/png": "[encoded data removed]",
      "text/plain": [
       "<Figure size 720x360 with 1 Axes>"
      ]
     },
     "metadata": {
      "needs_background": "light"
     },
     "output_type": "display_data"
    }
   ],
   "source": [
    "plt.figure(figsize=(10,5))\n",
    "plt.plot(all_knn_scores)\n",
    "plt.xticks(range(len(all_knn_scores)), range(3,99,2), rotation=30)\n",
    "plt.show()"
   ]
  },
  {
   "cell_type": "code",
   "execution_count": 53,
   "metadata": {
    "ExecuteTime": {
     "end_time": "2020-04-25T12:28:59.469213Z",
     "start_time": "2020-04-25T12:28:59.456778Z"
    }
   },
   "outputs": [
    {
     "data": {
      "text/plain": [
       "KNeighborsClassifier(algorithm='auto', leaf_size=30, metric='minkowski',\n",
       "                     metric_params=None, n_jobs=None, n_neighbors=3, p=2,\n",
       "                     weights='uniform')"
      ]
     },
     "execution_count": 53,
     "metadata": {},
     "output_type": "execute_result"
    }
   ],
   "source": [
    "knn_best = KNeighborsClassifier(n_neighbors=3)\n",
    "knn_best.fit(X_train_n, y_train)"
   ]
  },
  {
   "cell_type": "markdown",
   "metadata": {},
   "source": [
    "<a id='nn'></a>\n",
    "## Neural Network"
   ]
  },
  {
   "cell_type": "code",
   "execution_count": 54,
   "metadata": {
    "ExecuteTime": {
     "end_time": "2020-04-25T12:29:00.992514Z",
     "start_time": "2020-04-25T12:29:00.987895Z"
    }
   },
   "outputs": [],
   "source": [
    "X_val_n, X_test_dnn, y_val, y_test_dnn = train_test_split(X_test_n, y_test, test_size=0.2)"
   ]
  },
  {
   "cell_type": "code",
   "execution_count": 55,
   "metadata": {
    "ExecuteTime": {
     "end_time": "2020-04-25T12:29:01.323556Z",
     "start_time": "2020-04-25T12:29:01.319714Z"
    }
   },
   "outputs": [],
   "source": [
    "from keras import models\n",
    "from keras import layers"
   ]
  },
  {
   "cell_type": "code",
   "execution_count": 56,
   "metadata": {
    "ExecuteTime": {
     "end_time": "2020-04-25T12:29:02.645655Z",
     "start_time": "2020-04-25T12:29:02.211010Z"
    }
   },
   "outputs": [
    {
     "name": "stderr",
     "output_type": "stream",
     "text": [
      "WARNING: Logging before flag parsing goes to stderr.\n",
      "W0425 05:29:02.220214 4733945280 deprecation_wrapper.py:119] From /anaconda3/lib/python3.7/site-packages/keras/backend/tensorflow_backend.py:74: The name tf.get_default_graph is deprecated. Please use tf.compat.v1.get_default_graph instead.\n",
      "\n",
      "W0425 05:29:02.236037 4733945280 deprecation_wrapper.py:119] From /anaconda3/lib/python3.7/site-packages/keras/backend/tensorflow_backend.py:517: The name tf.placeholder is deprecated. Please use tf.compat.v1.placeholder instead.\n",
      "\n",
      "W0425 05:29:02.239881 4733945280 deprecation_wrapper.py:119] From /anaconda3/lib/python3.7/site-packages/keras/backend/tensorflow_backend.py:4138: The name tf.random_uniform is deprecated. Please use tf.random.uniform instead.\n",
      "\n",
      "W0425 05:29:02.254296 4733945280 deprecation_wrapper.py:119] From /anaconda3/lib/python3.7/site-packages/keras/backend/tensorflow_backend.py:133: The name tf.placeholder_with_default is deprecated. Please use tf.compat.v1.placeholder_with_default instead.\n",
      "\n",
      "W0425 05:29:02.261064 4733945280 deprecation.py:506] From /anaconda3/lib/python3.7/site-packages/keras/backend/tensorflow_backend.py:3445: calling dropout (from tensorflow.python.ops.nn_ops) with keep_prob is deprecated and will be removed in a future version.\n",
      "Instructions for updating:\n",
      "Please use `rate` instead of `keep_prob`. Rate should be set to `rate = 1 - keep_prob`.\n"
     ]
    }
   ],
   "source": [
    "dnn = models.Sequential()\n",
    "dnn.add(layers.Dense(128, activation='relu', input_shape=(11,)))\n",
    "dnn.add(layers.Dropout(0.2))\n",
    "dnn.add(layers.Dense(128, activation='relu'))\n",
    "dnn.add(layers.Dropout(0.2))\n",
    "dnn.add(layers.Dense(128, activation='relu'))\n",
    "dnn.add(layers.Dropout(0.2))\n",
    "dnn.add(layers.Dense(128, activation='relu'))\n",
    "dnn.add(layers.Dropout(0.2))\n",
    "dnn.add(layers.Dense(128, activation='relu'))\n",
    "dnn.add(layers.Dropout(0.2))\n",
    "dnn.add(layers.Dense(128, activation='relu'))\n",
    "dnn.add(layers.Dropout(0.2))\n",
    "dnn.add(layers.Dense(128, activation='relu'))\n",
    "dnn.add(layers.Dropout(0.2))\n",
    "dnn.add(layers.Dense(128, activation='relu'))\n",
    "dnn.add(layers.Dropout(0.2))\n",
    "dnn.add(layers.Dense(128, activation='relu', input_shape=(11,)))\n",
    "dnn.add(layers.Dropout(0.2))\n",
    "dnn.add(layers.Dense(128, activation='relu', input_shape=(11,)))\n",
    "dnn.add(layers.Dropout(0.2))\n",
    "dnn.add(layers.Dense(128, activation='relu', input_shape=(11,)))\n",
    "dnn.add(layers.Dropout(0.2))\n",
    "dnn.add(layers.Dense(1, activation='sigmoid'))"
   ]
  },
  {
   "cell_type": "code",
   "execution_count": 57,
   "metadata": {
    "ExecuteTime": {
     "end_time": "2020-04-25T12:29:04.286285Z",
     "start_time": "2020-04-25T12:29:04.240099Z"
    }
   },
   "outputs": [
    {
     "name": "stderr",
     "output_type": "stream",
     "text": [
      "W0425 05:29:04.241611 4733945280 deprecation_wrapper.py:119] From /anaconda3/lib/python3.7/site-packages/keras/optimizers.py:790: The name tf.train.Optimizer is deprecated. Please use tf.compat.v1.train.Optimizer instead.\n",
      "\n",
      "W0425 05:29:04.262548 4733945280 deprecation_wrapper.py:119] From /anaconda3/lib/python3.7/site-packages/keras/backend/tensorflow_backend.py:3376: The name tf.log is deprecated. Please use tf.math.log instead.\n",
      "\n",
      "W0425 05:29:04.266794 4733945280 deprecation.py:323] From /anaconda3/lib/python3.7/site-packages/tensorflow/python/ops/nn_impl.py:180: add_dispatch_support.<locals>.wrapper (from tensorflow.python.ops.array_ops) is deprecated and will be removed in a future version.\n",
      "Instructions for updating:\n",
      "Use tf.where in 2.0, which has the same broadcast rule as np.where\n"
     ]
    }
   ],
   "source": [
    "dnn.compile(optimizer='rmsprop', loss='binary_crossentropy', metrics=['acc'])"
   ]
  },
  {
   "cell_type": "code",
   "execution_count": 58,
   "metadata": {
    "ExecuteTime": {
     "end_time": "2020-04-25T12:29:21.993935Z",
     "start_time": "2020-04-25T12:29:06.203669Z"
    }
   },
   "outputs": [],
   "source": [
    "history = dnn.fit(X_train_n, y_train, \n",
    "                    epochs=100, \n",
    "                    batch_size=512, \n",
    "                    verbose=0,\n",
    "                    validation_data=[X_val_n, y_val])"
   ]
  },
  {
   "cell_type": "code",
   "execution_count": 59,
   "metadata": {
    "ExecuteTime": {
     "end_time": "2020-04-25T12:29:23.547005Z",
     "start_time": "2020-04-25T12:29:23.285350Z"
    }
   },
   "outputs": [
    {
     "data": {
      "image/png": "[encoded data removed]",
      "text/plain": [
       "<Figure size 720x360 with 2 Axes>"
      ]
     },
     "metadata": {
      "needs_background": "light"
     },
     "output_type": "display_data"
    }
   ],
   "source": [
    "plt.figure(figsize=(10,5))\n",
    "\n",
    "plt.subplot(2,1,1)\n",
    "plt.plot(history.history['acc'], label='acc')\n",
    "plt.plot(history.history['val_acc'], label='val_acc')\n",
    "plt.legend()\n",
    "\n",
    "plt.subplot(2,1,2)\n",
    "plt.plot(history.history['loss'], label='loss')\n",
    "plt.plot(history.history['val_loss'], label='val_loss')\n",
    "plt.legend()\n",
    "\n",
    "plt.show()"
   ]
  },
  {
   "cell_type": "code",
   "execution_count": 60,
   "metadata": {
    "ExecuteTime": {
     "end_time": "2020-04-25T12:29:28.134433Z",
     "start_time": "2020-04-25T12:29:27.849294Z"
    }
   },
   "outputs": [],
   "source": [
    "dnn_best = models.Sequential()\n",
    "dnn_best.add(layers.Dense(128, activation='relu', input_shape=(11,)))\n",
    "dnn_best.add(layers.Dropout(0.2))\n",
    "dnn_best.add(layers.Dense(128, activation='relu'))\n",
    "dnn_best.add(layers.Dropout(0.2))\n",
    "dnn_best.add(layers.Dense(128, activation='relu'))\n",
    "dnn_best.add(layers.Dropout(0.2))\n",
    "dnn_best.add(layers.Dense(128, activation='relu'))\n",
    "dnn_best.add(layers.Dropout(0.2))\n",
    "dnn_best.add(layers.Dense(128, activation='relu'))\n",
    "dnn_best.add(layers.Dropout(0.2))\n",
    "dnn_best.add(layers.Dense(128, activation='relu'))\n",
    "dnn_best.add(layers.Dropout(0.2))\n",
    "dnn_best.add(layers.Dense(128, activation='relu'))\n",
    "dnn_best.add(layers.Dropout(0.2))\n",
    "dnn_best.add(layers.Dense(128, activation='relu'))\n",
    "dnn_best.add(layers.Dropout(0.2))\n",
    "dnn_best.add(layers.Dense(128, activation='relu', input_shape=(11,)))\n",
    "dnn_best.add(layers.Dropout(0.2))\n",
    "dnn_best.add(layers.Dense(128, activation='relu', input_shape=(11,)))\n",
    "dnn_best.add(layers.Dropout(0.2))\n",
    "dnn_best.add(layers.Dense(128, activation='relu', input_shape=(11,)))\n",
    "dnn_best.add(layers.Dropout(0.2))\n",
    "dnn_best.add(layers.Dense(1, activation='sigmoid'))"
   ]
  },
  {
   "cell_type": "code",
   "execution_count": 61,
   "metadata": {
    "ExecuteTime": {
     "end_time": "2020-04-25T12:29:29.488420Z",
     "start_time": "2020-04-25T12:29:29.438989Z"
    }
   },
   "outputs": [],
   "source": [
    "dnn_best.compile(optimizer='rmsprop', loss='binary_crossentropy', metrics=['acc'])"
   ]
  },
  {
   "cell_type": "code",
   "execution_count": 62,
   "metadata": {
    "ExecuteTime": {
     "end_time": "2020-04-25T12:29:37.396651Z",
     "start_time": "2020-04-25T12:29:29.899397Z"
    }
   },
   "outputs": [],
   "source": [
    "history_best = dnn_best.fit(X_train_n, y_train, \n",
    "                            epochs=40, \n",
    "                            batch_size=512, \n",
    "                            verbose=0,\n",
    "                            validation_data=[X_val_n, y_val])"
   ]
  },
  {
   "cell_type": "markdown",
   "metadata": {},
   "source": [
    "<a id='evaluation'></a>\n",
    "# Evaluation"
   ]
  },
  {
   "cell_type": "markdown",
   "metadata": {},
   "source": [
    "<a id='precision_recall'></a>\n",
    "## Precision & Recall"
   ]
  },
  {
   "cell_type": "code",
   "execution_count": 63,
   "metadata": {
    "ExecuteTime": {
     "end_time": "2020-04-25T12:29:39.192178Z",
     "start_time": "2020-04-25T12:29:38.822073Z"
    }
   },
   "outputs": [],
   "source": [
    "# random forest\n",
    "rf_score = rf_best.score(X_test, y_test)\n",
    "rf_predict = rf_best.predict(X_test)"
   ]
  },
  {
   "cell_type": "code",
   "execution_count": 64,
   "metadata": {
    "ExecuteTime": {
     "end_time": "2020-04-25T12:29:39.523602Z",
     "start_time": "2020-04-25T12:29:39.322330Z"
    }
   },
   "outputs": [],
   "source": [
    "# svm\n",
    "svm_score = svm.score(X_test_n, y_test)\n",
    "svm_predict = svm.predict(X_test_n)"
   ]
  },
  {
   "cell_type": "code",
   "execution_count": 65,
   "metadata": {
    "ExecuteTime": {
     "end_time": "2020-04-25T12:29:39.994064Z",
     "start_time": "2020-04-25T12:29:39.986047Z"
    }
   },
   "outputs": [],
   "source": [
    "# gnb\n",
    "gnb_score = gnb.score(X_test, y_test)\n",
    "gnb_predict = gnb.predict(X_test)"
   ]
  },
  {
   "cell_type": "code",
   "execution_count": 66,
   "metadata": {
    "ExecuteTime": {
     "end_time": "2020-04-25T12:29:40.870928Z",
     "start_time": "2020-04-25T12:29:40.866394Z"
    }
   },
   "outputs": [],
   "source": [
    "# logistic regression\n",
    "logit_score = logit.score(X_test_n, y_test)\n",
    "logit_predict = logit.predict(X_test_n)"
   ]
  },
  {
   "cell_type": "code",
   "execution_count": 67,
   "metadata": {
    "ExecuteTime": {
     "end_time": "2020-04-25T12:29:41.368189Z",
     "start_time": "2020-04-25T12:29:41.256533Z"
    }
   },
   "outputs": [],
   "source": [
    "# knn\n",
    "knn_score = knn_best.score(X_test_n, y_test)\n",
    "knn_predict = knn_best.predict(X_test_n)"
   ]
  },
  {
   "cell_type": "code",
   "execution_count": 68,
   "metadata": {
    "ExecuteTime": {
     "end_time": "2020-04-25T12:29:41.925769Z",
     "start_time": "2020-04-25T12:29:41.747183Z"
    }
   },
   "outputs": [
    {
     "name": "stdout",
     "output_type": "stream",
     "text": [
      "217/217 [==============================] - 0s 50us/step\n"
     ]
    }
   ],
   "source": [
    "# nn\n",
    "dnn_loss, dnn_score = dnn_best.evaluate(X_test_dnn, y_test_dnn)\n",
    "dnn_predict = pd.Series(dnn_best.predict(X_test_dnn).reshape(-1) >= 0.5).astype('int')"
   ]
  },
  {
   "cell_type": "code",
   "execution_count": 69,
   "metadata": {
    "ExecuteTime": {
     "end_time": "2020-04-25T12:29:42.777035Z",
     "start_time": "2020-04-25T12:29:42.773793Z"
    }
   },
   "outputs": [],
   "source": [
    "from sklearn.metrics import roc_curve, auc"
   ]
  },
  {
   "cell_type": "code",
   "execution_count": 70,
   "metadata": {
    "ExecuteTime": {
     "end_time": "2020-04-25T12:29:43.151011Z",
     "start_time": "2020-04-25T12:29:43.125227Z"
    }
   },
   "outputs": [],
   "source": [
    "dnn_fpr, dnn_tpr, dnn_threshold = roc_curve(y_test_dnn, dnn_best.predict(X_test_dnn).reshape(-1))\n",
    "dnn_auc = auc(dnn_fpr, dnn_tpr)"
   ]
  },
  {
   "cell_type": "code",
   "execution_count": 71,
   "metadata": {
    "ExecuteTime": {
     "end_time": "2020-04-25T12:29:44.120790Z",
     "start_time": "2020-04-25T12:29:44.094937Z"
    }
   },
   "outputs": [],
   "source": [
    "pr_dict = {\n",
    "    'rf':precision_recall(y_test, rf_predict, print_=False),\n",
    "    'svm':precision_recall(y_test, svm_predict, print_=False),\n",
    "    'gnb':precision_recall(y_test, gnb_predict, print_=False),\n",
    "    'logit':precision_recall(y_test, logit_predict, print_=False),\n",
    "    'knn':precision_recall(y_test, knn_predict, print_=False),\n",
    "    'dnn':precision_recall(y_test_dnn, dnn_predict, print_=False)\n",
    "}"
   ]
  },
  {
   "cell_type": "code",
   "execution_count": 72,
   "metadata": {
    "ExecuteTime": {
     "end_time": "2020-04-25T12:29:44.552616Z",
     "start_time": "2020-04-25T12:29:44.543527Z"
    }
   },
   "outputs": [],
   "source": [
    "pr_df = pd.DataFrame.from_dict(pr_dict, orient='index', columns=['precision','recall'])\n",
    "pr_df['F1'] = 2*((pr_df['precision']*pr_df['recall']) / (pr_df['precision']+pr_df['recall']))\n",
    "pr_df['accuracy'] = [rf_score, svm_score, gnb_score, logit_score, knn_score, dnn_score]"
   ]
  },
  {
   "cell_type": "code",
   "execution_count": 73,
   "metadata": {
    "ExecuteTime": {
     "end_time": "2020-04-25T12:29:45.129518Z",
     "start_time": "2020-04-25T12:29:45.117443Z"
    }
   },
   "outputs": [
    {
     "data": {
      "text/html": [
       "<div>\n",
       "<style scoped>\n",
       "    .dataframe tbody tr th:only-of-type {\n",
       "        vertical-align: middle;\n",
       "    }\n",
       "\n",
       "    .dataframe tbody tr th {\n",
       "        vertical-align: top;\n",
       "    }\n",
       "\n",
       "    .dataframe thead th {\n",
       "        text-align: right;\n",
       "    }\n",
       "</style>\n",
       "<table border=\"1\" class=\"dataframe\">\n",
       "  <thead>\n",
       "    <tr style=\"text-align: right;\">\n",
       "      <th></th>\n",
       "      <th>precision</th>\n",
       "      <th>recall</th>\n",
       "      <th>F1</th>\n",
       "      <th>accuracy</th>\n",
       "    </tr>\n",
       "  </thead>\n",
       "  <tbody>\n",
       "    <tr>\n",
       "      <th>rf</th>\n",
       "      <td>0.830803</td>\n",
       "      <td>0.796258</td>\n",
       "      <td>0.813163</td>\n",
       "      <td>0.837188</td>\n",
       "    </tr>\n",
       "    <tr>\n",
       "      <th>svm</th>\n",
       "      <td>0.695035</td>\n",
       "      <td>0.611227</td>\n",
       "      <td>0.650442</td>\n",
       "      <td>0.707678</td>\n",
       "    </tr>\n",
       "    <tr>\n",
       "      <th>gnb</th>\n",
       "      <td>0.677494</td>\n",
       "      <td>0.607069</td>\n",
       "      <td>0.640351</td>\n",
       "      <td>0.696577</td>\n",
       "    </tr>\n",
       "    <tr>\n",
       "      <th>logit</th>\n",
       "      <td>0.678815</td>\n",
       "      <td>0.619543</td>\n",
       "      <td>0.647826</td>\n",
       "      <td>0.700278</td>\n",
       "    </tr>\n",
       "    <tr>\n",
       "      <th>knn</th>\n",
       "      <td>0.720562</td>\n",
       "      <td>0.852391</td>\n",
       "      <td>0.780952</td>\n",
       "      <td>0.787234</td>\n",
       "    </tr>\n",
       "    <tr>\n",
       "      <th>dnn</th>\n",
       "      <td>0.650943</td>\n",
       "      <td>0.711340</td>\n",
       "      <td>0.679803</td>\n",
       "      <td>0.700461</td>\n",
       "    </tr>\n",
       "  </tbody>\n",
       "</table>\n",
       "</div>"
      ],
      "text/plain": [
       "       precision    recall        F1  accuracy\n",
       "rf      0.830803  0.796258  0.813163  0.837188\n",
       "svm     0.695035  0.611227  0.650442  0.707678\n",
       "gnb     0.677494  0.607069  0.640351  0.696577\n",
       "logit   0.678815  0.619543  0.647826  0.700278\n",
       "knn     0.720562  0.852391  0.780952  0.787234\n",
       "dnn     0.650943  0.711340  0.679803  0.700461"
      ]
     },
     "execution_count": 73,
     "metadata": {},
     "output_type": "execute_result"
    }
   ],
   "source": [
    "pr_df"
   ]
  },
  {
   "cell_type": "code",
   "execution_count": 74,
   "metadata": {
    "ExecuteTime": {
     "end_time": "2020-04-25T12:30:00.836223Z",
     "start_time": "2020-04-25T12:30:00.633749Z"
    }
   },
   "outputs": [
    {
     "data": {
      "text/plain": [
       "array([[0.5227339 , 0.4772661 ],\n",
       "       [0.92891673, 0.07108327],\n",
       "       [0.77369748, 0.22630252],\n",
       "       ...,\n",
       "       [0.14416667, 0.85583333],\n",
       "       [0.9843663 , 0.0156337 ],\n",
       "       [0.01583333, 0.98416667]])"
      ]
     },
     "execution_count": 74,
     "metadata": {},
     "output_type": "execute_result"
    }
   ],
   "source": [
    "rf_best.predict_proba(X_test)"
   ]
  },
  {
   "cell_type": "markdown",
   "metadata": {},
   "source": [
    "<a id='auc_roc'></a>\n",
    "## AUC ROC"
   ]
  },
  {
   "cell_type": "code",
   "execution_count": 75,
   "metadata": {
    "ExecuteTime": {
     "end_time": "2020-04-25T12:30:05.866168Z",
     "start_time": "2020-04-25T12:30:05.862450Z"
    }
   },
   "outputs": [],
   "source": [
    "from sklearn.metrics import plot_roc_curve"
   ]
  },
  {
   "cell_type": "code",
   "execution_count": 76,
   "metadata": {
    "ExecuteTime": {
     "end_time": "2020-04-25T12:30:07.254787Z",
     "start_time": "2020-04-25T12:30:06.781711Z"
    }
   },
   "outputs": [
    {
     "data": {
      "image/png": "[encoded data removed]",
      "text/plain": [
       "<Figure size 720x360 with 1 Axes>"
      ]
     },
     "metadata": {
      "needs_background": "light"
     },
     "output_type": "display_data"
    }
   ],
   "source": [
    "fig, ax = plt.subplots(figsize=(10,5))\n",
    "plot_roc_curve(rf_best, X_test, y_test, ax=ax)\n",
    "plot_roc_curve(svm, X_test_n, y_test, ax=ax)\n",
    "plot_roc_curve(gnb, X_test, y_test, ax=ax)\n",
    "plot_roc_curve(logit, X_test_n, y_test, ax=ax)\n",
    "plot_roc_curve(knn_best, X_test_n, y_test, ax=ax)\n",
    "plt.plot(dnn_fpr, dnn_tpr, label='Deep Neural Network (AUC={})'.format(round(dnn_auc, 3)))\n",
    "ax.plot([0, 1], [0, 1], linestyle='--', lw=2, color='black',\n",
    "        label='Chance', alpha=.8)\n",
    "plt.legend()\n",
    "plt.show()"
   ]
  }
 ],
 "metadata": {
  "kernelspec": {
   "display_name": "Python 3",
   "language": "python",
   "name": "python3"
  },
  "language_info": {
   "codemirror_mode": {
    "name": "ipython",
    "version": 3
   },
   "file_extension": ".py",
   "mimetype": "text/x-python",
   "name": "python",
   "nbconvert_exporter": "python",
   "pygments_lexer": "ipython3",
   "version": "3.7.3"
  },
  "toc": {
   "base_numbering": 1,
   "nav_menu": {},
   "number_sections": true,
   "sideBar": true,
   "skip_h1_title": false,
   "title_cell": "Table of Contents",
   "title_sidebar": "Contents",
   "toc_cell": false,
   "toc_position": {},
   "toc_section_display": true,
   "toc_window_display": false
  }
 },
 "nbformat": 4,
 "nbformat_minor": 2
}
