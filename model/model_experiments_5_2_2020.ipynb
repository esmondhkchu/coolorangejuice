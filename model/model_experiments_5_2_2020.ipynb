{
 "cells": [
  {
   "cell_type": "markdown",
   "metadata": {},
   "source": [
    "[Load Data](#load)\n",
    "\n",
    "[Data Preparation](#prepare)\n",
    "1. [Balance and Split](#bs)\n",
    "2. [Scale](#scale)\n",
    "\n",
    "[Model](#model)\n",
    "1. [Random Forest](#rf)\n",
    "2. [Gaussian NB](#gnb)\n",
    "3. [Logistic Regression](#logit)\n",
    "4. [KNN](#knn)\n",
    "5. [Neural Network](#nn)\n",
    "\n",
    "[Evaluation](#evaluation)\n",
    "1. [Precision & Recall](#precision_recall)\n",
    "2. [AUC ROC](#auc_roc)"
   ]
  },
  {
   "cell_type": "code",
   "execution_count": 1,
   "metadata": {
    "ExecuteTime": {
     "end_time": "2020-05-02T08:19:04.178465Z",
     "start_time": "2020-05-02T08:19:03.857176Z"
    }
   },
   "outputs": [],
   "source": [
    "import numpy as np\n",
    "import pandas as pd"
   ]
  },
  {
   "cell_type": "code",
   "execution_count": 2,
   "metadata": {
    "ExecuteTime": {
     "end_time": "2020-05-02T08:19:04.655271Z",
     "start_time": "2020-05-02T08:19:04.180333Z"
    }
   },
   "outputs": [],
   "source": [
    "import seaborn as sns\n",
    "import matplotlib.pyplot as plt"
   ]
  },
  {
   "cell_type": "code",
   "execution_count": 3,
   "metadata": {
    "ExecuteTime": {
     "end_time": "2020-05-02T08:19:04.723179Z",
     "start_time": "2020-05-02T08:19:04.657137Z"
    }
   },
   "outputs": [],
   "source": [
    "from tqdm import tqdm_notebook as tqdm"
   ]
  },
  {
   "cell_type": "markdown",
   "metadata": {},
   "source": [
    "<a id='load'></a>\n",
    "# Load data"
   ]
  },
  {
   "cell_type": "code",
   "execution_count": 4,
   "metadata": {
    "ExecuteTime": {
     "end_time": "2020-05-02T08:19:05.549397Z",
     "start_time": "2020-05-02T08:19:05.480621Z"
    }
   },
   "outputs": [],
   "source": [
    "data = pd.read_csv('./5_2_2020_data.csv')"
   ]
  },
  {
   "cell_type": "code",
   "execution_count": 5,
   "metadata": {
    "ExecuteTime": {
     "end_time": "2020-05-02T08:19:05.743987Z",
     "start_time": "2020-05-02T08:19:05.726598Z"
    }
   },
   "outputs": [],
   "source": [
    "data = data.drop(data[data['oriental_1'] == '-'].index).reset_index(drop=True)"
   ]
  },
  {
   "cell_type": "markdown",
   "metadata": {},
   "source": [
    "<a id='prepare'></a>\n",
    "# Prepare data"
   ]
  },
  {
   "cell_type": "code",
   "execution_count": 6,
   "metadata": {
    "ExecuteTime": {
     "end_time": "2020-05-02T08:19:06.946454Z",
     "start_time": "2020-05-02T08:19:06.942888Z"
    }
   },
   "outputs": [],
   "source": [
    "exclude = ['horse_num','oriental_sum','apple_sum','pro_sum',\n",
    "           'total_1','total_2','total_3','total_sum','file_name',\n",
    "           'sheet_name','W.H. FixOdd 60','S.B.Fix Odd 60']"
   ]
  },
  {
   "cell_type": "code",
   "execution_count": 7,
   "metadata": {
    "ExecuteTime": {
     "end_time": "2020-05-02T08:19:07.131932Z",
     "start_time": "2020-05-02T08:19:07.114278Z"
    }
   },
   "outputs": [],
   "source": [
    "data_ex = data[[i for i in list(data) if i not in exclude]].dropna()\n",
    "X = data_ex[[i for i in data_ex if i != 'result']]\n",
    "y = (data_ex['result'] > 0).astype('int')"
   ]
  },
  {
   "cell_type": "code",
   "execution_count": 8,
   "metadata": {
    "ExecuteTime": {
     "end_time": "2020-05-02T08:19:07.864700Z",
     "start_time": "2020-05-02T08:19:07.855456Z"
    }
   },
   "outputs": [],
   "source": [
    "# plt.figure(figsize=(10,10))\n",
    "# sns.heatmap(data_ex.corr(), square=True, cmap='PiYG')\n",
    "# plt.show()"
   ]
  },
  {
   "cell_type": "markdown",
   "metadata": {},
   "source": [
    "<a id='bs'></a>\n",
    "## Balance and Split"
   ]
  },
  {
   "cell_type": "code",
   "execution_count": 9,
   "metadata": {
    "ExecuteTime": {
     "end_time": "2020-05-02T08:19:10.317813Z",
     "start_time": "2020-05-02T08:19:09.011944Z"
    }
   },
   "outputs": [
    {
     "name": "stderr",
     "output_type": "stream",
     "text": [
      "Using TensorFlow backend.\n"
     ]
    }
   ],
   "source": [
    "from imblearn import over_sampling, under_sampling\n",
    "from imblearn.pipeline import Pipeline"
   ]
  },
  {
   "cell_type": "code",
   "execution_count": 10,
   "metadata": {
    "ExecuteTime": {
     "end_time": "2020-05-02T08:19:11.432666Z",
     "start_time": "2020-05-02T08:19:11.427664Z"
    }
   },
   "outputs": [],
   "source": [
    "# create sampling strategy\n",
    "# both oversampling and undersampling\n",
    "over = over_sampling.SMOTE(0.8)\n",
    "under = under_sampling.RandomUnderSampler(0.8)"
   ]
  },
  {
   "cell_type": "code",
   "execution_count": 11,
   "metadata": {
    "ExecuteTime": {
     "end_time": "2020-05-02T08:19:12.075459Z",
     "start_time": "2020-05-02T08:19:12.071879Z"
    }
   },
   "outputs": [],
   "source": [
    "# create pipeline\n",
    "pipeline = Pipeline([('o', over),('u', under)])"
   ]
  },
  {
   "cell_type": "code",
   "execution_count": 12,
   "metadata": {
    "ExecuteTime": {
     "end_time": "2020-05-02T08:19:13.614471Z",
     "start_time": "2020-05-02T08:19:13.292385Z"
    }
   },
   "outputs": [],
   "source": [
    "X_sam, y_sam = pipeline.fit_resample(X, y)"
   ]
  },
  {
   "cell_type": "code",
   "execution_count": 13,
   "metadata": {
    "ExecuteTime": {
     "end_time": "2020-05-02T08:19:14.385394Z",
     "start_time": "2020-05-02T08:19:14.363293Z"
    }
   },
   "outputs": [],
   "source": [
    "from sklearn.model_selection import train_test_split"
   ]
  },
  {
   "cell_type": "code",
   "execution_count": 14,
   "metadata": {
    "ExecuteTime": {
     "end_time": "2020-05-02T08:19:15.076605Z",
     "start_time": "2020-05-02T08:19:15.066550Z"
    }
   },
   "outputs": [],
   "source": [
    "X_train, X_test, y_train, y_test = train_test_split(X_sam, y_sam, test_size=0.15)"
   ]
  },
  {
   "cell_type": "markdown",
   "metadata": {},
   "source": [
    "<a id='scale'></a>\n",
    "## Scale"
   ]
  },
  {
   "cell_type": "code",
   "execution_count": 15,
   "metadata": {
    "ExecuteTime": {
     "end_time": "2020-05-02T08:19:16.836528Z",
     "start_time": "2020-05-02T08:19:16.830684Z"
    }
   },
   "outputs": [],
   "source": [
    "from sklearn.preprocessing import StandardScaler"
   ]
  },
  {
   "cell_type": "code",
   "execution_count": 16,
   "metadata": {
    "ExecuteTime": {
     "end_time": "2020-05-02T08:19:17.554570Z",
     "start_time": "2020-05-02T08:19:17.520919Z"
    }
   },
   "outputs": [
    {
     "data": {
      "text/plain": [
       "StandardScaler(copy=True, with_mean=True, with_std=True)"
      ]
     },
     "execution_count": 16,
     "metadata": {},
     "output_type": "execute_result"
    }
   ],
   "source": [
    "scaler = StandardScaler()\n",
    "scaler.fit(X_train)"
   ]
  },
  {
   "cell_type": "code",
   "execution_count": 17,
   "metadata": {
    "ExecuteTime": {
     "end_time": "2020-05-02T08:19:18.351074Z",
     "start_time": "2020-05-02T08:19:18.291722Z"
    }
   },
   "outputs": [],
   "source": [
    "X_train_n = scaler.transform(X_train)\n",
    "X_test_n = scaler.transform(X_test)"
   ]
  },
  {
   "cell_type": "markdown",
   "metadata": {},
   "source": [
    "<a id='model'></a>\n",
    "# Model"
   ]
  },
  {
   "cell_type": "code",
   "execution_count": 18,
   "metadata": {
    "ExecuteTime": {
     "end_time": "2020-05-02T08:19:20.556797Z",
     "start_time": "2020-05-02T08:19:20.551839Z"
    }
   },
   "outputs": [],
   "source": [
    "from sklearn.metrics import confusion_matrix"
   ]
  },
  {
   "cell_type": "code",
   "execution_count": 19,
   "metadata": {
    "ExecuteTime": {
     "end_time": "2020-05-02T08:19:21.611317Z",
     "start_time": "2020-05-02T08:19:21.605302Z"
    }
   },
   "outputs": [],
   "source": [
    "def precision_recall(true, predict, print_=True):\n",
    "    cm = confusion_matrix(true, predict)\n",
    "    if print_:\n",
    "        print('Confusion Matrix:')\n",
    "        print(cm)\n",
    "        print()\n",
    "    \n",
    "    tn, fp, fn, tp = confusion_matrix(true, predict).ravel()\n",
    "    precision = tp / (tp+fp)\n",
    "    recall = tp / (tp+fn)\n",
    "    \n",
    "    if print_:\n",
    "        print('Precision:', precision)\n",
    "        print('Recall:', recall)\n",
    "    else:\n",
    "        return precision, recall"
   ]
  },
  {
   "cell_type": "markdown",
   "metadata": {},
   "source": [
    "<a id='rf'></a>\n",
    "## Random Forest"
   ]
  },
  {
   "cell_type": "code",
   "execution_count": 49,
   "metadata": {
    "ExecuteTime": {
     "end_time": "2020-05-02T08:26:15.868451Z",
     "start_time": "2020-05-02T08:26:15.859910Z"
    }
   },
   "outputs": [],
   "source": [
    "from sklearn.ensemble import RandomForestClassifier\n",
    "from sklearn.model_selection import RandomizedSearchCV"
   ]
  },
  {
   "cell_type": "code",
   "execution_count": 50,
   "metadata": {
    "ExecuteTime": {
     "end_time": "2020-05-02T08:26:16.339242Z",
     "start_time": "2020-05-02T08:26:16.328671Z"
    }
   },
   "outputs": [],
   "source": [
    "# Number of trees in random forest\n",
    "n_estimators = [int(x) for x in np.linspace(start = 200, stop = 2000, num = 10)]\n",
    "# Number of features to consider at every split\n",
    "max_features = ['auto', 'sqrt']\n",
    "# Maximum number of levels in tree\n",
    "max_depth = [int(x) for x in np.linspace(10, 110, num = 11)]\n",
    "max_depth.append(None)\n",
    "# Minimum number of samples required to split a node\n",
    "min_samples_split = [2, 5, 10]\n",
    "# Minimum number of samples required at each leaf node\n",
    "min_samples_leaf = [1, 2, 4]\n",
    "# Method of selecting samples for training each tree\n",
    "bootstrap = [True, False]"
   ]
  },
  {
   "cell_type": "code",
   "execution_count": 51,
   "metadata": {
    "ExecuteTime": {
     "end_time": "2020-05-02T08:26:16.891068Z",
     "start_time": "2020-05-02T08:26:16.886235Z"
    }
   },
   "outputs": [],
   "source": [
    "# Create the random grid\n",
    "random_grid = {'n_estimators': n_estimators,\n",
    "               'max_features': max_features,\n",
    "               'max_depth': max_depth,\n",
    "               'min_samples_split': min_samples_split,\n",
    "               'min_samples_leaf': min_samples_leaf,\n",
    "               'bootstrap': bootstrap}"
   ]
  },
  {
   "cell_type": "code",
   "execution_count": 52,
   "metadata": {
    "ExecuteTime": {
     "end_time": "2020-05-02T08:26:18.091179Z",
     "start_time": "2020-05-02T08:26:18.087953Z"
    }
   },
   "outputs": [],
   "source": [
    "rf = RandomForestClassifier()\n",
    "\n",
    "rf_random = RandomizedSearchCV(estimator=rf, \n",
    "                               param_distributions=random_grid, \n",
    "                               n_iter = 100, \n",
    "                               cv = 5, \n",
    "                               verbose=2,\n",
    "                               random_state=42, \n",
    "                               n_jobs = -1)"
   ]
  },
  {
   "cell_type": "code",
   "execution_count": 53,
   "metadata": {
    "ExecuteTime": {
     "end_time": "2020-05-02T09:50:27.913895Z",
     "start_time": "2020-05-02T08:26:18.744270Z"
    }
   },
   "outputs": [
    {
     "name": "stdout",
     "output_type": "stream",
     "text": [
      "Fitting 5 folds for each of 100 candidates, totalling 500 fits\n"
     ]
    },
    {
     "name": "stderr",
     "output_type": "stream",
     "text": [
      "[Parallel(n_jobs=-1)]: Using backend LokyBackend with 4 concurrent workers.\n",
      "[Parallel(n_jobs=-1)]: Done  33 tasks      | elapsed:  5.9min\n",
      "[Parallel(n_jobs=-1)]: Done 154 tasks      | elapsed: 29.6min\n",
      "[Parallel(n_jobs=-1)]: Done 357 tasks      | elapsed: 62.6min\n",
      "[Parallel(n_jobs=-1)]: Done 500 out of 500 | elapsed: 83.1min finished\n"
     ]
    },
    {
     "data": {
      "text/plain": [
       "RandomizedSearchCV(cv=5, error_score=nan,\n",
       "                   estimator=RandomForestClassifier(bootstrap=True,\n",
       "                                                    ccp_alpha=0.0,\n",
       "                                                    class_weight=None,\n",
       "                                                    criterion='gini',\n",
       "                                                    max_depth=None,\n",
       "                                                    max_features='auto',\n",
       "                                                    max_leaf_nodes=None,\n",
       "                                                    max_samples=None,\n",
       "                                                    min_impurity_decrease=0.0,\n",
       "                                                    min_impurity_split=None,\n",
       "                                                    min_samples_leaf=1,\n",
       "                                                    min_samples_split=2,\n",
       "                                                    min_weight_fraction_leaf=0.0,\n",
       "                                                    n_estimators=100,\n",
       "                                                    n_jobs...\n",
       "                   param_distributions={'bootstrap': [True, False],\n",
       "                                        'max_depth': [10, 20, 30, 40, 50, 60,\n",
       "                                                      70, 80, 90, 100, 110,\n",
       "                                                      None],\n",
       "                                        'max_features': ['auto', 'sqrt'],\n",
       "                                        'min_samples_leaf': [1, 2, 4],\n",
       "                                        'min_samples_split': [2, 5, 10],\n",
       "                                        'n_estimators': [200, 400, 600, 800,\n",
       "                                                         1000, 1200, 1400, 1600,\n",
       "                                                         1800, 2000]},\n",
       "                   pre_dispatch='2*n_jobs', random_state=42, refit=True,\n",
       "                   return_train_score=False, scoring=None, verbose=2)"
      ]
     },
     "execution_count": 53,
     "metadata": {},
     "output_type": "execute_result"
    }
   ],
   "source": [
    "rf_random.fit(X_train, y_train)"
   ]
  },
  {
   "cell_type": "code",
   "execution_count": 54,
   "metadata": {
    "ExecuteTime": {
     "end_time": "2020-05-02T09:50:37.711565Z",
     "start_time": "2020-05-02T09:50:37.691150Z"
    }
   },
   "outputs": [
    {
     "data": {
      "text/plain": [
       "{'n_estimators': 1800,\n",
       " 'min_samples_split': 10,\n",
       " 'min_samples_leaf': 2,\n",
       " 'max_features': 'auto',\n",
       " 'max_depth': 110,\n",
       " 'bootstrap': False}"
      ]
     },
     "execution_count": 54,
     "metadata": {},
     "output_type": "execute_result"
    }
   ],
   "source": [
    "rf_random.best_params_"
   ]
  },
  {
   "cell_type": "code",
   "execution_count": 57,
   "metadata": {
    "ExecuteTime": {
     "end_time": "2020-05-02T09:51:08.373122Z",
     "start_time": "2020-05-02T09:51:08.369494Z"
    }
   },
   "outputs": [],
   "source": [
    "rf_best = RandomForestClassifier(n_estimators=1800, \n",
    "                                 min_samples_split=10,\n",
    "                                 min_samples_leaf=2,\n",
    "                                 max_features='auto',\n",
    "                                 max_depth=110,\n",
    "                                 bootstrap=False)"
   ]
  },
  {
   "cell_type": "code",
   "execution_count": 58,
   "metadata": {
    "ExecuteTime": {
     "end_time": "2020-05-02T09:52:15.489343Z",
     "start_time": "2020-05-02T09:51:10.364687Z"
    }
   },
   "outputs": [
    {
     "data": {
      "text/plain": [
       "RandomForestClassifier(bootstrap=False, ccp_alpha=0.0, class_weight=None,\n",
       "                       criterion='gini', max_depth=110, max_features='auto',\n",
       "                       max_leaf_nodes=None, max_samples=None,\n",
       "                       min_impurity_decrease=0.0, min_impurity_split=None,\n",
       "                       min_samples_leaf=2, min_samples_split=10,\n",
       "                       min_weight_fraction_leaf=0.0, n_estimators=1800,\n",
       "                       n_jobs=None, oob_score=False, random_state=None,\n",
       "                       verbose=0, warm_start=False)"
      ]
     },
     "execution_count": 58,
     "metadata": {},
     "output_type": "execute_result"
    }
   ],
   "source": [
    "rf_best.fit(X_train, y_train)"
   ]
  },
  {
   "cell_type": "code",
   "execution_count": 74,
   "metadata": {
    "ExecuteTime": {
     "end_time": "2020-05-02T09:54:48.371166Z",
     "start_time": "2020-05-02T09:54:48.367192Z"
    }
   },
   "outputs": [],
   "source": [
    "import pickle"
   ]
  },
  {
   "cell_type": "code",
   "execution_count": 75,
   "metadata": {
    "ExecuteTime": {
     "end_time": "2020-05-02T09:55:11.286592Z",
     "start_time": "2020-05-02T09:55:10.351432Z"
    }
   },
   "outputs": [],
   "source": [
    "filename = 'model_rf_5_2.sav'\n",
    "pickle.dump(rf_best, open(filename, 'wb'))"
   ]
  },
  {
   "cell_type": "markdown",
   "metadata": {},
   "source": [
    "<a id='svm'></a>\n",
    "## SVM"
   ]
  },
  {
   "cell_type": "code",
   "execution_count": 20,
   "metadata": {
    "ExecuteTime": {
     "end_time": "2020-05-02T08:19:33.882554Z",
     "start_time": "2020-05-02T08:19:33.875123Z"
    }
   },
   "outputs": [],
   "source": [
    "from sklearn.svm import SVC"
   ]
  },
  {
   "cell_type": "code",
   "execution_count": 21,
   "metadata": {
    "ExecuteTime": {
     "end_time": "2020-05-02T08:19:50.084470Z",
     "start_time": "2020-05-02T08:19:34.480301Z"
    }
   },
   "outputs": [
    {
     "data": {
      "text/plain": [
       "SVC(C=1.0, break_ties=False, cache_size=200, class_weight=None, coef0=0.0,\n",
       "    decision_function_shape='ovr', degree=3, gamma='auto', kernel='rbf',\n",
       "    max_iter=-1, probability=False, random_state=None, shrinking=True,\n",
       "    tol=0.001, verbose=False)"
      ]
     },
     "execution_count": 21,
     "metadata": {},
     "output_type": "execute_result"
    }
   ],
   "source": [
    "svm = SVC(gamma='auto',)\n",
    "svm.fit(X_train_n, y_train)"
   ]
  },
  {
   "cell_type": "markdown",
   "metadata": {},
   "source": [
    "<a id='gnb'></a>\n",
    "## Gaussian NB"
   ]
  },
  {
   "cell_type": "code",
   "execution_count": 22,
   "metadata": {
    "ExecuteTime": {
     "end_time": "2020-05-02T08:19:53.692273Z",
     "start_time": "2020-05-02T08:19:53.680901Z"
    }
   },
   "outputs": [],
   "source": [
    "from sklearn.naive_bayes import GaussianNB"
   ]
  },
  {
   "cell_type": "code",
   "execution_count": 23,
   "metadata": {
    "ExecuteTime": {
     "end_time": "2020-05-02T08:19:54.252878Z",
     "start_time": "2020-05-02T08:19:54.218778Z"
    }
   },
   "outputs": [
    {
     "data": {
      "text/plain": [
       "GaussianNB(priors=None, var_smoothing=1e-09)"
      ]
     },
     "execution_count": 23,
     "metadata": {},
     "output_type": "execute_result"
    }
   ],
   "source": [
    "gnb = GaussianNB()\n",
    "gnb.fit(X_train, y_train)"
   ]
  },
  {
   "cell_type": "markdown",
   "metadata": {},
   "source": [
    "<a id='logit'></a>\n",
    "## Logistic Regression"
   ]
  },
  {
   "cell_type": "code",
   "execution_count": 24,
   "metadata": {
    "ExecuteTime": {
     "end_time": "2020-05-02T08:19:56.625505Z",
     "start_time": "2020-05-02T08:19:56.622176Z"
    }
   },
   "outputs": [],
   "source": [
    "from sklearn.linear_model import LogisticRegressionCV"
   ]
  },
  {
   "cell_type": "code",
   "execution_count": 25,
   "metadata": {
    "ExecuteTime": {
     "end_time": "2020-05-02T08:19:59.247456Z",
     "start_time": "2020-05-02T08:19:57.592826Z"
    }
   },
   "outputs": [
    {
     "name": "stderr",
     "output_type": "stream",
     "text": [
      "[Parallel(n_jobs=1)]: Using backend SequentialBackend with 1 concurrent workers.\n",
      "[Parallel(n_jobs=1)]: Done   1 out of   1 | elapsed:    0.3s remaining:    0.0s\n",
      "[Parallel(n_jobs=1)]: Done  10 out of  10 | elapsed:    1.6s finished\n"
     ]
    },
    {
     "data": {
      "text/plain": [
       "LogisticRegressionCV(Cs=10, class_weight=None, cv=10, dual=False,\n",
       "                     fit_intercept=True, intercept_scaling=1.0, l1_ratios=None,\n",
       "                     max_iter=100, multi_class='auto', n_jobs=None,\n",
       "                     penalty='l2', random_state=None, refit=True, scoring=None,\n",
       "                     solver='lbfgs', tol=0.0001, verbose=2)"
      ]
     },
     "execution_count": 25,
     "metadata": {},
     "output_type": "execute_result"
    }
   ],
   "source": [
    "logit = LogisticRegressionCV(cv=10, verbose=2)\n",
    "logit.fit(X_train_n, y_train)"
   ]
  },
  {
   "cell_type": "code",
   "execution_count": 26,
   "metadata": {
    "ExecuteTime": {
     "end_time": "2020-05-02T08:20:00.596758Z",
     "start_time": "2020-05-02T08:20:00.451365Z"
    }
   },
   "outputs": [
    {
     "data": {
      "image/png": "[encoded data removed]",
      "text/plain": [
       "<Figure size 720x360 with 1 Axes>"
      ]
     },
     "metadata": {
      "needs_background": "light"
     },
     "output_type": "display_data"
    }
   ],
   "source": [
    "plt.figure(figsize=(10,5))\n",
    "plt.bar(range(len(logit.coef_.reshape(-1))), logit.coef_.reshape(-1))\n",
    "plt.show()"
   ]
  },
  {
   "cell_type": "markdown",
   "metadata": {},
   "source": [
    "<a id='knn'></a>\n",
    "## KNN"
   ]
  },
  {
   "cell_type": "code",
   "execution_count": 27,
   "metadata": {
    "ExecuteTime": {
     "end_time": "2020-05-02T08:20:03.992433Z",
     "start_time": "2020-05-02T08:20:03.989022Z"
    }
   },
   "outputs": [],
   "source": [
    "from sklearn.neighbors import KNeighborsClassifier\n",
    "from sklearn.model_selection import cross_val_score"
   ]
  },
  {
   "cell_type": "code",
   "execution_count": 28,
   "metadata": {
    "ExecuteTime": {
     "end_time": "2020-05-02T08:20:05.378407Z",
     "start_time": "2020-05-02T08:20:05.374500Z"
    }
   },
   "outputs": [],
   "source": [
    "def knn_cv(n, X, y):\n",
    "    knn = KNeighborsClassifier(n_neighbors=n)\n",
    "    score = cross_val_score(knn, X, y, cv=10)\n",
    "    return score.mean()"
   ]
  },
  {
   "cell_type": "code",
   "execution_count": 29,
   "metadata": {
    "ExecuteTime": {
     "end_time": "2020-05-02T08:22:36.193052Z",
     "start_time": "2020-05-02T08:20:07.421622Z"
    }
   },
   "outputs": [
    {
     "data": {
      "application/vnd.jupyter.widget-view+json": {
       "model_id": "b737c8c6b38f43b8a0400bc80992d574",
       "version_major": 2,
       "version_minor": 0
      },
      "text/plain": [
       "HBox(children=(IntProgress(value=0, max=48), HTML(value='')))"
      ]
     },
     "metadata": {},
     "output_type": "display_data"
    },
    {
     "name": "stdout",
     "output_type": "stream",
     "text": [
      "\n"
     ]
    }
   ],
   "source": [
    "all_knn_scores = [knn_cv(i, X_train_n, y_train) for i in tqdm(range(3, 99, 2))]"
   ]
  },
  {
   "cell_type": "code",
   "execution_count": 30,
   "metadata": {
    "ExecuteTime": {
     "end_time": "2020-05-02T08:22:37.243052Z",
     "start_time": "2020-05-02T08:22:36.955665Z"
    }
   },
   "outputs": [
    {
     "data": {
      "image/png": "[encoded data removed]",
      "text/plain": [
       "<Figure size 720x360 with 1 Axes>"
      ]
     },
     "metadata": {
      "needs_background": "light"
     },
     "output_type": "display_data"
    }
   ],
   "source": [
    "plt.figure(figsize=(10,5))\n",
    "plt.plot(all_knn_scores)\n",
    "plt.xticks(range(len(all_knn_scores)), range(3,99,2), rotation=30)\n",
    "plt.show()"
   ]
  },
  {
   "cell_type": "code",
   "execution_count": 31,
   "metadata": {
    "ExecuteTime": {
     "end_time": "2020-05-02T08:22:39.422094Z",
     "start_time": "2020-05-02T08:22:39.381603Z"
    }
   },
   "outputs": [
    {
     "data": {
      "text/plain": [
       "KNeighborsClassifier(algorithm='auto', leaf_size=30, metric='minkowski',\n",
       "                     metric_params=None, n_jobs=None, n_neighbors=3, p=2,\n",
       "                     weights='uniform')"
      ]
     },
     "execution_count": 31,
     "metadata": {},
     "output_type": "execute_result"
    }
   ],
   "source": [
    "knn_best = KNeighborsClassifier(n_neighbors=3)\n",
    "knn_best.fit(X_train_n, y_train)"
   ]
  },
  {
   "cell_type": "markdown",
   "metadata": {},
   "source": [
    "<a id='nn'></a>\n",
    "## Neural Network"
   ]
  },
  {
   "cell_type": "code",
   "execution_count": 32,
   "metadata": {
    "ExecuteTime": {
     "end_time": "2020-05-02T08:22:41.326884Z",
     "start_time": "2020-05-02T08:22:41.320299Z"
    }
   },
   "outputs": [],
   "source": [
    "X_val_n, X_test_dnn, y_val, y_test_dnn = train_test_split(X_test_n, y_test, test_size=0.2)"
   ]
  },
  {
   "cell_type": "code",
   "execution_count": 33,
   "metadata": {
    "ExecuteTime": {
     "end_time": "2020-05-02T08:22:41.888004Z",
     "start_time": "2020-05-02T08:22:41.884691Z"
    }
   },
   "outputs": [],
   "source": [
    "from keras import models\n",
    "from keras import layers"
   ]
  },
  {
   "cell_type": "code",
   "execution_count": 34,
   "metadata": {
    "ExecuteTime": {
     "end_time": "2020-05-02T08:22:43.670549Z",
     "start_time": "2020-05-02T08:22:43.298293Z"
    }
   },
   "outputs": [
    {
     "name": "stderr",
     "output_type": "stream",
     "text": [
      "WARNING: Logging before flag parsing goes to stderr.\n",
      "W0502 01:22:43.306547 4531336640 deprecation_wrapper.py:119] From /anaconda3/lib/python3.7/site-packages/keras/backend/tensorflow_backend.py:74: The name tf.get_default_graph is deprecated. Please use tf.compat.v1.get_default_graph instead.\n",
      "\n",
      "W0502 01:22:43.329018 4531336640 deprecation_wrapper.py:119] From /anaconda3/lib/python3.7/site-packages/keras/backend/tensorflow_backend.py:517: The name tf.placeholder is deprecated. Please use tf.compat.v1.placeholder instead.\n",
      "\n",
      "W0502 01:22:43.333423 4531336640 deprecation_wrapper.py:119] From /anaconda3/lib/python3.7/site-packages/keras/backend/tensorflow_backend.py:4138: The name tf.random_uniform is deprecated. Please use tf.random.uniform instead.\n",
      "\n",
      "W0502 01:22:43.347795 4531336640 deprecation_wrapper.py:119] From /anaconda3/lib/python3.7/site-packages/keras/backend/tensorflow_backend.py:133: The name tf.placeholder_with_default is deprecated. Please use tf.compat.v1.placeholder_with_default instead.\n",
      "\n",
      "W0502 01:22:43.353241 4531336640 deprecation.py:506] From /anaconda3/lib/python3.7/site-packages/keras/backend/tensorflow_backend.py:3445: calling dropout (from tensorflow.python.ops.nn_ops) with keep_prob is deprecated and will be removed in a future version.\n",
      "Instructions for updating:\n",
      "Please use `rate` instead of `keep_prob`. Rate should be set to `rate = 1 - keep_prob`.\n"
     ]
    }
   ],
   "source": [
    "dnn = models.Sequential()\n",
    "dnn.add(layers.Dense(128, activation='relu', input_shape=(11,)))\n",
    "dnn.add(layers.Dropout(0.2))\n",
    "dnn.add(layers.Dense(128, activation='relu'))\n",
    "dnn.add(layers.Dropout(0.2))\n",
    "dnn.add(layers.Dense(128, activation='relu'))\n",
    "dnn.add(layers.Dropout(0.2))\n",
    "dnn.add(layers.Dense(128, activation='relu'))\n",
    "dnn.add(layers.Dropout(0.2))\n",
    "dnn.add(layers.Dense(128, activation='relu'))\n",
    "dnn.add(layers.Dropout(0.2))\n",
    "dnn.add(layers.Dense(128, activation='relu'))\n",
    "dnn.add(layers.Dropout(0.2))\n",
    "dnn.add(layers.Dense(128, activation='relu'))\n",
    "dnn.add(layers.Dropout(0.2))\n",
    "dnn.add(layers.Dense(128, activation='relu'))\n",
    "dnn.add(layers.Dropout(0.2))\n",
    "dnn.add(layers.Dense(128, activation='relu', input_shape=(11,)))\n",
    "dnn.add(layers.Dropout(0.2))\n",
    "dnn.add(layers.Dense(128, activation='relu', input_shape=(11,)))\n",
    "dnn.add(layers.Dropout(0.2))\n",
    "dnn.add(layers.Dense(128, activation='relu', input_shape=(11,)))\n",
    "dnn.add(layers.Dropout(0.2))\n",
    "dnn.add(layers.Dense(1, activation='sigmoid'))"
   ]
  },
  {
   "cell_type": "code",
   "execution_count": 35,
   "metadata": {
    "ExecuteTime": {
     "end_time": "2020-05-02T08:22:46.130309Z",
     "start_time": "2020-05-02T08:22:46.085480Z"
    }
   },
   "outputs": [
    {
     "name": "stderr",
     "output_type": "stream",
     "text": [
      "W0502 01:22:46.087185 4531336640 deprecation_wrapper.py:119] From /anaconda3/lib/python3.7/site-packages/keras/optimizers.py:790: The name tf.train.Optimizer is deprecated. Please use tf.compat.v1.train.Optimizer instead.\n",
      "\n",
      "W0502 01:22:46.106416 4531336640 deprecation_wrapper.py:119] From /anaconda3/lib/python3.7/site-packages/keras/backend/tensorflow_backend.py:3376: The name tf.log is deprecated. Please use tf.math.log instead.\n",
      "\n",
      "W0502 01:22:46.111399 4531336640 deprecation.py:323] From /anaconda3/lib/python3.7/site-packages/tensorflow/python/ops/nn_impl.py:180: add_dispatch_support.<locals>.wrapper (from tensorflow.python.ops.array_ops) is deprecated and will be removed in a future version.\n",
      "Instructions for updating:\n",
      "Use tf.where in 2.0, which has the same broadcast rule as np.where\n"
     ]
    }
   ],
   "source": [
    "dnn.compile(optimizer='rmsprop', loss='binary_crossentropy', metrics=['acc'])"
   ]
  },
  {
   "cell_type": "code",
   "execution_count": 44,
   "metadata": {
    "ExecuteTime": {
     "end_time": "2020-05-02T08:25:29.884500Z",
     "start_time": "2020-05-02T08:24:13.615755Z"
    },
    "scrolled": true
   },
   "outputs": [
    {
     "name": "stdout",
     "output_type": "stream",
     "text": [
      "Train on 23941 samples, validate on 3380 samples\n",
      "Epoch 1/100\n",
      "23941/23941 [==============================] - 1s 39us/step - loss: 0.5828 - acc: 0.7019 - val_loss: 0.5810 - val_acc: 0.7041\n",
      "Epoch 2/100\n",
      "23941/23941 [==============================] - 1s 30us/step - loss: 0.5812 - acc: 0.7013 - val_loss: 0.5881 - val_acc: 0.7027\n",
      "Epoch 3/100\n",
      "23941/23941 [==============================] - 1s 32us/step - loss: 0.5807 - acc: 0.7016 - val_loss: 0.5836 - val_acc: 0.7024\n",
      "Epoch 4/100\n",
      "23941/23941 [==============================] - 1s 32us/step - loss: 0.5795 - acc: 0.7024 - val_loss: 0.5900 - val_acc: 0.7018\n",
      "Epoch 5/100\n",
      "23941/23941 [==============================] - 1s 30us/step - loss: 0.5780 - acc: 0.7032 - val_loss: 0.5900 - val_acc: 0.7006\n",
      "Epoch 6/100\n",
      "23941/23941 [==============================] - 1s 31us/step - loss: 0.5782 - acc: 0.7038 - val_loss: 0.5854 - val_acc: 0.6964\n",
      "Epoch 7/100\n",
      "23941/23941 [==============================] - 1s 33us/step - loss: 0.5793 - acc: 0.7069 - val_loss: 0.5860 - val_acc: 0.7009\n",
      "Epoch 8/100\n",
      "23941/23941 [==============================] - 1s 31us/step - loss: 0.5770 - acc: 0.7082 - val_loss: 0.5752 - val_acc: 0.7083\n",
      "Epoch 9/100\n",
      "23941/23941 [==============================] - 1s 32us/step - loss: 0.5774 - acc: 0.7053 - val_loss: 0.5889 - val_acc: 0.7021\n",
      "Epoch 10/100\n",
      "23941/23941 [==============================] - 1s 29us/step - loss: 0.5778 - acc: 0.7064 - val_loss: 0.5813 - val_acc: 0.7036\n",
      "Epoch 11/100\n",
      "23941/23941 [==============================] - 1s 29us/step - loss: 0.5760 - acc: 0.7069 - val_loss: 0.5824 - val_acc: 0.7089\n",
      "Epoch 12/100\n",
      "23941/23941 [==============================] - 1s 29us/step - loss: 0.5762 - acc: 0.7062 - val_loss: 0.5808 - val_acc: 0.7027\n",
      "Epoch 13/100\n",
      "23941/23941 [==============================] - 1s 29us/step - loss: 0.5748 - acc: 0.7079 - val_loss: 0.5820 - val_acc: 0.7065\n",
      "Epoch 14/100\n",
      "23941/23941 [==============================] - 1s 29us/step - loss: 0.5744 - acc: 0.7102 - val_loss: 0.5781 - val_acc: 0.7104\n",
      "Epoch 15/100\n",
      "23941/23941 [==============================] - 1s 29us/step - loss: 0.5755 - acc: 0.7101 - val_loss: 0.5785 - val_acc: 0.7083\n",
      "Epoch 16/100\n",
      "23941/23941 [==============================] - 1s 29us/step - loss: 0.5742 - acc: 0.7082 - val_loss: 0.5734 - val_acc: 0.7059\n",
      "Epoch 17/100\n",
      "23941/23941 [==============================] - 1s 30us/step - loss: 0.5737 - acc: 0.7084 - val_loss: 0.5782 - val_acc: 0.7074\n",
      "Epoch 18/100\n",
      "23941/23941 [==============================] - 1s 29us/step - loss: 0.5723 - acc: 0.7108 - val_loss: 0.5743 - val_acc: 0.7101\n",
      "Epoch 19/100\n",
      "23941/23941 [==============================] - 1s 29us/step - loss: 0.5716 - acc: 0.7100 - val_loss: 0.5800 - val_acc: 0.7095\n",
      "Epoch 20/100\n",
      "23941/23941 [==============================] - 1s 30us/step - loss: 0.5718 - acc: 0.7125 - val_loss: 0.5780 - val_acc: 0.7130\n",
      "Epoch 21/100\n",
      "23941/23941 [==============================] - 1s 31us/step - loss: 0.5728 - acc: 0.7132 - val_loss: 0.5776 - val_acc: 0.7118\n",
      "Epoch 22/100\n",
      "23941/23941 [==============================] - 1s 29us/step - loss: 0.5712 - acc: 0.7145 - val_loss: 0.5712 - val_acc: 0.7077\n",
      "Epoch 23/100\n",
      "23941/23941 [==============================] - 1s 30us/step - loss: 0.5688 - acc: 0.7149 - val_loss: 0.5774 - val_acc: 0.7124\n",
      "Epoch 24/100\n",
      "23941/23941 [==============================] - 1s 30us/step - loss: 0.5693 - acc: 0.7138 - val_loss: 0.5792 - val_acc: 0.7041\n",
      "Epoch 25/100\n",
      "23941/23941 [==============================] - 1s 38us/step - loss: 0.5694 - acc: 0.7186 - val_loss: 0.5726 - val_acc: 0.7166\n",
      "Epoch 26/100\n",
      "23941/23941 [==============================] - 1s 33us/step - loss: 0.5655 - acc: 0.7155 - val_loss: 0.5831 - val_acc: 0.7044\n",
      "Epoch 27/100\n",
      "23941/23941 [==============================] - 1s 33us/step - loss: 0.5668 - acc: 0.7181 - val_loss: 0.5682 - val_acc: 0.7086\n",
      "Epoch 28/100\n",
      "23941/23941 [==============================] - 1s 39us/step - loss: 0.5666 - acc: 0.7174 - val_loss: 0.5733 - val_acc: 0.7104\n",
      "Epoch 29/100\n",
      "23941/23941 [==============================] - 1s 36us/step - loss: 0.5659 - acc: 0.7188 - val_loss: 0.5718 - val_acc: 0.7127\n",
      "Epoch 30/100\n",
      "23941/23941 [==============================] - 1s 32us/step - loss: 0.5650 - acc: 0.7181 - val_loss: 0.5720 - val_acc: 0.7065\n",
      "Epoch 31/100\n",
      "23941/23941 [==============================] - 1s 32us/step - loss: 0.5648 - acc: 0.7173 - val_loss: 0.5772 - val_acc: 0.7080\n",
      "Epoch 32/100\n",
      "23941/23941 [==============================] - 1s 34us/step - loss: 0.5646 - acc: 0.7164 - val_loss: 0.5727 - val_acc: 0.7112\n",
      "Epoch 33/100\n",
      "23941/23941 [==============================] - 1s 31us/step - loss: 0.5631 - acc: 0.7180 - val_loss: 0.5713 - val_acc: 0.7104\n",
      "Epoch 34/100\n",
      "23941/23941 [==============================] - 1s 32us/step - loss: 0.5653 - acc: 0.7212 - val_loss: 0.5743 - val_acc: 0.7101\n",
      "Epoch 35/100\n",
      "23941/23941 [==============================] - 1s 32us/step - loss: 0.5626 - acc: 0.7216 - val_loss: 0.5757 - val_acc: 0.7092\n",
      "Epoch 36/100\n",
      "23941/23941 [==============================] - 1s 34us/step - loss: 0.5641 - acc: 0.7227 - val_loss: 0.5688 - val_acc: 0.7062\n",
      "Epoch 37/100\n",
      "23941/23941 [==============================] - 1s 43us/step - loss: 0.5643 - acc: 0.7211 - val_loss: 0.5789 - val_acc: 0.7133\n",
      "Epoch 38/100\n",
      "23941/23941 [==============================] - 1s 43us/step - loss: 0.5650 - acc: 0.7204 - val_loss: 0.5696 - val_acc: 0.7163\n",
      "Epoch 39/100\n",
      "23941/23941 [==============================] - 1s 31us/step - loss: 0.5636 - acc: 0.7209 - val_loss: 0.5741 - val_acc: 0.7169\n",
      "Epoch 40/100\n",
      "23941/23941 [==============================] - 1s 35us/step - loss: 0.5619 - acc: 0.7202 - val_loss: 0.5707 - val_acc: 0.7112\n",
      "Epoch 41/100\n",
      "23941/23941 [==============================] - 1s 31us/step - loss: 0.5631 - acc: 0.7224 - val_loss: 0.5673 - val_acc: 0.7154\n",
      "Epoch 42/100\n",
      "23941/23941 [==============================] - 1s 32us/step - loss: 0.5632 - acc: 0.7242 - val_loss: 0.5784 - val_acc: 0.7127\n",
      "Epoch 43/100\n",
      "23941/23941 [==============================] - 1s 31us/step - loss: 0.5636 - acc: 0.7248 - val_loss: 0.5665 - val_acc: 0.7166\n",
      "Epoch 44/100\n",
      "23941/23941 [==============================] - 1s 32us/step - loss: 0.5608 - acc: 0.7260 - val_loss: 0.5657 - val_acc: 0.7186\n",
      "Epoch 45/100\n",
      "23941/23941 [==============================] - 1s 32us/step - loss: 0.5691 - acc: 0.7236 - val_loss: 0.5711 - val_acc: 0.7107\n",
      "Epoch 46/100\n",
      "23941/23941 [==============================] - 1s 32us/step - loss: 0.5733 - acc: 0.7218 - val_loss: 0.5664 - val_acc: 0.7192\n",
      "Epoch 47/100\n",
      "23941/23941 [==============================] - 1s 31us/step - loss: 0.5654 - acc: 0.7251 - val_loss: 0.5625 - val_acc: 0.7204\n",
      "Epoch 48/100\n",
      "23941/23941 [==============================] - 1s 31us/step - loss: 0.5947 - acc: 0.7244 - val_loss: 0.5683 - val_acc: 0.7180\n",
      "Epoch 49/100\n",
      "23941/23941 [==============================] - 1s 32us/step - loss: 0.5755 - acc: 0.7225 - val_loss: 0.5712 - val_acc: 0.7157\n",
      "Epoch 50/100\n",
      "23941/23941 [==============================] - 1s 32us/step - loss: 0.6030 - acc: 0.7232 - val_loss: 0.5704 - val_acc: 0.7124\n",
      "Epoch 51/100\n",
      "23941/23941 [==============================] - 1s 31us/step - loss: 0.5818 - acc: 0.7239 - val_loss: 0.5762 - val_acc: 0.7127\n",
      "Epoch 52/100\n",
      "23941/23941 [==============================] - 1s 31us/step - loss: 0.5978 - acc: 0.7218 - val_loss: 0.5666 - val_acc: 0.7133\n",
      "Epoch 53/100\n",
      "23941/23941 [==============================] - 1s 31us/step - loss: 0.5575 - acc: 0.7267 - val_loss: 0.5674 - val_acc: 0.7095\n",
      "Epoch 54/100\n",
      "23941/23941 [==============================] - 1s 31us/step - loss: 0.5612 - acc: 0.7277 - val_loss: 0.5718 - val_acc: 0.7124\n",
      "Epoch 55/100\n",
      "23941/23941 [==============================] - 1s 33us/step - loss: 0.5664 - acc: 0.7260 - val_loss: 0.5661 - val_acc: 0.7172\n",
      "Epoch 56/100\n",
      "23941/23941 [==============================] - 1s 31us/step - loss: 0.5633 - acc: 0.7274 - val_loss: 0.5701 - val_acc: 0.7201\n",
      "Epoch 57/100\n",
      "23941/23941 [==============================] - 1s 31us/step - loss: 0.5687 - acc: 0.7306 - val_loss: 0.5623 - val_acc: 0.7210\n",
      "Epoch 58/100\n",
      "23941/23941 [==============================] - 1s 31us/step - loss: 0.5746 - acc: 0.7277 - val_loss: 0.5658 - val_acc: 0.7207\n",
      "Epoch 59/100\n"
     ]
    },
    {
     "name": "stdout",
     "output_type": "stream",
     "text": [
      "23941/23941 [==============================] - 1s 30us/step - loss: 0.5600 - acc: 0.7309 - val_loss: 0.5655 - val_acc: 0.7189\n",
      "Epoch 60/100\n",
      "23941/23941 [==============================] - 1s 29us/step - loss: 0.5705 - acc: 0.7273 - val_loss: 0.5704 - val_acc: 0.7189\n",
      "Epoch 61/100\n",
      "23941/23941 [==============================] - 1s 29us/step - loss: 0.5695 - acc: 0.7295 - val_loss: 0.5584 - val_acc: 0.7237\n",
      "Epoch 62/100\n",
      "23941/23941 [==============================] - 1s 29us/step - loss: 0.5736 - acc: 0.7283 - val_loss: 0.5628 - val_acc: 0.7201\n",
      "Epoch 63/100\n",
      "23941/23941 [==============================] - 1s 29us/step - loss: 0.5555 - acc: 0.7305 - val_loss: 0.5696 - val_acc: 0.7222\n",
      "Epoch 64/100\n",
      "23941/23941 [==============================] - 1s 30us/step - loss: 0.5861 - acc: 0.7271 - val_loss: 0.5629 - val_acc: 0.7183\n",
      "Epoch 65/100\n",
      "23941/23941 [==============================] - 1s 29us/step - loss: 0.5830 - acc: 0.7288 - val_loss: 0.5706 - val_acc: 0.7189\n",
      "Epoch 66/100\n",
      "23941/23941 [==============================] - 1s 29us/step - loss: 0.5685 - acc: 0.7272 - val_loss: 0.5600 - val_acc: 0.7142\n",
      "Epoch 67/100\n",
      "23941/23941 [==============================] - 1s 30us/step - loss: 0.5640 - acc: 0.7302 - val_loss: 0.5608 - val_acc: 0.7172\n",
      "Epoch 68/100\n",
      "23941/23941 [==============================] - 1s 30us/step - loss: 0.5690 - acc: 0.7269 - val_loss: 0.5620 - val_acc: 0.7180\n",
      "Epoch 69/100\n",
      "23941/23941 [==============================] - 1s 30us/step - loss: 0.5653 - acc: 0.7287 - val_loss: 0.5643 - val_acc: 0.7180\n",
      "Epoch 70/100\n",
      "23941/23941 [==============================] - 1s 30us/step - loss: 0.5711 - acc: 0.7310 - val_loss: 0.5593 - val_acc: 0.7180\n",
      "Epoch 71/100\n",
      "23941/23941 [==============================] - 1s 30us/step - loss: 0.5642 - acc: 0.7293 - val_loss: 0.5677 - val_acc: 0.7195\n",
      "Epoch 72/100\n",
      "23941/23941 [==============================] - 1s 31us/step - loss: 0.5649 - acc: 0.7316 - val_loss: 0.5675 - val_acc: 0.7198\n",
      "Epoch 73/100\n",
      "23941/23941 [==============================] - 1s 30us/step - loss: 0.5848 - acc: 0.7317 - val_loss: 0.5613 - val_acc: 0.7180\n",
      "Epoch 74/100\n",
      "23941/23941 [==============================] - 1s 30us/step - loss: 0.5645 - acc: 0.7323 - val_loss: 0.5674 - val_acc: 0.7175\n",
      "Epoch 75/100\n",
      "23941/23941 [==============================] - 1s 30us/step - loss: 0.5867 - acc: 0.7298 - val_loss: 0.5608 - val_acc: 0.7201\n",
      "Epoch 76/100\n",
      "23941/23941 [==============================] - 1s 30us/step - loss: 0.5989 - acc: 0.7310 - val_loss: 0.5600 - val_acc: 0.7225\n",
      "Epoch 77/100\n",
      "23941/23941 [==============================] - 1s 29us/step - loss: 0.5738 - acc: 0.7324 - val_loss: 0.5708 - val_acc: 0.7166\n",
      "Epoch 78/100\n",
      "23941/23941 [==============================] - 1s 30us/step - loss: 0.5872 - acc: 0.7330 - val_loss: 0.5723 - val_acc: 0.7249\n",
      "Epoch 79/100\n",
      "23941/23941 [==============================] - 1s 30us/step - loss: 0.6111 - acc: 0.7305 - val_loss: 0.5689 - val_acc: 0.7160\n",
      "Epoch 80/100\n",
      "23941/23941 [==============================] - 1s 32us/step - loss: 0.6102 - acc: 0.7317 - val_loss: 0.5689 - val_acc: 0.7183\n",
      "Epoch 81/100\n",
      "23941/23941 [==============================] - 1s 31us/step - loss: 0.6384 - acc: 0.7304 - val_loss: 0.5643 - val_acc: 0.7178\n",
      "Epoch 82/100\n",
      "23941/23941 [==============================] - 1s 30us/step - loss: 0.5992 - acc: 0.7299 - val_loss: 0.5680 - val_acc: 0.7228\n",
      "Epoch 83/100\n",
      "23941/23941 [==============================] - 1s 34us/step - loss: 0.6157 - acc: 0.7313 - val_loss: 0.5647 - val_acc: 0.7163\n",
      "Epoch 84/100\n",
      "23941/23941 [==============================] - 1s 35us/step - loss: 0.5855 - acc: 0.7327 - val_loss: 0.5659 - val_acc: 0.7189\n",
      "Epoch 85/100\n",
      "23941/23941 [==============================] - 1s 31us/step - loss: 0.5913 - acc: 0.7343 - val_loss: 0.5640 - val_acc: 0.7219\n",
      "Epoch 86/100\n",
      "23941/23941 [==============================] - 1s 30us/step - loss: 0.5984 - acc: 0.7340 - val_loss: 0.5659 - val_acc: 0.7240\n",
      "Epoch 87/100\n",
      "23941/23941 [==============================] - 1s 30us/step - loss: 0.5758 - acc: 0.7345 - val_loss: 0.5555 - val_acc: 0.7234\n",
      "Epoch 88/100\n",
      "23941/23941 [==============================] - 1s 38us/step - loss: 0.5709 - acc: 0.7318 - val_loss: 0.5604 - val_acc: 0.7275\n",
      "Epoch 89/100\n",
      "23941/23941 [==============================] - 1s 35us/step - loss: 0.5851 - acc: 0.7299 - val_loss: 0.5602 - val_acc: 0.7260\n",
      "Epoch 90/100\n",
      "23941/23941 [==============================] - 1s 34us/step - loss: 0.5936 - acc: 0.7319 - val_loss: 0.5656 - val_acc: 0.7305\n",
      "Epoch 91/100\n",
      "23941/23941 [==============================] - 1s 36us/step - loss: 0.6058 - acc: 0.7298 - val_loss: 0.5685 - val_acc: 0.7237\n",
      "Epoch 92/100\n",
      "23941/23941 [==============================] - 1s 33us/step - loss: 0.6213 - acc: 0.7320 - val_loss: 0.5589 - val_acc: 0.7157\n",
      "Epoch 93/100\n",
      "23941/23941 [==============================] - 1s 33us/step - loss: 0.5875 - acc: 0.7366 - val_loss: 0.5636 - val_acc: 0.7228\n",
      "Epoch 94/100\n",
      "23941/23941 [==============================] - 1s 34us/step - loss: 0.6148 - acc: 0.7331 - val_loss: 0.5629 - val_acc: 0.7207\n",
      "Epoch 95/100\n",
      "23941/23941 [==============================] - 1s 35us/step - loss: 0.5873 - acc: 0.7331 - val_loss: 0.5594 - val_acc: 0.7293\n",
      "Epoch 96/100\n",
      "23941/23941 [==============================] - 1s 33us/step - loss: 0.5747 - acc: 0.7353 - val_loss: 0.5675 - val_acc: 0.7237\n",
      "Epoch 97/100\n",
      "23941/23941 [==============================] - 1s 32us/step - loss: 0.5921 - acc: 0.7358 - val_loss: 0.5603 - val_acc: 0.7237\n",
      "Epoch 98/100\n",
      "23941/23941 [==============================] - 1s 34us/step - loss: 0.6047 - acc: 0.7333 - val_loss: 0.5648 - val_acc: 0.7222\n",
      "Epoch 99/100\n",
      "23941/23941 [==============================] - 1s 37us/step - loss: 0.5939 - acc: 0.7339 - val_loss: 0.5610 - val_acc: 0.7260\n",
      "Epoch 100/100\n",
      "23941/23941 [==============================] - 1s 32us/step - loss: 0.6302 - acc: 0.7307 - val_loss: 0.5813 - val_acc: 0.7219\n"
     ]
    }
   ],
   "source": [
    "history = dnn.fit(X_train_n, y_train, \n",
    "                    epochs=100, \n",
    "                    batch_size=512, \n",
    "                    verbose=1,\n",
    "                    validation_data=[X_val_n, y_val])"
   ]
  },
  {
   "cell_type": "code",
   "execution_count": 45,
   "metadata": {
    "ExecuteTime": {
     "end_time": "2020-05-02T08:25:33.470978Z",
     "start_time": "2020-05-02T08:25:33.219472Z"
    }
   },
   "outputs": [
    {
     "data": {
      "image/png": "[encoded data removed]",
      "text/plain": [
       "<Figure size 720x360 with 2 Axes>"
      ]
     },
     "metadata": {
      "needs_background": "light"
     },
     "output_type": "display_data"
    }
   ],
   "source": [
    "plt.figure(figsize=(10,5))\n",
    "\n",
    "plt.subplot(2,1,1)\n",
    "plt.plot(history.history['acc'], label='acc')\n",
    "plt.plot(history.history['val_acc'], label='val_acc')\n",
    "plt.legend()\n",
    "\n",
    "plt.subplot(2,1,2)\n",
    "plt.plot(history.history['loss'], label='loss')\n",
    "plt.plot(history.history['val_loss'], label='val_loss')\n",
    "plt.legend()\n",
    "\n",
    "plt.show()"
   ]
  },
  {
   "cell_type": "code",
   "execution_count": 46,
   "metadata": {
    "ExecuteTime": {
     "end_time": "2020-05-02T08:25:45.432493Z",
     "start_time": "2020-05-02T08:25:45.073643Z"
    }
   },
   "outputs": [],
   "source": [
    "dnn_best = models.Sequential()\n",
    "dnn_best.add(layers.Dense(128, activation='relu', input_shape=(11,)))\n",
    "dnn_best.add(layers.Dropout(0.2))\n",
    "dnn_best.add(layers.Dense(128, activation='relu'))\n",
    "dnn_best.add(layers.Dropout(0.2))\n",
    "dnn_best.add(layers.Dense(128, activation='relu'))\n",
    "dnn_best.add(layers.Dropout(0.2))\n",
    "dnn_best.add(layers.Dense(128, activation='relu'))\n",
    "dnn_best.add(layers.Dropout(0.2))\n",
    "dnn_best.add(layers.Dense(128, activation='relu'))\n",
    "dnn_best.add(layers.Dropout(0.2))\n",
    "dnn_best.add(layers.Dense(128, activation='relu'))\n",
    "dnn_best.add(layers.Dropout(0.2))\n",
    "dnn_best.add(layers.Dense(128, activation='relu'))\n",
    "dnn_best.add(layers.Dropout(0.2))\n",
    "dnn_best.add(layers.Dense(128, activation='relu'))\n",
    "dnn_best.add(layers.Dropout(0.2))\n",
    "dnn_best.add(layers.Dense(128, activation='relu', input_shape=(11,)))\n",
    "dnn_best.add(layers.Dropout(0.2))\n",
    "dnn_best.add(layers.Dense(128, activation='relu', input_shape=(11,)))\n",
    "dnn_best.add(layers.Dropout(0.2))\n",
    "dnn_best.add(layers.Dense(128, activation='relu', input_shape=(11,)))\n",
    "dnn_best.add(layers.Dropout(0.2))\n",
    "dnn_best.add(layers.Dense(1, activation='sigmoid'))"
   ]
  },
  {
   "cell_type": "code",
   "execution_count": 47,
   "metadata": {
    "ExecuteTime": {
     "end_time": "2020-05-02T08:25:47.528647Z",
     "start_time": "2020-05-02T08:25:47.486924Z"
    }
   },
   "outputs": [],
   "source": [
    "dnn_best.compile(optimizer='rmsprop', loss='binary_crossentropy', metrics=['acc'])"
   ]
  },
  {
   "cell_type": "code",
   "execution_count": 48,
   "metadata": {
    "ExecuteTime": {
     "end_time": "2020-05-02T08:26:02.663516Z",
     "start_time": "2020-05-02T08:25:49.484631Z"
    }
   },
   "outputs": [],
   "source": [
    "history_best = dnn_best.fit(X_train_n, y_train, \n",
    "                            epochs=20, \n",
    "                            batch_size=512, \n",
    "                            verbose=0,\n",
    "                            validation_data=[X_val_n, y_val])"
   ]
  },
  {
   "cell_type": "markdown",
   "metadata": {},
   "source": [
    "<a id='evaluation'></a>\n",
    "# Evaluation"
   ]
  },
  {
   "cell_type": "markdown",
   "metadata": {},
   "source": [
    "<a id='precision_recall'></a>\n",
    "## Precision & Recall"
   ]
  },
  {
   "cell_type": "code",
   "execution_count": 59,
   "metadata": {
    "ExecuteTime": {
     "end_time": "2020-05-02T09:52:29.972961Z",
     "start_time": "2020-05-02T09:52:27.080109Z"
    }
   },
   "outputs": [],
   "source": [
    "# random forest\n",
    "rf_score = rf_best.score(X_test, y_test)\n",
    "rf_predict = rf_best.predict(X_test)"
   ]
  },
  {
   "cell_type": "code",
   "execution_count": 60,
   "metadata": {
    "ExecuteTime": {
     "end_time": "2020-05-02T09:52:34.806080Z",
     "start_time": "2020-05-02T09:52:32.057794Z"
    }
   },
   "outputs": [],
   "source": [
    "# svm\n",
    "svm_score = svm.score(X_test_n, y_test)\n",
    "svm_predict = svm.predict(X_test_n)"
   ]
  },
  {
   "cell_type": "code",
   "execution_count": 61,
   "metadata": {
    "ExecuteTime": {
     "end_time": "2020-05-02T09:52:35.453581Z",
     "start_time": "2020-05-02T09:52:35.432209Z"
    }
   },
   "outputs": [],
   "source": [
    "# gnb\n",
    "gnb_score = gnb.score(X_test, y_test)\n",
    "gnb_predict = gnb.predict(X_test)"
   ]
  },
  {
   "cell_type": "code",
   "execution_count": 62,
   "metadata": {
    "ExecuteTime": {
     "end_time": "2020-05-02T09:52:35.958775Z",
     "start_time": "2020-05-02T09:52:35.952321Z"
    }
   },
   "outputs": [],
   "source": [
    "# logistic regression\n",
    "logit_score = logit.score(X_test_n, y_test)\n",
    "logit_predict = logit.predict(X_test_n)"
   ]
  },
  {
   "cell_type": "code",
   "execution_count": 63,
   "metadata": {
    "ExecuteTime": {
     "end_time": "2020-05-02T09:52:37.002107Z",
     "start_time": "2020-05-02T09:52:36.443962Z"
    }
   },
   "outputs": [],
   "source": [
    "# knn\n",
    "knn_score = knn_best.score(X_test_n, y_test)\n",
    "knn_predict = knn_best.predict(X_test_n)"
   ]
  },
  {
   "cell_type": "code",
   "execution_count": 64,
   "metadata": {
    "ExecuteTime": {
     "end_time": "2020-05-02T09:52:37.891830Z",
     "start_time": "2020-05-02T09:52:37.652609Z"
    }
   },
   "outputs": [
    {
     "name": "stdout",
     "output_type": "stream",
     "text": [
      "846/846 [==============================] - 0s 35us/step\n"
     ]
    }
   ],
   "source": [
    "# nn\n",
    "dnn_loss, dnn_score = dnn_best.evaluate(X_test_dnn, y_test_dnn)\n",
    "dnn_predict = pd.Series(dnn_best.predict(X_test_dnn).reshape(-1) >= 0.5).astype('int')"
   ]
  },
  {
   "cell_type": "code",
   "execution_count": 65,
   "metadata": {
    "ExecuteTime": {
     "end_time": "2020-05-02T09:52:38.824583Z",
     "start_time": "2020-05-02T09:52:38.821337Z"
    }
   },
   "outputs": [],
   "source": [
    "from sklearn.metrics import roc_curve, auc"
   ]
  },
  {
   "cell_type": "code",
   "execution_count": 66,
   "metadata": {
    "ExecuteTime": {
     "end_time": "2020-05-02T09:52:39.878247Z",
     "start_time": "2020-05-02T09:52:39.852267Z"
    }
   },
   "outputs": [],
   "source": [
    "dnn_fpr, dnn_tpr, dnn_threshold = roc_curve(y_test_dnn, dnn_best.predict(X_test_dnn).reshape(-1))\n",
    "dnn_auc = auc(dnn_fpr, dnn_tpr)"
   ]
  },
  {
   "cell_type": "code",
   "execution_count": 67,
   "metadata": {
    "ExecuteTime": {
     "end_time": "2020-05-02T09:52:40.598542Z",
     "start_time": "2020-05-02T09:52:40.552319Z"
    }
   },
   "outputs": [],
   "source": [
    "pr_dict = {\n",
    "    'rf':precision_recall(y_test, rf_predict, print_=False),\n",
    "    'svm':precision_recall(y_test, svm_predict, print_=False),\n",
    "    'gnb':precision_recall(y_test, gnb_predict, print_=False),\n",
    "    'logit':precision_recall(y_test, logit_predict, print_=False),\n",
    "    'knn':precision_recall(y_test, knn_predict, print_=False),\n",
    "    'dnn':precision_recall(y_test_dnn, dnn_predict, print_=False)\n",
    "}"
   ]
  },
  {
   "cell_type": "code",
   "execution_count": 68,
   "metadata": {
    "ExecuteTime": {
     "end_time": "2020-05-02T09:52:41.221719Z",
     "start_time": "2020-05-02T09:52:41.196243Z"
    }
   },
   "outputs": [],
   "source": [
    "pr_df = pd.DataFrame.from_dict(pr_dict, orient='index', columns=['precision','recall'])\n",
    "pr_df['F1'] = 2*((pr_df['precision']*pr_df['recall']) / (pr_df['precision']+pr_df['recall']))\n",
    "pr_df['accuracy'] = [rf_score, svm_score, gnb_score, logit_score, knn_score, dnn_score]"
   ]
  },
  {
   "cell_type": "code",
   "execution_count": 69,
   "metadata": {
    "ExecuteTime": {
     "end_time": "2020-05-02T09:52:41.843328Z",
     "start_time": "2020-05-02T09:52:41.834141Z"
    }
   },
   "outputs": [
    {
     "data": {
      "text/html": [
       "<div>\n",
       "<style scoped>\n",
       "    .dataframe tbody tr th:only-of-type {\n",
       "        vertical-align: middle;\n",
       "    }\n",
       "\n",
       "    .dataframe tbody tr th {\n",
       "        vertical-align: top;\n",
       "    }\n",
       "\n",
       "    .dataframe thead th {\n",
       "        text-align: right;\n",
       "    }\n",
       "</style>\n",
       "<table border=\"1\" class=\"dataframe\">\n",
       "  <thead>\n",
       "    <tr style=\"text-align: right;\">\n",
       "      <th></th>\n",
       "      <th>precision</th>\n",
       "      <th>recall</th>\n",
       "      <th>F1</th>\n",
       "      <th>accuracy</th>\n",
       "    </tr>\n",
       "  </thead>\n",
       "  <tbody>\n",
       "    <tr>\n",
       "      <th>rf</th>\n",
       "      <td>0.879387</td>\n",
       "      <td>0.731423</td>\n",
       "      <td>0.798609</td>\n",
       "      <td>0.835542</td>\n",
       "    </tr>\n",
       "    <tr>\n",
       "      <th>svm</th>\n",
       "      <td>0.666265</td>\n",
       "      <td>0.587049</td>\n",
       "      <td>0.624153</td>\n",
       "      <td>0.684808</td>\n",
       "    </tr>\n",
       "    <tr>\n",
       "      <th>gnb</th>\n",
       "      <td>0.644276</td>\n",
       "      <td>0.585456</td>\n",
       "      <td>0.613459</td>\n",
       "      <td>0.671084</td>\n",
       "    </tr>\n",
       "    <tr>\n",
       "      <th>logit</th>\n",
       "      <td>0.653382</td>\n",
       "      <td>0.574310</td>\n",
       "      <td>0.611299</td>\n",
       "      <td>0.674397</td>\n",
       "    </tr>\n",
       "    <tr>\n",
       "      <th>knn</th>\n",
       "      <td>0.711331</td>\n",
       "      <td>0.803079</td>\n",
       "      <td>0.754425</td>\n",
       "      <td>0.766919</td>\n",
       "    </tr>\n",
       "    <tr>\n",
       "      <th>dnn</th>\n",
       "      <td>0.590164</td>\n",
       "      <td>0.672000</td>\n",
       "      <td>0.628429</td>\n",
       "      <td>0.647754</td>\n",
       "    </tr>\n",
       "  </tbody>\n",
       "</table>\n",
       "</div>"
      ],
      "text/plain": [
       "       precision    recall        F1  accuracy\n",
       "rf      0.879387  0.731423  0.798609  0.835542\n",
       "svm     0.666265  0.587049  0.624153  0.684808\n",
       "gnb     0.644276  0.585456  0.613459  0.671084\n",
       "logit   0.653382  0.574310  0.611299  0.674397\n",
       "knn     0.711331  0.803079  0.754425  0.766919\n",
       "dnn     0.590164  0.672000  0.628429  0.647754"
      ]
     },
     "execution_count": 69,
     "metadata": {},
     "output_type": "execute_result"
    }
   ],
   "source": [
    "pr_df"
   ]
  },
  {
   "cell_type": "markdown",
   "metadata": {},
   "source": [
    "<a id='auc_roc'></a>\n",
    "## AUC ROC"
   ]
  },
  {
   "cell_type": "code",
   "execution_count": 71,
   "metadata": {
    "ExecuteTime": {
     "end_time": "2020-05-02T09:53:06.321744Z",
     "start_time": "2020-05-02T09:53:06.318698Z"
    }
   },
   "outputs": [],
   "source": [
    "from sklearn.metrics import plot_roc_curve"
   ]
  },
  {
   "cell_type": "code",
   "execution_count": 72,
   "metadata": {
    "ExecuteTime": {
     "end_time": "2020-05-02T09:53:15.153740Z",
     "start_time": "2020-05-02T09:53:12.136312Z"
    }
   },
   "outputs": [
    {
     "data": {
      "image/png": "[encoded data removed]",
      "text/plain": [
       "<Figure size 720x360 with 1 Axes>"
      ]
     },
     "metadata": {
      "needs_background": "light"
     },
     "output_type": "display_data"
    }
   ],
   "source": [
    "fig, ax = plt.subplots(figsize=(10,5))\n",
    "plot_roc_curve(rf_best, X_test, y_test, ax=ax)\n",
    "plot_roc_curve(svm, X_test_n, y_test, ax=ax)\n",
    "plot_roc_curve(gnb, X_test, y_test, ax=ax)\n",
    "plot_roc_curve(logit, X_test_n, y_test, ax=ax)\n",
    "plot_roc_curve(knn_best, X_test_n, y_test, ax=ax)\n",
    "plt.plot(dnn_fpr, dnn_tpr, label='Deep Neural Network (AUC={})'.format(round(dnn_auc, 3)))\n",
    "ax.plot([0, 1], [0, 1], linestyle='--', lw=2, color='black',\n",
    "        label='Chance', alpha=.8)\n",
    "plt.legend()\n",
    "plt.show()"
   ]
  }
 ],
 "metadata": {
  "kernelspec": {
   "display_name": "Python 3",
   "language": "python",
   "name": "python3"
  },
  "language_info": {
   "codemirror_mode": {
    "name": "ipython",
    "version": 3
   },
   "file_extension": ".py",
   "mimetype": "text/x-python",
   "name": "python",
   "nbconvert_exporter": "python",
   "pygments_lexer": "ipython3",
   "version": "3.7.3"
  },
  "toc": {
   "base_numbering": 1,
   "nav_menu": {},
   "number_sections": true,
   "sideBar": true,
   "skip_h1_title": false,
   "title_cell": "Table of Contents",
   "title_sidebar": "Contents",
   "toc_cell": false,
   "toc_position": {},
   "toc_section_display": true,
   "toc_window_display": false
  }
 },
 "nbformat": 4,
 "nbformat_minor": 2
}
