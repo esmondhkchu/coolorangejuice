{
 "cells": [
  {
   "cell_type": "code",
   "execution_count": 172,
   "metadata": {
    "ExecuteTime": {
     "end_time": "2020-05-17T08:21:37.240508Z",
     "start_time": "2020-05-17T08:21:37.237269Z"
    }
   },
   "outputs": [],
   "source": [
    "import re"
   ]
  },
  {
   "cell_type": "code",
   "execution_count": 226,
   "metadata": {
    "ExecuteTime": {
     "end_time": "2020-05-17T08:43:23.686798Z",
     "start_time": "2020-05-17T08:43:23.683727Z"
    }
   },
   "outputs": [],
   "source": [
    "import pandas as pd\n",
    "import numpy as np"
   ]
  },
  {
   "cell_type": "code",
   "execution_count": 227,
   "metadata": {
    "ExecuteTime": {
     "end_time": "2020-05-17T08:43:33.922759Z",
     "start_time": "2020-05-17T08:43:33.238459Z"
    }
   },
   "outputs": [],
   "source": [
    "import matplotlib.pyplot as plt"
   ]
  },
  {
   "cell_type": "markdown",
   "metadata": {},
   "source": [
    "# Read and clean data"
   ]
  },
  {
   "cell_type": "code",
   "execution_count": 34,
   "metadata": {
    "ExecuteTime": {
     "end_time": "2020-05-17T06:52:13.524542Z",
     "start_time": "2020-05-17T06:52:13.415942Z"
    }
   },
   "outputs": [],
   "source": [
    "data = pd.read_csv('model_data_5_2.csv')"
   ]
  },
  {
   "cell_type": "code",
   "execution_count": 87,
   "metadata": {
    "ExecuteTime": {
     "end_time": "2020-05-17T07:30:04.629886Z",
     "start_time": "2020-05-17T07:30:04.624664Z"
    }
   },
   "outputs": [],
   "source": [
    "keep = ['Plc.','Jockey','Trainer',\\\n",
    "        'Actual Wt.','Declar. Horse Wt.',\\\n",
    "        'oriental_1','oriental_2','oriental_3',\\\n",
    "        'apple_1','apple_2','apple_3',\\\n",
    "        'pro_1','pro_2','pro_3',\\\n",
    "        'w_h_odd','s_b_odd',\\\n",
    "        'race_id','Class','Length','Going','Course']"
   ]
  },
  {
   "cell_type": "code",
   "execution_count": 88,
   "metadata": {
    "ExecuteTime": {
     "end_time": "2020-05-17T07:30:05.284005Z",
     "start_time": "2020-05-17T07:30:05.276896Z"
    }
   },
   "outputs": [],
   "source": [
    "# column to keep for modeling\n",
    "model_data = data[keep]"
   ]
  },
  {
   "cell_type": "code",
   "execution_count": 126,
   "metadata": {
    "ExecuteTime": {
     "end_time": "2020-05-17T07:45:38.797280Z",
     "start_time": "2020-05-17T07:45:38.759227Z"
    }
   },
   "outputs": [
    {
     "data": {
      "text/plain": [
       "0.02324561403508772"
      ]
     },
     "execution_count": 126,
     "metadata": {},
     "output_type": "execute_result"
    }
   ],
   "source": [
    "# percentage of na rows\n",
    "(model_data.isna().sum(1) > 0).sum() / model_data.shape[0]"
   ]
  },
  {
   "cell_type": "code",
   "execution_count": 110,
   "metadata": {
    "ExecuteTime": {
     "end_time": "2020-05-17T07:40:38.126509Z",
     "start_time": "2020-05-17T07:40:38.104828Z"
    }
   },
   "outputs": [],
   "source": [
    "yo = model_data[model_data.isna().sum(1) > 0]\n",
    "wow = model_data[model_data.isna().sum(1) == 0]"
   ]
  },
  {
   "cell_type": "code",
   "execution_count": 130,
   "metadata": {
    "ExecuteTime": {
     "end_time": "2020-05-17T07:46:34.127655Z",
     "start_time": "2020-05-17T07:46:34.120010Z"
    }
   },
   "outputs": [
    {
     "data": {
      "text/plain": [
       "array(['WV', 'WX', nan, 'WX-A', 'WV-A', 'WXNR'], dtype=object)"
      ]
     },
     "execution_count": 130,
     "metadata": {},
     "output_type": "execute_result"
    }
   ],
   "source": [
    "# all na rows has no Plc, so no result\n",
    "yo['Plc.'].unique()"
   ]
  },
  {
   "cell_type": "code",
   "execution_count": 134,
   "metadata": {
    "ExecuteTime": {
     "end_time": "2020-05-17T08:06:31.131278Z",
     "start_time": "2020-05-17T08:06:31.112938Z"
    }
   },
   "outputs": [],
   "source": [
    "# drop all NA, since they anyway have no result\n",
    "model_data_rna = model_data.dropna().reset_index(drop=True)"
   ]
  },
  {
   "cell_type": "code",
   "execution_count": 154,
   "metadata": {
    "ExecuteTime": {
     "end_time": "2020-05-17T08:14:58.951772Z",
     "start_time": "2020-05-17T08:14:58.941369Z"
    }
   },
   "outputs": [
    {
     "data": {
      "text/plain": [
       "array(['1', '2', '3', '4', '5', '6', '7', '8', '9', '10', '11', '12',\n",
       "       '13', '14', '3 DH', '5 DH', '2 DH', '8 DH', '9 DH', 'UR', '7 DH',\n",
       "       'FE', 'TNP', 'DNF', 'PU', '10 DH', '12 DH', '1 DH', '11 DH',\n",
       "       '4 DH', '6 DH'], dtype=object)"
      ]
     },
     "execution_count": 154,
     "metadata": {},
     "output_type": "execute_result"
    }
   ],
   "source": [
    "model_data_rna['Plc.'].unique()"
   ]
  },
  {
   "cell_type": "code",
   "execution_count": 165,
   "metadata": {
    "ExecuteTime": {
     "end_time": "2020-05-17T08:19:45.302165Z",
     "start_time": "2020-05-17T08:19:45.291126Z"
    }
   },
   "outputs": [],
   "source": [
    "# rm rows with no result\n",
    "model_data_rna = model_data_rna[~model_data_rna['Plc.'].isin(['FE','TNP','DNF','PU','UR'])].reset_index(drop=True)"
   ]
  },
  {
   "cell_type": "code",
   "execution_count": 170,
   "metadata": {
    "ExecuteTime": {
     "end_time": "2020-05-17T08:20:57.169103Z",
     "start_time": "2020-05-17T08:20:57.162374Z"
    }
   },
   "outputs": [
    {
     "data": {
      "text/plain": [
       "array(['1', '2', '3', '4', '5', '6', '7', '8', '9', '10', '11', '12',\n",
       "       '13', '14', '3 DH', '5 DH', '2 DH', '8 DH', '9 DH', '7 DH',\n",
       "       '10 DH', '12 DH', '1 DH', '11 DH', '4 DH', '6 DH'], dtype=object)"
      ]
     },
     "execution_count": 170,
     "metadata": {},
     "output_type": "execute_result"
    }
   ],
   "source": [
    "# handle result\n",
    "model_data_rna['Plc.'].unique()"
   ]
  },
  {
   "cell_type": "code",
   "execution_count": 178,
   "metadata": {
    "ExecuteTime": {
     "end_time": "2020-05-17T08:22:38.441928Z",
     "start_time": "2020-05-17T08:22:38.406872Z"
    }
   },
   "outputs": [],
   "source": [
    "model_data_rna['Plc.'] = [int(re.sub(r'\\s[a-zA-Z]{1,3}$', '', i)) for i in model_data_rna['Plc.']]"
   ]
  },
  {
   "cell_type": "markdown",
   "metadata": {},
   "source": [
    "## Cat and Cont variables"
   ]
  },
  {
   "cell_type": "code",
   "execution_count": 196,
   "metadata": {
    "ExecuteTime": {
     "end_time": "2020-05-17T08:35:30.729003Z",
     "start_time": "2020-05-17T08:35:30.711922Z"
    }
   },
   "outputs": [],
   "source": [
    "# categorical data\n",
    "cat_data = model_data_rna.select_dtypes('object')\n",
    "cat_data = cat_data[[i for i in list(cat_data) if i not in ['Plc.','race_id']]]\n",
    "\n",
    "# continuous data\n",
    "cont_data = model_data_rna.select_dtypes(['float','int'])\n",
    "cont_data = cont_data[[i for i in list(cont_data) if i != 'Plc.']]\n",
    "\n",
    "# race id and result\n",
    "id_ = model_data_rna[['race_id']]\n",
    "result = model_data_rna['Plc.'].values\n",
    "\n",
    "# postition result\n",
    "position = (result <= 3).astype('int')"
   ]
  },
  {
   "cell_type": "code",
   "execution_count": 89,
   "metadata": {
    "ExecuteTime": {
     "end_time": "2020-05-17T07:30:05.482065Z",
     "start_time": "2020-05-17T07:30:05.476140Z"
    }
   },
   "outputs": [],
   "source": [
    "from sklearn.preprocessing import OneHotEncoder"
   ]
  },
  {
   "cell_type": "markdown",
   "metadata": {},
   "source": [
    "# Feature importance"
   ]
  },
  {
   "cell_type": "markdown",
   "metadata": {},
   "source": [
    "## Continuous variables"
   ]
  },
  {
   "cell_type": "code",
   "execution_count": 207,
   "metadata": {
    "ExecuteTime": {
     "end_time": "2020-05-17T08:40:26.200433Z",
     "start_time": "2020-05-17T08:40:26.194838Z"
    }
   },
   "outputs": [],
   "source": [
    "from sklearn.preprocessing import StandardScaler"
   ]
  },
  {
   "cell_type": "code",
   "execution_count": 208,
   "metadata": {
    "ExecuteTime": {
     "end_time": "2020-05-17T08:40:46.336591Z",
     "start_time": "2020-05-17T08:40:46.312553Z"
    }
   },
   "outputs": [],
   "source": [
    "X = StandardScaler().fit_transform(cont_data)"
   ]
  },
  {
   "cell_type": "code",
   "execution_count": 211,
   "metadata": {
    "ExecuteTime": {
     "end_time": "2020-05-17T08:41:32.370762Z",
     "start_time": "2020-05-17T08:41:32.270103Z"
    }
   },
   "outputs": [],
   "source": [
    "from sklearn.linear_model import LogisticRegression"
   ]
  },
  {
   "cell_type": "code",
   "execution_count": 215,
   "metadata": {
    "ExecuteTime": {
     "end_time": "2020-05-17T08:42:33.560347Z",
     "start_time": "2020-05-17T08:42:33.264855Z"
    }
   },
   "outputs": [],
   "source": [
    "clf = LogisticRegression(random_state=0, penalty='l1', solver='saga').fit(X, position)"
   ]
  },
  {
   "cell_type": "code",
   "execution_count": 230,
   "metadata": {
    "ExecuteTime": {
     "end_time": "2020-05-17T08:44:16.586429Z",
     "start_time": "2020-05-17T08:44:16.430255Z"
    }
   },
   "outputs": [
    {
     "data": {
      "image/png": "[encoded data removed]",
      "text/plain": [
       "<Figure size 720x360 with 1 Axes>"
      ]
     },
     "metadata": {
      "needs_background": "light"
     },
     "output_type": "display_data"
    }
   ],
   "source": [
    "plt.figure(figsize=(10,5))\n",
    "plt.barh(list(cont_data), clf.coef_[0])\n",
    "plt.show()"
   ]
  },
  {
   "cell_type": "code",
   "execution_count": 259,
   "metadata": {
    "ExecuteTime": {
     "end_time": "2020-05-17T23:35:44.479260Z",
     "start_time": "2020-05-17T23:35:44.472003Z"
    }
   },
   "outputs": [
    {
     "data": {
      "text/plain": [
       "array([[-0.13868551,  0.01396611,  0.24210445,  0.15905422,  0.10150793,\n",
       "         0.01554697,  0.03073563,  0.01838924,  0.07585964, -0.01922969,\n",
       "         0.01937439, -0.8706353 , -0.17615257, -0.01586758]])"
      ]
     },
     "execution_count": 259,
     "metadata": {},
     "output_type": "execute_result"
    }
   ],
   "source": [
    "clf.coef_"
   ]
  },
  {
   "cell_type": "markdown",
   "metadata": {
    "ExecuteTime": {
     "end_time": "2020-05-17T08:43:06.521004Z",
     "start_time": "2020-05-17T08:43:06.515153Z"
    }
   },
   "source": [
    "## Categorical variables"
   ]
  },
  {
   "cell_type": "code",
   "execution_count": 231,
   "metadata": {
    "ExecuteTime": {
     "end_time": "2020-05-17T08:45:48.733528Z",
     "start_time": "2020-05-17T08:45:48.566421Z"
    }
   },
   "outputs": [],
   "source": [
    "from sklearn.feature_selection import chi2"
   ]
  },
  {
   "cell_type": "code",
   "execution_count": 239,
   "metadata": {
    "ExecuteTime": {
     "end_time": "2020-05-17T08:49:56.019674Z",
     "start_time": "2020-05-17T08:49:56.013351Z"
    }
   },
   "outputs": [],
   "source": [
    "def map_cat_to_num(in_arr):\n",
    "    unique = np.unique(in_arr)\n",
    "    mapper = {j:i for i,j in enumerate(unique)}\n",
    "    return np.array([mapper[i] for i in in_arr])"
   ]
  },
  {
   "cell_type": "code",
   "execution_count": 241,
   "metadata": {
    "ExecuteTime": {
     "end_time": "2020-05-17T08:49:58.744854Z",
     "start_time": "2020-05-17T08:49:58.733094Z"
    }
   },
   "outputs": [
    {
     "data": {
      "text/html": [
       "<div>\n",
       "<style scoped>\n",
       "    .dataframe tbody tr th:only-of-type {\n",
       "        vertical-align: middle;\n",
       "    }\n",
       "\n",
       "    .dataframe tbody tr th {\n",
       "        vertical-align: top;\n",
       "    }\n",
       "\n",
       "    .dataframe thead th {\n",
       "        text-align: right;\n",
       "    }\n",
       "</style>\n",
       "<table border=\"1\" class=\"dataframe\">\n",
       "  <thead>\n",
       "    <tr style=\"text-align: right;\">\n",
       "      <th></th>\n",
       "      <th>Jockey</th>\n",
       "      <th>Trainer</th>\n",
       "      <th>Class</th>\n",
       "      <th>Going</th>\n",
       "      <th>Course</th>\n",
       "    </tr>\n",
       "  </thead>\n",
       "  <tbody>\n",
       "    <tr>\n",
       "      <th>0</th>\n",
       "      <td>Z Purton</td>\n",
       "      <td>K L Man</td>\n",
       "      <td>Class 4</td>\n",
       "      <td>GOOD</td>\n",
       "      <td>TURF - \"C\" Course</td>\n",
       "    </tr>\n",
       "    <tr>\n",
       "      <th>1</th>\n",
       "      <td>J Moreira</td>\n",
       "      <td>J Size</td>\n",
       "      <td>Class 4</td>\n",
       "      <td>GOOD</td>\n",
       "      <td>TURF - \"C\" Course</td>\n",
       "    </tr>\n",
       "    <tr>\n",
       "      <th>2</th>\n",
       "      <td>O Chavez</td>\n",
       "      <td>A S Cruz</td>\n",
       "      <td>Class 4</td>\n",
       "      <td>GOOD</td>\n",
       "      <td>TURF - \"C\" Course</td>\n",
       "    </tr>\n",
       "    <tr>\n",
       "      <th>3</th>\n",
       "      <td>U Rispoli</td>\n",
       "      <td>T P Yung</td>\n",
       "      <td>Class 4</td>\n",
       "      <td>GOOD</td>\n",
       "      <td>TURF - \"C\" Course</td>\n",
       "    </tr>\n",
       "    <tr>\n",
       "      <th>4</th>\n",
       "      <td>K Teetan</td>\n",
       "      <td>D E Ferraris</td>\n",
       "      <td>Class 4</td>\n",
       "      <td>GOOD</td>\n",
       "      <td>TURF - \"C\" Course</td>\n",
       "    </tr>\n",
       "  </tbody>\n",
       "</table>\n",
       "</div>"
      ],
      "text/plain": [
       "        Jockey         Trainer    Class Going             Course\n",
       "0    Z Purton         K L Man   Class 4  GOOD  TURF - \"C\" Course\n",
       "1   J Moreira          J Size   Class 4  GOOD  TURF - \"C\" Course\n",
       "2    O Chavez        A S Cruz   Class 4  GOOD  TURF - \"C\" Course\n",
       "3   U Rispoli        T P Yung   Class 4  GOOD  TURF - \"C\" Course\n",
       "4    K Teetan    D E Ferraris   Class 4  GOOD  TURF - \"C\" Course"
      ]
     },
     "execution_count": 241,
     "metadata": {},
     "output_type": "execute_result"
    }
   ],
   "source": [
    "cat_data.head()"
   ]
  },
  {
   "cell_type": "markdown",
   "metadata": {},
   "source": [
    "$p<\\alpha$, reject null hypothesis, X and y are associated"
   ]
  },
  {
   "cell_type": "code",
   "execution_count": 258,
   "metadata": {
    "ExecuteTime": {
     "end_time": "2020-05-17T09:10:48.967230Z",
     "start_time": "2020-05-17T09:10:48.877958Z"
    }
   },
   "outputs": [
    {
     "name": "stdout",
     "output_type": "stream",
     "text": [
      "Jockey 0.0 associate\n",
      "Trainer 0.0 associate\n",
      "Class 0.0421 associate\n",
      "Going 0.4765 not associate\n",
      "Course 0.6728 not associate\n"
     ]
    }
   ],
   "source": [
    "for i in list(cat_data):\n",
    "    bow = map_cat_to_num(cat_data[i]).reshape(-1,1)\n",
    "    p_value = chi2(bow, position)[1]\n",
    "    if p_value < 0.05:\n",
    "        asso = 'associate'\n",
    "    else:\n",
    "        asso = 'not associate'\n",
    "    print(i, round(p_value[0], 4), asso)"
   ]
  },
  {
   "cell_type": "code",
   "execution_count": null,
   "metadata": {
    "ExecuteTime": {
     "end_time": "2020-05-17T08:53:18.523437Z",
     "start_time": "2020-05-17T08:53:18.513120Z"
    }
   },
   "outputs": [],
   "source": []
  },
  {
   "cell_type": "code",
   "execution_count": null,
   "metadata": {},
   "outputs": [],
   "source": []
  },
  {
   "cell_type": "code",
   "execution_count": null,
   "metadata": {},
   "outputs": [],
   "source": []
  },
  {
   "cell_type": "code",
   "execution_count": null,
   "metadata": {},
   "outputs": [],
   "source": []
  },
  {
   "cell_type": "code",
   "execution_count": null,
   "metadata": {},
   "outputs": [],
   "source": []
  },
  {
   "cell_type": "code",
   "execution_count": null,
   "metadata": {},
   "outputs": [],
   "source": []
  },
  {
   "cell_type": "code",
   "execution_count": 93,
   "metadata": {
    "ExecuteTime": {
     "end_time": "2020-05-17T07:30:17.148976Z",
     "start_time": "2020-05-17T07:30:17.144290Z"
    }
   },
   "outputs": [],
   "source": [
    "# enc = OneHotEncoder(handle_unknown='ignore').fit(cat_data)"
   ]
  },
  {
   "cell_type": "code",
   "execution_count": null,
   "metadata": {},
   "outputs": [],
   "source": []
  }
 ],
 "metadata": {
  "kernelspec": {
   "display_name": "Python 3",
   "language": "python",
   "name": "python3"
  },
  "language_info": {
   "codemirror_mode": {
    "name": "ipython",
    "version": 3
   },
   "file_extension": ".py",
   "mimetype": "text/x-python",
   "name": "python",
   "nbconvert_exporter": "python",
   "pygments_lexer": "ipython3",
   "version": "3.7.3"
  },
  "toc": {
   "base_numbering": 1,
   "nav_menu": {},
   "number_sections": true,
   "sideBar": true,
   "skip_h1_title": false,
   "title_cell": "Table of Contents",
   "title_sidebar": "Contents",
   "toc_cell": false,
   "toc_position": {},
   "toc_section_display": true,
   "toc_window_display": false
  }
 },
 "nbformat": 4,
 "nbformat_minor": 2
}
