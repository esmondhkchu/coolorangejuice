{
 "cells": [
  {
   "cell_type": "code",
   "execution_count": 1,
   "metadata": {
    "ExecuteTime": {
     "end_time": "2020-05-20T07:07:07.089872Z",
     "start_time": "2020-05-20T07:07:07.087366Z"
    }
   },
   "outputs": [],
   "source": [
    "import re"
   ]
  },
  {
   "cell_type": "code",
   "execution_count": 2,
   "metadata": {
    "ExecuteTime": {
     "end_time": "2020-05-20T07:07:07.408272Z",
     "start_time": "2020-05-20T07:07:07.092366Z"
    }
   },
   "outputs": [],
   "source": [
    "import pandas as pd\n",
    "import numpy as np"
   ]
  },
  {
   "cell_type": "code",
   "execution_count": 3,
   "metadata": {
    "ExecuteTime": {
     "end_time": "2020-05-20T07:07:07.889426Z",
     "start_time": "2020-05-20T07:07:07.409872Z"
    }
   },
   "outputs": [],
   "source": [
    "import matplotlib.pyplot as plt\n",
    "import seaborn as sns"
   ]
  },
  {
   "cell_type": "markdown",
   "metadata": {},
   "source": [
    "# Read and clean data"
   ]
  },
  {
   "cell_type": "code",
   "execution_count": 4,
   "metadata": {
    "ExecuteTime": {
     "end_time": "2020-05-20T07:07:07.999817Z",
     "start_time": "2020-05-20T07:07:07.892215Z"
    }
   },
   "outputs": [],
   "source": [
    "data = pd.read_csv('model_data_5_2.csv')"
   ]
  },
  {
   "cell_type": "code",
   "execution_count": 5,
   "metadata": {
    "ExecuteTime": {
     "end_time": "2020-05-20T07:07:08.009361Z",
     "start_time": "2020-05-20T07:07:08.002253Z"
    }
   },
   "outputs": [],
   "source": [
    "keep = ['Plc.','Jockey','Trainer',\\\n",
    "        'Actual Wt.','Declar. Horse Wt.','Draw',\\\n",
    "        'oriental_1','oriental_2','oriental_3',\\\n",
    "        'apple_1','apple_2','apple_3',\\\n",
    "        'pro_1','pro_2','pro_3',\\\n",
    "        'w_h_odd','s_b_odd',\\\n",
    "        'race_id','Class','Length','Going','Course']"
   ]
  },
  {
   "cell_type": "code",
   "execution_count": 6,
   "metadata": {
    "ExecuteTime": {
     "end_time": "2020-05-20T07:07:08.022225Z",
     "start_time": "2020-05-20T07:07:08.011078Z"
    }
   },
   "outputs": [],
   "source": [
    "# column to keep for modeling\n",
    "model_data = data[keep]"
   ]
  },
  {
   "cell_type": "code",
   "execution_count": 7,
   "metadata": {
    "ExecuteTime": {
     "end_time": "2020-05-20T07:07:08.038399Z",
     "start_time": "2020-05-20T07:07:08.024409Z"
    }
   },
   "outputs": [
    {
     "data": {
      "text/plain": [
       "0.02324561403508772"
      ]
     },
     "execution_count": 7,
     "metadata": {},
     "output_type": "execute_result"
    }
   ],
   "source": [
    "# percentage of na rows\n",
    "(model_data.isna().sum(1) > 0).sum() / model_data.shape[0]"
   ]
  },
  {
   "cell_type": "code",
   "execution_count": 8,
   "metadata": {
    "ExecuteTime": {
     "end_time": "2020-05-20T07:07:08.064411Z",
     "start_time": "2020-05-20T07:07:08.039757Z"
    }
   },
   "outputs": [],
   "source": [
    "yo = model_data[model_data.isna().sum(1) > 0]\n",
    "wow = model_data[model_data.isna().sum(1) == 0]"
   ]
  },
  {
   "cell_type": "code",
   "execution_count": 9,
   "metadata": {
    "ExecuteTime": {
     "end_time": "2020-05-20T07:07:08.072964Z",
     "start_time": "2020-05-20T07:07:08.066554Z"
    }
   },
   "outputs": [
    {
     "data": {
      "text/plain": [
       "array(['WV', 'WX', nan, 'WX-A', 'WV-A', 'WXNR'], dtype=object)"
      ]
     },
     "execution_count": 9,
     "metadata": {},
     "output_type": "execute_result"
    }
   ],
   "source": [
    "# all na rows has no Plc, so no result\n",
    "yo['Plc.'].unique()"
   ]
  },
  {
   "cell_type": "code",
   "execution_count": 10,
   "metadata": {
    "ExecuteTime": {
     "end_time": "2020-05-20T07:07:08.106626Z",
     "start_time": "2020-05-20T07:07:08.075137Z"
    }
   },
   "outputs": [],
   "source": [
    "# drop all NA, since they anyway have no result\n",
    "model_data_rna = model_data.dropna().reset_index(drop=True)"
   ]
  },
  {
   "cell_type": "code",
   "execution_count": 11,
   "metadata": {
    "ExecuteTime": {
     "end_time": "2020-05-20T07:07:08.115325Z",
     "start_time": "2020-05-20T07:07:08.108277Z"
    }
   },
   "outputs": [
    {
     "data": {
      "text/plain": [
       "array(['1', '2', '3', '4', '5', '6', '7', '8', '9', '10', '11', '12',\n",
       "       '13', '14', '3 DH', '5 DH', '2 DH', '8 DH', '9 DH', 'UR', '7 DH',\n",
       "       'FE', 'TNP', 'DNF', 'PU', '10 DH', '12 DH', '1 DH', '11 DH',\n",
       "       '4 DH', '6 DH'], dtype=object)"
      ]
     },
     "execution_count": 11,
     "metadata": {},
     "output_type": "execute_result"
    }
   ],
   "source": [
    "model_data_rna['Plc.'].unique()"
   ]
  },
  {
   "cell_type": "code",
   "execution_count": 12,
   "metadata": {
    "ExecuteTime": {
     "end_time": "2020-05-20T07:07:08.158265Z",
     "start_time": "2020-05-20T07:07:08.117573Z"
    }
   },
   "outputs": [],
   "source": [
    "# rm rows with no result\n",
    "model_data_rna = model_data_rna[~model_data_rna['Plc.'].isin(['FE','TNP','DNF','PU','UR'])].reset_index(drop=True)"
   ]
  },
  {
   "cell_type": "code",
   "execution_count": 13,
   "metadata": {
    "ExecuteTime": {
     "end_time": "2020-05-20T07:07:08.173285Z",
     "start_time": "2020-05-20T07:07:08.162369Z"
    }
   },
   "outputs": [
    {
     "data": {
      "text/plain": [
       "array(['1', '2', '3', '4', '5', '6', '7', '8', '9', '10', '11', '12',\n",
       "       '13', '14', '3 DH', '5 DH', '2 DH', '8 DH', '9 DH', '7 DH',\n",
       "       '10 DH', '12 DH', '1 DH', '11 DH', '4 DH', '6 DH'], dtype=object)"
      ]
     },
     "execution_count": 13,
     "metadata": {},
     "output_type": "execute_result"
    }
   ],
   "source": [
    "# handle result\n",
    "model_data_rna['Plc.'].unique()"
   ]
  },
  {
   "cell_type": "code",
   "execution_count": 14,
   "metadata": {
    "ExecuteTime": {
     "end_time": "2020-05-20T07:07:08.293460Z",
     "start_time": "2020-05-20T07:07:08.176854Z"
    }
   },
   "outputs": [],
   "source": [
    "model_data_rna['Plc.'] = [int(re.sub(r'\\s[a-zA-Z]{1,3}$', '', i)) for i in model_data_rna['Plc.']]"
   ]
  },
  {
   "cell_type": "markdown",
   "metadata": {},
   "source": [
    "## Cat and Cont variables"
   ]
  },
  {
   "cell_type": "code",
   "execution_count": 15,
   "metadata": {
    "ExecuteTime": {
     "end_time": "2020-05-20T07:07:08.314315Z",
     "start_time": "2020-05-20T07:07:08.296080Z"
    }
   },
   "outputs": [],
   "source": [
    "# categorical data\n",
    "cat_data = model_data_rna.select_dtypes('object')\n",
    "cat_data = cat_data[[i for i in list(cat_data) if i not in ['Plc.','race_id']]]\n",
    "\n",
    "# continuous data\n",
    "cont_data = model_data_rna.select_dtypes(['float','int'])\n",
    "cont_data = cont_data[[i for i in list(cont_data) if i != 'Plc.']]\n",
    "\n",
    "# race id and result\n",
    "id_ = model_data_rna[['race_id']]\n",
    "result = model_data_rna['Plc.'].values\n",
    "\n",
    "# postition result\n",
    "position = (result <= 3).astype('int')"
   ]
  },
  {
   "cell_type": "code",
   "execution_count": 16,
   "metadata": {
    "ExecuteTime": {
     "end_time": "2020-05-20T07:07:08.344565Z",
     "start_time": "2020-05-20T07:07:08.318288Z"
    }
   },
   "outputs": [],
   "source": [
    "from sklearn.preprocessing import OneHotEncoder"
   ]
  },
  {
   "cell_type": "markdown",
   "metadata": {},
   "source": [
    "# Feature importance"
   ]
  },
  {
   "cell_type": "markdown",
   "metadata": {},
   "source": [
    "## Continuous variables"
   ]
  },
  {
   "cell_type": "code",
   "execution_count": 17,
   "metadata": {
    "ExecuteTime": {
     "end_time": "2020-05-20T07:07:08.354449Z",
     "start_time": "2020-05-20T07:07:08.350676Z"
    }
   },
   "outputs": [],
   "source": [
    "from sklearn.preprocessing import StandardScaler"
   ]
  },
  {
   "cell_type": "code",
   "execution_count": 18,
   "metadata": {
    "ExecuteTime": {
     "end_time": "2020-05-20T07:07:08.396672Z",
     "start_time": "2020-05-20T07:07:08.362763Z"
    }
   },
   "outputs": [],
   "source": [
    "X = StandardScaler().fit_transform(cont_data)"
   ]
  },
  {
   "cell_type": "code",
   "execution_count": 19,
   "metadata": {
    "ExecuteTime": {
     "end_time": "2020-05-20T07:07:08.446077Z",
     "start_time": "2020-05-20T07:07:08.398630Z"
    }
   },
   "outputs": [],
   "source": [
    "from sklearn.linear_model import LogisticRegression"
   ]
  },
  {
   "cell_type": "code",
   "execution_count": 20,
   "metadata": {
    "ExecuteTime": {
     "end_time": "2020-05-20T07:07:08.518879Z",
     "start_time": "2020-05-20T07:07:08.448041Z"
    }
   },
   "outputs": [],
   "source": [
    "clf = LogisticRegression(random_state=0, penalty='l1', C=0.01, solver='liblinear').fit(X, position)"
   ]
  },
  {
   "cell_type": "code",
   "execution_count": 21,
   "metadata": {
    "ExecuteTime": {
     "end_time": "2020-05-20T07:07:08.698633Z",
     "start_time": "2020-05-20T07:07:08.520226Z"
    }
   },
   "outputs": [
    {
     "data": {
      "image/png": "[encoded data removed]",
      "text/plain": [
       "<Figure size 720x360 with 1 Axes>"
      ]
     },
     "metadata": {
      "needs_background": "light"
     },
     "output_type": "display_data"
    }
   ],
   "source": [
    "plt.figure(figsize=(10,5))\n",
    "plt.barh(list(cont_data), clf.coef_[0])\n",
    "plt.show()"
   ]
  },
  {
   "cell_type": "code",
   "execution_count": 22,
   "metadata": {
    "ExecuteTime": {
     "end_time": "2020-05-20T07:07:08.712134Z",
     "start_time": "2020-05-20T07:07:08.700521Z"
    }
   },
   "outputs": [
    {
     "data": {
      "text/html": [
       "<div>\n",
       "<style scoped>\n",
       "    .dataframe tbody tr th:only-of-type {\n",
       "        vertical-align: middle;\n",
       "    }\n",
       "\n",
       "    .dataframe tbody tr th {\n",
       "        vertical-align: top;\n",
       "    }\n",
       "\n",
       "    .dataframe thead th {\n",
       "        text-align: right;\n",
       "    }\n",
       "</style>\n",
       "<table border=\"1\" class=\"dataframe\">\n",
       "  <thead>\n",
       "    <tr style=\"text-align: right;\">\n",
       "      <th></th>\n",
       "      <th>variable</th>\n",
       "      <th>coef</th>\n",
       "    </tr>\n",
       "  </thead>\n",
       "  <tbody>\n",
       "    <tr>\n",
       "      <th>0</th>\n",
       "      <td>Actual Wt.</td>\n",
       "      <td>-0.084569</td>\n",
       "    </tr>\n",
       "    <tr>\n",
       "      <th>1</th>\n",
       "      <td>Declar. Horse Wt.</td>\n",
       "      <td>0.000000</td>\n",
       "    </tr>\n",
       "    <tr>\n",
       "      <th>2</th>\n",
       "      <td>Draw</td>\n",
       "      <td>-0.075111</td>\n",
       "    </tr>\n",
       "    <tr>\n",
       "      <th>3</th>\n",
       "      <td>oriental_1</td>\n",
       "      <td>0.230401</td>\n",
       "    </tr>\n",
       "    <tr>\n",
       "      <th>4</th>\n",
       "      <td>oriental_2</td>\n",
       "      <td>0.153004</td>\n",
       "    </tr>\n",
       "    <tr>\n",
       "      <th>5</th>\n",
       "      <td>oriental_3</td>\n",
       "      <td>0.095846</td>\n",
       "    </tr>\n",
       "    <tr>\n",
       "      <th>6</th>\n",
       "      <td>apple_1</td>\n",
       "      <td>0.007623</td>\n",
       "    </tr>\n",
       "    <tr>\n",
       "      <th>7</th>\n",
       "      <td>apple_2</td>\n",
       "      <td>0.020765</td>\n",
       "    </tr>\n",
       "    <tr>\n",
       "      <th>8</th>\n",
       "      <td>apple_3</td>\n",
       "      <td>0.009928</td>\n",
       "    </tr>\n",
       "    <tr>\n",
       "      <th>9</th>\n",
       "      <td>pro_1</td>\n",
       "      <td>0.088069</td>\n",
       "    </tr>\n",
       "    <tr>\n",
       "      <th>10</th>\n",
       "      <td>pro_2</td>\n",
       "      <td>0.000000</td>\n",
       "    </tr>\n",
       "    <tr>\n",
       "      <th>11</th>\n",
       "      <td>pro_3</td>\n",
       "      <td>0.030991</td>\n",
       "    </tr>\n",
       "    <tr>\n",
       "      <th>12</th>\n",
       "      <td>w_h_odd</td>\n",
       "      <td>-0.803210</td>\n",
       "    </tr>\n",
       "    <tr>\n",
       "      <th>13</th>\n",
       "      <td>s_b_odd</td>\n",
       "      <td>0.000000</td>\n",
       "    </tr>\n",
       "    <tr>\n",
       "      <th>14</th>\n",
       "      <td>Length</td>\n",
       "      <td>0.000000</td>\n",
       "    </tr>\n",
       "  </tbody>\n",
       "</table>\n",
       "</div>"
      ],
      "text/plain": [
       "             variable      coef\n",
       "0          Actual Wt. -0.084569\n",
       "1   Declar. Horse Wt.  0.000000\n",
       "2                Draw -0.075111\n",
       "3          oriental_1  0.230401\n",
       "4          oriental_2  0.153004\n",
       "5          oriental_3  0.095846\n",
       "6             apple_1  0.007623\n",
       "7             apple_2  0.020765\n",
       "8             apple_3  0.009928\n",
       "9               pro_1  0.088069\n",
       "10              pro_2  0.000000\n",
       "11              pro_3  0.030991\n",
       "12            w_h_odd -0.803210\n",
       "13            s_b_odd  0.000000\n",
       "14             Length  0.000000"
      ]
     },
     "execution_count": 22,
     "metadata": {},
     "output_type": "execute_result"
    }
   ],
   "source": [
    "pd.DataFrame({'variable':list(cont_data), 'coef':clf.coef_[0]})"
   ]
  },
  {
   "cell_type": "code",
   "execution_count": 23,
   "metadata": {
    "ExecuteTime": {
     "end_time": "2020-05-20T07:07:09.474237Z",
     "start_time": "2020-05-20T07:07:08.713490Z"
    }
   },
   "outputs": [
    {
     "data": {
      "image/png": "[encoded data removed]",
      "text/plain": [
       "<Figure size 720x720 with 2 Axes>"
      ]
     },
     "metadata": {
      "needs_background": "light"
     },
     "output_type": "display_data"
    }
   ],
   "source": [
    "plt.figure(figsize=(10,10))\n",
    "sns.heatmap(cont_data.corr(), cmap='RdBu', square=True, annot=True, vmin=-1, vmax=1)\n",
    "plt.show()"
   ]
  },
  {
   "cell_type": "code",
   "execution_count": 24,
   "metadata": {
    "ExecuteTime": {
     "end_time": "2020-05-20T07:07:09.479612Z",
     "start_time": "2020-05-20T07:07:09.475812Z"
    }
   },
   "outputs": [],
   "source": [
    "cont_keep = [list(cont_data)[i] for i in np.where(clf.coef_[0] != 0)[0]]"
   ]
  },
  {
   "cell_type": "markdown",
   "metadata": {
    "ExecuteTime": {
     "end_time": "2020-05-17T08:43:06.521004Z",
     "start_time": "2020-05-17T08:43:06.515153Z"
    }
   },
   "source": [
    "## Categorical variables"
   ]
  },
  {
   "cell_type": "code",
   "execution_count": 25,
   "metadata": {
    "ExecuteTime": {
     "end_time": "2020-05-20T07:07:09.501950Z",
     "start_time": "2020-05-20T07:07:09.481891Z"
    }
   },
   "outputs": [],
   "source": [
    "from sklearn.feature_selection import chi2"
   ]
  },
  {
   "cell_type": "code",
   "execution_count": 26,
   "metadata": {
    "ExecuteTime": {
     "end_time": "2020-05-20T07:07:09.508989Z",
     "start_time": "2020-05-20T07:07:09.503925Z"
    }
   },
   "outputs": [],
   "source": [
    "def map_cat_to_num(in_arr):\n",
    "    unique = np.unique(in_arr)\n",
    "    mapper = {j:i for i,j in enumerate(unique)}\n",
    "    return np.array([mapper[i] for i in in_arr])"
   ]
  },
  {
   "cell_type": "code",
   "execution_count": 27,
   "metadata": {
    "ExecuteTime": {
     "end_time": "2020-05-20T07:07:09.528183Z",
     "start_time": "2020-05-20T07:07:09.513947Z"
    }
   },
   "outputs": [
    {
     "data": {
      "text/html": [
       "<div>\n",
       "<style scoped>\n",
       "    .dataframe tbody tr th:only-of-type {\n",
       "        vertical-align: middle;\n",
       "    }\n",
       "\n",
       "    .dataframe tbody tr th {\n",
       "        vertical-align: top;\n",
       "    }\n",
       "\n",
       "    .dataframe thead th {\n",
       "        text-align: right;\n",
       "    }\n",
       "</style>\n",
       "<table border=\"1\" class=\"dataframe\">\n",
       "  <thead>\n",
       "    <tr style=\"text-align: right;\">\n",
       "      <th></th>\n",
       "      <th>Jockey</th>\n",
       "      <th>Trainer</th>\n",
       "      <th>Class</th>\n",
       "      <th>Going</th>\n",
       "      <th>Course</th>\n",
       "    </tr>\n",
       "  </thead>\n",
       "  <tbody>\n",
       "    <tr>\n",
       "      <th>0</th>\n",
       "      <td>Z Purton</td>\n",
       "      <td>K L Man</td>\n",
       "      <td>Class 4</td>\n",
       "      <td>GOOD</td>\n",
       "      <td>TURF - \"C\" Course</td>\n",
       "    </tr>\n",
       "    <tr>\n",
       "      <th>1</th>\n",
       "      <td>J Moreira</td>\n",
       "      <td>J Size</td>\n",
       "      <td>Class 4</td>\n",
       "      <td>GOOD</td>\n",
       "      <td>TURF - \"C\" Course</td>\n",
       "    </tr>\n",
       "    <tr>\n",
       "      <th>2</th>\n",
       "      <td>O Chavez</td>\n",
       "      <td>A S Cruz</td>\n",
       "      <td>Class 4</td>\n",
       "      <td>GOOD</td>\n",
       "      <td>TURF - \"C\" Course</td>\n",
       "    </tr>\n",
       "    <tr>\n",
       "      <th>3</th>\n",
       "      <td>U Rispoli</td>\n",
       "      <td>T P Yung</td>\n",
       "      <td>Class 4</td>\n",
       "      <td>GOOD</td>\n",
       "      <td>TURF - \"C\" Course</td>\n",
       "    </tr>\n",
       "    <tr>\n",
       "      <th>4</th>\n",
       "      <td>K Teetan</td>\n",
       "      <td>D E Ferraris</td>\n",
       "      <td>Class 4</td>\n",
       "      <td>GOOD</td>\n",
       "      <td>TURF - \"C\" Course</td>\n",
       "    </tr>\n",
       "  </tbody>\n",
       "</table>\n",
       "</div>"
      ],
      "text/plain": [
       "        Jockey         Trainer    Class Going             Course\n",
       "0    Z Purton         K L Man   Class 4  GOOD  TURF - \"C\" Course\n",
       "1   J Moreira          J Size   Class 4  GOOD  TURF - \"C\" Course\n",
       "2    O Chavez        A S Cruz   Class 4  GOOD  TURF - \"C\" Course\n",
       "3   U Rispoli        T P Yung   Class 4  GOOD  TURF - \"C\" Course\n",
       "4    K Teetan    D E Ferraris   Class 4  GOOD  TURF - \"C\" Course"
      ]
     },
     "execution_count": 27,
     "metadata": {},
     "output_type": "execute_result"
    }
   ],
   "source": [
    "cat_data.head()"
   ]
  },
  {
   "cell_type": "markdown",
   "metadata": {},
   "source": [
    "$p<\\alpha$, reject null hypothesis, X and y are associated"
   ]
  },
  {
   "cell_type": "code",
   "execution_count": 28,
   "metadata": {
    "ExecuteTime": {
     "end_time": "2020-05-20T07:07:09.615237Z",
     "start_time": "2020-05-20T07:07:09.530275Z"
    }
   },
   "outputs": [
    {
     "name": "stdout",
     "output_type": "stream",
     "text": [
      "Jockey 0.0 associate\n",
      "Trainer 0.0 associate\n",
      "Class 0.04208589937934474 associate\n",
      "Going 0.4764875168999265 not associate\n",
      "Course 0.6728480850787857 not associate\n"
     ]
    }
   ],
   "source": [
    "cat_keep = list()\n",
    "for i in list(cat_data):\n",
    "    bow = map_cat_to_num(cat_data[i]).reshape(-1,1)\n",
    "    p_value = chi2(bow, position)[1]\n",
    "    if p_value < 0.05:\n",
    "        asso = 'associate'\n",
    "        cat_keep.append(i)\n",
    "    else:\n",
    "        asso = 'not associate'\n",
    "    print(i, round(p_value[0], 20), asso)"
   ]
  },
  {
   "cell_type": "markdown",
   "metadata": {
    "ExecuteTime": {
     "end_time": "2020-05-20T06:41:40.351071Z",
     "start_time": "2020-05-20T06:41:40.347528Z"
    }
   },
   "source": [
    "# Trainer & Jockey"
   ]
  },
  {
   "cell_type": "code",
   "execution_count": 29,
   "metadata": {
    "ExecuteTime": {
     "end_time": "2020-05-20T07:07:09.642423Z",
     "start_time": "2020-05-20T07:07:09.616882Z"
    }
   },
   "outputs": [
    {
     "data": {
      "text/html": [
       "<div>\n",
       "<style scoped>\n",
       "    .dataframe tbody tr th:only-of-type {\n",
       "        vertical-align: middle;\n",
       "    }\n",
       "\n",
       "    .dataframe tbody tr th {\n",
       "        vertical-align: top;\n",
       "    }\n",
       "\n",
       "    .dataframe thead th {\n",
       "        text-align: right;\n",
       "    }\n",
       "</style>\n",
       "<table border=\"1\" class=\"dataframe\">\n",
       "  <thead>\n",
       "    <tr style=\"text-align: right;\">\n",
       "      <th></th>\n",
       "      <th>Jockey</th>\n",
       "      <th>Trainer</th>\n",
       "      <th>Class</th>\n",
       "    </tr>\n",
       "  </thead>\n",
       "  <tbody>\n",
       "    <tr>\n",
       "      <th>count</th>\n",
       "      <td>20021</td>\n",
       "      <td>20021</td>\n",
       "      <td>20021</td>\n",
       "    </tr>\n",
       "    <tr>\n",
       "      <th>unique</th>\n",
       "      <td>78</td>\n",
       "      <td>71</td>\n",
       "      <td>12</td>\n",
       "    </tr>\n",
       "    <tr>\n",
       "      <th>top</th>\n",
       "      <td>Z Purton</td>\n",
       "      <td>A S Cruz</td>\n",
       "      <td>Class 4</td>\n",
       "    </tr>\n",
       "    <tr>\n",
       "      <th>freq</th>\n",
       "      <td>1397</td>\n",
       "      <td>1151</td>\n",
       "      <td>7890</td>\n",
       "    </tr>\n",
       "  </tbody>\n",
       "</table>\n",
       "</div>"
      ],
      "text/plain": [
       "            Jockey     Trainer    Class\n",
       "count        20021       20021    20021\n",
       "unique          78          71       12\n",
       "top      Z Purton    A S Cruz   Class 4\n",
       "freq          1397        1151     7890"
      ]
     },
     "execution_count": 29,
     "metadata": {},
     "output_type": "execute_result"
    }
   ],
   "source": [
    "model_data_rna[cat_keep].describe()"
   ]
  },
  {
   "cell_type": "code",
   "execution_count": 73,
   "metadata": {
    "ExecuteTime": {
     "end_time": "2020-05-20T07:20:05.297117Z",
     "start_time": "2020-05-20T07:20:05.280774Z"
    }
   },
   "outputs": [],
   "source": [
    "jockey_df = model_data_rna[['Jockey','Plc.']].groupby(\n",
    "    by='Jockey').agg(['mean','std','count'])['Plc.'].sort_values('mean').rename_axis(None)"
   ]
  },
  {
   "cell_type": "code",
   "execution_count": 74,
   "metadata": {
    "ExecuteTime": {
     "end_time": "2020-05-20T07:20:10.232713Z",
     "start_time": "2020-05-20T07:20:10.217937Z"
    }
   },
   "outputs": [],
   "source": [
    "trainer_df = model_data_rna[['Trainer','Plc.']].groupby(\n",
    "    by='Trainer').agg(['mean','std','count'])['Plc.'].sort_values('mean').rename_axis(None)"
   ]
  },
  {
   "cell_type": "code",
   "execution_count": 86,
   "metadata": {
    "ExecuteTime": {
     "end_time": "2020-05-20T07:25:45.132497Z",
     "start_time": "2020-05-20T07:25:44.516271Z"
    }
   },
   "outputs": [
    {
     "data": {
      "image/png": "[encoded data removed]",
      "text/plain": [
       "<Figure size 1080x360 with 2 Axes>"
      ]
     },
     "metadata": {
      "needs_background": "light"
     },
     "output_type": "display_data"
    }
   ],
   "source": [
    "plt.figure(figsize=(15,5))\n",
    "\n",
    "plt.subplot(121)\n",
    "for i,j in jockey_df.dropna().iterrows():\n",
    "    if j['count'] >=10:\n",
    "        plt.scatter(j['mean'], j['std'], color='black')\n",
    "    else:\n",
    "        plt.scatter(j['mean'], j['std'], color='blue')\n",
    "plt.xlabel('plc mean')\n",
    "plt.ylabel('plc std')\n",
    "plt.xlim(0,15)\n",
    "plt.ylim(-1,8)\n",
    "plt.title('Jockey')\n",
    "\n",
    "plt.subplot(122)\n",
    "for i,j in trainer_df.dropna().iterrows():\n",
    "    if j['count'] >= 10:\n",
    "        plt.scatter(j['mean'], j['std'], color='black')\n",
    "    else:\n",
    "        plt.scatter(j['mean'], j['std'], color='blue')\n",
    "plt.xlabel('plc mean')\n",
    "plt.ylabel('plc std')\n",
    "plt.xlim(0,15)\n",
    "plt.ylim(-1,8)\n",
    "plt.title('Trainer')\n",
    "\n",
    "plt.show()"
   ]
  },
  {
   "cell_type": "markdown",
   "metadata": {
    "ExecuteTime": {
     "end_time": "2020-05-20T06:55:50.708444Z",
     "start_time": "2020-05-20T06:55:50.690162Z"
    }
   },
   "source": [
    "## Jockey & Trainer Profile"
   ]
  },
  {
   "cell_type": "code",
   "execution_count": 112,
   "metadata": {
    "ExecuteTime": {
     "end_time": "2020-05-20T07:56:30.561116Z",
     "start_time": "2020-05-20T07:56:30.557330Z"
    }
   },
   "outputs": [],
   "source": [
    "jockey_dict = jockey_df.to_dict(orient='index')"
   ]
  },
  {
   "cell_type": "code",
   "execution_count": 113,
   "metadata": {
    "ExecuteTime": {
     "end_time": "2020-05-20T07:56:46.221198Z",
     "start_time": "2020-05-20T07:56:46.216934Z"
    }
   },
   "outputs": [],
   "source": [
    "trainer_dict = trainer_df.to_dict(orient='index')"
   ]
  },
  {
   "cell_type": "code",
   "execution_count": 156,
   "metadata": {
    "ExecuteTime": {
     "end_time": "2020-05-20T08:09:48.825443Z",
     "start_time": "2020-05-20T08:09:48.802221Z"
    }
   },
   "outputs": [],
   "source": [
    "mapped_jockey = [(jockey_dict[i]['mean'], jockey_dict[i]['std'], jockey_dict[i]['count']) for i in model_data_rna['Jockey']]\n",
    "mapped_jockey_df = pd.DataFrame(mapped_jockey, columns=['jockey_mean','jockey_std','jockey_count'])\n",
    "mapped_jockey_df = mapped_jockey_df.fillna(10)"
   ]
  },
  {
   "cell_type": "code",
   "execution_count": 157,
   "metadata": {
    "ExecuteTime": {
     "end_time": "2020-05-20T08:09:52.466416Z",
     "start_time": "2020-05-20T08:09:52.444769Z"
    }
   },
   "outputs": [],
   "source": [
    "mapped_trainer = [(trainer_dict[i]['mean'], trainer_dict[i]['std'], trainer_dict[i]['count']) for i in model_data_rna['Trainer']]\n",
    "mapped_trainer_df = pd.DataFrame(mapped_trainer, columns=['trainer_mean','trainer_std','trainer_count'])\n",
    "mapped_trainer_df = mapped_trainer_df.fillna(10)"
   ]
  },
  {
   "cell_type": "markdown",
   "metadata": {},
   "source": [
    "# Experiment Data 1\n",
    "Map jockey and trainer to mean, std, count number and exclude cont features from Lasso"
   ]
  },
  {
   "cell_type": "code",
   "execution_count": 178,
   "metadata": {
    "ExecuteTime": {
     "end_time": "2020-05-20T08:16:33.420442Z",
     "start_time": "2020-05-20T08:16:33.412897Z"
    }
   },
   "outputs": [],
   "source": [
    "exp1_X = pd.concat([model_data_rna[cont_keep], mapped_jockey_df, mapped_trainer_df], 1)\n",
    "# position is the response variable"
   ]
  },
  {
   "cell_type": "code",
   "execution_count": 177,
   "metadata": {
    "ExecuteTime": {
     "end_time": "2020-05-20T08:16:04.031151Z",
     "start_time": "2020-05-20T08:16:04.026365Z"
    }
   },
   "outputs": [],
   "source": [
    "from sklearn.model_selection import train_test_split"
   ]
  },
  {
   "cell_type": "code",
   "execution_count": 181,
   "metadata": {
    "ExecuteTime": {
     "end_time": "2020-05-20T08:17:17.457352Z",
     "start_time": "2020-05-20T08:17:17.450632Z"
    }
   },
   "outputs": [
    {
     "data": {
      "text/plain": [
       "(array([0, 1]), array([15056,  4965]))"
      ]
     },
     "execution_count": 181,
     "metadata": {},
     "output_type": "execute_result"
    }
   ],
   "source": [
    "np.unique(position, return_counts=True)"
   ]
  },
  {
   "cell_type": "markdown",
   "metadata": {},
   "source": [
    "Downsample balance"
   ]
  },
  {
   "cell_type": "code",
   "execution_count": 223,
   "metadata": {
    "ExecuteTime": {
     "end_time": "2020-05-20T08:33:09.523228Z",
     "start_time": "2020-05-20T08:33:09.518291Z"
    }
   },
   "outputs": [],
   "source": [
    "zero_idx = np.random.choice(np.where(position == 0)[0], 7000, replace=False)"
   ]
  },
  {
   "cell_type": "code",
   "execution_count": 224,
   "metadata": {
    "ExecuteTime": {
     "end_time": "2020-05-20T08:33:09.684894Z",
     "start_time": "2020-05-20T08:33:09.673464Z"
    }
   },
   "outputs": [],
   "source": [
    "exp1_X_b = pd.concat([exp1_X.iloc[zero_idx], exp1_X[position == 1]])\n",
    "exp1_y_b = np.concatenate([position[zero_idx], position[position == 1]])"
   ]
  },
  {
   "cell_type": "code",
   "execution_count": 225,
   "metadata": {
    "ExecuteTime": {
     "end_time": "2020-05-20T08:33:10.000335Z",
     "start_time": "2020-05-20T08:33:09.989411Z"
    }
   },
   "outputs": [],
   "source": [
    "exp1_X_train, exp1_X_test, exp1_y_train, exp1_y_test = train_test_split(exp1_X_b, exp1_y_b, test_size=0.2)"
   ]
  },
  {
   "cell_type": "markdown",
   "metadata": {
    "ExecuteTime": {
     "end_time": "2020-05-20T08:28:33.461916Z",
     "start_time": "2020-05-20T08:28:33.422865Z"
    }
   },
   "source": [
    "Scale"
   ]
  },
  {
   "cell_type": "code",
   "execution_count": 226,
   "metadata": {
    "ExecuteTime": {
     "end_time": "2020-05-20T08:33:11.572818Z",
     "start_time": "2020-05-20T08:33:11.564673Z"
    }
   },
   "outputs": [],
   "source": [
    "exp1_scale = StandardScaler().fit(exp1_X_train)"
   ]
  },
  {
   "cell_type": "code",
   "execution_count": 227,
   "metadata": {
    "ExecuteTime": {
     "end_time": "2020-05-20T08:33:12.187791Z",
     "start_time": "2020-05-20T08:33:12.179653Z"
    }
   },
   "outputs": [],
   "source": [
    "exp1_X_train_n = exp1_scale.transform(exp1_X_train)\n",
    "exp1_X_test_n = exp1_scale.transform(exp1_X_test)"
   ]
  },
  {
   "cell_type": "markdown",
   "metadata": {
    "ExecuteTime": {
     "end_time": "2020-05-20T08:30:50.571354Z",
     "start_time": "2020-05-20T08:30:50.564028Z"
    }
   },
   "source": [
    "Fit"
   ]
  },
  {
   "cell_type": "code",
   "execution_count": 228,
   "metadata": {
    "ExecuteTime": {
     "end_time": "2020-05-20T08:33:18.199658Z",
     "start_time": "2020-05-20T08:33:18.195051Z"
    }
   },
   "outputs": [],
   "source": [
    "from sklearn.ensemble import RandomForestClassifier"
   ]
  },
  {
   "cell_type": "code",
   "execution_count": 229,
   "metadata": {
    "ExecuteTime": {
     "end_time": "2020-05-20T08:33:19.553623Z",
     "start_time": "2020-05-20T08:33:19.549669Z"
    }
   },
   "outputs": [],
   "source": [
    "rf = RandomForestClassifier(n_estimators=1800, \n",
    "                            min_samples_split=10,\n",
    "                            min_samples_leaf=2,\n",
    "                            max_features='auto',\n",
    "                            max_depth=110,\n",
    "                            bootstrap=False)"
   ]
  },
  {
   "cell_type": "code",
   "execution_count": 230,
   "metadata": {
    "ExecuteTime": {
     "end_time": "2020-05-20T08:33:46.328164Z",
     "start_time": "2020-05-20T08:33:21.911930Z"
    }
   },
   "outputs": [
    {
     "data": {
      "text/plain": [
       "RandomForestClassifier(bootstrap=False, ccp_alpha=0.0, class_weight=None,\n",
       "                       criterion='gini', max_depth=110, max_features='auto',\n",
       "                       max_leaf_nodes=None, max_samples=None,\n",
       "                       min_impurity_decrease=0.0, min_impurity_split=None,\n",
       "                       min_samples_leaf=2, min_samples_split=10,\n",
       "                       min_weight_fraction_leaf=0.0, n_estimators=1800,\n",
       "                       n_jobs=None, oob_score=False, random_state=None,\n",
       "                       verbose=0, warm_start=False)"
      ]
     },
     "execution_count": 230,
     "metadata": {},
     "output_type": "execute_result"
    }
   ],
   "source": [
    "rf.fit(exp1_X_train, exp1_y_train)"
   ]
  },
  {
   "cell_type": "code",
   "execution_count": 232,
   "metadata": {
    "ExecuteTime": {
     "end_time": "2020-05-20T08:35:49.091171Z",
     "start_time": "2020-05-20T08:35:49.055804Z"
    }
   },
   "outputs": [],
   "source": [
    "logit = LogisticRegression(random_state=0, \\\n",
    "                           penalty='l1', \\\n",
    "                           C=1, \\\n",
    "                           solver='liblinear').fit(exp1_X_train_n, exp1_y_train)"
   ]
  },
  {
   "cell_type": "code",
   "execution_count": 233,
   "metadata": {
    "ExecuteTime": {
     "end_time": "2020-05-20T08:36:04.502375Z",
     "start_time": "2020-05-20T08:36:04.495271Z"
    }
   },
   "outputs": [
    {
     "data": {
      "text/plain": [
       "0.7003760969494358"
      ]
     },
     "execution_count": 233,
     "metadata": {},
     "output_type": "execute_result"
    }
   ],
   "source": [
    "logit.score(exp1_X_test_n, exp1_y_test)"
   ]
  },
  {
   "cell_type": "code",
   "execution_count": 235,
   "metadata": {
    "ExecuteTime": {
     "end_time": "2020-05-20T08:36:49.642287Z",
     "start_time": "2020-05-20T08:36:49.473205Z"
    }
   },
   "outputs": [
    {
     "data": {
      "image/png": "[encoded data removed]",
      "text/plain": [
       "<Figure size 720x360 with 1 Axes>"
      ]
     },
     "metadata": {
      "needs_background": "light"
     },
     "output_type": "display_data"
    }
   ],
   "source": [
    "plt.figure(figsize=(10,5))\n",
    "plt.barh(list(exp1_X), logit.coef_[0])\n",
    "plt.show()"
   ]
  },
  {
   "cell_type": "markdown",
   "metadata": {
    "ExecuteTime": {
     "end_time": "2020-05-20T08:36:10.168073Z",
     "start_time": "2020-05-20T08:36:10.159330Z"
    }
   },
   "source": [
    "NN"
   ]
  },
  {
   "cell_type": "code",
   "execution_count": 236,
   "metadata": {
    "ExecuteTime": {
     "end_time": "2020-05-20T08:39:51.650737Z",
     "start_time": "2020-05-20T08:39:51.646394Z"
    }
   },
   "outputs": [],
   "source": [
    "exp1_X_val_n, exp1_X_test_n, exp1_y_val, exp1_y_test = train_test_split(exp1_X_test_n, exp_y_test, test_size=0.2)"
   ]
  },
  {
   "cell_type": "code",
   "execution_count": 246,
   "metadata": {
    "ExecuteTime": {
     "end_time": "2020-05-20T08:42:18.749423Z",
     "start_time": "2020-05-20T08:42:18.744389Z"
    }
   },
   "outputs": [],
   "source": [
    "from keras import models\n",
    "from keras import layers"
   ]
  },
  {
   "cell_type": "code",
   "execution_count": 252,
   "metadata": {
    "ExecuteTime": {
     "end_time": "2020-05-20T08:43:12.491696Z",
     "start_time": "2020-05-20T08:43:12.288491Z"
    }
   },
   "outputs": [],
   "source": [
    "dnn = models.Sequential()\n",
    "dnn.add(layers.Dense(64, activation='relu', input_shape=(17,)))\n",
    "dnn.add(layers.Dropout(0.2))\n",
    "dnn.add(layers.Dense(64, activation='relu'))\n",
    "dnn.add(layers.Dropout(0.2))\n",
    "dnn.add(layers.Dense(64, activation='relu'))\n",
    "dnn.add(layers.Dropout(0.2))\n",
    "dnn.add(layers.Dense(64, activation='relu'))\n",
    "dnn.add(layers.Dropout(0.2))\n",
    "dnn.add(layers.Dense(64, activation='relu'))\n",
    "dnn.add(layers.Dropout(0.2))\n",
    "dnn.add(layers.Dense(64, activation='relu'))\n",
    "dnn.add(layers.Dropout(0.2))\n",
    "dnn.add(layers.Dense(64, activation='relu'))\n",
    "dnn.add(layers.Dropout(0.2))\n",
    "dnn.add(layers.Dense(64, activation='relu'))\n",
    "dnn.add(layers.Dropout(0.2))\n",
    "dnn.add(layers.Dense(1, activation='sigmoid'))"
   ]
  },
  {
   "cell_type": "code",
   "execution_count": 253,
   "metadata": {
    "ExecuteTime": {
     "end_time": "2020-05-20T08:43:13.474848Z",
     "start_time": "2020-05-20T08:43:13.431404Z"
    }
   },
   "outputs": [],
   "source": [
    "dnn.compile(optimizer='rmsprop', loss='binary_crossentropy', metrics=['acc'])"
   ]
  },
  {
   "cell_type": "code",
   "execution_count": 254,
   "metadata": {
    "ExecuteTime": {
     "end_time": "2020-05-20T08:43:26.588804Z",
     "start_time": "2020-05-20T08:43:14.520344Z"
    }
   },
   "outputs": [
    {
     "name": "stdout",
     "output_type": "stream",
     "text": [
      "Train on 9572 samples, validate on 1914 samples\n",
      "Epoch 1/50\n",
      "9572/9572 [==============================] - 1s 104us/step - loss: 0.6265 - acc: 0.6463 - val_loss: 0.7529 - val_acc: 0.5204\n",
      "Epoch 2/50\n",
      "9572/9572 [==============================] - 0s 22us/step - loss: 0.5914 - acc: 0.6888 - val_loss: 0.7704 - val_acc: 0.5209\n",
      "Epoch 3/50\n",
      "9572/9572 [==============================] - 0s 22us/step - loss: 0.5890 - acc: 0.6909 - val_loss: 0.7404 - val_acc: 0.5183\n",
      "Epoch 4/50\n",
      "9572/9572 [==============================] - 0s 22us/step - loss: 0.5856 - acc: 0.6948 - val_loss: 0.7701 - val_acc: 0.5172\n",
      "Epoch 5/50\n",
      "9572/9572 [==============================] - 0s 21us/step - loss: 0.5815 - acc: 0.6980 - val_loss: 0.7468 - val_acc: 0.5188\n",
      "Epoch 6/50\n",
      "9572/9572 [==============================] - 0s 21us/step - loss: 0.5796 - acc: 0.6965 - val_loss: 0.7642 - val_acc: 0.5162\n",
      "Epoch 7/50\n",
      "9572/9572 [==============================] - 0s 21us/step - loss: 0.5772 - acc: 0.6961 - val_loss: 0.7379 - val_acc: 0.5178\n",
      "Epoch 8/50\n",
      "9572/9572 [==============================] - 0s 21us/step - loss: 0.5773 - acc: 0.6991 - val_loss: 0.7245 - val_acc: 0.5162\n",
      "Epoch 9/50\n",
      "9572/9572 [==============================] - 0s 21us/step - loss: 0.5742 - acc: 0.6981 - val_loss: 0.7396 - val_acc: 0.5152\n",
      "Epoch 10/50\n",
      "9572/9572 [==============================] - 0s 21us/step - loss: 0.5741 - acc: 0.6999 - val_loss: 0.7258 - val_acc: 0.5110\n",
      "Epoch 11/50\n",
      "9572/9572 [==============================] - 0s 21us/step - loss: 0.5733 - acc: 0.6988 - val_loss: 0.7362 - val_acc: 0.5136\n",
      "Epoch 12/50\n",
      "9572/9572 [==============================] - 0s 23us/step - loss: 0.5728 - acc: 0.7037 - val_loss: 0.7544 - val_acc: 0.5157\n",
      "Epoch 13/50\n",
      "9572/9572 [==============================] - 0s 23us/step - loss: 0.5727 - acc: 0.7002 - val_loss: 0.7298 - val_acc: 0.5068\n",
      "Epoch 14/50\n",
      "9572/9572 [==============================] - 0s 22us/step - loss: 0.5717 - acc: 0.7015 - val_loss: 0.7361 - val_acc: 0.5068\n",
      "Epoch 15/50\n",
      "9572/9572 [==============================] - 0s 22us/step - loss: 0.5703 - acc: 0.7057 - val_loss: 0.7304 - val_acc: 0.5157\n",
      "Epoch 16/50\n",
      "9572/9572 [==============================] - 0s 22us/step - loss: 0.5712 - acc: 0.7035 - val_loss: 0.7293 - val_acc: 0.5104\n",
      "Epoch 17/50\n",
      "9572/9572 [==============================] - 0s 21us/step - loss: 0.5721 - acc: 0.7064 - val_loss: 0.7193 - val_acc: 0.5141\n",
      "Epoch 18/50\n",
      "9572/9572 [==============================] - 0s 22us/step - loss: 0.5697 - acc: 0.7060 - val_loss: 0.7394 - val_acc: 0.5178\n",
      "Epoch 19/50\n",
      "9572/9572 [==============================] - 0s 22us/step - loss: 0.5674 - acc: 0.7088 - val_loss: 0.7444 - val_acc: 0.5104\n",
      "Epoch 20/50\n",
      "9572/9572 [==============================] - 0s 23us/step - loss: 0.5693 - acc: 0.7049 - val_loss: 0.7217 - val_acc: 0.5120\n",
      "Epoch 21/50\n",
      "9572/9572 [==============================] - 0s 23us/step - loss: 0.5667 - acc: 0.7053 - val_loss: 0.7641 - val_acc: 0.5073\n",
      "Epoch 22/50\n",
      "9572/9572 [==============================] - 0s 22us/step - loss: 0.5685 - acc: 0.7081 - val_loss: 0.7533 - val_acc: 0.5068\n",
      "Epoch 23/50\n",
      "9572/9572 [==============================] - 0s 23us/step - loss: 0.5673 - acc: 0.7061 - val_loss: 0.7289 - val_acc: 0.5110\n",
      "Epoch 24/50\n",
      "9572/9572 [==============================] - 0s 27us/step - loss: 0.5668 - acc: 0.7101 - val_loss: 0.7311 - val_acc: 0.5146\n",
      "Epoch 25/50\n",
      "9572/9572 [==============================] - 0s 25us/step - loss: 0.5662 - acc: 0.7066 - val_loss: 0.7195 - val_acc: 0.5068\n",
      "Epoch 26/50\n",
      "9572/9572 [==============================] - 0s 25us/step - loss: 0.5641 - acc: 0.7112 - val_loss: 0.7385 - val_acc: 0.5136\n",
      "Epoch 27/50\n",
      "9572/9572 [==============================] - 0s 25us/step - loss: 0.5651 - acc: 0.7100 - val_loss: 0.7356 - val_acc: 0.5084\n",
      "Epoch 28/50\n",
      "9572/9572 [==============================] - 0s 25us/step - loss: 0.5660 - acc: 0.7120 - val_loss: 0.7287 - val_acc: 0.5110\n",
      "Epoch 29/50\n",
      "9572/9572 [==============================] - 0s 24us/step - loss: 0.5632 - acc: 0.7134 - val_loss: 0.7385 - val_acc: 0.5068\n",
      "Epoch 30/50\n",
      "9572/9572 [==============================] - 0s 25us/step - loss: 0.5639 - acc: 0.7098 - val_loss: 0.7281 - val_acc: 0.5084\n",
      "Epoch 31/50\n",
      "9572/9572 [==============================] - 0s 25us/step - loss: 0.5621 - acc: 0.7156 - val_loss: 0.7154 - val_acc: 0.5115\n",
      "Epoch 32/50\n",
      "9572/9572 [==============================] - 0s 21us/step - loss: 0.5637 - acc: 0.7125 - val_loss: 0.7478 - val_acc: 0.5125\n",
      "Epoch 33/50\n",
      "9572/9572 [==============================] - 0s 21us/step - loss: 0.5646 - acc: 0.7148 - val_loss: 0.7435 - val_acc: 0.5078\n",
      "Epoch 34/50\n",
      "9572/9572 [==============================] - 0s 24us/step - loss: 0.5654 - acc: 0.7146 - val_loss: 0.7588 - val_acc: 0.5094\n",
      "Epoch 35/50\n",
      "9572/9572 [==============================] - 0s 25us/step - loss: 0.5624 - acc: 0.7149 - val_loss: 0.7443 - val_acc: 0.5167\n",
      "Epoch 36/50\n",
      "9572/9572 [==============================] - 0s 24us/step - loss: 0.5630 - acc: 0.7133 - val_loss: 0.7458 - val_acc: 0.5110\n",
      "Epoch 37/50\n",
      "9572/9572 [==============================] - 0s 21us/step - loss: 0.5586 - acc: 0.7180 - val_loss: 0.7375 - val_acc: 0.5219\n",
      "Epoch 38/50\n",
      "9572/9572 [==============================] - 0s 22us/step - loss: 0.5602 - acc: 0.7176 - val_loss: 0.7361 - val_acc: 0.5193\n",
      "Epoch 39/50\n",
      "9572/9572 [==============================] - 0s 24us/step - loss: 0.5604 - acc: 0.7155 - val_loss: 0.7236 - val_acc: 0.5120\n",
      "Epoch 40/50\n",
      "9572/9572 [==============================] - 0s 21us/step - loss: 0.5566 - acc: 0.7189 - val_loss: 0.7587 - val_acc: 0.5136\n",
      "Epoch 41/50\n",
      "9572/9572 [==============================] - 0s 24us/step - loss: 0.5592 - acc: 0.7164 - val_loss: 0.7525 - val_acc: 0.5183\n",
      "Epoch 42/50\n",
      "9572/9572 [==============================] - 0s 24us/step - loss: 0.5603 - acc: 0.7166 - val_loss: 0.7381 - val_acc: 0.5136\n",
      "Epoch 43/50\n",
      "9572/9572 [==============================] - 0s 21us/step - loss: 0.5576 - acc: 0.7201 - val_loss: 0.7349 - val_acc: 0.5199\n",
      "Epoch 44/50\n",
      "9572/9572 [==============================] - 0s 22us/step - loss: 0.5573 - acc: 0.7164 - val_loss: 0.7512 - val_acc: 0.5131\n",
      "Epoch 45/50\n",
      "9572/9572 [==============================] - 0s 21us/step - loss: 0.5574 - acc: 0.7173 - val_loss: 0.7320 - val_acc: 0.5057\n",
      "Epoch 46/50\n",
      "9572/9572 [==============================] - 0s 21us/step - loss: 0.5559 - acc: 0.7181 - val_loss: 0.7361 - val_acc: 0.5099\n",
      "Epoch 47/50\n",
      "9572/9572 [==============================] - 0s 20us/step - loss: 0.5570 - acc: 0.7187 - val_loss: 0.7642 - val_acc: 0.5031\n",
      "Epoch 48/50\n",
      "9572/9572 [==============================] - 0s 20us/step - loss: 0.5579 - acc: 0.7182 - val_loss: 0.7317 - val_acc: 0.5146\n",
      "Epoch 49/50\n",
      "9572/9572 [==============================] - 0s 20us/step - loss: 0.5543 - acc: 0.7229 - val_loss: 0.7531 - val_acc: 0.5256\n",
      "Epoch 50/50\n",
      "9572/9572 [==============================] - 0s 20us/step - loss: 0.5574 - acc: 0.7229 - val_loss: 0.7406 - val_acc: 0.5089\n"
     ]
    }
   ],
   "source": [
    "history = dnn.fit(exp1_X_train_n, exp1_y_train, \n",
    "                  epochs=50, \n",
    "                  batch_size=128, \n",
    "                  verbose=1,\n",
    "                  validation_data=[exp1_X_val_n, exp1_y_val])"
   ]
  },
  {
   "cell_type": "code",
   "execution_count": 255,
   "metadata": {
    "ExecuteTime": {
     "end_time": "2020-05-20T08:43:26.853356Z",
     "start_time": "2020-05-20T08:43:26.590704Z"
    }
   },
   "outputs": [
    {
     "data": {
      "image/png": "[encoded data removed]",
      "text/plain": [
       "<Figure size 720x360 with 2 Axes>"
      ]
     },
     "metadata": {
      "needs_background": "light"
     },
     "output_type": "display_data"
    }
   ],
   "source": [
    "plt.figure(figsize=(10,5))\n",
    "\n",
    "plt.subplot(2,1,1)\n",
    "plt.plot(history.history['acc'], label='acc')\n",
    "plt.plot(history.history['val_acc'], label='val_acc')\n",
    "plt.legend()\n",
    "\n",
    "plt.subplot(2,1,2)\n",
    "plt.plot(history.history['loss'], label='loss')\n",
    "plt.plot(history.history['val_loss'], label='val_loss')\n",
    "plt.legend()\n",
    "\n",
    "plt.show()"
   ]
  }
 ],
 "metadata": {
  "kernelspec": {
   "display_name": "Python 3",
   "language": "python",
   "name": "python3"
  },
  "language_info": {
   "codemirror_mode": {
    "name": "ipython",
    "version": 3
   },
   "file_extension": ".py",
   "mimetype": "text/x-python",
   "name": "python",
   "nbconvert_exporter": "python",
   "pygments_lexer": "ipython3",
   "version": "3.7.3"
  },
  "toc": {
   "base_numbering": 1,
   "nav_menu": {},
   "number_sections": true,
   "sideBar": true,
   "skip_h1_title": false,
   "title_cell": "Table of Contents",
   "title_sidebar": "Contents",
   "toc_cell": false,
   "toc_position": {},
   "toc_section_display": true,
   "toc_window_display": false
  }
 },
 "nbformat": 4,
 "nbformat_minor": 2
}
