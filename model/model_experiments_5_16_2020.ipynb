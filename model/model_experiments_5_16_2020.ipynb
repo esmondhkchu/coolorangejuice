{
 "cells": [
  {
   "cell_type": "code",
   "execution_count": 172,
   "metadata": {
    "ExecuteTime": {
     "end_time": "2020-05-17T08:21:37.240508Z",
     "start_time": "2020-05-17T08:21:37.237269Z"
    }
   },
   "outputs": [],
   "source": [
    "import re"
   ]
  },
  {
   "cell_type": "code",
   "execution_count": 226,
   "metadata": {
    "ExecuteTime": {
     "end_time": "2020-05-17T08:43:23.686798Z",
     "start_time": "2020-05-17T08:43:23.683727Z"
    }
   },
   "outputs": [],
   "source": [
    "import pandas as pd\n",
    "import numpy as np"
   ]
  },
  {
   "cell_type": "code",
   "execution_count": 227,
   "metadata": {
    "ExecuteTime": {
     "end_time": "2020-05-17T08:43:33.922759Z",
     "start_time": "2020-05-17T08:43:33.238459Z"
    }
   },
   "outputs": [],
   "source": [
    "import matplotlib.pyplot as plt"
   ]
  },
  {
   "cell_type": "markdown",
   "metadata": {},
   "source": [
    "# Read and clean data"
   ]
  },
  {
   "cell_type": "code",
   "execution_count": 34,
   "metadata": {
    "ExecuteTime": {
     "end_time": "2020-05-17T06:52:13.524542Z",
     "start_time": "2020-05-17T06:52:13.415942Z"
    }
   },
   "outputs": [],
   "source": [
    "data = pd.read_csv('model_data_5_2.csv')"
   ]
  },
  {
   "cell_type": "code",
   "execution_count": 270,
   "metadata": {
    "ExecuteTime": {
     "end_time": "2020-05-20T02:17:33.832082Z",
     "start_time": "2020-05-20T02:17:33.827765Z"
    }
   },
   "outputs": [],
   "source": [
    "keep = ['Plc.','Jockey','Trainer',\\\n",
    "        'Actual Wt.','Declar. Horse Wt.','Draw',\\\n",
    "        'oriental_1','oriental_2','oriental_3',\\\n",
    "        'apple_1','apple_2','apple_3',\\\n",
    "        'pro_1','pro_2','pro_3',\\\n",
    "        'w_h_odd','s_b_odd',\\\n",
    "        'race_id','Class','Length','Going','Course']"
   ]
  },
  {
   "cell_type": "code",
   "execution_count": 271,
   "metadata": {
    "ExecuteTime": {
     "end_time": "2020-05-20T02:17:34.473057Z",
     "start_time": "2020-05-20T02:17:34.462319Z"
    }
   },
   "outputs": [],
   "source": [
    "# column to keep for modeling\n",
    "model_data = data[keep]"
   ]
  },
  {
   "cell_type": "code",
   "execution_count": 272,
   "metadata": {
    "ExecuteTime": {
     "end_time": "2020-05-20T02:17:35.576665Z",
     "start_time": "2020-05-20T02:17:35.562765Z"
    }
   },
   "outputs": [
    {
     "data": {
      "text/plain": [
       "0.02324561403508772"
      ]
     },
     "execution_count": 272,
     "metadata": {},
     "output_type": "execute_result"
    }
   ],
   "source": [
    "# percentage of na rows\n",
    "(model_data.isna().sum(1) > 0).sum() / model_data.shape[0]"
   ]
  },
  {
   "cell_type": "code",
   "execution_count": 273,
   "metadata": {
    "ExecuteTime": {
     "end_time": "2020-05-20T02:17:37.526789Z",
     "start_time": "2020-05-20T02:17:37.504707Z"
    }
   },
   "outputs": [],
   "source": [
    "yo = model_data[model_data.isna().sum(1) > 0]\n",
    "wow = model_data[model_data.isna().sum(1) == 0]"
   ]
  },
  {
   "cell_type": "code",
   "execution_count": 274,
   "metadata": {
    "ExecuteTime": {
     "end_time": "2020-05-20T02:17:37.907441Z",
     "start_time": "2020-05-20T02:17:37.900218Z"
    }
   },
   "outputs": [
    {
     "data": {
      "text/plain": [
       "array(['WV', 'WX', nan, 'WX-A', 'WV-A', 'WXNR'], dtype=object)"
      ]
     },
     "execution_count": 274,
     "metadata": {},
     "output_type": "execute_result"
    }
   ],
   "source": [
    "# all na rows has no Plc, so no result\n",
    "yo['Plc.'].unique()"
   ]
  },
  {
   "cell_type": "code",
   "execution_count": 275,
   "metadata": {
    "ExecuteTime": {
     "end_time": "2020-05-20T02:17:38.605509Z",
     "start_time": "2020-05-20T02:17:38.582884Z"
    }
   },
   "outputs": [],
   "source": [
    "# drop all NA, since they anyway have no result\n",
    "model_data_rna = model_data.dropna().reset_index(drop=True)"
   ]
  },
  {
   "cell_type": "code",
   "execution_count": 276,
   "metadata": {
    "ExecuteTime": {
     "end_time": "2020-05-20T02:17:39.048649Z",
     "start_time": "2020-05-20T02:17:39.042824Z"
    }
   },
   "outputs": [
    {
     "data": {
      "text/plain": [
       "array(['1', '2', '3', '4', '5', '6', '7', '8', '9', '10', '11', '12',\n",
       "       '13', '14', '3 DH', '5 DH', '2 DH', '8 DH', '9 DH', 'UR', '7 DH',\n",
       "       'FE', 'TNP', 'DNF', 'PU', '10 DH', '12 DH', '1 DH', '11 DH',\n",
       "       '4 DH', '6 DH'], dtype=object)"
      ]
     },
     "execution_count": 276,
     "metadata": {},
     "output_type": "execute_result"
    }
   ],
   "source": [
    "model_data_rna['Plc.'].unique()"
   ]
  },
  {
   "cell_type": "code",
   "execution_count": 277,
   "metadata": {
    "ExecuteTime": {
     "end_time": "2020-05-20T02:17:40.609038Z",
     "start_time": "2020-05-20T02:17:40.594736Z"
    }
   },
   "outputs": [],
   "source": [
    "# rm rows with no result\n",
    "model_data_rna = model_data_rna[~model_data_rna['Plc.'].isin(['FE','TNP','DNF','PU','UR'])].reset_index(drop=True)"
   ]
  },
  {
   "cell_type": "code",
   "execution_count": 278,
   "metadata": {
    "ExecuteTime": {
     "end_time": "2020-05-20T02:17:41.944369Z",
     "start_time": "2020-05-20T02:17:41.936165Z"
    }
   },
   "outputs": [
    {
     "data": {
      "text/plain": [
       "array(['1', '2', '3', '4', '5', '6', '7', '8', '9', '10', '11', '12',\n",
       "       '13', '14', '3 DH', '5 DH', '2 DH', '8 DH', '9 DH', '7 DH',\n",
       "       '10 DH', '12 DH', '1 DH', '11 DH', '4 DH', '6 DH'], dtype=object)"
      ]
     },
     "execution_count": 278,
     "metadata": {},
     "output_type": "execute_result"
    }
   ],
   "source": [
    "# handle result\n",
    "model_data_rna['Plc.'].unique()"
   ]
  },
  {
   "cell_type": "code",
   "execution_count": 279,
   "metadata": {
    "ExecuteTime": {
     "end_time": "2020-05-20T02:17:43.178059Z",
     "start_time": "2020-05-20T02:17:43.140626Z"
    }
   },
   "outputs": [],
   "source": [
    "model_data_rna['Plc.'] = [int(re.sub(r'\\s[a-zA-Z]{1,3}$', '', i)) for i in model_data_rna['Plc.']]"
   ]
  },
  {
   "cell_type": "markdown",
   "metadata": {},
   "source": [
    "## Cat and Cont variables"
   ]
  },
  {
   "cell_type": "code",
   "execution_count": 280,
   "metadata": {
    "ExecuteTime": {
     "end_time": "2020-05-20T02:17:44.418750Z",
     "start_time": "2020-05-20T02:17:44.400849Z"
    }
   },
   "outputs": [],
   "source": [
    "# categorical data\n",
    "cat_data = model_data_rna.select_dtypes('object')\n",
    "cat_data = cat_data[[i for i in list(cat_data) if i not in ['Plc.','race_id']]]\n",
    "\n",
    "# continuous data\n",
    "cont_data = model_data_rna.select_dtypes(['float','int'])\n",
    "cont_data = cont_data[[i for i in list(cont_data) if i != 'Plc.']]\n",
    "\n",
    "# race id and result\n",
    "id_ = model_data_rna[['race_id']]\n",
    "result = model_data_rna['Plc.'].values\n",
    "\n",
    "# postition result\n",
    "position = (result <= 3).astype('int')"
   ]
  },
  {
   "cell_type": "code",
   "execution_count": 281,
   "metadata": {
    "ExecuteTime": {
     "end_time": "2020-05-20T02:17:45.990021Z",
     "start_time": "2020-05-20T02:17:45.985693Z"
    }
   },
   "outputs": [],
   "source": [
    "from sklearn.preprocessing import OneHotEncoder"
   ]
  },
  {
   "cell_type": "markdown",
   "metadata": {},
   "source": [
    "# Feature importance"
   ]
  },
  {
   "cell_type": "markdown",
   "metadata": {},
   "source": [
    "## Continuous variables"
   ]
  },
  {
   "cell_type": "code",
   "execution_count": 282,
   "metadata": {
    "ExecuteTime": {
     "end_time": "2020-05-20T02:17:47.903032Z",
     "start_time": "2020-05-20T02:17:47.897672Z"
    }
   },
   "outputs": [],
   "source": [
    "from sklearn.preprocessing import StandardScaler"
   ]
  },
  {
   "cell_type": "code",
   "execution_count": 283,
   "metadata": {
    "ExecuteTime": {
     "end_time": "2020-05-20T02:17:48.340141Z",
     "start_time": "2020-05-20T02:17:48.327693Z"
    }
   },
   "outputs": [],
   "source": [
    "X = StandardScaler().fit_transform(cont_data)"
   ]
  },
  {
   "cell_type": "code",
   "execution_count": 284,
   "metadata": {
    "ExecuteTime": {
     "end_time": "2020-05-20T02:17:48.751352Z",
     "start_time": "2020-05-20T02:17:48.748241Z"
    }
   },
   "outputs": [],
   "source": [
    "from sklearn.linear_model import LogisticRegression"
   ]
  },
  {
   "cell_type": "code",
   "execution_count": 285,
   "metadata": {
    "ExecuteTime": {
     "end_time": "2020-05-20T02:17:49.602949Z",
     "start_time": "2020-05-20T02:17:49.292726Z"
    }
   },
   "outputs": [],
   "source": [
    "clf = LogisticRegression(random_state=0, penalty='l1', solver='saga').fit(X, position)"
   ]
  },
  {
   "cell_type": "code",
   "execution_count": 286,
   "metadata": {
    "ExecuteTime": {
     "end_time": "2020-05-20T02:17:50.383000Z",
     "start_time": "2020-05-20T02:17:50.203482Z"
    }
   },
   "outputs": [
    {
     "data": {
      "image/png": "[encoded data removed]",
      "text/plain": [
       "<Figure size 720x360 with 1 Axes>"
      ]
     },
     "metadata": {
      "needs_background": "light"
     },
     "output_type": "display_data"
    }
   ],
   "source": [
    "plt.figure(figsize=(10,5))\n",
    "plt.barh(list(cont_data), clf.coef_[0])\n",
    "plt.show()"
   ]
  },
  {
   "cell_type": "code",
   "execution_count": 293,
   "metadata": {
    "ExecuteTime": {
     "end_time": "2020-05-20T02:19:02.846774Z",
     "start_time": "2020-05-20T02:19:02.833446Z"
    }
   },
   "outputs": [
    {
     "data": {
      "text/html": [
       "<div>\n",
       "<style scoped>\n",
       "    .dataframe tbody tr th:only-of-type {\n",
       "        vertical-align: middle;\n",
       "    }\n",
       "\n",
       "    .dataframe tbody tr th {\n",
       "        vertical-align: top;\n",
       "    }\n",
       "\n",
       "    .dataframe thead th {\n",
       "        text-align: right;\n",
       "    }\n",
       "</style>\n",
       "<table border=\"1\" class=\"dataframe\">\n",
       "  <thead>\n",
       "    <tr style=\"text-align: right;\">\n",
       "      <th></th>\n",
       "      <th>variable</th>\n",
       "      <th>coef</th>\n",
       "    </tr>\n",
       "  </thead>\n",
       "  <tbody>\n",
       "    <tr>\n",
       "      <th>0</th>\n",
       "      <td>Actual Wt.</td>\n",
       "      <td>-0.135459</td>\n",
       "    </tr>\n",
       "    <tr>\n",
       "      <th>1</th>\n",
       "      <td>Declar. Horse Wt.</td>\n",
       "      <td>0.014780</td>\n",
       "    </tr>\n",
       "    <tr>\n",
       "      <th>2</th>\n",
       "      <td>Draw</td>\n",
       "      <td>-0.098245</td>\n",
       "    </tr>\n",
       "    <tr>\n",
       "      <th>3</th>\n",
       "      <td>oriental_1</td>\n",
       "      <td>0.218378</td>\n",
       "    </tr>\n",
       "    <tr>\n",
       "      <th>4</th>\n",
       "      <td>oriental_2</td>\n",
       "      <td>0.147873</td>\n",
       "    </tr>\n",
       "    <tr>\n",
       "      <th>5</th>\n",
       "      <td>oriental_3</td>\n",
       "      <td>0.094107</td>\n",
       "    </tr>\n",
       "    <tr>\n",
       "      <th>6</th>\n",
       "      <td>apple_1</td>\n",
       "      <td>0.016625</td>\n",
       "    </tr>\n",
       "    <tr>\n",
       "      <th>7</th>\n",
       "      <td>apple_2</td>\n",
       "      <td>0.032198</td>\n",
       "    </tr>\n",
       "    <tr>\n",
       "      <th>8</th>\n",
       "      <td>apple_3</td>\n",
       "      <td>0.020419</td>\n",
       "    </tr>\n",
       "    <tr>\n",
       "      <th>9</th>\n",
       "      <td>pro_1</td>\n",
       "      <td>0.096951</td>\n",
       "    </tr>\n",
       "    <tr>\n",
       "      <th>10</th>\n",
       "      <td>pro_2</td>\n",
       "      <td>-0.008544</td>\n",
       "    </tr>\n",
       "    <tr>\n",
       "      <th>11</th>\n",
       "      <td>pro_3</td>\n",
       "      <td>0.026282</td>\n",
       "    </tr>\n",
       "    <tr>\n",
       "      <th>12</th>\n",
       "      <td>w_h_odd</td>\n",
       "      <td>-0.864216</td>\n",
       "    </tr>\n",
       "    <tr>\n",
       "      <th>13</th>\n",
       "      <td>s_b_odd</td>\n",
       "      <td>-0.148476</td>\n",
       "    </tr>\n",
       "    <tr>\n",
       "      <th>14</th>\n",
       "      <td>Length</td>\n",
       "      <td>-0.017156</td>\n",
       "    </tr>\n",
       "  </tbody>\n",
       "</table>\n",
       "</div>"
      ],
      "text/plain": [
       "             variable      coef\n",
       "0          Actual Wt. -0.135459\n",
       "1   Declar. Horse Wt.  0.014780\n",
       "2                Draw -0.098245\n",
       "3          oriental_1  0.218378\n",
       "4          oriental_2  0.147873\n",
       "5          oriental_3  0.094107\n",
       "6             apple_1  0.016625\n",
       "7             apple_2  0.032198\n",
       "8             apple_3  0.020419\n",
       "9               pro_1  0.096951\n",
       "10              pro_2 -0.008544\n",
       "11              pro_3  0.026282\n",
       "12            w_h_odd -0.864216\n",
       "13            s_b_odd -0.148476\n",
       "14             Length -0.017156"
      ]
     },
     "execution_count": 293,
     "metadata": {},
     "output_type": "execute_result"
    }
   ],
   "source": [
    "pd.DataFrame({'variable':list(cont_data), 'coef':clf.coef_[0]})"
   ]
  },
  {
   "cell_type": "markdown",
   "metadata": {
    "ExecuteTime": {
     "end_time": "2020-05-17T08:43:06.521004Z",
     "start_time": "2020-05-17T08:43:06.515153Z"
    }
   },
   "source": [
    "## Categorical variables"
   ]
  },
  {
   "cell_type": "code",
   "execution_count": 294,
   "metadata": {
    "ExecuteTime": {
     "end_time": "2020-05-20T02:19:20.306397Z",
     "start_time": "2020-05-20T02:19:20.302324Z"
    }
   },
   "outputs": [],
   "source": [
    "from sklearn.feature_selection import chi2"
   ]
  },
  {
   "cell_type": "code",
   "execution_count": 295,
   "metadata": {
    "ExecuteTime": {
     "end_time": "2020-05-20T02:19:20.805116Z",
     "start_time": "2020-05-20T02:19:20.798660Z"
    }
   },
   "outputs": [],
   "source": [
    "def map_cat_to_num(in_arr):\n",
    "    unique = np.unique(in_arr)\n",
    "    mapper = {j:i for i,j in enumerate(unique)}\n",
    "    return np.array([mapper[i] for i in in_arr])"
   ]
  },
  {
   "cell_type": "code",
   "execution_count": 296,
   "metadata": {
    "ExecuteTime": {
     "end_time": "2020-05-20T02:19:21.614524Z",
     "start_time": "2020-05-20T02:19:21.593784Z"
    }
   },
   "outputs": [
    {
     "data": {
      "text/html": [
       "<div>\n",
       "<style scoped>\n",
       "    .dataframe tbody tr th:only-of-type {\n",
       "        vertical-align: middle;\n",
       "    }\n",
       "\n",
       "    .dataframe tbody tr th {\n",
       "        vertical-align: top;\n",
       "    }\n",
       "\n",
       "    .dataframe thead th {\n",
       "        text-align: right;\n",
       "    }\n",
       "</style>\n",
       "<table border=\"1\" class=\"dataframe\">\n",
       "  <thead>\n",
       "    <tr style=\"text-align: right;\">\n",
       "      <th></th>\n",
       "      <th>Jockey</th>\n",
       "      <th>Trainer</th>\n",
       "      <th>Class</th>\n",
       "      <th>Going</th>\n",
       "      <th>Course</th>\n",
       "    </tr>\n",
       "  </thead>\n",
       "  <tbody>\n",
       "    <tr>\n",
       "      <th>0</th>\n",
       "      <td>Z Purton</td>\n",
       "      <td>K L Man</td>\n",
       "      <td>Class 4</td>\n",
       "      <td>GOOD</td>\n",
       "      <td>TURF - \"C\" Course</td>\n",
       "    </tr>\n",
       "    <tr>\n",
       "      <th>1</th>\n",
       "      <td>J Moreira</td>\n",
       "      <td>J Size</td>\n",
       "      <td>Class 4</td>\n",
       "      <td>GOOD</td>\n",
       "      <td>TURF - \"C\" Course</td>\n",
       "    </tr>\n",
       "    <tr>\n",
       "      <th>2</th>\n",
       "      <td>O Chavez</td>\n",
       "      <td>A S Cruz</td>\n",
       "      <td>Class 4</td>\n",
       "      <td>GOOD</td>\n",
       "      <td>TURF - \"C\" Course</td>\n",
       "    </tr>\n",
       "    <tr>\n",
       "      <th>3</th>\n",
       "      <td>U Rispoli</td>\n",
       "      <td>T P Yung</td>\n",
       "      <td>Class 4</td>\n",
       "      <td>GOOD</td>\n",
       "      <td>TURF - \"C\" Course</td>\n",
       "    </tr>\n",
       "    <tr>\n",
       "      <th>4</th>\n",
       "      <td>K Teetan</td>\n",
       "      <td>D E Ferraris</td>\n",
       "      <td>Class 4</td>\n",
       "      <td>GOOD</td>\n",
       "      <td>TURF - \"C\" Course</td>\n",
       "    </tr>\n",
       "  </tbody>\n",
       "</table>\n",
       "</div>"
      ],
      "text/plain": [
       "        Jockey         Trainer    Class Going             Course\n",
       "0    Z Purton         K L Man   Class 4  GOOD  TURF - \"C\" Course\n",
       "1   J Moreira          J Size   Class 4  GOOD  TURF - \"C\" Course\n",
       "2    O Chavez        A S Cruz   Class 4  GOOD  TURF - \"C\" Course\n",
       "3   U Rispoli        T P Yung   Class 4  GOOD  TURF - \"C\" Course\n",
       "4    K Teetan    D E Ferraris   Class 4  GOOD  TURF - \"C\" Course"
      ]
     },
     "execution_count": 296,
     "metadata": {},
     "output_type": "execute_result"
    }
   ],
   "source": [
    "cat_data.head()"
   ]
  },
  {
   "cell_type": "markdown",
   "metadata": {},
   "source": [
    "$p<\\alpha$, reject null hypothesis, X and y are associated"
   ]
  },
  {
   "cell_type": "code",
   "execution_count": 297,
   "metadata": {
    "ExecuteTime": {
     "end_time": "2020-05-20T02:19:22.804669Z",
     "start_time": "2020-05-20T02:19:22.717728Z"
    }
   },
   "outputs": [
    {
     "name": "stdout",
     "output_type": "stream",
     "text": [
      "Jockey 0.0 associate\n",
      "Trainer 0.0 associate\n",
      "Class 0.04208589937934474 associate\n",
      "Going 0.4764875168999265 not associate\n",
      "Course 0.6728480850787857 not associate\n"
     ]
    }
   ],
   "source": [
    "for i in list(cat_data):\n",
    "    bow = map_cat_to_num(cat_data[i]).reshape(-1,1)\n",
    "    p_value = chi2(bow, position)[1]\n",
    "    if p_value < 0.05:\n",
    "        asso = 'associate'\n",
    "    else:\n",
    "        asso = 'not associate'\n",
    "    print(i, round(p_value[0], 20), asso)"
   ]
  },
  {
   "cell_type": "code",
   "execution_count": null,
   "metadata": {},
   "outputs": [],
   "source": []
  },
  {
   "cell_type": "code",
   "execution_count": 298,
   "metadata": {
    "ExecuteTime": {
     "end_time": "2020-05-20T02:19:37.573300Z",
     "start_time": "2020-05-20T02:19:37.540208Z"
    }
   },
   "outputs": [
    {
     "data": {
      "text/plain": [
       "TURF - \"A\" Course      0.254982\n",
       "TURF - \"C\" Course      0.193647\n",
       "TURF - \"C+3\" Course    0.187253\n",
       "TURF - \"B\" Course      0.149993\n",
       "ALL WEATHER TRACK      0.117726\n",
       "TURF - \"A+3\" Course    0.057839\n",
       "TURF - \"B+2\" Course    0.038560\n",
       "Name: Course, dtype: float64"
      ]
     },
     "execution_count": 298,
     "metadata": {},
     "output_type": "execute_result"
    }
   ],
   "source": [
    "model_data_rna.Course.value_counts() / model_data_rna.Course.value_counts().sum()"
   ]
  },
  {
   "cell_type": "code",
   "execution_count": null,
   "metadata": {},
   "outputs": [],
   "source": []
  },
  {
   "cell_type": "code",
   "execution_count": null,
   "metadata": {},
   "outputs": [],
   "source": []
  },
  {
   "cell_type": "code",
   "execution_count": 93,
   "metadata": {
    "ExecuteTime": {
     "end_time": "2020-05-17T07:30:17.148976Z",
     "start_time": "2020-05-17T07:30:17.144290Z"
    }
   },
   "outputs": [],
   "source": [
    "# enc = OneHotEncoder(handle_unknown='ignore').fit(cat_data)"
   ]
  },
  {
   "cell_type": "code",
   "execution_count": null,
   "metadata": {},
   "outputs": [],
   "source": []
  },
  {
   "cell_type": "code",
   "execution_count": null,
   "metadata": {},
   "outputs": [],
   "source": []
  }
 ],
 "metadata": {
  "kernelspec": {
   "display_name": "Python 3",
   "language": "python",
   "name": "python3"
  },
  "language_info": {
   "codemirror_mode": {
    "name": "ipython",
    "version": 3
   },
   "file_extension": ".py",
   "mimetype": "text/x-python",
   "name": "python",
   "nbconvert_exporter": "python",
   "pygments_lexer": "ipython3",
   "version": "3.7.3"
  },
  "toc": {
   "base_numbering": 1,
   "nav_menu": {},
   "number_sections": true,
   "sideBar": true,
   "skip_h1_title": false,
   "title_cell": "Table of Contents",
   "title_sidebar": "Contents",
   "toc_cell": false,
   "toc_position": {},
   "toc_section_display": true,
   "toc_window_display": false
  }
 },
 "nbformat": 4,
 "nbformat_minor": 2
}
