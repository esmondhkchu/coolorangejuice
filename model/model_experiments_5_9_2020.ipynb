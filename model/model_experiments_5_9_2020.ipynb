{
 "cells": [
  {
   "cell_type": "markdown",
   "metadata": {},
   "source": [
    "[Load Data](#load)\n",
    "\n",
    "[Data Preparation](#prepare)\n",
    "1. [Balance and Split](#bs)\n",
    "2. [Scale](#scale)\n",
    "\n",
    "[Model](#model)\n",
    "1. [Random Forest](#rf)\n",
    "2. [Gaussian NB](#gnb)\n",
    "3. [Logistic Regression](#logit)\n",
    "4. [KNN](#knn)\n",
    "5. [Neural Network](#nn)\n",
    "\n",
    "[Evaluation](#evaluation)\n",
    "1. [Precision & Recall](#precision_recall)\n",
    "2. [AUC ROC](#auc_roc)"
   ]
  },
  {
   "cell_type": "code",
   "execution_count": 1,
   "metadata": {
    "ExecuteTime": {
     "end_time": "2020-05-09T10:35:48.796085Z",
     "start_time": "2020-05-09T10:35:48.434488Z"
    }
   },
   "outputs": [],
   "source": [
    "import numpy as np\n",
    "import pandas as pd"
   ]
  },
  {
   "cell_type": "code",
   "execution_count": 2,
   "metadata": {
    "ExecuteTime": {
     "end_time": "2020-05-09T10:35:49.400362Z",
     "start_time": "2020-05-09T10:35:48.798314Z"
    }
   },
   "outputs": [],
   "source": [
    "import seaborn as sns\n",
    "import matplotlib.pyplot as plt"
   ]
  },
  {
   "cell_type": "code",
   "execution_count": 3,
   "metadata": {
    "ExecuteTime": {
     "end_time": "2020-05-09T10:35:49.454473Z",
     "start_time": "2020-05-09T10:35:49.402648Z"
    }
   },
   "outputs": [],
   "source": [
    "from tqdm import tqdm_notebook as tqdm"
   ]
  },
  {
   "cell_type": "markdown",
   "metadata": {},
   "source": [
    "<a id='load'></a>\n",
    "# Load data"
   ]
  },
  {
   "cell_type": "code",
   "execution_count": 4,
   "metadata": {
    "ExecuteTime": {
     "end_time": "2020-05-09T10:35:49.507280Z",
     "start_time": "2020-05-09T10:35:49.456520Z"
    }
   },
   "outputs": [],
   "source": [
    "data = pd.read_csv('./5_2_2020_data.csv')"
   ]
  },
  {
   "cell_type": "code",
   "execution_count": 5,
   "metadata": {
    "ExecuteTime": {
     "end_time": "2020-05-09T10:35:49.615795Z",
     "start_time": "2020-05-09T10:35:49.593802Z"
    }
   },
   "outputs": [],
   "source": [
    "data = data.drop(data[data['oriental_1'] == '-'].index).reset_index(drop=True)"
   ]
  },
  {
   "cell_type": "markdown",
   "metadata": {},
   "source": [
    "<a id='prepare'></a>\n",
    "# Prepare data"
   ]
  },
  {
   "cell_type": "code",
   "execution_count": 6,
   "metadata": {
    "ExecuteTime": {
     "end_time": "2020-05-09T10:35:50.295322Z",
     "start_time": "2020-05-09T10:35:50.292312Z"
    }
   },
   "outputs": [],
   "source": [
    "exclude = ['horse_num','oriental_sum','apple_sum','pro_sum',\n",
    "           'total_1','total_2','total_3','total_sum','file_name',\n",
    "           'sheet_name','W.H. FixOdd 60','S.B.Fix Odd 60']"
   ]
  },
  {
   "cell_type": "code",
   "execution_count": 7,
   "metadata": {
    "ExecuteTime": {
     "end_time": "2020-05-09T10:35:50.467838Z",
     "start_time": "2020-05-09T10:35:50.454470Z"
    }
   },
   "outputs": [],
   "source": [
    "data_ex = data[[i for i in list(data) if i not in exclude]].dropna()\n",
    "include_col = [i for i in data_ex if i != 'result']"
   ]
  },
  {
   "cell_type": "code",
   "execution_count": 8,
   "metadata": {
    "ExecuteTime": {
     "end_time": "2020-05-09T10:35:50.652003Z",
     "start_time": "2020-05-09T10:35:50.635947Z"
    }
   },
   "outputs": [],
   "source": [
    "X = data_ex[include_col].astype('float')\n",
    "y = np.array([1 if i == 1 else 0 for i in data_ex['result']])"
   ]
  },
  {
   "cell_type": "code",
   "execution_count": 9,
   "metadata": {
    "ExecuteTime": {
     "end_time": "2020-05-09T10:35:51.132054Z",
     "start_time": "2020-05-09T10:35:51.127555Z"
    }
   },
   "outputs": [],
   "source": [
    "# plt.figure(figsize=(10,10))\n",
    "# sns.heatmap(data_ex.corr(), square=True, cmap='PiYG')\n",
    "# plt.show()"
   ]
  },
  {
   "cell_type": "markdown",
   "metadata": {},
   "source": [
    "<a id='bs'></a>\n",
    "## Balance and Split"
   ]
  },
  {
   "cell_type": "code",
   "execution_count": 10,
   "metadata": {
    "ExecuteTime": {
     "end_time": "2020-05-09T10:35:54.255268Z",
     "start_time": "2020-05-09T10:35:52.586321Z"
    }
   },
   "outputs": [
    {
     "name": "stderr",
     "output_type": "stream",
     "text": [
      "Using TensorFlow backend.\n"
     ]
    }
   ],
   "source": [
    "from imblearn import over_sampling, under_sampling\n",
    "from imblearn.pipeline import Pipeline"
   ]
  },
  {
   "cell_type": "code",
   "execution_count": 11,
   "metadata": {
    "ExecuteTime": {
     "end_time": "2020-05-09T10:35:54.789850Z",
     "start_time": "2020-05-09T10:35:54.784147Z"
    }
   },
   "outputs": [],
   "source": [
    "# create sampling strategy\n",
    "# both oversampling and undersampling\n",
    "over = over_sampling.SMOTE(0.8)\n",
    "under = under_sampling.RandomUnderSampler(0.8)"
   ]
  },
  {
   "cell_type": "code",
   "execution_count": 12,
   "metadata": {
    "ExecuteTime": {
     "end_time": "2020-05-09T10:35:55.117601Z",
     "start_time": "2020-05-09T10:35:55.112444Z"
    }
   },
   "outputs": [],
   "source": [
    "# create pipeline\n",
    "pipeline = Pipeline([('o', over),('u', under)])"
   ]
  },
  {
   "cell_type": "code",
   "execution_count": 13,
   "metadata": {
    "ExecuteTime": {
     "end_time": "2020-05-09T10:35:55.320203Z",
     "start_time": "2020-05-09T10:35:55.251465Z"
    }
   },
   "outputs": [],
   "source": [
    "X_sam, y_sam = pipeline.fit_resample(X, y)"
   ]
  },
  {
   "cell_type": "code",
   "execution_count": 14,
   "metadata": {
    "ExecuteTime": {
     "end_time": "2020-05-09T10:35:55.401203Z",
     "start_time": "2020-05-09T10:35:55.398277Z"
    }
   },
   "outputs": [],
   "source": [
    "from sklearn.model_selection import train_test_split"
   ]
  },
  {
   "cell_type": "code",
   "execution_count": 15,
   "metadata": {
    "ExecuteTime": {
     "end_time": "2020-05-09T10:35:55.714303Z",
     "start_time": "2020-05-09T10:35:55.701580Z"
    }
   },
   "outputs": [],
   "source": [
    "X_train, X_test, y_train, y_test = train_test_split(X_sam, y_sam, test_size=0.15)"
   ]
  },
  {
   "cell_type": "markdown",
   "metadata": {},
   "source": [
    "<a id='scale'></a>\n",
    "## Scale"
   ]
  },
  {
   "cell_type": "code",
   "execution_count": 16,
   "metadata": {
    "ExecuteTime": {
     "end_time": "2020-05-09T10:35:57.941641Z",
     "start_time": "2020-05-09T10:35:57.937527Z"
    }
   },
   "outputs": [],
   "source": [
    "from sklearn.preprocessing import StandardScaler"
   ]
  },
  {
   "cell_type": "code",
   "execution_count": 17,
   "metadata": {
    "ExecuteTime": {
     "end_time": "2020-05-09T10:35:58.575216Z",
     "start_time": "2020-05-09T10:35:58.561204Z"
    }
   },
   "outputs": [
    {
     "data": {
      "text/plain": [
       "StandardScaler(copy=True, with_mean=True, with_std=True)"
      ]
     },
     "execution_count": 17,
     "metadata": {},
     "output_type": "execute_result"
    }
   ],
   "source": [
    "scaler = StandardScaler()\n",
    "scaler.fit(X_train)"
   ]
  },
  {
   "cell_type": "code",
   "execution_count": 18,
   "metadata": {
    "ExecuteTime": {
     "end_time": "2020-05-09T10:35:59.061782Z",
     "start_time": "2020-05-09T10:35:59.051553Z"
    }
   },
   "outputs": [],
   "source": [
    "X_train_n = scaler.transform(X_train)\n",
    "X_test_n = scaler.transform(X_test)"
   ]
  },
  {
   "cell_type": "markdown",
   "metadata": {},
   "source": [
    "<a id='model'></a>\n",
    "# Model"
   ]
  },
  {
   "cell_type": "code",
   "execution_count": 19,
   "metadata": {
    "ExecuteTime": {
     "end_time": "2020-05-09T10:36:00.483655Z",
     "start_time": "2020-05-09T10:36:00.479486Z"
    }
   },
   "outputs": [],
   "source": [
    "from sklearn.metrics import confusion_matrix"
   ]
  },
  {
   "cell_type": "code",
   "execution_count": 20,
   "metadata": {
    "ExecuteTime": {
     "end_time": "2020-05-09T10:36:00.806716Z",
     "start_time": "2020-05-09T10:36:00.800980Z"
    }
   },
   "outputs": [],
   "source": [
    "def precision_recall(true, predict, print_=True):\n",
    "    cm = confusion_matrix(true, predict)\n",
    "    if print_:\n",
    "        print('Confusion Matrix:')\n",
    "        print(cm)\n",
    "        print()\n",
    "    \n",
    "    tn, fp, fn, tp = confusion_matrix(true, predict).ravel()\n",
    "    precision = tp / (tp+fp)\n",
    "    recall = tp / (tp+fn)\n",
    "    \n",
    "    if print_:\n",
    "        print('Precision:', precision)\n",
    "        print('Recall:', recall)\n",
    "    else:\n",
    "        return precision, recall"
   ]
  },
  {
   "cell_type": "markdown",
   "metadata": {},
   "source": [
    "<a id='rf'></a>\n",
    "## Random Forest"
   ]
  },
  {
   "cell_type": "code",
   "execution_count": 21,
   "metadata": {
    "ExecuteTime": {
     "end_time": "2020-05-09T10:36:03.711934Z",
     "start_time": "2020-05-09T10:36:03.708032Z"
    }
   },
   "outputs": [],
   "source": [
    "from sklearn.ensemble import RandomForestClassifier\n",
    "from sklearn.model_selection import RandomizedSearchCV"
   ]
  },
  {
   "cell_type": "code",
   "execution_count": 22,
   "metadata": {
    "ExecuteTime": {
     "end_time": "2020-05-09T10:36:04.133514Z",
     "start_time": "2020-05-09T10:36:04.126766Z"
    }
   },
   "outputs": [],
   "source": [
    "# Number of trees in random forest\n",
    "n_estimators = [int(x) for x in np.linspace(start = 200, stop = 2000, num = 10)]\n",
    "# Number of features to consider at every split\n",
    "max_features = ['auto', 'sqrt']\n",
    "# Maximum number of levels in tree\n",
    "max_depth = [int(x) for x in np.linspace(10, 110, num = 11)]\n",
    "max_depth.append(None)\n",
    "# Minimum number of samples required to split a node\n",
    "min_samples_split = [2, 5, 10]\n",
    "# Minimum number of samples required at each leaf node\n",
    "min_samples_leaf = [1, 2, 4]\n",
    "# Method of selecting samples for training each tree\n",
    "bootstrap = [True, False]"
   ]
  },
  {
   "cell_type": "code",
   "execution_count": 23,
   "metadata": {
    "ExecuteTime": {
     "end_time": "2020-05-09T10:36:05.226701Z",
     "start_time": "2020-05-09T10:36:05.221762Z"
    }
   },
   "outputs": [],
   "source": [
    "# Create the random grid\n",
    "random_grid = {'n_estimators': n_estimators,\n",
    "               'max_features': max_features,\n",
    "               'max_depth': max_depth,\n",
    "               'min_samples_split': min_samples_split,\n",
    "               'min_samples_leaf': min_samples_leaf,\n",
    "               'bootstrap': bootstrap}"
   ]
  },
  {
   "cell_type": "code",
   "execution_count": 24,
   "metadata": {
    "ExecuteTime": {
     "end_time": "2020-05-09T10:36:07.898062Z",
     "start_time": "2020-05-09T10:36:07.894189Z"
    }
   },
   "outputs": [],
   "source": [
    "rf = RandomForestClassifier()\n",
    "\n",
    "rf_random = RandomizedSearchCV(estimator=rf, \n",
    "                               param_distributions=random_grid, \n",
    "                               n_iter = 100, \n",
    "                               cv = 5, \n",
    "                               verbose=2,\n",
    "                               random_state=42, \n",
    "                               n_jobs = -1)"
   ]
  },
  {
   "cell_type": "code",
   "execution_count": 25,
   "metadata": {
    "ExecuteTime": {
     "end_time": "2020-05-09T12:33:00.891151Z",
     "start_time": "2020-05-09T10:36:11.878624Z"
    }
   },
   "outputs": [
    {
     "name": "stdout",
     "output_type": "stream",
     "text": [
      "Fitting 5 folds for each of 100 candidates, totalling 500 fits\n"
     ]
    },
    {
     "name": "stderr",
     "output_type": "stream",
     "text": [
      "[Parallel(n_jobs=-1)]: Using backend LokyBackend with 4 concurrent workers.\n",
      "[Parallel(n_jobs=-1)]: Done  33 tasks      | elapsed:  8.3min\n",
      "[Parallel(n_jobs=-1)]: Done 154 tasks      | elapsed: 41.5min\n",
      "[Parallel(n_jobs=-1)]: Done 357 tasks      | elapsed: 87.9min\n",
      "[Parallel(n_jobs=-1)]: Done 500 out of 500 | elapsed: 115.9min finished\n"
     ]
    },
    {
     "data": {
      "text/plain": [
       "RandomizedSearchCV(cv=5, error_score=nan,\n",
       "                   estimator=RandomForestClassifier(bootstrap=True,\n",
       "                                                    ccp_alpha=0.0,\n",
       "                                                    class_weight=None,\n",
       "                                                    criterion='gini',\n",
       "                                                    max_depth=None,\n",
       "                                                    max_features='auto',\n",
       "                                                    max_leaf_nodes=None,\n",
       "                                                    max_samples=None,\n",
       "                                                    min_impurity_decrease=0.0,\n",
       "                                                    min_impurity_split=None,\n",
       "                                                    min_samples_leaf=1,\n",
       "                                                    min_samples_split=2,\n",
       "                                                    min_weight_fraction_leaf=0.0,\n",
       "                                                    n_estimators=100,\n",
       "                                                    n_jobs...\n",
       "                   param_distributions={'bootstrap': [True, False],\n",
       "                                        'max_depth': [10, 20, 30, 40, 50, 60,\n",
       "                                                      70, 80, 90, 100, 110,\n",
       "                                                      None],\n",
       "                                        'max_features': ['auto', 'sqrt'],\n",
       "                                        'min_samples_leaf': [1, 2, 4],\n",
       "                                        'min_samples_split': [2, 5, 10],\n",
       "                                        'n_estimators': [200, 400, 600, 800,\n",
       "                                                         1000, 1200, 1400, 1600,\n",
       "                                                         1800, 2000]},\n",
       "                   pre_dispatch='2*n_jobs', random_state=42, refit=True,\n",
       "                   return_train_score=False, scoring=None, verbose=2)"
      ]
     },
     "execution_count": 25,
     "metadata": {},
     "output_type": "execute_result"
    }
   ],
   "source": [
    "rf_random.fit(X_train, y_train)"
   ]
  },
  {
   "cell_type": "code",
   "execution_count": 27,
   "metadata": {
    "ExecuteTime": {
     "end_time": "2020-05-09T12:33:24.329302Z",
     "start_time": "2020-05-09T12:33:24.319111Z"
    }
   },
   "outputs": [
    {
     "data": {
      "text/plain": [
       "{'n_estimators': 1000,\n",
       " 'min_samples_split': 2,\n",
       " 'min_samples_leaf': 1,\n",
       " 'max_features': 'auto',\n",
       " 'max_depth': 50,\n",
       " 'bootstrap': False}"
      ]
     },
     "execution_count": 27,
     "metadata": {},
     "output_type": "execute_result"
    }
   ],
   "source": [
    "rf_random.best_params_"
   ]
  },
  {
   "cell_type": "code",
   "execution_count": 28,
   "metadata": {
    "ExecuteTime": {
     "end_time": "2020-05-09T12:33:39.638886Z",
     "start_time": "2020-05-09T12:33:39.635231Z"
    }
   },
   "outputs": [],
   "source": [
    "rf_best = RandomForestClassifier(n_estimators=1000, \n",
    "                                 min_samples_split=2,\n",
    "                                 min_samples_leaf=1,\n",
    "                                 max_features='auto',\n",
    "                                 max_depth=50,\n",
    "                                 bootstrap=False)"
   ]
  },
  {
   "cell_type": "code",
   "execution_count": 29,
   "metadata": {
    "ExecuteTime": {
     "end_time": "2020-05-09T12:34:38.055331Z",
     "start_time": "2020-05-09T12:33:43.358920Z"
    }
   },
   "outputs": [
    {
     "data": {
      "text/plain": [
       "RandomForestClassifier(bootstrap=False, ccp_alpha=0.0, class_weight=None,\n",
       "                       criterion='gini', max_depth=50, max_features='auto',\n",
       "                       max_leaf_nodes=None, max_samples=None,\n",
       "                       min_impurity_decrease=0.0, min_impurity_split=None,\n",
       "                       min_samples_leaf=1, min_samples_split=2,\n",
       "                       min_weight_fraction_leaf=0.0, n_estimators=1000,\n",
       "                       n_jobs=None, oob_score=False, random_state=None,\n",
       "                       verbose=0, warm_start=False)"
      ]
     },
     "execution_count": 29,
     "metadata": {},
     "output_type": "execute_result"
    }
   ],
   "source": [
    "rf_best.fit(X_train, y_train)"
   ]
  },
  {
   "cell_type": "code",
   "execution_count": 30,
   "metadata": {
    "ExecuteTime": {
     "end_time": "2020-05-09T12:34:38.060321Z",
     "start_time": "2020-05-09T12:34:38.057394Z"
    }
   },
   "outputs": [],
   "source": [
    "import pickle"
   ]
  },
  {
   "cell_type": "code",
   "execution_count": 31,
   "metadata": {
    "ExecuteTime": {
     "end_time": "2020-05-09T12:34:38.879955Z",
     "start_time": "2020-05-09T12:34:38.063972Z"
    }
   },
   "outputs": [],
   "source": [
    "filename = 'model_rf_5_9_top1.sav'\n",
    "pickle.dump(rf_best, open(filename, 'wb'))"
   ]
  },
  {
   "cell_type": "markdown",
   "metadata": {},
   "source": [
    "<a id='svm'></a>\n",
    "## SVM"
   ]
  },
  {
   "cell_type": "code",
   "execution_count": 32,
   "metadata": {
    "ExecuteTime": {
     "end_time": "2020-05-09T12:34:49.817450Z",
     "start_time": "2020-05-09T12:34:49.809093Z"
    }
   },
   "outputs": [],
   "source": [
    "from sklearn.svm import SVC"
   ]
  },
  {
   "cell_type": "code",
   "execution_count": 33,
   "metadata": {
    "ExecuteTime": {
     "end_time": "2020-05-09T12:35:11.502901Z",
     "start_time": "2020-05-09T12:34:50.153942Z"
    }
   },
   "outputs": [
    {
     "data": {
      "text/plain": [
       "SVC(C=1.0, break_ties=False, cache_size=200, class_weight=None, coef0=0.0,\n",
       "    decision_function_shape='ovr', degree=3, gamma='auto', kernel='rbf',\n",
       "    max_iter=-1, probability=False, random_state=None, shrinking=True,\n",
       "    tol=0.001, verbose=False)"
      ]
     },
     "execution_count": 33,
     "metadata": {},
     "output_type": "execute_result"
    }
   ],
   "source": [
    "svm = SVC(gamma='auto',)\n",
    "svm.fit(X_train_n, y_train)"
   ]
  },
  {
   "cell_type": "markdown",
   "metadata": {},
   "source": [
    "<a id='gnb'></a>\n",
    "## Gaussian NB"
   ]
  },
  {
   "cell_type": "code",
   "execution_count": 34,
   "metadata": {
    "ExecuteTime": {
     "end_time": "2020-05-09T12:35:11.511709Z",
     "start_time": "2020-05-09T12:35:11.504779Z"
    }
   },
   "outputs": [],
   "source": [
    "from sklearn.naive_bayes import GaussianNB"
   ]
  },
  {
   "cell_type": "code",
   "execution_count": 35,
   "metadata": {
    "ExecuteTime": {
     "end_time": "2020-05-09T12:35:11.534647Z",
     "start_time": "2020-05-09T12:35:11.513097Z"
    }
   },
   "outputs": [
    {
     "data": {
      "text/plain": [
       "GaussianNB(priors=None, var_smoothing=1e-09)"
      ]
     },
     "execution_count": 35,
     "metadata": {},
     "output_type": "execute_result"
    }
   ],
   "source": [
    "gnb = GaussianNB()\n",
    "gnb.fit(X_train, y_train)"
   ]
  },
  {
   "cell_type": "markdown",
   "metadata": {},
   "source": [
    "<a id='logit'></a>\n",
    "## Logistic Regression"
   ]
  },
  {
   "cell_type": "code",
   "execution_count": 36,
   "metadata": {
    "ExecuteTime": {
     "end_time": "2020-05-09T12:35:14.144533Z",
     "start_time": "2020-05-09T12:35:14.140806Z"
    }
   },
   "outputs": [],
   "source": [
    "from sklearn.linear_model import LogisticRegressionCV"
   ]
  },
  {
   "cell_type": "code",
   "execution_count": 37,
   "metadata": {
    "ExecuteTime": {
     "end_time": "2020-05-09T12:35:16.617490Z",
     "start_time": "2020-05-09T12:35:14.547713Z"
    }
   },
   "outputs": [
    {
     "name": "stderr",
     "output_type": "stream",
     "text": [
      "[Parallel(n_jobs=1)]: Using backend SequentialBackend with 1 concurrent workers.\n",
      "[Parallel(n_jobs=1)]: Done   1 out of   1 | elapsed:    0.3s remaining:    0.0s\n",
      "[Parallel(n_jobs=1)]: Done  10 out of  10 | elapsed:    2.0s finished\n"
     ]
    },
    {
     "data": {
      "text/plain": [
       "LogisticRegressionCV(Cs=10, class_weight=None, cv=10, dual=False,\n",
       "                     fit_intercept=True, intercept_scaling=1.0, l1_ratios=None,\n",
       "                     max_iter=100, multi_class='auto', n_jobs=None,\n",
       "                     penalty='l2', random_state=None, refit=True, scoring=None,\n",
       "                     solver='lbfgs', tol=0.0001, verbose=2)"
      ]
     },
     "execution_count": 37,
     "metadata": {},
     "output_type": "execute_result"
    }
   ],
   "source": [
    "logit = LogisticRegressionCV(cv=10, verbose=2)\n",
    "logit.fit(X_train_n, y_train)"
   ]
  },
  {
   "cell_type": "code",
   "execution_count": 38,
   "metadata": {
    "ExecuteTime": {
     "end_time": "2020-05-09T12:35:17.898822Z",
     "start_time": "2020-05-09T12:35:17.741591Z"
    }
   },
   "outputs": [
    {
     "data": {
      "image/png": "[encoded data removed]",
      "text/plain": [
       "<Figure size 720x360 with 1 Axes>"
      ]
     },
     "metadata": {
      "needs_background": "light"
     },
     "output_type": "display_data"
    }
   ],
   "source": [
    "plt.figure(figsize=(10,5))\n",
    "plt.bar(range(len(logit.coef_.reshape(-1))), logit.coef_.reshape(-1))\n",
    "plt.show()"
   ]
  },
  {
   "cell_type": "markdown",
   "metadata": {},
   "source": [
    "<a id='knn'></a>\n",
    "## KNN"
   ]
  },
  {
   "cell_type": "code",
   "execution_count": 39,
   "metadata": {
    "ExecuteTime": {
     "end_time": "2020-05-09T12:35:20.116505Z",
     "start_time": "2020-05-09T12:35:20.112745Z"
    }
   },
   "outputs": [],
   "source": [
    "from sklearn.neighbors import KNeighborsClassifier\n",
    "from sklearn.model_selection import cross_val_score"
   ]
  },
  {
   "cell_type": "code",
   "execution_count": 40,
   "metadata": {
    "ExecuteTime": {
     "end_time": "2020-05-09T12:35:20.275446Z",
     "start_time": "2020-05-09T12:35:20.262762Z"
    }
   },
   "outputs": [],
   "source": [
    "def knn_cv(n, X, y):\n",
    "    knn = KNeighborsClassifier(n_neighbors=n)\n",
    "    score = cross_val_score(knn, X, y, cv=10)\n",
    "    return score.mean()"
   ]
  },
  {
   "cell_type": "code",
   "execution_count": 41,
   "metadata": {
    "ExecuteTime": {
     "end_time": "2020-05-09T12:36:12.969133Z",
     "start_time": "2020-05-09T12:35:29.937490Z"
    }
   },
   "outputs": [
    {
     "data": {
      "application/vnd.jupyter.widget-view+json": {
       "model_id": "fd9b8f0dc6744585b4f2bf5e3f95af2e",
       "version_major": 2,
       "version_minor": 0
      },
      "text/plain": [
       "HBox(children=(IntProgress(value=0, max=14), HTML(value='')))"
      ]
     },
     "metadata": {},
     "output_type": "display_data"
    },
    {
     "name": "stdout",
     "output_type": "stream",
     "text": [
      "\n"
     ]
    }
   ],
   "source": [
    "all_knn_scores = [knn_cv(i, X_train_n, y_train) for i in tqdm(range(3, 30, 2))]"
   ]
  },
  {
   "cell_type": "code",
   "execution_count": 42,
   "metadata": {
    "ExecuteTime": {
     "end_time": "2020-05-09T12:36:14.089141Z",
     "start_time": "2020-05-09T12:36:13.925302Z"
    }
   },
   "outputs": [
    {
     "data": {
      "image/png": "[encoded data removed]",
      "text/plain": [
       "<Figure size 720x360 with 1 Axes>"
      ]
     },
     "metadata": {
      "needs_background": "light"
     },
     "output_type": "display_data"
    }
   ],
   "source": [
    "plt.figure(figsize=(10,5))\n",
    "plt.plot(all_knn_scores)\n",
    "plt.xticks(range(len(all_knn_scores)), range(3,99,2), rotation=30)\n",
    "plt.show()"
   ]
  },
  {
   "cell_type": "code",
   "execution_count": 43,
   "metadata": {
    "ExecuteTime": {
     "end_time": "2020-05-09T12:36:15.685449Z",
     "start_time": "2020-05-09T12:36:15.641903Z"
    }
   },
   "outputs": [
    {
     "data": {
      "text/plain": [
       "KNeighborsClassifier(algorithm='auto', leaf_size=30, metric='minkowski',\n",
       "                     metric_params=None, n_jobs=None, n_neighbors=3, p=2,\n",
       "                     weights='uniform')"
      ]
     },
     "execution_count": 43,
     "metadata": {},
     "output_type": "execute_result"
    }
   ],
   "source": [
    "knn_best = KNeighborsClassifier(n_neighbors=3)\n",
    "knn_best.fit(X_train_n, y_train)"
   ]
  },
  {
   "cell_type": "markdown",
   "metadata": {},
   "source": [
    "<a id='nn'></a>\n",
    "## Neural Network"
   ]
  },
  {
   "cell_type": "code",
   "execution_count": 44,
   "metadata": {
    "ExecuteTime": {
     "end_time": "2020-05-09T12:36:17.230557Z",
     "start_time": "2020-05-09T12:36:17.225788Z"
    }
   },
   "outputs": [],
   "source": [
    "X_val_n, X_test_dnn, y_val, y_test_dnn = train_test_split(X_test_n, y_test, test_size=0.2)"
   ]
  },
  {
   "cell_type": "code",
   "execution_count": 45,
   "metadata": {
    "ExecuteTime": {
     "end_time": "2020-05-09T12:36:17.734340Z",
     "start_time": "2020-05-09T12:36:17.729583Z"
    }
   },
   "outputs": [],
   "source": [
    "from keras import models\n",
    "from keras import layers"
   ]
  },
  {
   "cell_type": "code",
   "execution_count": 46,
   "metadata": {
    "ExecuteTime": {
     "end_time": "2020-05-09T12:36:19.148352Z",
     "start_time": "2020-05-09T12:36:18.750331Z"
    }
   },
   "outputs": [
    {
     "name": "stderr",
     "output_type": "stream",
     "text": [
      "WARNING: Logging before flag parsing goes to stderr.\n",
      "W0509 05:36:18.758629 4578244032 deprecation_wrapper.py:119] From /anaconda3/lib/python3.7/site-packages/keras/backend/tensorflow_backend.py:74: The name tf.get_default_graph is deprecated. Please use tf.compat.v1.get_default_graph instead.\n",
      "\n",
      "W0509 05:36:18.777482 4578244032 deprecation_wrapper.py:119] From /anaconda3/lib/python3.7/site-packages/keras/backend/tensorflow_backend.py:517: The name tf.placeholder is deprecated. Please use tf.compat.v1.placeholder instead.\n",
      "\n",
      "W0509 05:36:18.780200 4578244032 deprecation_wrapper.py:119] From /anaconda3/lib/python3.7/site-packages/keras/backend/tensorflow_backend.py:4138: The name tf.random_uniform is deprecated. Please use tf.random.uniform instead.\n",
      "\n",
      "W0509 05:36:18.793843 4578244032 deprecation_wrapper.py:119] From /anaconda3/lib/python3.7/site-packages/keras/backend/tensorflow_backend.py:133: The name tf.placeholder_with_default is deprecated. Please use tf.compat.v1.placeholder_with_default instead.\n",
      "\n",
      "W0509 05:36:18.800410 4578244032 deprecation.py:506] From /anaconda3/lib/python3.7/site-packages/keras/backend/tensorflow_backend.py:3445: calling dropout (from tensorflow.python.ops.nn_ops) with keep_prob is deprecated and will be removed in a future version.\n",
      "Instructions for updating:\n",
      "Please use `rate` instead of `keep_prob`. Rate should be set to `rate = 1 - keep_prob`.\n"
     ]
    }
   ],
   "source": [
    "dnn = models.Sequential()\n",
    "dnn.add(layers.Dense(128, activation='relu', input_shape=(11,)))\n",
    "dnn.add(layers.Dropout(0.2))\n",
    "dnn.add(layers.Dense(128, activation='relu'))\n",
    "dnn.add(layers.Dropout(0.2))\n",
    "dnn.add(layers.Dense(128, activation='relu'))\n",
    "dnn.add(layers.Dropout(0.2))\n",
    "dnn.add(layers.Dense(128, activation='relu'))\n",
    "dnn.add(layers.Dropout(0.2))\n",
    "dnn.add(layers.Dense(128, activation='relu'))\n",
    "dnn.add(layers.Dropout(0.2))\n",
    "dnn.add(layers.Dense(128, activation='relu'))\n",
    "dnn.add(layers.Dropout(0.2))\n",
    "dnn.add(layers.Dense(128, activation='relu'))\n",
    "dnn.add(layers.Dropout(0.2))\n",
    "dnn.add(layers.Dense(128, activation='relu'))\n",
    "dnn.add(layers.Dropout(0.2))\n",
    "dnn.add(layers.Dense(128, activation='relu', input_shape=(11,)))\n",
    "dnn.add(layers.Dropout(0.2))\n",
    "dnn.add(layers.Dense(128, activation='relu', input_shape=(11,)))\n",
    "dnn.add(layers.Dropout(0.2))\n",
    "dnn.add(layers.Dense(128, activation='relu', input_shape=(11,)))\n",
    "dnn.add(layers.Dropout(0.2))\n",
    "dnn.add(layers.Dense(1, activation='sigmoid'))"
   ]
  },
  {
   "cell_type": "code",
   "execution_count": 47,
   "metadata": {
    "ExecuteTime": {
     "end_time": "2020-05-09T12:36:20.626428Z",
     "start_time": "2020-05-09T12:36:20.555747Z"
    }
   },
   "outputs": [
    {
     "name": "stderr",
     "output_type": "stream",
     "text": [
      "W0509 05:36:20.557605 4578244032 deprecation_wrapper.py:119] From /anaconda3/lib/python3.7/site-packages/keras/optimizers.py:790: The name tf.train.Optimizer is deprecated. Please use tf.compat.v1.train.Optimizer instead.\n",
      "\n",
      "W0509 05:36:20.592142 4578244032 deprecation_wrapper.py:119] From /anaconda3/lib/python3.7/site-packages/keras/backend/tensorflow_backend.py:3376: The name tf.log is deprecated. Please use tf.math.log instead.\n",
      "\n",
      "W0509 05:36:20.597593 4578244032 deprecation.py:323] From /anaconda3/lib/python3.7/site-packages/tensorflow/python/ops/nn_impl.py:180: add_dispatch_support.<locals>.wrapper (from tensorflow.python.ops.array_ops) is deprecated and will be removed in a future version.\n",
      "Instructions for updating:\n",
      "Use tf.where in 2.0, which has the same broadcast rule as np.where\n"
     ]
    }
   ],
   "source": [
    "dnn.compile(optimizer='rmsprop', loss='binary_crossentropy', metrics=['acc'])"
   ]
  },
  {
   "cell_type": "code",
   "execution_count": 48,
   "metadata": {
    "ExecuteTime": {
     "end_time": "2020-05-09T12:37:19.727592Z",
     "start_time": "2020-05-09T12:36:21.772312Z"
    },
    "scrolled": true
   },
   "outputs": [
    {
     "name": "stdout",
     "output_type": "stream",
     "text": [
      "Train on 28649 samples, validate on 4044 samples\n",
      "Epoch 1/60\n",
      "28649/28649 [==============================] - 2s 59us/step - loss: 0.6075 - acc: 0.6702 - val_loss: 0.5703 - val_acc: 0.7020\n",
      "Epoch 2/60\n",
      "28649/28649 [==============================] - 1s 30us/step - loss: 0.5814 - acc: 0.7019 - val_loss: 0.5796 - val_acc: 0.7080\n",
      "Epoch 3/60\n",
      "28649/28649 [==============================] - 1s 29us/step - loss: 0.5762 - acc: 0.7054 - val_loss: 0.5619 - val_acc: 0.7161\n",
      "Epoch 4/60\n",
      "28649/28649 [==============================] - 1s 29us/step - loss: 0.5708 - acc: 0.7107 - val_loss: 0.5713 - val_acc: 0.7109\n",
      "Epoch 5/60\n",
      "28649/28649 [==============================] - 1s 30us/step - loss: 0.5699 - acc: 0.7143 - val_loss: 0.5671 - val_acc: 0.7075\n",
      "Epoch 6/60\n",
      "28649/28649 [==============================] - 1s 30us/step - loss: 0.5672 - acc: 0.7171 - val_loss: 0.5583 - val_acc: 0.7260\n",
      "Epoch 7/60\n",
      "28649/28649 [==============================] - 1s 31us/step - loss: 0.5652 - acc: 0.7172 - val_loss: 0.5829 - val_acc: 0.7208\n",
      "Epoch 8/60\n",
      "28649/28649 [==============================] - 1s 31us/step - loss: 0.5604 - acc: 0.7231 - val_loss: 0.5669 - val_acc: 0.7203\n",
      "Epoch 9/60\n",
      "28649/28649 [==============================] - 1s 30us/step - loss: 0.5591 - acc: 0.7217 - val_loss: 0.5612 - val_acc: 0.7223\n",
      "Epoch 10/60\n",
      "28649/28649 [==============================] - 1s 30us/step - loss: 0.5558 - acc: 0.7271 - val_loss: 0.5598 - val_acc: 0.7362\n",
      "Epoch 11/60\n",
      "28649/28649 [==============================] - 1s 34us/step - loss: 0.5502 - acc: 0.7320 - val_loss: 0.5590 - val_acc: 0.7273\n",
      "Epoch 12/60\n",
      "28649/28649 [==============================] - 1s 30us/step - loss: 0.5522 - acc: 0.7312 - val_loss: 0.5504 - val_acc: 0.7354\n",
      "Epoch 13/60\n",
      "28649/28649 [==============================] - 1s 30us/step - loss: 0.5477 - acc: 0.7343 - val_loss: 0.5532 - val_acc: 0.7359\n",
      "Epoch 14/60\n",
      "28649/28649 [==============================] - 1s 36us/step - loss: 0.5438 - acc: 0.7373 - val_loss: 0.5597 - val_acc: 0.7409\n",
      "Epoch 15/60\n",
      "28649/28649 [==============================] - 1s 31us/step - loss: 0.5451 - acc: 0.7375 - val_loss: 0.5467 - val_acc: 0.7374\n",
      "Epoch 16/60\n",
      "28649/28649 [==============================] - 1s 30us/step - loss: 0.5411 - acc: 0.7406 - val_loss: 0.5586 - val_acc: 0.7337\n",
      "Epoch 17/60\n",
      "28649/28649 [==============================] - 1s 31us/step - loss: 0.5394 - acc: 0.7410 - val_loss: 0.5427 - val_acc: 0.7475\n",
      "Epoch 18/60\n",
      "28649/28649 [==============================] - 1s 30us/step - loss: 0.5359 - acc: 0.7436 - val_loss: 0.5470 - val_acc: 0.7369\n",
      "Epoch 19/60\n",
      "28649/28649 [==============================] - 1s 31us/step - loss: 0.5357 - acc: 0.7443 - val_loss: 0.5277 - val_acc: 0.7502\n",
      "Epoch 20/60\n",
      "28649/28649 [==============================] - 1s 30us/step - loss: 0.5333 - acc: 0.7444 - val_loss: 0.5551 - val_acc: 0.7369\n",
      "Epoch 21/60\n",
      "28649/28649 [==============================] - 1s 31us/step - loss: 0.5314 - acc: 0.7474 - val_loss: 0.5265 - val_acc: 0.7606\n",
      "Epoch 22/60\n",
      "28649/28649 [==============================] - 1s 31us/step - loss: 0.5267 - acc: 0.7481 - val_loss: 0.5192 - val_acc: 0.7545\n",
      "Epoch 23/60\n",
      "28649/28649 [==============================] - 1s 35us/step - loss: 0.5264 - acc: 0.7516 - val_loss: 0.5328 - val_acc: 0.7577\n",
      "Epoch 24/60\n",
      "28649/28649 [==============================] - 1s 33us/step - loss: 0.5246 - acc: 0.7529 - val_loss: 0.5253 - val_acc: 0.7478\n",
      "Epoch 25/60\n",
      "28649/28649 [==============================] - 1s 33us/step - loss: 0.5197 - acc: 0.7565 - val_loss: 0.5165 - val_acc: 0.7601\n",
      "Epoch 26/60\n",
      "28649/28649 [==============================] - 1s 34us/step - loss: 0.5174 - acc: 0.7560 - val_loss: 0.5336 - val_acc: 0.7554\n",
      "Epoch 27/60\n",
      "28649/28649 [==============================] - 1s 39us/step - loss: 0.5157 - acc: 0.7581 - val_loss: 0.5275 - val_acc: 0.7596\n",
      "Epoch 28/60\n",
      "28649/28649 [==============================] - 1s 43us/step - loss: 0.5135 - acc: 0.7610 - val_loss: 0.5172 - val_acc: 0.7656\n",
      "Epoch 29/60\n",
      "28649/28649 [==============================] - 1s 39us/step - loss: 0.5130 - acc: 0.7601 - val_loss: 0.5221 - val_acc: 0.7540\n",
      "Epoch 30/60\n",
      "28649/28649 [==============================] - 1s 37us/step - loss: 0.5092 - acc: 0.7639 - val_loss: 0.5487 - val_acc: 0.7478\n",
      "Epoch 31/60\n",
      "28649/28649 [==============================] - 1s 34us/step - loss: 0.5099 - acc: 0.7628 - val_loss: 0.5098 - val_acc: 0.7705\n",
      "Epoch 32/60\n",
      "28649/28649 [==============================] - 1s 37us/step - loss: 0.5064 - acc: 0.7660 - val_loss: 0.5134 - val_acc: 0.7631\n",
      "Epoch 33/60\n",
      "28649/28649 [==============================] - 1s 28us/step - loss: 0.5048 - acc: 0.7662 - val_loss: 0.5153 - val_acc: 0.7727\n",
      "Epoch 34/60\n",
      "28649/28649 [==============================] - 1s 29us/step - loss: 0.5032 - acc: 0.7686 - val_loss: 0.5045 - val_acc: 0.7723\n",
      "Epoch 35/60\n",
      "28649/28649 [==============================] - 1s 26us/step - loss: 0.5020 - acc: 0.7689 - val_loss: 0.5078 - val_acc: 0.7782\n",
      "Epoch 36/60\n",
      "28649/28649 [==============================] - 1s 27us/step - loss: 0.4979 - acc: 0.7720 - val_loss: 0.5005 - val_acc: 0.7782\n",
      "Epoch 37/60\n",
      "28649/28649 [==============================] - 1s 28us/step - loss: 0.4961 - acc: 0.7714 - val_loss: 0.5010 - val_acc: 0.7777\n",
      "Epoch 38/60\n",
      "28649/28649 [==============================] - 1s 28us/step - loss: 0.4968 - acc: 0.7689 - val_loss: 0.4970 - val_acc: 0.7762\n",
      "Epoch 39/60\n",
      "28649/28649 [==============================] - 1s 26us/step - loss: 0.4964 - acc: 0.7714 - val_loss: 0.4978 - val_acc: 0.7799\n",
      "Epoch 40/60\n",
      "28649/28649 [==============================] - 1s 33us/step - loss: 0.4931 - acc: 0.7747 - val_loss: 0.4986 - val_acc: 0.7831\n",
      "Epoch 41/60\n",
      "28649/28649 [==============================] - 1s 33us/step - loss: 0.4924 - acc: 0.7764 - val_loss: 0.4856 - val_acc: 0.7844\n",
      "Epoch 42/60\n",
      "28649/28649 [==============================] - 1s 39us/step - loss: 0.4896 - acc: 0.7769 - val_loss: 0.5022 - val_acc: 0.7817\n",
      "Epoch 43/60\n",
      "28649/28649 [==============================] - 1s 33us/step - loss: 0.4883 - acc: 0.7775 - val_loss: 0.5038 - val_acc: 0.7740\n",
      "Epoch 44/60\n",
      "28649/28649 [==============================] - 1s 32us/step - loss: 0.4865 - acc: 0.7784 - val_loss: 0.4885 - val_acc: 0.7809\n",
      "Epoch 45/60\n",
      "28649/28649 [==============================] - 1s 34us/step - loss: 0.4865 - acc: 0.7775 - val_loss: 0.4860 - val_acc: 0.7836\n",
      "Epoch 46/60\n",
      "28649/28649 [==============================] - 1s 34us/step - loss: 0.4847 - acc: 0.7796 - val_loss: 0.4843 - val_acc: 0.7864\n",
      "Epoch 47/60\n",
      "28649/28649 [==============================] - 1s 40us/step - loss: 0.4855 - acc: 0.7773 - val_loss: 0.4806 - val_acc: 0.7881\n",
      "Epoch 48/60\n",
      "28649/28649 [==============================] - 1s 43us/step - loss: 0.4815 - acc: 0.7806 - val_loss: 0.4779 - val_acc: 0.7849\n",
      "Epoch 49/60\n",
      "28649/28649 [==============================] - 1s 38us/step - loss: 0.4842 - acc: 0.7812 - val_loss: 0.4788 - val_acc: 0.7896\n",
      "Epoch 50/60\n",
      "28649/28649 [==============================] - 1s 35us/step - loss: 0.4787 - acc: 0.7846 - val_loss: 0.4944 - val_acc: 0.7849\n",
      "Epoch 51/60\n",
      "28649/28649 [==============================] - 1s 30us/step - loss: 0.4790 - acc: 0.7856 - val_loss: 0.4714 - val_acc: 0.7886\n",
      "Epoch 52/60\n",
      "28649/28649 [==============================] - 1s 32us/step - loss: 0.4740 - acc: 0.7870 - val_loss: 0.4894 - val_acc: 0.7824\n",
      "Epoch 53/60\n",
      "28649/28649 [==============================] - 1s 33us/step - loss: 0.4742 - acc: 0.7870 - val_loss: 0.4785 - val_acc: 0.7891\n",
      "Epoch 54/60\n",
      "28649/28649 [==============================] - 1s 33us/step - loss: 0.4769 - acc: 0.7839 - val_loss: 0.4795 - val_acc: 0.7920\n",
      "Epoch 55/60\n",
      "28649/28649 [==============================] - 1s 34us/step - loss: 0.4752 - acc: 0.7863 - val_loss: 0.4716 - val_acc: 0.7910\n",
      "Epoch 56/60\n",
      "28649/28649 [==============================] - 1s 34us/step - loss: 0.4740 - acc: 0.7876 - val_loss: 0.4659 - val_acc: 0.7891\n",
      "Epoch 57/60\n",
      "28649/28649 [==============================] - 1s 35us/step - loss: 0.4731 - acc: 0.7892 - val_loss: 0.4711 - val_acc: 0.7995\n",
      "Epoch 58/60\n",
      "28649/28649 [==============================] - 1s 41us/step - loss: 0.4739 - acc: 0.7876 - val_loss: 0.4684 - val_acc: 0.7995\n",
      "Epoch 59/60\n",
      "28649/28649 [==============================] - 1s 34us/step - loss: 0.4735 - acc: 0.7895 - val_loss: 0.4672 - val_acc: 0.8024\n",
      "Epoch 60/60\n"
     ]
    },
    {
     "name": "stdout",
     "output_type": "stream",
     "text": [
      "28649/28649 [==============================] - 1s 30us/step - loss: 0.5460 - acc: 0.7858 - val_loss: 0.4696 - val_acc: 0.7898\n"
     ]
    }
   ],
   "source": [
    "history = dnn.fit(X_train_n, y_train, \n",
    "                    epochs=60, \n",
    "                    batch_size=512, \n",
    "                    verbose=1,\n",
    "                    validation_data=[X_val_n, y_val])"
   ]
  },
  {
   "cell_type": "code",
   "execution_count": 49,
   "metadata": {
    "ExecuteTime": {
     "end_time": "2020-05-09T12:37:22.200527Z",
     "start_time": "2020-05-09T12:37:21.897953Z"
    }
   },
   "outputs": [
    {
     "data": {
      "image/png": "[encoded data removed]",
      "text/plain": [
       "<Figure size 720x360 with 2 Axes>"
      ]
     },
     "metadata": {
      "needs_background": "light"
     },
     "output_type": "display_data"
    }
   ],
   "source": [
    "plt.figure(figsize=(10,5))\n",
    "\n",
    "plt.subplot(2,1,1)\n",
    "plt.plot(history.history['acc'], label='acc')\n",
    "plt.plot(history.history['val_acc'], label='val_acc')\n",
    "plt.legend()\n",
    "\n",
    "plt.subplot(2,1,2)\n",
    "plt.plot(history.history['loss'], label='loss')\n",
    "plt.plot(history.history['val_loss'], label='val_loss')\n",
    "plt.legend()\n",
    "\n",
    "plt.show()"
   ]
  },
  {
   "cell_type": "code",
   "execution_count": 51,
   "metadata": {
    "ExecuteTime": {
     "end_time": "2020-05-09T12:37:43.550708Z",
     "start_time": "2020-05-09T12:37:43.268116Z"
    }
   },
   "outputs": [],
   "source": [
    "dnn_best = models.Sequential()\n",
    "dnn_best.add(layers.Dense(128, activation='relu', input_shape=(11,)))\n",
    "dnn_best.add(layers.Dropout(0.2))\n",
    "dnn_best.add(layers.Dense(128, activation='relu'))\n",
    "dnn_best.add(layers.Dropout(0.2))\n",
    "dnn_best.add(layers.Dense(128, activation='relu'))\n",
    "dnn_best.add(layers.Dropout(0.2))\n",
    "dnn_best.add(layers.Dense(128, activation='relu'))\n",
    "dnn_best.add(layers.Dropout(0.2))\n",
    "dnn_best.add(layers.Dense(128, activation='relu'))\n",
    "dnn_best.add(layers.Dropout(0.2))\n",
    "dnn_best.add(layers.Dense(128, activation='relu'))\n",
    "dnn_best.add(layers.Dropout(0.2))\n",
    "dnn_best.add(layers.Dense(128, activation='relu'))\n",
    "dnn_best.add(layers.Dropout(0.2))\n",
    "dnn_best.add(layers.Dense(128, activation='relu'))\n",
    "dnn_best.add(layers.Dropout(0.2))\n",
    "dnn_best.add(layers.Dense(128, activation='relu', input_shape=(11,)))\n",
    "dnn_best.add(layers.Dropout(0.2))\n",
    "dnn_best.add(layers.Dense(128, activation='relu', input_shape=(11,)))\n",
    "dnn_best.add(layers.Dropout(0.2))\n",
    "dnn_best.add(layers.Dense(128, activation='relu', input_shape=(11,)))\n",
    "dnn_best.add(layers.Dropout(0.2))\n",
    "dnn_best.add(layers.Dense(1, activation='sigmoid'))"
   ]
  },
  {
   "cell_type": "code",
   "execution_count": 52,
   "metadata": {
    "ExecuteTime": {
     "end_time": "2020-05-09T12:37:43.828126Z",
     "start_time": "2020-05-09T12:37:43.786662Z"
    }
   },
   "outputs": [],
   "source": [
    "dnn_best.compile(optimizer='rmsprop', loss='binary_crossentropy', metrics=['acc'])"
   ]
  },
  {
   "cell_type": "code",
   "execution_count": 53,
   "metadata": {
    "ExecuteTime": {
     "end_time": "2020-05-09T12:37:53.044297Z",
     "start_time": "2020-05-09T12:37:44.427634Z"
    }
   },
   "outputs": [],
   "source": [
    "history_best = dnn_best.fit(X_train_n, y_train, \n",
    "                            epochs=10, \n",
    "                            batch_size=512, \n",
    "                            verbose=0,\n",
    "                            validation_data=[X_val_n, y_val])"
   ]
  },
  {
   "cell_type": "markdown",
   "metadata": {},
   "source": [
    "<a id='evaluation'></a>\n",
    "# Evaluation"
   ]
  },
  {
   "cell_type": "markdown",
   "metadata": {},
   "source": [
    "<a id='precision_recall'></a>\n",
    "## Precision & Recall"
   ]
  },
  {
   "cell_type": "code",
   "execution_count": 54,
   "metadata": {
    "ExecuteTime": {
     "end_time": "2020-05-09T12:37:58.025730Z",
     "start_time": "2020-05-09T12:37:56.174706Z"
    }
   },
   "outputs": [],
   "source": [
    "# random forest\n",
    "rf_score = rf_best.score(X_test, y_test)\n",
    "rf_predict = rf_best.predict(X_test)"
   ]
  },
  {
   "cell_type": "code",
   "execution_count": 55,
   "metadata": {
    "ExecuteTime": {
     "end_time": "2020-05-09T12:38:01.848198Z",
     "start_time": "2020-05-09T12:37:58.560513Z"
    }
   },
   "outputs": [],
   "source": [
    "# svm\n",
    "svm_score = svm.score(X_test_n, y_test)\n",
    "svm_predict = svm.predict(X_test_n)"
   ]
  },
  {
   "cell_type": "code",
   "execution_count": 56,
   "metadata": {
    "ExecuteTime": {
     "end_time": "2020-05-09T12:38:01.863180Z",
     "start_time": "2020-05-09T12:38:01.850513Z"
    }
   },
   "outputs": [],
   "source": [
    "# gnb\n",
    "gnb_score = gnb.score(X_test, y_test)\n",
    "gnb_predict = gnb.predict(X_test)"
   ]
  },
  {
   "cell_type": "code",
   "execution_count": 57,
   "metadata": {
    "ExecuteTime": {
     "end_time": "2020-05-09T12:38:01.883212Z",
     "start_time": "2020-05-09T12:38:01.872794Z"
    }
   },
   "outputs": [],
   "source": [
    "# logistic regression\n",
    "logit_score = logit.score(X_test_n, y_test)\n",
    "logit_predict = logit.predict(X_test_n)"
   ]
  },
  {
   "cell_type": "code",
   "execution_count": 58,
   "metadata": {
    "ExecuteTime": {
     "end_time": "2020-05-09T12:38:02.632754Z",
     "start_time": "2020-05-09T12:38:01.884964Z"
    }
   },
   "outputs": [],
   "source": [
    "# knn\n",
    "knn_score = knn_best.score(X_test_n, y_test)\n",
    "knn_predict = knn_best.predict(X_test_n)"
   ]
  },
  {
   "cell_type": "code",
   "execution_count": 59,
   "metadata": {
    "ExecuteTime": {
     "end_time": "2020-05-09T12:38:02.866101Z",
     "start_time": "2020-05-09T12:38:02.634738Z"
    }
   },
   "outputs": [
    {
     "name": "stdout",
     "output_type": "stream",
     "text": [
      "1012/1012 [==============================] - 0s 38us/step\n"
     ]
    }
   ],
   "source": [
    "# nn\n",
    "dnn_loss, dnn_score = dnn_best.evaluate(X_test_dnn, y_test_dnn)\n",
    "dnn_predict = pd.Series(dnn_best.predict(X_test_dnn).reshape(-1) >= 0.5).astype('int')"
   ]
  },
  {
   "cell_type": "code",
   "execution_count": 60,
   "metadata": {
    "ExecuteTime": {
     "end_time": "2020-05-09T12:38:03.978679Z",
     "start_time": "2020-05-09T12:38:03.973191Z"
    }
   },
   "outputs": [],
   "source": [
    "from sklearn.metrics import roc_curve, auc"
   ]
  },
  {
   "cell_type": "code",
   "execution_count": 61,
   "metadata": {
    "ExecuteTime": {
     "end_time": "2020-05-09T12:38:04.489273Z",
     "start_time": "2020-05-09T12:38:04.459677Z"
    }
   },
   "outputs": [],
   "source": [
    "dnn_fpr, dnn_tpr, dnn_threshold = roc_curve(y_test_dnn, dnn_best.predict(X_test_dnn).reshape(-1))\n",
    "dnn_auc = auc(dnn_fpr, dnn_tpr)"
   ]
  },
  {
   "cell_type": "code",
   "execution_count": 62,
   "metadata": {
    "ExecuteTime": {
     "end_time": "2020-05-09T12:38:05.692015Z",
     "start_time": "2020-05-09T12:38:05.627167Z"
    }
   },
   "outputs": [],
   "source": [
    "pr_dict = {\n",
    "    'rf':precision_recall(y_test, rf_predict, print_=False),\n",
    "    'svm':precision_recall(y_test, svm_predict, print_=False),\n",
    "    'gnb':precision_recall(y_test, gnb_predict, print_=False),\n",
    "    'logit':precision_recall(y_test, logit_predict, print_=False),\n",
    "    'knn':precision_recall(y_test, knn_predict, print_=False),\n",
    "    'dnn':precision_recall(y_test_dnn, dnn_predict, print_=False)\n",
    "}"
   ]
  },
  {
   "cell_type": "code",
   "execution_count": 63,
   "metadata": {
    "ExecuteTime": {
     "end_time": "2020-05-09T12:38:06.237303Z",
     "start_time": "2020-05-09T12:38:06.214323Z"
    }
   },
   "outputs": [],
   "source": [
    "pr_df = pd.DataFrame.from_dict(pr_dict, orient='index', columns=['precision','recall'])\n",
    "pr_df['F1'] = 2*((pr_df['precision']*pr_df['recall']) / (pr_df['precision']+pr_df['recall']))\n",
    "pr_df['accuracy'] = [rf_score, svm_score, gnb_score, logit_score, knn_score, dnn_score]"
   ]
  },
  {
   "cell_type": "code",
   "execution_count": 64,
   "metadata": {
    "ExecuteTime": {
     "end_time": "2020-05-09T12:38:06.856503Z",
     "start_time": "2020-05-09T12:38:06.842144Z"
    }
   },
   "outputs": [
    {
     "data": {
      "text/html": [
       "<div>\n",
       "<style scoped>\n",
       "    .dataframe tbody tr th:only-of-type {\n",
       "        vertical-align: middle;\n",
       "    }\n",
       "\n",
       "    .dataframe tbody tr th {\n",
       "        vertical-align: top;\n",
       "    }\n",
       "\n",
       "    .dataframe thead th {\n",
       "        text-align: right;\n",
       "    }\n",
       "</style>\n",
       "<table border=\"1\" class=\"dataframe\">\n",
       "  <thead>\n",
       "    <tr style=\"text-align: right;\">\n",
       "      <th></th>\n",
       "      <th>precision</th>\n",
       "      <th>recall</th>\n",
       "      <th>F1</th>\n",
       "      <th>accuracy</th>\n",
       "    </tr>\n",
       "  </thead>\n",
       "  <tbody>\n",
       "    <tr>\n",
       "      <th>rf</th>\n",
       "      <td>0.977326</td>\n",
       "      <td>0.915892</td>\n",
       "      <td>0.945612</td>\n",
       "      <td>0.952927</td>\n",
       "    </tr>\n",
       "    <tr>\n",
       "      <th>svm</th>\n",
       "      <td>0.722886</td>\n",
       "      <td>0.669765</td>\n",
       "      <td>0.695312</td>\n",
       "      <td>0.737737</td>\n",
       "    </tr>\n",
       "    <tr>\n",
       "      <th>gnb</th>\n",
       "      <td>0.649413</td>\n",
       "      <td>0.660912</td>\n",
       "      <td>0.655112</td>\n",
       "      <td>0.689082</td>\n",
       "    </tr>\n",
       "    <tr>\n",
       "      <th>logit</th>\n",
       "      <td>0.684521</td>\n",
       "      <td>0.616645</td>\n",
       "      <td>0.648812</td>\n",
       "      <td>0.701741</td>\n",
       "    </tr>\n",
       "    <tr>\n",
       "      <th>knn</th>\n",
       "      <td>0.799852</td>\n",
       "      <td>0.958831</td>\n",
       "      <td>0.872156</td>\n",
       "      <td>0.874407</td>\n",
       "    </tr>\n",
       "    <tr>\n",
       "      <th>dnn</th>\n",
       "      <td>0.659247</td>\n",
       "      <td>0.813953</td>\n",
       "      <td>0.728477</td>\n",
       "      <td>0.716403</td>\n",
       "    </tr>\n",
       "  </tbody>\n",
       "</table>\n",
       "</div>"
      ],
      "text/plain": [
       "       precision    recall        F1  accuracy\n",
       "rf      0.977326  0.915892  0.945612  0.952927\n",
       "svm     0.722886  0.669765  0.695312  0.737737\n",
       "gnb     0.649413  0.660912  0.655112  0.689082\n",
       "logit   0.684521  0.616645  0.648812  0.701741\n",
       "knn     0.799852  0.958831  0.872156  0.874407\n",
       "dnn     0.659247  0.813953  0.728477  0.716403"
      ]
     },
     "execution_count": 64,
     "metadata": {},
     "output_type": "execute_result"
    }
   ],
   "source": [
    "pr_df"
   ]
  },
  {
   "cell_type": "markdown",
   "metadata": {},
   "source": [
    "<a id='auc_roc'></a>\n",
    "## AUC ROC"
   ]
  },
  {
   "cell_type": "code",
   "execution_count": 65,
   "metadata": {
    "ExecuteTime": {
     "end_time": "2020-05-09T12:38:11.838096Z",
     "start_time": "2020-05-09T12:38:11.834351Z"
    }
   },
   "outputs": [],
   "source": [
    "from sklearn.metrics import plot_roc_curve"
   ]
  },
  {
   "cell_type": "code",
   "execution_count": 66,
   "metadata": {
    "ExecuteTime": {
     "end_time": "2020-05-09T12:38:15.987347Z",
     "start_time": "2020-05-09T12:38:13.151704Z"
    }
   },
   "outputs": [
    {
     "data": {
      "image/png": "[encoded data removed]",
      "text/plain": [
       "<Figure size 720x360 with 1 Axes>"
      ]
     },
     "metadata": {
      "needs_background": "light"
     },
     "output_type": "display_data"
    }
   ],
   "source": [
    "fig, ax = plt.subplots(figsize=(10,5))\n",
    "plot_roc_curve(rf_best, X_test, y_test, ax=ax)\n",
    "plot_roc_curve(svm, X_test_n, y_test, ax=ax)\n",
    "plot_roc_curve(gnb, X_test, y_test, ax=ax)\n",
    "plot_roc_curve(logit, X_test_n, y_test, ax=ax)\n",
    "plot_roc_curve(knn_best, X_test_n, y_test, ax=ax)\n",
    "plt.plot(dnn_fpr, dnn_tpr, label='Deep Neural Network (AUC={})'.format(round(dnn_auc, 3)))\n",
    "ax.plot([0, 1], [0, 1], linestyle='--', lw=2, color='black',\n",
    "        label='Chance', alpha=.8)\n",
    "plt.legend()\n",
    "plt.show()"
   ]
  },
  {
   "cell_type": "markdown",
   "metadata": {},
   "source": [
    "# Validation from new data"
   ]
  },
  {
   "cell_type": "code",
   "execution_count": 26,
   "metadata": {
    "ExecuteTime": {
     "end_time": "2020-05-09T10:25:33.353171Z",
     "start_time": "2020-05-09T10:25:33.209064Z"
    }
   },
   "outputs": [],
   "source": [
    "import sys\n",
    "sys.path.insert(1, '../ETL/')\n",
    "\n",
    "import load_data\n",
    "from tools import *"
   ]
  },
  {
   "cell_type": "code",
   "execution_count": 27,
   "metadata": {
    "ExecuteTime": {
     "end_time": "2020-05-09T10:25:35.130964Z",
     "start_time": "2020-05-09T10:25:33.920797Z"
    }
   },
   "outputs": [
    {
     "name": "stdout",
     "output_type": "stream",
     "text": [
      "File 1\n",
      "Loading file: /Users/esmondchu/Desktop/M2020-05-03D.xls\n",
      "Loaded: Race(1)\n",
      "Loaded: Race(2)\n",
      "Loaded: Race(3)\n",
      "Loaded: Race(4)\n",
      "Loaded: Race(5)\n",
      "Loaded: Race(6)\n",
      "Loaded: Race(7)\n",
      "Loaded: Race(8)\n",
      "Loaded: Race(9)\n",
      "Loaded: Race(10)\n",
      "Loaded: Race(11)\n",
      "Status: Completed\n",
      "\n",
      "File 2\n",
      "Loading file: /Users/esmondchu/Desktop/M2020-04-29D.xls\n",
      "Loaded: Race(1)\n",
      "Loaded: Race(2)\n",
      "Loaded: Race(3)\n",
      "Loaded: Race(4)\n",
      "Loaded: Race(5)\n",
      "Loaded: Race(6)\n",
      "Loaded: Race(7)\n",
      "Loaded: Race(8)\n",
      "Loaded: Race(9)\n",
      "Status: Completed\n",
      "\n",
      "Loaded 2 files\n"
     ]
    }
   ],
   "source": [
    "new_data = load_data.flow_from_dir('/Users/esmondchu/Desktop/', '.xls', 'Race', combined=False)"
   ]
  },
  {
   "cell_type": "code",
   "execution_count": 31,
   "metadata": {
    "ExecuteTime": {
     "end_time": "2020-05-09T10:25:50.173392Z",
     "start_time": "2020-05-09T10:25:50.169515Z"
    }
   },
   "outputs": [],
   "source": [
    "include_col = ['東(正)','東(副)','東(冷)','蘋(正)','蘋(副)','蘋(冷)','專(正)','專(副)','專(冷)','W.H. FixOdd','S.B.      FixOdd']"
   ]
  }
 ],
 "metadata": {
  "kernelspec": {
   "display_name": "Python 3",
   "language": "python",
   "name": "python3"
  },
  "language_info": {
   "codemirror_mode": {
    "name": "ipython",
    "version": 3
   },
   "file_extension": ".py",
   "mimetype": "text/x-python",
   "name": "python",
   "nbconvert_exporter": "python",
   "pygments_lexer": "ipython3",
   "version": "3.7.3"
  },
  "toc": {
   "base_numbering": 1,
   "nav_menu": {},
   "number_sections": true,
   "sideBar": true,
   "skip_h1_title": false,
   "title_cell": "Table of Contents",
   "title_sidebar": "Contents",
   "toc_cell": false,
   "toc_position": {},
   "toc_section_display": true,
   "toc_window_display": false
  }
 },
 "nbformat": 4,
 "nbformat_minor": 2
}
