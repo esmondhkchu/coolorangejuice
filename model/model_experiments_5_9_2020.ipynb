{
 "cells": [
  {
   "cell_type": "markdown",
   "metadata": {},
   "source": [
    "[Load Data](#load)\n",
    "\n",
    "[Data Preparation](#prepare)\n",
    "1. [Balance and Split](#bs)\n",
    "2. [Scale](#scale)\n",
    "\n",
    "[Model](#model)\n",
    "1. [Random Forest](#rf)\n",
    "2. [Gaussian NB](#gnb)\n",
    "3. [Logistic Regression](#logit)\n",
    "4. [KNN](#knn)\n",
    "5. [Neural Network](#nn)\n",
    "\n",
    "[Evaluation](#evaluation)\n",
    "1. [Precision & Recall](#precision_recall)\n",
    "2. [AUC ROC](#auc_roc)"
   ]
  },
  {
   "cell_type": "code",
   "execution_count": 1,
   "metadata": {
    "ExecuteTime": {
     "end_time": "2020-05-09T10:24:31.591738Z",
     "start_time": "2020-05-09T10:24:31.039345Z"
    }
   },
   "outputs": [],
   "source": [
    "import numpy as np\n",
    "import pandas as pd"
   ]
  },
  {
   "cell_type": "code",
   "execution_count": 2,
   "metadata": {
    "ExecuteTime": {
     "end_time": "2020-05-09T10:24:32.653920Z",
     "start_time": "2020-05-09T10:24:31.594285Z"
    }
   },
   "outputs": [],
   "source": [
    "import seaborn as sns\n",
    "import matplotlib.pyplot as plt"
   ]
  },
  {
   "cell_type": "code",
   "execution_count": 3,
   "metadata": {
    "ExecuteTime": {
     "end_time": "2020-05-09T10:24:32.723414Z",
     "start_time": "2020-05-09T10:24:32.657950Z"
    }
   },
   "outputs": [],
   "source": [
    "from tqdm import tqdm_notebook as tqdm"
   ]
  },
  {
   "cell_type": "markdown",
   "metadata": {},
   "source": [
    "<a id='load'></a>\n",
    "# Load data"
   ]
  },
  {
   "cell_type": "code",
   "execution_count": 4,
   "metadata": {
    "ExecuteTime": {
     "end_time": "2020-05-09T10:24:35.168093Z",
     "start_time": "2020-05-09T10:24:35.112680Z"
    }
   },
   "outputs": [],
   "source": [
    "data = pd.read_csv('./5_2_2020_data.csv')"
   ]
  },
  {
   "cell_type": "code",
   "execution_count": 5,
   "metadata": {
    "ExecuteTime": {
     "end_time": "2020-05-09T10:24:35.470363Z",
     "start_time": "2020-05-09T10:24:35.449453Z"
    }
   },
   "outputs": [],
   "source": [
    "data = data.drop(data[data['oriental_1'] == '-'].index).reset_index(drop=True)"
   ]
  },
  {
   "cell_type": "markdown",
   "metadata": {},
   "source": [
    "<a id='prepare'></a>\n",
    "# Prepare data"
   ]
  },
  {
   "cell_type": "code",
   "execution_count": 6,
   "metadata": {
    "ExecuteTime": {
     "end_time": "2020-05-09T10:24:36.610182Z",
     "start_time": "2020-05-09T10:24:36.602987Z"
    }
   },
   "outputs": [],
   "source": [
    "exclude = ['horse_num','oriental_sum','apple_sum','pro_sum',\n",
    "           'total_1','total_2','total_3','total_sum','file_name',\n",
    "           'sheet_name','W.H. FixOdd 60','S.B.Fix Odd 60']"
   ]
  },
  {
   "cell_type": "code",
   "execution_count": 9,
   "metadata": {
    "ExecuteTime": {
     "end_time": "2020-05-09T10:24:51.502682Z",
     "start_time": "2020-05-09T10:24:51.485918Z"
    }
   },
   "outputs": [],
   "source": [
    "data_ex = data[[i for i in list(data) if i not in exclude]].dropna()\n",
    "include_col = [i for i in data_ex if i != 'result']"
   ]
  },
  {
   "cell_type": "code",
   "execution_count": 10,
   "metadata": {
    "ExecuteTime": {
     "end_time": "2020-05-09T10:24:52.049396Z",
     "start_time": "2020-05-09T10:24:52.034584Z"
    }
   },
   "outputs": [],
   "source": [
    "X = data_ex[include_col].astype('float')\n",
    "y = np.array([1 if i == 1 else 0 for i in data_ex['result']])"
   ]
  },
  {
   "cell_type": "code",
   "execution_count": 11,
   "metadata": {
    "ExecuteTime": {
     "end_time": "2020-05-09T10:24:53.915716Z",
     "start_time": "2020-05-09T10:24:53.913134Z"
    }
   },
   "outputs": [],
   "source": [
    "# plt.figure(figsize=(10,10))\n",
    "# sns.heatmap(data_ex.corr(), square=True, cmap='PiYG')\n",
    "# plt.show()"
   ]
  },
  {
   "cell_type": "markdown",
   "metadata": {},
   "source": [
    "<a id='bs'></a>\n",
    "## Balance and Split"
   ]
  },
  {
   "cell_type": "code",
   "execution_count": 12,
   "metadata": {
    "ExecuteTime": {
     "end_time": "2020-05-09T10:24:56.553105Z",
     "start_time": "2020-05-09T10:24:54.890739Z"
    }
   },
   "outputs": [
    {
     "name": "stderr",
     "output_type": "stream",
     "text": [
      "Using TensorFlow backend.\n"
     ]
    }
   ],
   "source": [
    "from imblearn import over_sampling, under_sampling\n",
    "from imblearn.pipeline import Pipeline"
   ]
  },
  {
   "cell_type": "code",
   "execution_count": 13,
   "metadata": {
    "ExecuteTime": {
     "end_time": "2020-05-09T10:24:56.559012Z",
     "start_time": "2020-05-09T10:24:56.555352Z"
    }
   },
   "outputs": [],
   "source": [
    "# create sampling strategy\n",
    "# both oversampling and undersampling\n",
    "over = over_sampling.SMOTE(0.8)\n",
    "under = under_sampling.RandomUnderSampler(0.8)"
   ]
  },
  {
   "cell_type": "code",
   "execution_count": 14,
   "metadata": {
    "ExecuteTime": {
     "end_time": "2020-05-09T10:24:56.566826Z",
     "start_time": "2020-05-09T10:24:56.561887Z"
    }
   },
   "outputs": [],
   "source": [
    "# create pipeline\n",
    "pipeline = Pipeline([('o', over),('u', under)])"
   ]
  },
  {
   "cell_type": "code",
   "execution_count": 15,
   "metadata": {
    "ExecuteTime": {
     "end_time": "2020-05-09T10:24:56.639981Z",
     "start_time": "2020-05-09T10:24:56.569176Z"
    }
   },
   "outputs": [],
   "source": [
    "X_sam, y_sam = pipeline.fit_resample(X, y)"
   ]
  },
  {
   "cell_type": "code",
   "execution_count": 16,
   "metadata": {
    "ExecuteTime": {
     "end_time": "2020-05-09T10:24:56.646751Z",
     "start_time": "2020-05-09T10:24:56.641784Z"
    }
   },
   "outputs": [],
   "source": [
    "from sklearn.model_selection import train_test_split"
   ]
  },
  {
   "cell_type": "code",
   "execution_count": 17,
   "metadata": {
    "ExecuteTime": {
     "end_time": "2020-05-09T10:24:57.402304Z",
     "start_time": "2020-05-09T10:24:57.388224Z"
    }
   },
   "outputs": [],
   "source": [
    "X_train, X_test, y_train, y_test = train_test_split(X_sam, y_sam, test_size=0.15)"
   ]
  },
  {
   "cell_type": "markdown",
   "metadata": {},
   "source": [
    "<a id='scale'></a>\n",
    "## Scale"
   ]
  },
  {
   "cell_type": "code",
   "execution_count": 18,
   "metadata": {
    "ExecuteTime": {
     "end_time": "2020-05-09T10:24:58.434712Z",
     "start_time": "2020-05-09T10:24:58.430987Z"
    }
   },
   "outputs": [],
   "source": [
    "from sklearn.preprocessing import StandardScaler"
   ]
  },
  {
   "cell_type": "code",
   "execution_count": 19,
   "metadata": {
    "ExecuteTime": {
     "end_time": "2020-05-09T10:24:58.693537Z",
     "start_time": "2020-05-09T10:24:58.674373Z"
    }
   },
   "outputs": [
    {
     "data": {
      "text/plain": [
       "StandardScaler(copy=True, with_mean=True, with_std=True)"
      ]
     },
     "execution_count": 19,
     "metadata": {},
     "output_type": "execute_result"
    }
   ],
   "source": [
    "scaler = StandardScaler()\n",
    "scaler.fit(X_train)"
   ]
  },
  {
   "cell_type": "code",
   "execution_count": 20,
   "metadata": {
    "ExecuteTime": {
     "end_time": "2020-05-09T10:24:58.835954Z",
     "start_time": "2020-05-09T10:24:58.823520Z"
    }
   },
   "outputs": [],
   "source": [
    "X_train_n = scaler.transform(X_train)\n",
    "X_test_n = scaler.transform(X_test)"
   ]
  },
  {
   "cell_type": "markdown",
   "metadata": {},
   "source": [
    "<a id='model'></a>\n",
    "# Model"
   ]
  },
  {
   "cell_type": "code",
   "execution_count": 21,
   "metadata": {
    "ExecuteTime": {
     "end_time": "2020-05-09T10:25:03.266118Z",
     "start_time": "2020-05-09T10:25:03.262958Z"
    }
   },
   "outputs": [],
   "source": [
    "from sklearn.metrics import confusion_matrix"
   ]
  },
  {
   "cell_type": "code",
   "execution_count": 22,
   "metadata": {
    "ExecuteTime": {
     "end_time": "2020-05-09T10:25:04.923527Z",
     "start_time": "2020-05-09T10:25:04.916988Z"
    }
   },
   "outputs": [],
   "source": [
    "def precision_recall(true, predict, print_=True):\n",
    "    cm = confusion_matrix(true, predict)\n",
    "    if print_:\n",
    "        print('Confusion Matrix:')\n",
    "        print(cm)\n",
    "        print()\n",
    "    \n",
    "    tn, fp, fn, tp = confusion_matrix(true, predict).ravel()\n",
    "    precision = tp / (tp+fp)\n",
    "    recall = tp / (tp+fn)\n",
    "    \n",
    "    if print_:\n",
    "        print('Precision:', precision)\n",
    "        print('Recall:', recall)\n",
    "    else:\n",
    "        return precision, recall"
   ]
  },
  {
   "cell_type": "markdown",
   "metadata": {},
   "source": [
    "<a id='rf'></a>\n",
    "## Random Forest"
   ]
  },
  {
   "cell_type": "code",
   "execution_count": 49,
   "metadata": {
    "ExecuteTime": {
     "end_time": "2020-05-09T09:13:55.313839Z",
     "start_time": "2020-05-09T09:13:55.311086Z"
    }
   },
   "outputs": [],
   "source": [
    "from sklearn.ensemble import RandomForestClassifier\n",
    "from sklearn.model_selection import RandomizedSearchCV"
   ]
  },
  {
   "cell_type": "code",
   "execution_count": 50,
   "metadata": {
    "ExecuteTime": {
     "end_time": "2020-05-09T09:13:55.852997Z",
     "start_time": "2020-05-09T09:13:55.847497Z"
    }
   },
   "outputs": [],
   "source": [
    "# Number of trees in random forest\n",
    "n_estimators = [int(x) for x in np.linspace(start = 200, stop = 2000, num = 10)]\n",
    "# Number of features to consider at every split\n",
    "max_features = ['auto', 'sqrt']\n",
    "# Maximum number of levels in tree\n",
    "max_depth = [int(x) for x in np.linspace(10, 110, num = 11)]\n",
    "max_depth.append(None)\n",
    "# Minimum number of samples required to split a node\n",
    "min_samples_split = [2, 5, 10]\n",
    "# Minimum number of samples required at each leaf node\n",
    "min_samples_leaf = [1, 2, 4]\n",
    "# Method of selecting samples for training each tree\n",
    "bootstrap = [True, False]"
   ]
  },
  {
   "cell_type": "code",
   "execution_count": 51,
   "metadata": {
    "ExecuteTime": {
     "end_time": "2020-05-09T09:13:56.881842Z",
     "start_time": "2020-05-09T09:13:56.874512Z"
    }
   },
   "outputs": [],
   "source": [
    "# Create the random grid\n",
    "random_grid = {'n_estimators': n_estimators,\n",
    "               'max_features': max_features,\n",
    "               'max_depth': max_depth,\n",
    "               'min_samples_split': min_samples_split,\n",
    "               'min_samples_leaf': min_samples_leaf,\n",
    "               'bootstrap': bootstrap}"
   ]
  },
  {
   "cell_type": "code",
   "execution_count": 52,
   "metadata": {
    "ExecuteTime": {
     "end_time": "2020-05-09T09:13:57.698617Z",
     "start_time": "2020-05-09T09:13:57.693675Z"
    }
   },
   "outputs": [],
   "source": [
    "rf = RandomForestClassifier()\n",
    "\n",
    "rf_random = RandomizedSearchCV(estimator=rf, \n",
    "                               param_distributions=random_grid, \n",
    "                               n_iter = 100, \n",
    "                               cv = 5, \n",
    "                               verbose=2,\n",
    "                               random_state=42, \n",
    "                               n_jobs = -1)"
   ]
  },
  {
   "cell_type": "code",
   "execution_count": 55,
   "metadata": {
    "ExecuteTime": {
     "end_time": "2020-05-09T09:14:20.201296Z",
     "start_time": "2020-05-09T09:14:20.198120Z"
    }
   },
   "outputs": [],
   "source": [
    "# rf_random.fit(X_train, y_train)"
   ]
  },
  {
   "cell_type": "code",
   "execution_count": 56,
   "metadata": {
    "ExecuteTime": {
     "end_time": "2020-05-09T09:14:21.385762Z",
     "start_time": "2020-05-09T09:14:21.382269Z"
    }
   },
   "outputs": [],
   "source": [
    "# rf_random.best_params_"
   ]
  },
  {
   "cell_type": "code",
   "execution_count": 57,
   "metadata": {
    "ExecuteTime": {
     "end_time": "2020-05-09T09:14:22.857745Z",
     "start_time": "2020-05-09T09:14:22.853910Z"
    }
   },
   "outputs": [],
   "source": [
    "rf_best = RandomForestClassifier(n_estimators=1800, \n",
    "                                 min_samples_split=10,\n",
    "                                 min_samples_leaf=2,\n",
    "                                 max_features='auto',\n",
    "                                 max_depth=110,\n",
    "                                 bootstrap=False)"
   ]
  },
  {
   "cell_type": "code",
   "execution_count": 58,
   "metadata": {
    "ExecuteTime": {
     "end_time": "2020-05-09T09:15:58.393284Z",
     "start_time": "2020-05-09T09:14:23.548492Z"
    }
   },
   "outputs": [
    {
     "data": {
      "text/plain": [
       "RandomForestClassifier(bootstrap=False, ccp_alpha=0.0, class_weight=None,\n",
       "                       criterion='gini', max_depth=110, max_features='auto',\n",
       "                       max_leaf_nodes=None, max_samples=None,\n",
       "                       min_impurity_decrease=0.0, min_impurity_split=None,\n",
       "                       min_samples_leaf=2, min_samples_split=10,\n",
       "                       min_weight_fraction_leaf=0.0, n_estimators=1800,\n",
       "                       n_jobs=None, oob_score=False, random_state=None,\n",
       "                       verbose=0, warm_start=False)"
      ]
     },
     "execution_count": 58,
     "metadata": {},
     "output_type": "execute_result"
    }
   ],
   "source": [
    "rf_best.fit(X_train, y_train)"
   ]
  },
  {
   "cell_type": "code",
   "execution_count": 74,
   "metadata": {
    "ExecuteTime": {
     "end_time": "2020-05-02T09:54:48.371166Z",
     "start_time": "2020-05-02T09:54:48.367192Z"
    }
   },
   "outputs": [],
   "source": [
    "# import pickle"
   ]
  },
  {
   "cell_type": "code",
   "execution_count": 75,
   "metadata": {
    "ExecuteTime": {
     "end_time": "2020-05-02T09:55:11.286592Z",
     "start_time": "2020-05-02T09:55:10.351432Z"
    }
   },
   "outputs": [],
   "source": [
    "# filename = 'model_rf_5_2.sav'\n",
    "# pickle.dump(rf_best, open(filename, 'wb'))"
   ]
  },
  {
   "cell_type": "markdown",
   "metadata": {},
   "source": [
    "<a id='svm'></a>\n",
    "## SVM"
   ]
  },
  {
   "cell_type": "code",
   "execution_count": 59,
   "metadata": {
    "ExecuteTime": {
     "end_time": "2020-05-09T09:16:03.695232Z",
     "start_time": "2020-05-09T09:16:03.690467Z"
    }
   },
   "outputs": [],
   "source": [
    "from sklearn.svm import SVC"
   ]
  },
  {
   "cell_type": "code",
   "execution_count": 60,
   "metadata": {
    "ExecuteTime": {
     "end_time": "2020-05-09T09:16:24.114112Z",
     "start_time": "2020-05-09T09:16:04.099741Z"
    }
   },
   "outputs": [
    {
     "data": {
      "text/plain": [
       "SVC(C=1.0, break_ties=False, cache_size=200, class_weight=None, coef0=0.0,\n",
       "    decision_function_shape='ovr', degree=3, gamma='auto', kernel='rbf',\n",
       "    max_iter=-1, probability=False, random_state=None, shrinking=True,\n",
       "    tol=0.001, verbose=False)"
      ]
     },
     "execution_count": 60,
     "metadata": {},
     "output_type": "execute_result"
    }
   ],
   "source": [
    "svm = SVC(gamma='auto',)\n",
    "svm.fit(X_train_n, y_train)"
   ]
  },
  {
   "cell_type": "markdown",
   "metadata": {},
   "source": [
    "<a id='gnb'></a>\n",
    "## Gaussian NB"
   ]
  },
  {
   "cell_type": "code",
   "execution_count": 61,
   "metadata": {
    "ExecuteTime": {
     "end_time": "2020-05-09T09:16:26.853499Z",
     "start_time": "2020-05-09T09:16:26.845841Z"
    }
   },
   "outputs": [],
   "source": [
    "from sklearn.naive_bayes import GaussianNB"
   ]
  },
  {
   "cell_type": "code",
   "execution_count": 62,
   "metadata": {
    "ExecuteTime": {
     "end_time": "2020-05-09T09:16:27.296432Z",
     "start_time": "2020-05-09T09:16:27.280148Z"
    }
   },
   "outputs": [
    {
     "data": {
      "text/plain": [
       "GaussianNB(priors=None, var_smoothing=1e-09)"
      ]
     },
     "execution_count": 62,
     "metadata": {},
     "output_type": "execute_result"
    }
   ],
   "source": [
    "gnb = GaussianNB()\n",
    "gnb.fit(X_train, y_train)"
   ]
  },
  {
   "cell_type": "markdown",
   "metadata": {},
   "source": [
    "<a id='logit'></a>\n",
    "## Logistic Regression"
   ]
  },
  {
   "cell_type": "code",
   "execution_count": 23,
   "metadata": {
    "ExecuteTime": {
     "end_time": "2020-05-09T10:25:09.990231Z",
     "start_time": "2020-05-09T10:25:09.987035Z"
    }
   },
   "outputs": [],
   "source": [
    "from sklearn.linear_model import LogisticRegressionCV"
   ]
  },
  {
   "cell_type": "code",
   "execution_count": 24,
   "metadata": {
    "ExecuteTime": {
     "end_time": "2020-05-09T10:25:12.154368Z",
     "start_time": "2020-05-09T10:25:10.129211Z"
    }
   },
   "outputs": [
    {
     "name": "stderr",
     "output_type": "stream",
     "text": [
      "[Parallel(n_jobs=1)]: Using backend SequentialBackend with 1 concurrent workers.\n",
      "[Parallel(n_jobs=1)]: Done   1 out of   1 | elapsed:    0.3s remaining:    0.0s\n",
      "[Parallel(n_jobs=1)]: Done  10 out of  10 | elapsed:    2.0s finished\n"
     ]
    },
    {
     "data": {
      "text/plain": [
       "LogisticRegressionCV(Cs=10, class_weight=None, cv=10, dual=False,\n",
       "                     fit_intercept=True, intercept_scaling=1.0, l1_ratios=None,\n",
       "                     max_iter=100, multi_class='auto', n_jobs=None,\n",
       "                     penalty='l2', random_state=None, refit=True, scoring=None,\n",
       "                     solver='lbfgs', tol=0.0001, verbose=2)"
      ]
     },
     "execution_count": 24,
     "metadata": {},
     "output_type": "execute_result"
    }
   ],
   "source": [
    "logit = LogisticRegressionCV(cv=10, verbose=2)\n",
    "logit.fit(X_train_n, y_train)"
   ]
  },
  {
   "cell_type": "code",
   "execution_count": 25,
   "metadata": {
    "ExecuteTime": {
     "end_time": "2020-05-09T10:25:13.520452Z",
     "start_time": "2020-05-09T10:25:13.374422Z"
    }
   },
   "outputs": [
    {
     "data": {
      "image/png": "[encoded data removed]",
      "text/plain": [
       "<Figure size 720x360 with 1 Axes>"
      ]
     },
     "metadata": {
      "needs_background": "light"
     },
     "output_type": "display_data"
    }
   ],
   "source": [
    "plt.figure(figsize=(10,5))\n",
    "plt.bar(range(len(logit.coef_.reshape(-1))), logit.coef_.reshape(-1))\n",
    "plt.show()"
   ]
  },
  {
   "cell_type": "markdown",
   "metadata": {},
   "source": [
    "<a id='knn'></a>\n",
    "## KNN"
   ]
  },
  {
   "cell_type": "code",
   "execution_count": 66,
   "metadata": {
    "ExecuteTime": {
     "end_time": "2020-05-09T09:16:39.986111Z",
     "start_time": "2020-05-09T09:16:39.982207Z"
    }
   },
   "outputs": [],
   "source": [
    "from sklearn.neighbors import KNeighborsClassifier\n",
    "from sklearn.model_selection import cross_val_score"
   ]
  },
  {
   "cell_type": "code",
   "execution_count": 67,
   "metadata": {
    "ExecuteTime": {
     "end_time": "2020-05-09T09:16:40.571254Z",
     "start_time": "2020-05-09T09:16:40.567297Z"
    }
   },
   "outputs": [],
   "source": [
    "def knn_cv(n, X, y):\n",
    "    knn = KNeighborsClassifier(n_neighbors=n)\n",
    "    score = cross_val_score(knn, X, y, cv=10)\n",
    "    return score.mean()"
   ]
  },
  {
   "cell_type": "code",
   "execution_count": 68,
   "metadata": {
    "ExecuteTime": {
     "end_time": "2020-05-09T09:19:47.340397Z",
     "start_time": "2020-05-09T09:16:41.169342Z"
    }
   },
   "outputs": [
    {
     "data": {
      "application/vnd.jupyter.widget-view+json": {
       "model_id": "0d99bab4912e40fab24375127c6d3ddf",
       "version_major": 2,
       "version_minor": 0
      },
      "text/plain": [
       "HBox(children=(IntProgress(value=0, max=48), HTML(value='')))"
      ]
     },
     "metadata": {},
     "output_type": "display_data"
    },
    {
     "name": "stdout",
     "output_type": "stream",
     "text": [
      "\n"
     ]
    }
   ],
   "source": [
    "all_knn_scores = [knn_cv(i, X_train_n, y_train) for i in tqdm(range(3, 99, 2))]"
   ]
  },
  {
   "cell_type": "code",
   "execution_count": 69,
   "metadata": {
    "ExecuteTime": {
     "end_time": "2020-05-09T09:19:48.953222Z",
     "start_time": "2020-05-09T09:19:48.662007Z"
    }
   },
   "outputs": [
    {
     "data": {
      "image/png": "[encoded data removed]",
      "text/plain": [
       "<Figure size 720x360 with 1 Axes>"
      ]
     },
     "metadata": {
      "needs_background": "light"
     },
     "output_type": "display_data"
    }
   ],
   "source": [
    "plt.figure(figsize=(10,5))\n",
    "plt.plot(all_knn_scores)\n",
    "plt.xticks(range(len(all_knn_scores)), range(3,99,2), rotation=30)\n",
    "plt.show()"
   ]
  },
  {
   "cell_type": "code",
   "execution_count": 70,
   "metadata": {
    "ExecuteTime": {
     "end_time": "2020-05-09T09:19:53.454204Z",
     "start_time": "2020-05-09T09:19:53.408438Z"
    }
   },
   "outputs": [
    {
     "data": {
      "text/plain": [
       "KNeighborsClassifier(algorithm='auto', leaf_size=30, metric='minkowski',\n",
       "                     metric_params=None, n_jobs=None, n_neighbors=3, p=2,\n",
       "                     weights='uniform')"
      ]
     },
     "execution_count": 70,
     "metadata": {},
     "output_type": "execute_result"
    }
   ],
   "source": [
    "knn_best = KNeighborsClassifier(n_neighbors=3)\n",
    "knn_best.fit(X_train_n, y_train)"
   ]
  },
  {
   "cell_type": "markdown",
   "metadata": {},
   "source": [
    "<a id='nn'></a>\n",
    "## Neural Network"
   ]
  },
  {
   "cell_type": "code",
   "execution_count": 71,
   "metadata": {
    "ExecuteTime": {
     "end_time": "2020-05-09T09:20:02.085898Z",
     "start_time": "2020-05-09T09:20:02.080199Z"
    }
   },
   "outputs": [],
   "source": [
    "X_val_n, X_test_dnn, y_val, y_test_dnn = train_test_split(X_test_n, y_test, test_size=0.2)"
   ]
  },
  {
   "cell_type": "code",
   "execution_count": 72,
   "metadata": {
    "ExecuteTime": {
     "end_time": "2020-05-09T09:20:03.097882Z",
     "start_time": "2020-05-09T09:20:03.093575Z"
    }
   },
   "outputs": [],
   "source": [
    "from keras import models\n",
    "from keras import layers"
   ]
  },
  {
   "cell_type": "code",
   "execution_count": 73,
   "metadata": {
    "ExecuteTime": {
     "end_time": "2020-05-09T09:20:05.188561Z",
     "start_time": "2020-05-09T09:20:04.696324Z"
    }
   },
   "outputs": [
    {
     "name": "stderr",
     "output_type": "stream",
     "text": [
      "WARNING: Logging before flag parsing goes to stderr.\n",
      "W0509 02:20:04.705844 4548527552 deprecation_wrapper.py:119] From /anaconda3/lib/python3.7/site-packages/keras/backend/tensorflow_backend.py:74: The name tf.get_default_graph is deprecated. Please use tf.compat.v1.get_default_graph instead.\n",
      "\n",
      "W0509 02:20:04.829035 4548527552 deprecation_wrapper.py:119] From /anaconda3/lib/python3.7/site-packages/keras/backend/tensorflow_backend.py:517: The name tf.placeholder is deprecated. Please use tf.compat.v1.placeholder instead.\n",
      "\n",
      "W0509 02:20:04.885809 4548527552 deprecation_wrapper.py:119] From /anaconda3/lib/python3.7/site-packages/keras/backend/tensorflow_backend.py:4138: The name tf.random_uniform is deprecated. Please use tf.random.uniform instead.\n",
      "\n",
      "W0509 02:20:04.937172 4548527552 deprecation_wrapper.py:119] From /anaconda3/lib/python3.7/site-packages/keras/backend/tensorflow_backend.py:133: The name tf.placeholder_with_default is deprecated. Please use tf.compat.v1.placeholder_with_default instead.\n",
      "\n",
      "W0509 02:20:04.943943 4548527552 deprecation.py:506] From /anaconda3/lib/python3.7/site-packages/keras/backend/tensorflow_backend.py:3445: calling dropout (from tensorflow.python.ops.nn_ops) with keep_prob is deprecated and will be removed in a future version.\n",
      "Instructions for updating:\n",
      "Please use `rate` instead of `keep_prob`. Rate should be set to `rate = 1 - keep_prob`.\n"
     ]
    }
   ],
   "source": [
    "dnn = models.Sequential()\n",
    "dnn.add(layers.Dense(128, activation='relu', input_shape=(11,)))\n",
    "dnn.add(layers.Dropout(0.2))\n",
    "dnn.add(layers.Dense(128, activation='relu'))\n",
    "dnn.add(layers.Dropout(0.2))\n",
    "dnn.add(layers.Dense(128, activation='relu'))\n",
    "dnn.add(layers.Dropout(0.2))\n",
    "dnn.add(layers.Dense(128, activation='relu'))\n",
    "dnn.add(layers.Dropout(0.2))\n",
    "dnn.add(layers.Dense(128, activation='relu'))\n",
    "dnn.add(layers.Dropout(0.2))\n",
    "dnn.add(layers.Dense(128, activation='relu'))\n",
    "dnn.add(layers.Dropout(0.2))\n",
    "dnn.add(layers.Dense(128, activation='relu'))\n",
    "dnn.add(layers.Dropout(0.2))\n",
    "dnn.add(layers.Dense(128, activation='relu'))\n",
    "dnn.add(layers.Dropout(0.2))\n",
    "dnn.add(layers.Dense(128, activation='relu', input_shape=(11,)))\n",
    "dnn.add(layers.Dropout(0.2))\n",
    "dnn.add(layers.Dense(128, activation='relu', input_shape=(11,)))\n",
    "dnn.add(layers.Dropout(0.2))\n",
    "dnn.add(layers.Dense(128, activation='relu', input_shape=(11,)))\n",
    "dnn.add(layers.Dropout(0.2))\n",
    "dnn.add(layers.Dense(1, activation='sigmoid'))"
   ]
  },
  {
   "cell_type": "code",
   "execution_count": 74,
   "metadata": {
    "ExecuteTime": {
     "end_time": "2020-05-09T09:20:06.890587Z",
     "start_time": "2020-05-09T09:20:06.841671Z"
    }
   },
   "outputs": [
    {
     "name": "stderr",
     "output_type": "stream",
     "text": [
      "W0509 02:20:06.843227 4548527552 deprecation_wrapper.py:119] From /anaconda3/lib/python3.7/site-packages/keras/optimizers.py:790: The name tf.train.Optimizer is deprecated. Please use tf.compat.v1.train.Optimizer instead.\n",
      "\n",
      "W0509 02:20:06.866159 4548527552 deprecation_wrapper.py:119] From /anaconda3/lib/python3.7/site-packages/keras/backend/tensorflow_backend.py:3376: The name tf.log is deprecated. Please use tf.math.log instead.\n",
      "\n",
      "W0509 02:20:06.870812 4548527552 deprecation.py:323] From /anaconda3/lib/python3.7/site-packages/tensorflow/python/ops/nn_impl.py:180: add_dispatch_support.<locals>.wrapper (from tensorflow.python.ops.array_ops) is deprecated and will be removed in a future version.\n",
      "Instructions for updating:\n",
      "Use tf.where in 2.0, which has the same broadcast rule as np.where\n"
     ]
    }
   ],
   "source": [
    "dnn.compile(optimizer='rmsprop', loss='binary_crossentropy', metrics=['acc'])"
   ]
  },
  {
   "cell_type": "code",
   "execution_count": 75,
   "metadata": {
    "ExecuteTime": {
     "end_time": "2020-05-09T09:21:12.338048Z",
     "start_time": "2020-05-09T09:20:15.779785Z"
    },
    "scrolled": true
   },
   "outputs": [
    {
     "name": "stdout",
     "output_type": "stream",
     "text": [
      "Train on 28649 samples, validate on 4044 samples\n",
      "Epoch 1/60\n",
      "28649/28649 [==============================] - 2s 62us/step - loss: 0.6043 - acc: 0.6749 - val_loss: 0.5683 - val_acc: 0.7080\n",
      "Epoch 2/60\n",
      "28649/28649 [==============================] - 1s 31us/step - loss: 0.5799 - acc: 0.7019 - val_loss: 0.5699 - val_acc: 0.7203\n",
      "Epoch 3/60\n",
      "28649/28649 [==============================] - 1s 30us/step - loss: 0.5753 - acc: 0.7078 - val_loss: 0.5660 - val_acc: 0.7295\n",
      "Epoch 4/60\n",
      "28649/28649 [==============================] - 1s 30us/step - loss: 0.5685 - acc: 0.7120 - val_loss: 0.5545 - val_acc: 0.7315\n",
      "Epoch 5/60\n",
      "28649/28649 [==============================] - 1s 29us/step - loss: 0.5677 - acc: 0.7146 - val_loss: 0.5662 - val_acc: 0.7273\n",
      "Epoch 6/60\n",
      "28649/28649 [==============================] - 1s 29us/step - loss: 0.5640 - acc: 0.7196 - val_loss: 0.5531 - val_acc: 0.7362\n",
      "Epoch 7/60\n",
      "28649/28649 [==============================] - 1s 31us/step - loss: 0.5609 - acc: 0.7218 - val_loss: 0.5469 - val_acc: 0.7416\n",
      "Epoch 8/60\n",
      "28649/28649 [==============================] - 1s 30us/step - loss: 0.5582 - acc: 0.7265 - val_loss: 0.5496 - val_acc: 0.7416\n",
      "Epoch 9/60\n",
      "28649/28649 [==============================] - 1s 29us/step - loss: 0.5552 - acc: 0.7262 - val_loss: 0.5421 - val_acc: 0.7448\n",
      "Epoch 10/60\n",
      "28649/28649 [==============================] - 1s 30us/step - loss: 0.5516 - acc: 0.7301 - val_loss: 0.5445 - val_acc: 0.7493\n",
      "Epoch 11/60\n",
      "28649/28649 [==============================] - 1s 30us/step - loss: 0.5478 - acc: 0.7349 - val_loss: 0.5313 - val_acc: 0.7470\n",
      "Epoch 12/60\n",
      "28649/28649 [==============================] - 1s 30us/step - loss: 0.5460 - acc: 0.7352 - val_loss: 0.5415 - val_acc: 0.7589\n",
      "Epoch 13/60\n",
      "28649/28649 [==============================] - 1s 31us/step - loss: 0.5440 - acc: 0.7369 - val_loss: 0.5320 - val_acc: 0.7614\n",
      "Epoch 14/60\n",
      "28649/28649 [==============================] - 1s 30us/step - loss: 0.5415 - acc: 0.7376 - val_loss: 0.5264 - val_acc: 0.7582\n",
      "Epoch 15/60\n",
      "28649/28649 [==============================] - 1s 30us/step - loss: 0.5386 - acc: 0.7435 - val_loss: 0.5251 - val_acc: 0.7681\n",
      "Epoch 16/60\n",
      "28649/28649 [==============================] - 1s 30us/step - loss: 0.5374 - acc: 0.7447 - val_loss: 0.5342 - val_acc: 0.7569\n",
      "Epoch 17/60\n",
      "28649/28649 [==============================] - 1s 31us/step - loss: 0.5343 - acc: 0.7431 - val_loss: 0.5351 - val_acc: 0.7648\n",
      "Epoch 18/60\n",
      "28649/28649 [==============================] - 1s 31us/step - loss: 0.5308 - acc: 0.7483 - val_loss: 0.5355 - val_acc: 0.7594\n",
      "Epoch 19/60\n",
      "28649/28649 [==============================] - 1s 30us/step - loss: 0.5290 - acc: 0.7513 - val_loss: 0.5305 - val_acc: 0.7673\n",
      "Epoch 20/60\n",
      "28649/28649 [==============================] - 1s 30us/step - loss: 0.5273 - acc: 0.7518 - val_loss: 0.5155 - val_acc: 0.7690\n",
      "Epoch 21/60\n",
      "28649/28649 [==============================] - 1s 31us/step - loss: 0.5246 - acc: 0.7506 - val_loss: 0.5152 - val_acc: 0.7703\n",
      "Epoch 22/60\n",
      "28649/28649 [==============================] - 1s 30us/step - loss: 0.5225 - acc: 0.7566 - val_loss: 0.5209 - val_acc: 0.7770\n",
      "Epoch 23/60\n",
      "28649/28649 [==============================] - 1s 31us/step - loss: 0.5195 - acc: 0.7561 - val_loss: 0.5404 - val_acc: 0.7648\n",
      "Epoch 24/60\n",
      "28649/28649 [==============================] - 1s 31us/step - loss: 0.5199 - acc: 0.7537 - val_loss: 0.5152 - val_acc: 0.7757\n",
      "Epoch 25/60\n",
      "28649/28649 [==============================] - 1s 30us/step - loss: 0.5160 - acc: 0.7589 - val_loss: 0.5081 - val_acc: 0.7755\n",
      "Epoch 26/60\n",
      "28649/28649 [==============================] - 1s 31us/step - loss: 0.5141 - acc: 0.7572 - val_loss: 0.4997 - val_acc: 0.7799\n",
      "Epoch 27/60\n",
      "28649/28649 [==============================] - 1s 31us/step - loss: 0.5135 - acc: 0.7621 - val_loss: 0.5074 - val_acc: 0.7745\n",
      "Epoch 28/60\n",
      "28649/28649 [==============================] - 1s 31us/step - loss: 0.5102 - acc: 0.7615 - val_loss: 0.5202 - val_acc: 0.7740\n",
      "Epoch 29/60\n",
      "28649/28649 [==============================] - 1s 31us/step - loss: 0.5075 - acc: 0.7657 - val_loss: 0.4909 - val_acc: 0.7844\n",
      "Epoch 30/60\n",
      "28649/28649 [==============================] - 1s 32us/step - loss: 0.5036 - acc: 0.7680 - val_loss: 0.4952 - val_acc: 0.7839\n",
      "Epoch 31/60\n",
      "28649/28649 [==============================] - 1s 30us/step - loss: 0.4996 - acc: 0.7684 - val_loss: 0.4850 - val_acc: 0.7851\n",
      "Epoch 32/60\n",
      "28649/28649 [==============================] - 1s 31us/step - loss: 0.4991 - acc: 0.7700 - val_loss: 0.4904 - val_acc: 0.7888\n",
      "Epoch 33/60\n",
      "28649/28649 [==============================] - 1s 31us/step - loss: 0.4991 - acc: 0.7692 - val_loss: 0.4953 - val_acc: 0.7839\n",
      "Epoch 34/60\n",
      "28649/28649 [==============================] - 1s 31us/step - loss: 0.4936 - acc: 0.7739 - val_loss: 0.4909 - val_acc: 0.7873\n",
      "Epoch 35/60\n",
      "28649/28649 [==============================] - 1s 30us/step - loss: 0.4969 - acc: 0.7688 - val_loss: 0.4857 - val_acc: 0.7849\n",
      "Epoch 36/60\n",
      "28649/28649 [==============================] - 1s 31us/step - loss: 0.4939 - acc: 0.7723 - val_loss: 0.5032 - val_acc: 0.7826\n",
      "Epoch 37/60\n",
      "28649/28649 [==============================] - 1s 31us/step - loss: 0.4908 - acc: 0.7731 - val_loss: 0.4716 - val_acc: 0.7960\n",
      "Epoch 38/60\n",
      "28649/28649 [==============================] - 1s 31us/step - loss: 0.4887 - acc: 0.7755 - val_loss: 0.4877 - val_acc: 0.7955\n",
      "Epoch 39/60\n",
      "28649/28649 [==============================] - 1s 33us/step - loss: 0.4843 - acc: 0.7804 - val_loss: 0.4777 - val_acc: 0.7980\n",
      "Epoch 40/60\n",
      "28649/28649 [==============================] - 1s 36us/step - loss: 0.4857 - acc: 0.7797 - val_loss: 0.4834 - val_acc: 0.7913\n",
      "Epoch 41/60\n",
      "28649/28649 [==============================] - 1s 34us/step - loss: 0.4819 - acc: 0.7801 - val_loss: 0.4639 - val_acc: 0.7982\n",
      "Epoch 42/60\n",
      "28649/28649 [==============================] - 1s 33us/step - loss: 0.4804 - acc: 0.7812 - val_loss: 0.4764 - val_acc: 0.7985\n",
      "Epoch 43/60\n",
      "28649/28649 [==============================] - 1s 34us/step - loss: 0.4814 - acc: 0.7815 - val_loss: 0.4582 - val_acc: 0.7997\n",
      "Epoch 44/60\n",
      "28649/28649 [==============================] - 1s 41us/step - loss: 0.4768 - acc: 0.7865 - val_loss: 0.4615 - val_acc: 0.8012\n",
      "Epoch 45/60\n",
      "28649/28649 [==============================] - 1s 37us/step - loss: 0.4780 - acc: 0.7843 - val_loss: 0.4714 - val_acc: 0.8037\n",
      "Epoch 46/60\n",
      "28649/28649 [==============================] - 1s 38us/step - loss: 0.4718 - acc: 0.7866 - val_loss: 0.4698 - val_acc: 0.7945\n",
      "Epoch 47/60\n",
      "28649/28649 [==============================] - 1s 33us/step - loss: 0.4766 - acc: 0.7861 - val_loss: 0.4612 - val_acc: 0.8037\n",
      "Epoch 48/60\n",
      "28649/28649 [==============================] - 1s 32us/step - loss: 0.4708 - acc: 0.7892 - val_loss: 0.4572 - val_acc: 0.8019\n",
      "Epoch 49/60\n",
      "28649/28649 [==============================] - 1s 31us/step - loss: 0.4713 - acc: 0.7870 - val_loss: 0.4789 - val_acc: 0.7980\n",
      "Epoch 50/60\n",
      "28649/28649 [==============================] - 1s 32us/step - loss: 0.4690 - acc: 0.7905 - val_loss: 0.4694 - val_acc: 0.8051\n",
      "Epoch 51/60\n",
      "28649/28649 [==============================] - 1s 36us/step - loss: 0.4715 - acc: 0.7868 - val_loss: 0.4372 - val_acc: 0.8098\n",
      "Epoch 52/60\n",
      "28649/28649 [==============================] - 1s 37us/step - loss: 0.4653 - acc: 0.7915 - val_loss: 0.4487 - val_acc: 0.8089\n",
      "Epoch 53/60\n",
      "28649/28649 [==============================] - 1s 39us/step - loss: 0.4639 - acc: 0.7936 - val_loss: 0.4494 - val_acc: 0.8148\n",
      "Epoch 54/60\n",
      "28649/28649 [==============================] - 1s 39us/step - loss: 0.4681 - acc: 0.7942 - val_loss: 0.4428 - val_acc: 0.8091\n",
      "Epoch 55/60\n",
      "28649/28649 [==============================] - 1s 33us/step - loss: 0.4622 - acc: 0.7956 - val_loss: 0.4605 - val_acc: 0.8024\n",
      "Epoch 56/60\n",
      "28649/28649 [==============================] - 1s 31us/step - loss: 0.4606 - acc: 0.7922 - val_loss: 0.4484 - val_acc: 0.8111\n",
      "Epoch 57/60\n",
      "28649/28649 [==============================] - 1s 35us/step - loss: 0.4563 - acc: 0.7967 - val_loss: 0.4428 - val_acc: 0.8155\n",
      "Epoch 58/60\n",
      "28649/28649 [==============================] - 1s 31us/step - loss: 0.4638 - acc: 0.7951 - val_loss: 0.4384 - val_acc: 0.8163\n",
      "Epoch 59/60\n",
      "28649/28649 [==============================] - 1s 32us/step - loss: 0.4614 - acc: 0.7951 - val_loss: 0.4428 - val_acc: 0.8185\n",
      "Epoch 60/60\n"
     ]
    },
    {
     "name": "stdout",
     "output_type": "stream",
     "text": [
      "28649/28649 [==============================] - 1s 33us/step - loss: 0.4595 - acc: 0.7977 - val_loss: 0.4417 - val_acc: 0.8140\n"
     ]
    }
   ],
   "source": [
    "history = dnn.fit(X_train_n, y_train, \n",
    "                    epochs=60, \n",
    "                    batch_size=512, \n",
    "                    verbose=1,\n",
    "                    validation_data=[X_val_n, y_val])"
   ]
  },
  {
   "cell_type": "code",
   "execution_count": 76,
   "metadata": {
    "ExecuteTime": {
     "end_time": "2020-05-09T09:21:18.137682Z",
     "start_time": "2020-05-09T09:21:17.907501Z"
    }
   },
   "outputs": [
    {
     "data": {
      "image/png": "[encoded data removed]",
      "text/plain": [
       "<Figure size 720x360 with 2 Axes>"
      ]
     },
     "metadata": {
      "needs_background": "light"
     },
     "output_type": "display_data"
    }
   ],
   "source": [
    "plt.figure(figsize=(10,5))\n",
    "\n",
    "plt.subplot(2,1,1)\n",
    "plt.plot(history.history['acc'], label='acc')\n",
    "plt.plot(history.history['val_acc'], label='val_acc')\n",
    "plt.legend()\n",
    "\n",
    "plt.subplot(2,1,2)\n",
    "plt.plot(history.history['loss'], label='loss')\n",
    "plt.plot(history.history['val_loss'], label='val_loss')\n",
    "plt.legend()\n",
    "\n",
    "plt.show()"
   ]
  },
  {
   "cell_type": "code",
   "execution_count": 77,
   "metadata": {
    "ExecuteTime": {
     "end_time": "2020-05-09T09:21:26.102566Z",
     "start_time": "2020-05-09T09:21:25.726555Z"
    }
   },
   "outputs": [],
   "source": [
    "dnn_best = models.Sequential()\n",
    "dnn_best.add(layers.Dense(128, activation='relu', input_shape=(11,)))\n",
    "dnn_best.add(layers.Dropout(0.2))\n",
    "dnn_best.add(layers.Dense(128, activation='relu'))\n",
    "dnn_best.add(layers.Dropout(0.2))\n",
    "dnn_best.add(layers.Dense(128, activation='relu'))\n",
    "dnn_best.add(layers.Dropout(0.2))\n",
    "dnn_best.add(layers.Dense(128, activation='relu'))\n",
    "dnn_best.add(layers.Dropout(0.2))\n",
    "dnn_best.add(layers.Dense(128, activation='relu'))\n",
    "dnn_best.add(layers.Dropout(0.2))\n",
    "dnn_best.add(layers.Dense(128, activation='relu'))\n",
    "dnn_best.add(layers.Dropout(0.2))\n",
    "dnn_best.add(layers.Dense(128, activation='relu'))\n",
    "dnn_best.add(layers.Dropout(0.2))\n",
    "dnn_best.add(layers.Dense(128, activation='relu'))\n",
    "dnn_best.add(layers.Dropout(0.2))\n",
    "dnn_best.add(layers.Dense(128, activation='relu', input_shape=(11,)))\n",
    "dnn_best.add(layers.Dropout(0.2))\n",
    "dnn_best.add(layers.Dense(128, activation='relu', input_shape=(11,)))\n",
    "dnn_best.add(layers.Dropout(0.2))\n",
    "dnn_best.add(layers.Dense(128, activation='relu', input_shape=(11,)))\n",
    "dnn_best.add(layers.Dropout(0.2))\n",
    "dnn_best.add(layers.Dense(1, activation='sigmoid'))"
   ]
  },
  {
   "cell_type": "code",
   "execution_count": 78,
   "metadata": {
    "ExecuteTime": {
     "end_time": "2020-05-09T09:21:30.063060Z",
     "start_time": "2020-05-09T09:21:30.020697Z"
    }
   },
   "outputs": [],
   "source": [
    "dnn_best.compile(optimizer='rmsprop', loss='binary_crossentropy', metrics=['acc'])"
   ]
  },
  {
   "cell_type": "code",
   "execution_count": 79,
   "metadata": {
    "ExecuteTime": {
     "end_time": "2020-05-09T09:21:44.584572Z",
     "start_time": "2020-05-09T09:21:36.087210Z"
    }
   },
   "outputs": [],
   "source": [
    "history_best = dnn_best.fit(X_train_n, y_train, \n",
    "                            epochs=10, \n",
    "                            batch_size=512, \n",
    "                            verbose=0,\n",
    "                            validation_data=[X_val_n, y_val])"
   ]
  },
  {
   "cell_type": "markdown",
   "metadata": {},
   "source": [
    "<a id='evaluation'></a>\n",
    "# Evaluation"
   ]
  },
  {
   "cell_type": "markdown",
   "metadata": {},
   "source": [
    "<a id='precision_recall'></a>\n",
    "## Precision & Recall"
   ]
  },
  {
   "cell_type": "code",
   "execution_count": 80,
   "metadata": {
    "ExecuteTime": {
     "end_time": "2020-05-09T09:21:49.545540Z",
     "start_time": "2020-05-09T09:21:46.788648Z"
    }
   },
   "outputs": [],
   "source": [
    "# random forest\n",
    "rf_score = rf_best.score(X_test, y_test)\n",
    "rf_predict = rf_best.predict(X_test)"
   ]
  },
  {
   "cell_type": "code",
   "execution_count": 81,
   "metadata": {
    "ExecuteTime": {
     "end_time": "2020-05-09T09:21:53.521870Z",
     "start_time": "2020-05-09T09:21:50.154167Z"
    }
   },
   "outputs": [],
   "source": [
    "# svm\n",
    "svm_score = svm.score(X_test_n, y_test)\n",
    "svm_predict = svm.predict(X_test_n)"
   ]
  },
  {
   "cell_type": "code",
   "execution_count": 82,
   "metadata": {
    "ExecuteTime": {
     "end_time": "2020-05-09T09:21:57.683793Z",
     "start_time": "2020-05-09T09:21:57.674843Z"
    }
   },
   "outputs": [],
   "source": [
    "# gnb\n",
    "gnb_score = gnb.score(X_test, y_test)\n",
    "gnb_predict = gnb.predict(X_test)"
   ]
  },
  {
   "cell_type": "code",
   "execution_count": 83,
   "metadata": {
    "ExecuteTime": {
     "end_time": "2020-05-09T09:21:58.839052Z",
     "start_time": "2020-05-09T09:21:58.831167Z"
    }
   },
   "outputs": [],
   "source": [
    "# logistic regression\n",
    "logit_score = logit.score(X_test_n, y_test)\n",
    "logit_predict = logit.predict(X_test_n)"
   ]
  },
  {
   "cell_type": "code",
   "execution_count": 84,
   "metadata": {
    "ExecuteTime": {
     "end_time": "2020-05-09T09:22:00.558818Z",
     "start_time": "2020-05-09T09:21:59.812528Z"
    }
   },
   "outputs": [],
   "source": [
    "# knn\n",
    "knn_score = knn_best.score(X_test_n, y_test)\n",
    "knn_predict = knn_best.predict(X_test_n)"
   ]
  },
  {
   "cell_type": "code",
   "execution_count": 85,
   "metadata": {
    "ExecuteTime": {
     "end_time": "2020-05-09T09:22:02.458356Z",
     "start_time": "2020-05-09T09:22:02.244760Z"
    }
   },
   "outputs": [
    {
     "name": "stdout",
     "output_type": "stream",
     "text": [
      "1012/1012 [==============================] - 0s 32us/step\n"
     ]
    }
   ],
   "source": [
    "# nn\n",
    "dnn_loss, dnn_score = dnn_best.evaluate(X_test_dnn, y_test_dnn)\n",
    "dnn_predict = pd.Series(dnn_best.predict(X_test_dnn).reshape(-1) >= 0.5).astype('int')"
   ]
  },
  {
   "cell_type": "code",
   "execution_count": 86,
   "metadata": {
    "ExecuteTime": {
     "end_time": "2020-05-09T09:22:03.216878Z",
     "start_time": "2020-05-09T09:22:03.213212Z"
    }
   },
   "outputs": [],
   "source": [
    "from sklearn.metrics import roc_curve, auc"
   ]
  },
  {
   "cell_type": "code",
   "execution_count": 87,
   "metadata": {
    "ExecuteTime": {
     "end_time": "2020-05-09T09:22:04.135711Z",
     "start_time": "2020-05-09T09:22:04.088973Z"
    }
   },
   "outputs": [],
   "source": [
    "dnn_fpr, dnn_tpr, dnn_threshold = roc_curve(y_test_dnn, dnn_best.predict(X_test_dnn).reshape(-1))\n",
    "dnn_auc = auc(dnn_fpr, dnn_tpr)"
   ]
  },
  {
   "cell_type": "code",
   "execution_count": 88,
   "metadata": {
    "ExecuteTime": {
     "end_time": "2020-05-09T09:22:04.820597Z",
     "start_time": "2020-05-09T09:22:04.770320Z"
    }
   },
   "outputs": [],
   "source": [
    "pr_dict = {\n",
    "    'rf':precision_recall(y_test, rf_predict, print_=False),\n",
    "    'svm':precision_recall(y_test, svm_predict, print_=False),\n",
    "    'gnb':precision_recall(y_test, gnb_predict, print_=False),\n",
    "    'logit':precision_recall(y_test, logit_predict, print_=False),\n",
    "    'knn':precision_recall(y_test, knn_predict, print_=False),\n",
    "    'dnn':precision_recall(y_test_dnn, dnn_predict, print_=False)\n",
    "}"
   ]
  },
  {
   "cell_type": "code",
   "execution_count": 89,
   "metadata": {
    "ExecuteTime": {
     "end_time": "2020-05-09T09:22:05.417137Z",
     "start_time": "2020-05-09T09:22:05.410244Z"
    }
   },
   "outputs": [],
   "source": [
    "pr_df = pd.DataFrame.from_dict(pr_dict, orient='index', columns=['precision','recall'])\n",
    "pr_df['F1'] = 2*((pr_df['precision']*pr_df['recall']) / (pr_df['precision']+pr_df['recall']))\n",
    "pr_df['accuracy'] = [rf_score, svm_score, gnb_score, logit_score, knn_score, dnn_score]"
   ]
  },
  {
   "cell_type": "code",
   "execution_count": 90,
   "metadata": {
    "ExecuteTime": {
     "end_time": "2020-05-09T09:22:06.319058Z",
     "start_time": "2020-05-09T09:22:06.307335Z"
    }
   },
   "outputs": [
    {
     "data": {
      "text/html": [
       "<div>\n",
       "<style scoped>\n",
       "    .dataframe tbody tr th:only-of-type {\n",
       "        vertical-align: middle;\n",
       "    }\n",
       "\n",
       "    .dataframe tbody tr th {\n",
       "        vertical-align: top;\n",
       "    }\n",
       "\n",
       "    .dataframe thead th {\n",
       "        text-align: right;\n",
       "    }\n",
       "</style>\n",
       "<table border=\"1\" class=\"dataframe\">\n",
       "  <thead>\n",
       "    <tr style=\"text-align: right;\">\n",
       "      <th></th>\n",
       "      <th>precision</th>\n",
       "      <th>recall</th>\n",
       "      <th>F1</th>\n",
       "      <th>accuracy</th>\n",
       "    </tr>\n",
       "  </thead>\n",
       "  <tbody>\n",
       "    <tr>\n",
       "      <th>rf</th>\n",
       "      <td>0.974846</td>\n",
       "      <td>0.914108</td>\n",
       "      <td>0.943500</td>\n",
       "      <td>0.951345</td>\n",
       "    </tr>\n",
       "    <tr>\n",
       "      <th>svm</th>\n",
       "      <td>0.731909</td>\n",
       "      <td>0.670672</td>\n",
       "      <td>0.699954</td>\n",
       "      <td>0.744462</td>\n",
       "    </tr>\n",
       "    <tr>\n",
       "      <th>gnb</th>\n",
       "      <td>0.647693</td>\n",
       "      <td>0.668447</td>\n",
       "      <td>0.657906</td>\n",
       "      <td>0.691060</td>\n",
       "    </tr>\n",
       "    <tr>\n",
       "      <th>logit</th>\n",
       "      <td>0.687592</td>\n",
       "      <td>0.623943</td>\n",
       "      <td>0.654223</td>\n",
       "      <td>0.706883</td>\n",
       "    </tr>\n",
       "    <tr>\n",
       "      <th>knn</th>\n",
       "      <td>0.809578</td>\n",
       "      <td>0.955496</td>\n",
       "      <td>0.876505</td>\n",
       "      <td>0.880340</td>\n",
       "    </tr>\n",
       "    <tr>\n",
       "      <th>dnn</th>\n",
       "      <td>0.703093</td>\n",
       "      <td>0.771493</td>\n",
       "      <td>0.735707</td>\n",
       "      <td>0.757905</td>\n",
       "    </tr>\n",
       "  </tbody>\n",
       "</table>\n",
       "</div>"
      ],
      "text/plain": [
       "       precision    recall        F1  accuracy\n",
       "rf      0.974846  0.914108  0.943500  0.951345\n",
       "svm     0.731909  0.670672  0.699954  0.744462\n",
       "gnb     0.647693  0.668447  0.657906  0.691060\n",
       "logit   0.687592  0.623943  0.654223  0.706883\n",
       "knn     0.809578  0.955496  0.876505  0.880340\n",
       "dnn     0.703093  0.771493  0.735707  0.757905"
      ]
     },
     "execution_count": 90,
     "metadata": {},
     "output_type": "execute_result"
    }
   ],
   "source": [
    "pr_df"
   ]
  },
  {
   "cell_type": "markdown",
   "metadata": {},
   "source": [
    "<a id='auc_roc'></a>\n",
    "## AUC ROC"
   ]
  },
  {
   "cell_type": "code",
   "execution_count": 91,
   "metadata": {
    "ExecuteTime": {
     "end_time": "2020-05-09T09:22:14.315330Z",
     "start_time": "2020-05-09T09:22:14.308431Z"
    }
   },
   "outputs": [],
   "source": [
    "from sklearn.metrics import plot_roc_curve"
   ]
  },
  {
   "cell_type": "code",
   "execution_count": 92,
   "metadata": {
    "ExecuteTime": {
     "end_time": "2020-05-09T09:22:18.645820Z",
     "start_time": "2020-05-09T09:22:15.041579Z"
    }
   },
   "outputs": [
    {
     "data": {
      "image/png": "[encoded data removed]",
      "text/plain": [
       "<Figure size 720x360 with 1 Axes>"
      ]
     },
     "metadata": {
      "needs_background": "light"
     },
     "output_type": "display_data"
    }
   ],
   "source": [
    "fig, ax = plt.subplots(figsize=(10,5))\n",
    "plot_roc_curve(rf_best, X_test, y_test, ax=ax)\n",
    "plot_roc_curve(svm, X_test_n, y_test, ax=ax)\n",
    "plot_roc_curve(gnb, X_test, y_test, ax=ax)\n",
    "plot_roc_curve(logit, X_test_n, y_test, ax=ax)\n",
    "plot_roc_curve(knn_best, X_test_n, y_test, ax=ax)\n",
    "plt.plot(dnn_fpr, dnn_tpr, label='Deep Neural Network (AUC={})'.format(round(dnn_auc, 3)))\n",
    "ax.plot([0, 1], [0, 1], linestyle='--', lw=2, color='black',\n",
    "        label='Chance', alpha=.8)\n",
    "plt.legend()\n",
    "plt.show()"
   ]
  },
  {
   "cell_type": "markdown",
   "metadata": {},
   "source": [
    "# Validation from new data"
   ]
  },
  {
   "cell_type": "code",
   "execution_count": 26,
   "metadata": {
    "ExecuteTime": {
     "end_time": "2020-05-09T10:25:33.353171Z",
     "start_time": "2020-05-09T10:25:33.209064Z"
    }
   },
   "outputs": [],
   "source": [
    "import sys\n",
    "sys.path.insert(1, '../ETL/')\n",
    "\n",
    "import load_data\n",
    "from tools import *"
   ]
  },
  {
   "cell_type": "code",
   "execution_count": 27,
   "metadata": {
    "ExecuteTime": {
     "end_time": "2020-05-09T10:25:35.130964Z",
     "start_time": "2020-05-09T10:25:33.920797Z"
    }
   },
   "outputs": [
    {
     "name": "stdout",
     "output_type": "stream",
     "text": [
      "File 1\n",
      "Loading file: /Users/esmondchu/Desktop/M2020-05-03D.xls\n",
      "Loaded: Race(1)\n",
      "Loaded: Race(2)\n",
      "Loaded: Race(3)\n",
      "Loaded: Race(4)\n",
      "Loaded: Race(5)\n",
      "Loaded: Race(6)\n",
      "Loaded: Race(7)\n",
      "Loaded: Race(8)\n",
      "Loaded: Race(9)\n",
      "Loaded: Race(10)\n",
      "Loaded: Race(11)\n",
      "Status: Completed\n",
      "\n",
      "File 2\n",
      "Loading file: /Users/esmondchu/Desktop/M2020-04-29D.xls\n",
      "Loaded: Race(1)\n",
      "Loaded: Race(2)\n",
      "Loaded: Race(3)\n",
      "Loaded: Race(4)\n",
      "Loaded: Race(5)\n",
      "Loaded: Race(6)\n",
      "Loaded: Race(7)\n",
      "Loaded: Race(8)\n",
      "Loaded: Race(9)\n",
      "Status: Completed\n",
      "\n",
      "Loaded 2 files\n"
     ]
    }
   ],
   "source": [
    "new_data = load_data.flow_from_dir('/Users/esmondchu/Desktop/', '.xls', 'Race', combined=False)"
   ]
  },
  {
   "cell_type": "code",
   "execution_count": 31,
   "metadata": {
    "ExecuteTime": {
     "end_time": "2020-05-09T10:25:50.173392Z",
     "start_time": "2020-05-09T10:25:50.169515Z"
    }
   },
   "outputs": [],
   "source": [
    "include_col = ['東(正)','東(副)','東(冷)','蘋(正)','蘋(副)','蘋(冷)','專(正)','專(副)','專(冷)','W.H. FixOdd','S.B.      FixOdd']"
   ]
  }
 ],
 "metadata": {
  "kernelspec": {
   "display_name": "Python 3",
   "language": "python",
   "name": "python3"
  },
  "language_info": {
   "codemirror_mode": {
    "name": "ipython",
    "version": 3
   },
   "file_extension": ".py",
   "mimetype": "text/x-python",
   "name": "python",
   "nbconvert_exporter": "python",
   "pygments_lexer": "ipython3",
   "version": "3.7.3"
  },
  "toc": {
   "base_numbering": 1,
   "nav_menu": {},
   "number_sections": true,
   "sideBar": true,
   "skip_h1_title": false,
   "title_cell": "Table of Contents",
   "title_sidebar": "Contents",
   "toc_cell": false,
   "toc_position": {},
   "toc_section_display": true,
   "toc_window_display": false
  }
 },
 "nbformat": 4,
 "nbformat_minor": 2
}
