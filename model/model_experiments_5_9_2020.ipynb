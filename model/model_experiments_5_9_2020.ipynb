{
 "cells": [
  {
   "cell_type": "markdown",
   "metadata": {},
   "source": [
    "[Load Data](#load)\n",
    "\n",
    "[Data Preparation](#prepare)\n",
    "1. [Balance and Split](#bs)\n",
    "2. [Scale](#scale)\n",
    "\n",
    "[Model](#model)\n",
    "1. [Random Forest](#rf)\n",
    "2. [Gaussian NB](#gnb)\n",
    "3. [Logistic Regression](#logit)\n",
    "4. [KNN](#knn)\n",
    "5. [Neural Network](#nn)\n",
    "\n",
    "[Evaluation](#evaluation)\n",
    "1. [Precision & Recall](#precision_recall)\n",
    "2. [AUC ROC](#auc_roc)"
   ]
  },
  {
   "cell_type": "code",
   "execution_count": 1,
   "metadata": {
    "ExecuteTime": {
<<<<<<< HEAD
     "end_time": "2020-05-09T10:35:48.796085Z",
     "start_time": "2020-05-09T10:35:48.434488Z"
=======
     "end_time": "2020-05-09T10:24:31.591738Z",
     "start_time": "2020-05-09T10:24:31.039345Z"
>>>>>>> 910c800abce44000ad1704d1558f68fa4eaccb9e
    }
   },
   "outputs": [],
   "source": [
    "import numpy as np\n",
    "import pandas as pd"
   ]
  },
  {
   "cell_type": "code",
   "execution_count": 2,
   "metadata": {
    "ExecuteTime": {
<<<<<<< HEAD
     "end_time": "2020-05-09T10:35:49.400362Z",
     "start_time": "2020-05-09T10:35:48.798314Z"
=======
     "end_time": "2020-05-09T10:24:32.653920Z",
     "start_time": "2020-05-09T10:24:31.594285Z"
>>>>>>> 910c800abce44000ad1704d1558f68fa4eaccb9e
    }
   },
   "outputs": [],
   "source": [
    "import seaborn as sns\n",
    "import matplotlib.pyplot as plt"
   ]
  },
  {
   "cell_type": "code",
   "execution_count": 3,
   "metadata": {
    "ExecuteTime": {
<<<<<<< HEAD
     "end_time": "2020-05-09T10:35:49.454473Z",
     "start_time": "2020-05-09T10:35:49.402648Z"
=======
     "end_time": "2020-05-09T10:24:32.723414Z",
     "start_time": "2020-05-09T10:24:32.657950Z"
>>>>>>> 910c800abce44000ad1704d1558f68fa4eaccb9e
    }
   },
   "outputs": [],
   "source": [
    "from tqdm import tqdm_notebook as tqdm"
   ]
  },
  {
   "cell_type": "markdown",
   "metadata": {},
   "source": [
    "<a id='load'></a>\n",
    "# Load data"
   ]
  },
  {
   "cell_type": "code",
   "execution_count": 4,
   "metadata": {
    "ExecuteTime": {
<<<<<<< HEAD
     "end_time": "2020-05-09T10:35:49.507280Z",
     "start_time": "2020-05-09T10:35:49.456520Z"
=======
     "end_time": "2020-05-09T10:24:35.168093Z",
     "start_time": "2020-05-09T10:24:35.112680Z"
>>>>>>> 910c800abce44000ad1704d1558f68fa4eaccb9e
    }
   },
   "outputs": [],
   "source": [
    "data = pd.read_csv('./5_2_2020_data.csv')"
   ]
  },
  {
   "cell_type": "code",
   "execution_count": 5,
   "metadata": {
    "ExecuteTime": {
<<<<<<< HEAD
     "end_time": "2020-05-09T10:35:49.615795Z",
     "start_time": "2020-05-09T10:35:49.593802Z"
=======
     "end_time": "2020-05-09T10:24:35.470363Z",
     "start_time": "2020-05-09T10:24:35.449453Z"
>>>>>>> 910c800abce44000ad1704d1558f68fa4eaccb9e
    }
   },
   "outputs": [],
   "source": [
    "data = data.drop(data[data['oriental_1'] == '-'].index).reset_index(drop=True)"
   ]
  },
  {
   "cell_type": "markdown",
   "metadata": {},
   "source": [
    "<a id='prepare'></a>\n",
    "# Prepare data"
   ]
  },
  {
   "cell_type": "code",
   "execution_count": 6,
   "metadata": {
    "ExecuteTime": {
<<<<<<< HEAD
     "end_time": "2020-05-09T10:35:50.295322Z",
     "start_time": "2020-05-09T10:35:50.292312Z"
=======
     "end_time": "2020-05-09T10:24:36.610182Z",
     "start_time": "2020-05-09T10:24:36.602987Z"
>>>>>>> 910c800abce44000ad1704d1558f68fa4eaccb9e
    }
   },
   "outputs": [],
   "source": [
    "exclude = ['horse_num','oriental_sum','apple_sum','pro_sum',\n",
    "           'total_1','total_2','total_3','total_sum','file_name',\n",
    "           'sheet_name','W.H. FixOdd 60','S.B.Fix Odd 60']"
   ]
  },
  {
   "cell_type": "code",
<<<<<<< HEAD
   "execution_count": 7,
   "metadata": {
    "ExecuteTime": {
     "end_time": "2020-05-09T10:35:50.467838Z",
     "start_time": "2020-05-09T10:35:50.454470Z"
=======
   "execution_count": 9,
   "metadata": {
    "ExecuteTime": {
     "end_time": "2020-05-09T10:24:51.502682Z",
     "start_time": "2020-05-09T10:24:51.485918Z"
>>>>>>> 910c800abce44000ad1704d1558f68fa4eaccb9e
    }
   },
   "outputs": [],
   "source": [
    "data_ex = data[[i for i in list(data) if i not in exclude]].dropna()\n",
    "include_col = [i for i in data_ex if i != 'result']"
   ]
  },
  {
   "cell_type": "code",
<<<<<<< HEAD
   "execution_count": 8,
   "metadata": {
    "ExecuteTime": {
     "end_time": "2020-05-09T10:35:50.652003Z",
     "start_time": "2020-05-09T10:35:50.635947Z"
=======
   "execution_count": 10,
   "metadata": {
    "ExecuteTime": {
     "end_time": "2020-05-09T10:24:52.049396Z",
     "start_time": "2020-05-09T10:24:52.034584Z"
>>>>>>> 910c800abce44000ad1704d1558f68fa4eaccb9e
    }
   },
   "outputs": [],
   "source": [
    "X = data_ex[include_col].astype('float')\n",
    "y = np.array([1 if i == 1 else 0 for i in data_ex['result']])"
   ]
  },
  {
   "cell_type": "code",
<<<<<<< HEAD
   "execution_count": 9,
   "metadata": {
    "ExecuteTime": {
     "end_time": "2020-05-09T10:35:51.132054Z",
     "start_time": "2020-05-09T10:35:51.127555Z"
=======
   "execution_count": 11,
   "metadata": {
    "ExecuteTime": {
     "end_time": "2020-05-09T10:24:53.915716Z",
     "start_time": "2020-05-09T10:24:53.913134Z"
>>>>>>> 910c800abce44000ad1704d1558f68fa4eaccb9e
    }
   },
   "outputs": [],
   "source": [
    "# plt.figure(figsize=(10,10))\n",
    "# sns.heatmap(data_ex.corr(), square=True, cmap='PiYG')\n",
    "# plt.show()"
   ]
  },
  {
   "cell_type": "markdown",
   "metadata": {},
   "source": [
    "<a id='bs'></a>\n",
    "## Balance and Split"
   ]
  },
  {
   "cell_type": "code",
<<<<<<< HEAD
   "execution_count": 10,
   "metadata": {
    "ExecuteTime": {
     "end_time": "2020-05-09T10:35:54.255268Z",
     "start_time": "2020-05-09T10:35:52.586321Z"
=======
   "execution_count": 12,
   "metadata": {
    "ExecuteTime": {
     "end_time": "2020-05-09T10:24:56.553105Z",
     "start_time": "2020-05-09T10:24:54.890739Z"
>>>>>>> 910c800abce44000ad1704d1558f68fa4eaccb9e
    }
   },
   "outputs": [
    {
     "name": "stderr",
     "output_type": "stream",
     "text": [
      "Using TensorFlow backend.\n"
     ]
    }
   ],
   "source": [
    "from imblearn import over_sampling, under_sampling\n",
    "from imblearn.pipeline import Pipeline"
   ]
  },
  {
   "cell_type": "code",
<<<<<<< HEAD
   "execution_count": 11,
   "metadata": {
    "ExecuteTime": {
     "end_time": "2020-05-09T10:35:54.789850Z",
     "start_time": "2020-05-09T10:35:54.784147Z"
=======
   "execution_count": 13,
   "metadata": {
    "ExecuteTime": {
     "end_time": "2020-05-09T10:24:56.559012Z",
     "start_time": "2020-05-09T10:24:56.555352Z"
>>>>>>> 910c800abce44000ad1704d1558f68fa4eaccb9e
    }
   },
   "outputs": [],
   "source": [
    "# create sampling strategy\n",
    "# both oversampling and undersampling\n",
    "over = over_sampling.SMOTE(0.8)\n",
    "under = under_sampling.RandomUnderSampler(0.8)"
   ]
  },
  {
   "cell_type": "code",
<<<<<<< HEAD
   "execution_count": 12,
   "metadata": {
    "ExecuteTime": {
     "end_time": "2020-05-09T10:35:55.117601Z",
     "start_time": "2020-05-09T10:35:55.112444Z"
=======
   "execution_count": 14,
   "metadata": {
    "ExecuteTime": {
     "end_time": "2020-05-09T10:24:56.566826Z",
     "start_time": "2020-05-09T10:24:56.561887Z"
>>>>>>> 910c800abce44000ad1704d1558f68fa4eaccb9e
    }
   },
   "outputs": [],
   "source": [
    "# create pipeline\n",
    "pipeline = Pipeline([('o', over),('u', under)])"
   ]
  },
  {
   "cell_type": "code",
<<<<<<< HEAD
   "execution_count": 13,
   "metadata": {
    "ExecuteTime": {
     "end_time": "2020-05-09T10:35:55.320203Z",
     "start_time": "2020-05-09T10:35:55.251465Z"
=======
   "execution_count": 15,
   "metadata": {
    "ExecuteTime": {
     "end_time": "2020-05-09T10:24:56.639981Z",
     "start_time": "2020-05-09T10:24:56.569176Z"
>>>>>>> 910c800abce44000ad1704d1558f68fa4eaccb9e
    }
   },
   "outputs": [],
   "source": [
    "X_sam, y_sam = pipeline.fit_resample(X, y)"
   ]
  },
  {
   "cell_type": "code",
<<<<<<< HEAD
   "execution_count": 14,
   "metadata": {
    "ExecuteTime": {
     "end_time": "2020-05-09T10:35:55.401203Z",
     "start_time": "2020-05-09T10:35:55.398277Z"
=======
   "execution_count": 16,
   "metadata": {
    "ExecuteTime": {
     "end_time": "2020-05-09T10:24:56.646751Z",
     "start_time": "2020-05-09T10:24:56.641784Z"
>>>>>>> 910c800abce44000ad1704d1558f68fa4eaccb9e
    }
   },
   "outputs": [],
   "source": [
    "from sklearn.model_selection import train_test_split"
   ]
  },
  {
   "cell_type": "code",
<<<<<<< HEAD
   "execution_count": 15,
   "metadata": {
    "ExecuteTime": {
     "end_time": "2020-05-09T10:35:55.714303Z",
     "start_time": "2020-05-09T10:35:55.701580Z"
=======
   "execution_count": 17,
   "metadata": {
    "ExecuteTime": {
     "end_time": "2020-05-09T10:24:57.402304Z",
     "start_time": "2020-05-09T10:24:57.388224Z"
>>>>>>> 910c800abce44000ad1704d1558f68fa4eaccb9e
    }
   },
   "outputs": [],
   "source": [
    "X_train, X_test, y_train, y_test = train_test_split(X_sam, y_sam, test_size=0.15)"
   ]
  },
  {
   "cell_type": "markdown",
   "metadata": {},
   "source": [
    "<a id='scale'></a>\n",
    "## Scale"
   ]
  },
  {
   "cell_type": "code",
<<<<<<< HEAD
   "execution_count": 16,
   "metadata": {
    "ExecuteTime": {
     "end_time": "2020-05-09T10:35:57.941641Z",
     "start_time": "2020-05-09T10:35:57.937527Z"
=======
   "execution_count": 18,
   "metadata": {
    "ExecuteTime": {
     "end_time": "2020-05-09T10:24:58.434712Z",
     "start_time": "2020-05-09T10:24:58.430987Z"
>>>>>>> 910c800abce44000ad1704d1558f68fa4eaccb9e
    }
   },
   "outputs": [],
   "source": [
    "from sklearn.preprocessing import StandardScaler"
   ]
  },
  {
   "cell_type": "code",
<<<<<<< HEAD
   "execution_count": 17,
   "metadata": {
    "ExecuteTime": {
     "end_time": "2020-05-09T10:35:58.575216Z",
     "start_time": "2020-05-09T10:35:58.561204Z"
=======
   "execution_count": 19,
   "metadata": {
    "ExecuteTime": {
     "end_time": "2020-05-09T10:24:58.693537Z",
     "start_time": "2020-05-09T10:24:58.674373Z"
>>>>>>> 910c800abce44000ad1704d1558f68fa4eaccb9e
    }
   },
   "outputs": [
    {
     "data": {
      "text/plain": [
       "StandardScaler(copy=True, with_mean=True, with_std=True)"
      ]
     },
<<<<<<< HEAD
     "execution_count": 17,
=======
     "execution_count": 19,
>>>>>>> 910c800abce44000ad1704d1558f68fa4eaccb9e
     "metadata": {},
     "output_type": "execute_result"
    }
   ],
   "source": [
    "scaler = StandardScaler()\n",
    "scaler.fit(X_train)"
   ]
  },
  {
   "cell_type": "code",
<<<<<<< HEAD
   "execution_count": 18,
   "metadata": {
    "ExecuteTime": {
     "end_time": "2020-05-09T10:35:59.061782Z",
     "start_time": "2020-05-09T10:35:59.051553Z"
=======
   "execution_count": 20,
   "metadata": {
    "ExecuteTime": {
     "end_time": "2020-05-09T10:24:58.835954Z",
     "start_time": "2020-05-09T10:24:58.823520Z"
>>>>>>> 910c800abce44000ad1704d1558f68fa4eaccb9e
    }
   },
   "outputs": [],
   "source": [
    "X_train_n = scaler.transform(X_train)\n",
    "X_test_n = scaler.transform(X_test)"
   ]
  },
  {
   "cell_type": "markdown",
   "metadata": {},
   "source": [
    "<a id='model'></a>\n",
    "# Model"
   ]
  },
  {
   "cell_type": "code",
<<<<<<< HEAD
   "execution_count": 19,
   "metadata": {
    "ExecuteTime": {
     "end_time": "2020-05-09T10:36:00.483655Z",
     "start_time": "2020-05-09T10:36:00.479486Z"
=======
   "execution_count": 21,
   "metadata": {
    "ExecuteTime": {
     "end_time": "2020-05-09T10:25:03.266118Z",
     "start_time": "2020-05-09T10:25:03.262958Z"
>>>>>>> 910c800abce44000ad1704d1558f68fa4eaccb9e
    }
   },
   "outputs": [],
   "source": [
    "from sklearn.metrics import confusion_matrix"
   ]
  },
  {
   "cell_type": "code",
<<<<<<< HEAD
   "execution_count": 20,
   "metadata": {
    "ExecuteTime": {
     "end_time": "2020-05-09T10:36:00.806716Z",
     "start_time": "2020-05-09T10:36:00.800980Z"
=======
   "execution_count": 22,
   "metadata": {
    "ExecuteTime": {
     "end_time": "2020-05-09T10:25:04.923527Z",
     "start_time": "2020-05-09T10:25:04.916988Z"
>>>>>>> 910c800abce44000ad1704d1558f68fa4eaccb9e
    }
   },
   "outputs": [],
   "source": [
    "def precision_recall(true, predict, print_=True):\n",
    "    cm = confusion_matrix(true, predict)\n",
    "    if print_:\n",
    "        print('Confusion Matrix:')\n",
    "        print(cm)\n",
    "        print()\n",
    "    \n",
    "    tn, fp, fn, tp = confusion_matrix(true, predict).ravel()\n",
    "    precision = tp / (tp+fp)\n",
    "    recall = tp / (tp+fn)\n",
    "    \n",
    "    if print_:\n",
    "        print('Precision:', precision)\n",
    "        print('Recall:', recall)\n",
    "    else:\n",
    "        return precision, recall"
   ]
  },
  {
   "cell_type": "markdown",
   "metadata": {},
   "source": [
    "<a id='rf'></a>\n",
    "## Random Forest"
   ]
  },
  {
   "cell_type": "code",
<<<<<<< HEAD
   "execution_count": 21,
   "metadata": {
    "ExecuteTime": {
     "end_time": "2020-05-09T10:36:03.711934Z",
     "start_time": "2020-05-09T10:36:03.708032Z"
=======
   "execution_count": 49,
   "metadata": {
    "ExecuteTime": {
     "end_time": "2020-05-09T09:13:55.313839Z",
     "start_time": "2020-05-09T09:13:55.311086Z"
>>>>>>> 910c800abce44000ad1704d1558f68fa4eaccb9e
    }
   },
   "outputs": [],
   "source": [
    "from sklearn.ensemble import RandomForestClassifier\n",
    "from sklearn.model_selection import RandomizedSearchCV"
   ]
  },
  {
   "cell_type": "code",
<<<<<<< HEAD
   "execution_count": 22,
   "metadata": {
    "ExecuteTime": {
     "end_time": "2020-05-09T10:36:04.133514Z",
     "start_time": "2020-05-09T10:36:04.126766Z"
=======
   "execution_count": 50,
   "metadata": {
    "ExecuteTime": {
     "end_time": "2020-05-09T09:13:55.852997Z",
     "start_time": "2020-05-09T09:13:55.847497Z"
>>>>>>> 910c800abce44000ad1704d1558f68fa4eaccb9e
    }
   },
   "outputs": [],
   "source": [
    "# Number of trees in random forest\n",
    "n_estimators = [int(x) for x in np.linspace(start = 200, stop = 2000, num = 10)]\n",
    "# Number of features to consider at every split\n",
    "max_features = ['auto', 'sqrt']\n",
    "# Maximum number of levels in tree\n",
    "max_depth = [int(x) for x in np.linspace(10, 110, num = 11)]\n",
    "max_depth.append(None)\n",
    "# Minimum number of samples required to split a node\n",
    "min_samples_split = [2, 5, 10]\n",
    "# Minimum number of samples required at each leaf node\n",
    "min_samples_leaf = [1, 2, 4]\n",
    "# Method of selecting samples for training each tree\n",
    "bootstrap = [True, False]"
   ]
  },
  {
   "cell_type": "code",
<<<<<<< HEAD
   "execution_count": 23,
   "metadata": {
    "ExecuteTime": {
     "end_time": "2020-05-09T10:36:05.226701Z",
     "start_time": "2020-05-09T10:36:05.221762Z"
=======
   "execution_count": 51,
   "metadata": {
    "ExecuteTime": {
     "end_time": "2020-05-09T09:13:56.881842Z",
     "start_time": "2020-05-09T09:13:56.874512Z"
>>>>>>> 910c800abce44000ad1704d1558f68fa4eaccb9e
    }
   },
   "outputs": [],
   "source": [
    "# Create the random grid\n",
    "random_grid = {'n_estimators': n_estimators,\n",
    "               'max_features': max_features,\n",
    "               'max_depth': max_depth,\n",
    "               'min_samples_split': min_samples_split,\n",
    "               'min_samples_leaf': min_samples_leaf,\n",
    "               'bootstrap': bootstrap}"
   ]
  },
  {
   "cell_type": "code",
<<<<<<< HEAD
   "execution_count": 24,
   "metadata": {
    "ExecuteTime": {
     "end_time": "2020-05-09T10:36:07.898062Z",
     "start_time": "2020-05-09T10:36:07.894189Z"
=======
   "execution_count": 52,
   "metadata": {
    "ExecuteTime": {
     "end_time": "2020-05-09T09:13:57.698617Z",
     "start_time": "2020-05-09T09:13:57.693675Z"
>>>>>>> 910c800abce44000ad1704d1558f68fa4eaccb9e
    }
   },
   "outputs": [],
   "source": [
    "rf = RandomForestClassifier()\n",
    "\n",
    "rf_random = RandomizedSearchCV(estimator=rf, \n",
    "                               param_distributions=random_grid, \n",
    "                               n_iter = 100, \n",
    "                               cv = 5, \n",
    "                               verbose=2,\n",
    "                               random_state=42, \n",
    "                               n_jobs = -1)"
   ]
  },
  {
   "cell_type": "code",
<<<<<<< HEAD
   "execution_count": 25,
   "metadata": {
    "ExecuteTime": {
     "end_time": "2020-05-09T12:33:00.891151Z",
     "start_time": "2020-05-09T10:36:11.878624Z"
    }
   },
   "outputs": [
    {
     "name": "stdout",
     "output_type": "stream",
     "text": [
      "Fitting 5 folds for each of 100 candidates, totalling 500 fits\n"
     ]
    },
    {
     "name": "stderr",
     "output_type": "stream",
     "text": [
      "[Parallel(n_jobs=-1)]: Using backend LokyBackend with 4 concurrent workers.\n",
      "[Parallel(n_jobs=-1)]: Done  33 tasks      | elapsed:  8.3min\n",
      "[Parallel(n_jobs=-1)]: Done 154 tasks      | elapsed: 41.5min\n",
      "[Parallel(n_jobs=-1)]: Done 357 tasks      | elapsed: 87.9min\n",
      "[Parallel(n_jobs=-1)]: Done 500 out of 500 | elapsed: 115.9min finished\n"
     ]
    },
    {
     "data": {
      "text/plain": [
       "RandomizedSearchCV(cv=5, error_score=nan,\n",
       "                   estimator=RandomForestClassifier(bootstrap=True,\n",
       "                                                    ccp_alpha=0.0,\n",
       "                                                    class_weight=None,\n",
       "                                                    criterion='gini',\n",
       "                                                    max_depth=None,\n",
       "                                                    max_features='auto',\n",
       "                                                    max_leaf_nodes=None,\n",
       "                                                    max_samples=None,\n",
       "                                                    min_impurity_decrease=0.0,\n",
       "                                                    min_impurity_split=None,\n",
       "                                                    min_samples_leaf=1,\n",
       "                                                    min_samples_split=2,\n",
       "                                                    min_weight_fraction_leaf=0.0,\n",
       "                                                    n_estimators=100,\n",
       "                                                    n_jobs...\n",
       "                   param_distributions={'bootstrap': [True, False],\n",
       "                                        'max_depth': [10, 20, 30, 40, 50, 60,\n",
       "                                                      70, 80, 90, 100, 110,\n",
       "                                                      None],\n",
       "                                        'max_features': ['auto', 'sqrt'],\n",
       "                                        'min_samples_leaf': [1, 2, 4],\n",
       "                                        'min_samples_split': [2, 5, 10],\n",
       "                                        'n_estimators': [200, 400, 600, 800,\n",
       "                                                         1000, 1200, 1400, 1600,\n",
       "                                                         1800, 2000]},\n",
       "                   pre_dispatch='2*n_jobs', random_state=42, refit=True,\n",
       "                   return_train_score=False, scoring=None, verbose=2)"
      ]
     },
     "execution_count": 25,
     "metadata": {},
     "output_type": "execute_result"
    }
   ],
   "source": [
    "rf_random.fit(X_train, y_train)"
=======
   "execution_count": 55,
   "metadata": {
    "ExecuteTime": {
     "end_time": "2020-05-09T09:14:20.201296Z",
     "start_time": "2020-05-09T09:14:20.198120Z"
    }
   },
   "outputs": [],
   "source": [
    "# rf_random.fit(X_train, y_train)"
>>>>>>> 910c800abce44000ad1704d1558f68fa4eaccb9e
   ]
  },
  {
   "cell_type": "code",
<<<<<<< HEAD
   "execution_count": 27,
   "metadata": {
    "ExecuteTime": {
     "end_time": "2020-05-09T12:33:24.329302Z",
     "start_time": "2020-05-09T12:33:24.319111Z"
    }
   },
   "outputs": [
    {
     "data": {
      "text/plain": [
       "{'n_estimators': 1000,\n",
       " 'min_samples_split': 2,\n",
       " 'min_samples_leaf': 1,\n",
       " 'max_features': 'auto',\n",
       " 'max_depth': 50,\n",
       " 'bootstrap': False}"
      ]
     },
     "execution_count": 27,
     "metadata": {},
     "output_type": "execute_result"
    }
   ],
   "source": [
    "rf_random.best_params_"
=======
   "execution_count": 56,
   "metadata": {
    "ExecuteTime": {
     "end_time": "2020-05-09T09:14:21.385762Z",
     "start_time": "2020-05-09T09:14:21.382269Z"
    }
   },
   "outputs": [],
   "source": [
    "# rf_random.best_params_"
>>>>>>> 910c800abce44000ad1704d1558f68fa4eaccb9e
   ]
  },
  {
   "cell_type": "code",
<<<<<<< HEAD
   "execution_count": 28,
   "metadata": {
    "ExecuteTime": {
     "end_time": "2020-05-09T12:33:39.638886Z",
     "start_time": "2020-05-09T12:33:39.635231Z"
=======
   "execution_count": 57,
   "metadata": {
    "ExecuteTime": {
     "end_time": "2020-05-09T09:14:22.857745Z",
     "start_time": "2020-05-09T09:14:22.853910Z"
>>>>>>> 910c800abce44000ad1704d1558f68fa4eaccb9e
    }
   },
   "outputs": [],
   "source": [
<<<<<<< HEAD
    "rf_best = RandomForestClassifier(n_estimators=1000, \n",
    "                                 min_samples_split=2,\n",
    "                                 min_samples_leaf=1,\n",
    "                                 max_features='auto',\n",
    "                                 max_depth=50,\n",
=======
    "rf_best = RandomForestClassifier(n_estimators=1800, \n",
    "                                 min_samples_split=10,\n",
    "                                 min_samples_leaf=2,\n",
    "                                 max_features='auto',\n",
    "                                 max_depth=110,\n",
>>>>>>> 910c800abce44000ad1704d1558f68fa4eaccb9e
    "                                 bootstrap=False)"
   ]
  },
  {
   "cell_type": "code",
<<<<<<< HEAD
   "execution_count": 29,
   "metadata": {
    "ExecuteTime": {
     "end_time": "2020-05-09T12:34:38.055331Z",
     "start_time": "2020-05-09T12:33:43.358920Z"
=======
   "execution_count": 58,
   "metadata": {
    "ExecuteTime": {
     "end_time": "2020-05-09T09:15:58.393284Z",
     "start_time": "2020-05-09T09:14:23.548492Z"
>>>>>>> 910c800abce44000ad1704d1558f68fa4eaccb9e
    }
   },
   "outputs": [
    {
     "data": {
      "text/plain": [
       "RandomForestClassifier(bootstrap=False, ccp_alpha=0.0, class_weight=None,\n",
<<<<<<< HEAD
       "                       criterion='gini', max_depth=50, max_features='auto',\n",
       "                       max_leaf_nodes=None, max_samples=None,\n",
       "                       min_impurity_decrease=0.0, min_impurity_split=None,\n",
       "                       min_samples_leaf=1, min_samples_split=2,\n",
       "                       min_weight_fraction_leaf=0.0, n_estimators=1000,\n",
=======
       "                       criterion='gini', max_depth=110, max_features='auto',\n",
       "                       max_leaf_nodes=None, max_samples=None,\n",
       "                       min_impurity_decrease=0.0, min_impurity_split=None,\n",
       "                       min_samples_leaf=2, min_samples_split=10,\n",
       "                       min_weight_fraction_leaf=0.0, n_estimators=1800,\n",
>>>>>>> 910c800abce44000ad1704d1558f68fa4eaccb9e
       "                       n_jobs=None, oob_score=False, random_state=None,\n",
       "                       verbose=0, warm_start=False)"
      ]
     },
<<<<<<< HEAD
     "execution_count": 29,
=======
     "execution_count": 58,
>>>>>>> 910c800abce44000ad1704d1558f68fa4eaccb9e
     "metadata": {},
     "output_type": "execute_result"
    }
   ],
   "source": [
    "rf_best.fit(X_train, y_train)"
   ]
  },
  {
   "cell_type": "code",
<<<<<<< HEAD
   "execution_count": 30,
   "metadata": {
    "ExecuteTime": {
     "end_time": "2020-05-09T12:34:38.060321Z",
     "start_time": "2020-05-09T12:34:38.057394Z"
=======
   "execution_count": 74,
   "metadata": {
    "ExecuteTime": {
     "end_time": "2020-05-02T09:54:48.371166Z",
     "start_time": "2020-05-02T09:54:48.367192Z"
>>>>>>> 910c800abce44000ad1704d1558f68fa4eaccb9e
    }
   },
   "outputs": [],
   "source": [
<<<<<<< HEAD
    "import pickle"
=======
    "# import pickle"
>>>>>>> 910c800abce44000ad1704d1558f68fa4eaccb9e
   ]
  },
  {
   "cell_type": "code",
<<<<<<< HEAD
   "execution_count": 31,
   "metadata": {
    "ExecuteTime": {
     "end_time": "2020-05-09T12:34:38.879955Z",
     "start_time": "2020-05-09T12:34:38.063972Z"
=======
   "execution_count": 75,
   "metadata": {
    "ExecuteTime": {
     "end_time": "2020-05-02T09:55:11.286592Z",
     "start_time": "2020-05-02T09:55:10.351432Z"
>>>>>>> 910c800abce44000ad1704d1558f68fa4eaccb9e
    }
   },
   "outputs": [],
   "source": [
<<<<<<< HEAD
    "filename = 'model_rf_5_9_top1.sav'\n",
    "pickle.dump(rf_best, open(filename, 'wb'))"
=======
    "# filename = 'model_rf_5_2.sav'\n",
    "# pickle.dump(rf_best, open(filename, 'wb'))"
>>>>>>> 910c800abce44000ad1704d1558f68fa4eaccb9e
   ]
  },
  {
   "cell_type": "markdown",
   "metadata": {},
   "source": [
    "<a id='svm'></a>\n",
    "## SVM"
   ]
  },
  {
   "cell_type": "code",
<<<<<<< HEAD
   "execution_count": 32,
   "metadata": {
    "ExecuteTime": {
     "end_time": "2020-05-09T12:34:49.817450Z",
     "start_time": "2020-05-09T12:34:49.809093Z"
=======
   "execution_count": 59,
   "metadata": {
    "ExecuteTime": {
     "end_time": "2020-05-09T09:16:03.695232Z",
     "start_time": "2020-05-09T09:16:03.690467Z"
>>>>>>> 910c800abce44000ad1704d1558f68fa4eaccb9e
    }
   },
   "outputs": [],
   "source": [
    "from sklearn.svm import SVC"
   ]
  },
  {
   "cell_type": "code",
<<<<<<< HEAD
   "execution_count": 33,
   "metadata": {
    "ExecuteTime": {
     "end_time": "2020-05-09T12:35:11.502901Z",
     "start_time": "2020-05-09T12:34:50.153942Z"
=======
   "execution_count": 60,
   "metadata": {
    "ExecuteTime": {
     "end_time": "2020-05-09T09:16:24.114112Z",
     "start_time": "2020-05-09T09:16:04.099741Z"
>>>>>>> 910c800abce44000ad1704d1558f68fa4eaccb9e
    }
   },
   "outputs": [
    {
     "data": {
      "text/plain": [
       "SVC(C=1.0, break_ties=False, cache_size=200, class_weight=None, coef0=0.0,\n",
       "    decision_function_shape='ovr', degree=3, gamma='auto', kernel='rbf',\n",
       "    max_iter=-1, probability=False, random_state=None, shrinking=True,\n",
       "    tol=0.001, verbose=False)"
      ]
     },
<<<<<<< HEAD
     "execution_count": 33,
=======
     "execution_count": 60,
>>>>>>> 910c800abce44000ad1704d1558f68fa4eaccb9e
     "metadata": {},
     "output_type": "execute_result"
    }
   ],
   "source": [
    "svm = SVC(gamma='auto',)\n",
    "svm.fit(X_train_n, y_train)"
   ]
  },
  {
   "cell_type": "markdown",
   "metadata": {},
   "source": [
    "<a id='gnb'></a>\n",
    "## Gaussian NB"
   ]
  },
  {
   "cell_type": "code",
<<<<<<< HEAD
   "execution_count": 34,
   "metadata": {
    "ExecuteTime": {
     "end_time": "2020-05-09T12:35:11.511709Z",
     "start_time": "2020-05-09T12:35:11.504779Z"
=======
   "execution_count": 61,
   "metadata": {
    "ExecuteTime": {
     "end_time": "2020-05-09T09:16:26.853499Z",
     "start_time": "2020-05-09T09:16:26.845841Z"
>>>>>>> 910c800abce44000ad1704d1558f68fa4eaccb9e
    }
   },
   "outputs": [],
   "source": [
    "from sklearn.naive_bayes import GaussianNB"
   ]
  },
  {
   "cell_type": "code",
<<<<<<< HEAD
   "execution_count": 35,
   "metadata": {
    "ExecuteTime": {
     "end_time": "2020-05-09T12:35:11.534647Z",
     "start_time": "2020-05-09T12:35:11.513097Z"
=======
   "execution_count": 62,
   "metadata": {
    "ExecuteTime": {
     "end_time": "2020-05-09T09:16:27.296432Z",
     "start_time": "2020-05-09T09:16:27.280148Z"
>>>>>>> 910c800abce44000ad1704d1558f68fa4eaccb9e
    }
   },
   "outputs": [
    {
     "data": {
      "text/plain": [
       "GaussianNB(priors=None, var_smoothing=1e-09)"
      ]
     },
<<<<<<< HEAD
     "execution_count": 35,
=======
     "execution_count": 62,
>>>>>>> 910c800abce44000ad1704d1558f68fa4eaccb9e
     "metadata": {},
     "output_type": "execute_result"
    }
   ],
   "source": [
    "gnb = GaussianNB()\n",
    "gnb.fit(X_train, y_train)"
   ]
  },
  {
   "cell_type": "markdown",
   "metadata": {},
   "source": [
    "<a id='logit'></a>\n",
    "## Logistic Regression"
   ]
  },
  {
   "cell_type": "code",
<<<<<<< HEAD
   "execution_count": 36,
   "metadata": {
    "ExecuteTime": {
     "end_time": "2020-05-09T12:35:14.144533Z",
     "start_time": "2020-05-09T12:35:14.140806Z"
=======
   "execution_count": 23,
   "metadata": {
    "ExecuteTime": {
     "end_time": "2020-05-09T10:25:09.990231Z",
     "start_time": "2020-05-09T10:25:09.987035Z"
>>>>>>> 910c800abce44000ad1704d1558f68fa4eaccb9e
    }
   },
   "outputs": [],
   "source": [
    "from sklearn.linear_model import LogisticRegressionCV"
   ]
  },
  {
   "cell_type": "code",
<<<<<<< HEAD
   "execution_count": 37,
   "metadata": {
    "ExecuteTime": {
     "end_time": "2020-05-09T12:35:16.617490Z",
     "start_time": "2020-05-09T12:35:14.547713Z"
=======
   "execution_count": 24,
   "metadata": {
    "ExecuteTime": {
     "end_time": "2020-05-09T10:25:12.154368Z",
     "start_time": "2020-05-09T10:25:10.129211Z"
>>>>>>> 910c800abce44000ad1704d1558f68fa4eaccb9e
    }
   },
   "outputs": [
    {
     "name": "stderr",
     "output_type": "stream",
     "text": [
      "[Parallel(n_jobs=1)]: Using backend SequentialBackend with 1 concurrent workers.\n",
      "[Parallel(n_jobs=1)]: Done   1 out of   1 | elapsed:    0.3s remaining:    0.0s\n",
      "[Parallel(n_jobs=1)]: Done  10 out of  10 | elapsed:    2.0s finished\n"
     ]
    },
    {
     "data": {
      "text/plain": [
       "LogisticRegressionCV(Cs=10, class_weight=None, cv=10, dual=False,\n",
       "                     fit_intercept=True, intercept_scaling=1.0, l1_ratios=None,\n",
       "                     max_iter=100, multi_class='auto', n_jobs=None,\n",
       "                     penalty='l2', random_state=None, refit=True, scoring=None,\n",
       "                     solver='lbfgs', tol=0.0001, verbose=2)"
      ]
     },
<<<<<<< HEAD
     "execution_count": 37,
=======
     "execution_count": 24,
>>>>>>> 910c800abce44000ad1704d1558f68fa4eaccb9e
     "metadata": {},
     "output_type": "execute_result"
    }
   ],
   "source": [
    "logit = LogisticRegressionCV(cv=10, verbose=2)\n",
    "logit.fit(X_train_n, y_train)"
   ]
  },
  {
   "cell_type": "code",
<<<<<<< HEAD
   "execution_count": 38,
   "metadata": {
    "ExecuteTime": {
     "end_time": "2020-05-09T12:35:17.898822Z",
     "start_time": "2020-05-09T12:35:17.741591Z"
=======
   "execution_count": 25,
   "metadata": {
    "ExecuteTime": {
     "end_time": "2020-05-09T10:25:13.520452Z",
     "start_time": "2020-05-09T10:25:13.374422Z"
>>>>>>> 910c800abce44000ad1704d1558f68fa4eaccb9e
    }
   },
   "outputs": [
    {
     "data": {
<<<<<<< HEAD
      "image/png": "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\n",
=======
      "image/png": "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\n",
>>>>>>> 910c800abce44000ad1704d1558f68fa4eaccb9e
      "text/plain": [
       "<Figure size 720x360 with 1 Axes>"
      ]
     },
     "metadata": {
      "needs_background": "light"
     },
     "output_type": "display_data"
    }
   ],
   "source": [
    "plt.figure(figsize=(10,5))\n",
    "plt.bar(range(len(logit.coef_.reshape(-1))), logit.coef_.reshape(-1))\n",
    "plt.show()"
   ]
  },
  {
   "cell_type": "markdown",
   "metadata": {},
   "source": [
    "<a id='knn'></a>\n",
    "## KNN"
   ]
  },
  {
   "cell_type": "code",
<<<<<<< HEAD
   "execution_count": 39,
   "metadata": {
    "ExecuteTime": {
     "end_time": "2020-05-09T12:35:20.116505Z",
     "start_time": "2020-05-09T12:35:20.112745Z"
=======
   "execution_count": 66,
   "metadata": {
    "ExecuteTime": {
     "end_time": "2020-05-09T09:16:39.986111Z",
     "start_time": "2020-05-09T09:16:39.982207Z"
>>>>>>> 910c800abce44000ad1704d1558f68fa4eaccb9e
    }
   },
   "outputs": [],
   "source": [
    "from sklearn.neighbors import KNeighborsClassifier\n",
    "from sklearn.model_selection import cross_val_score"
   ]
  },
  {
   "cell_type": "code",
<<<<<<< HEAD
   "execution_count": 40,
   "metadata": {
    "ExecuteTime": {
     "end_time": "2020-05-09T12:35:20.275446Z",
     "start_time": "2020-05-09T12:35:20.262762Z"
=======
   "execution_count": 67,
   "metadata": {
    "ExecuteTime": {
     "end_time": "2020-05-09T09:16:40.571254Z",
     "start_time": "2020-05-09T09:16:40.567297Z"
>>>>>>> 910c800abce44000ad1704d1558f68fa4eaccb9e
    }
   },
   "outputs": [],
   "source": [
    "def knn_cv(n, X, y):\n",
    "    knn = KNeighborsClassifier(n_neighbors=n)\n",
    "    score = cross_val_score(knn, X, y, cv=10)\n",
    "    return score.mean()"
   ]
  },
  {
   "cell_type": "code",
<<<<<<< HEAD
   "execution_count": 41,
   "metadata": {
    "ExecuteTime": {
     "end_time": "2020-05-09T12:36:12.969133Z",
     "start_time": "2020-05-09T12:35:29.937490Z"
=======
   "execution_count": 68,
   "metadata": {
    "ExecuteTime": {
     "end_time": "2020-05-09T09:19:47.340397Z",
     "start_time": "2020-05-09T09:16:41.169342Z"
>>>>>>> 910c800abce44000ad1704d1558f68fa4eaccb9e
    }
   },
   "outputs": [
    {
     "data": {
      "application/vnd.jupyter.widget-view+json": {
<<<<<<< HEAD
       "model_id": "fd9b8f0dc6744585b4f2bf5e3f95af2e",
=======
       "model_id": "0d99bab4912e40fab24375127c6d3ddf",
>>>>>>> 910c800abce44000ad1704d1558f68fa4eaccb9e
       "version_major": 2,
       "version_minor": 0
      },
      "text/plain": [
<<<<<<< HEAD
       "HBox(children=(IntProgress(value=0, max=14), HTML(value='')))"
=======
       "HBox(children=(IntProgress(value=0, max=48), HTML(value='')))"
>>>>>>> 910c800abce44000ad1704d1558f68fa4eaccb9e
      ]
     },
     "metadata": {},
     "output_type": "display_data"
    },
    {
     "name": "stdout",
     "output_type": "stream",
     "text": [
      "\n"
     ]
    }
   ],
   "source": [
<<<<<<< HEAD
    "all_knn_scores = [knn_cv(i, X_train_n, y_train) for i in tqdm(range(3, 30, 2))]"
=======
    "all_knn_scores = [knn_cv(i, X_train_n, y_train) for i in tqdm(range(3, 99, 2))]"
>>>>>>> 910c800abce44000ad1704d1558f68fa4eaccb9e
   ]
  },
  {
   "cell_type": "code",
<<<<<<< HEAD
   "execution_count": 42,
   "metadata": {
    "ExecuteTime": {
     "end_time": "2020-05-09T12:36:14.089141Z",
     "start_time": "2020-05-09T12:36:13.925302Z"
=======
   "execution_count": 69,
   "metadata": {
    "ExecuteTime": {
     "end_time": "2020-05-09T09:19:48.953222Z",
     "start_time": "2020-05-09T09:19:48.662007Z"
>>>>>>> 910c800abce44000ad1704d1558f68fa4eaccb9e
    }
   },
   "outputs": [
    {
     "data": {
<<<<<<< HEAD
      "image/png": "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\n",
=======
      "image/png": "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\n",
>>>>>>> 910c800abce44000ad1704d1558f68fa4eaccb9e
      "text/plain": [
       "<Figure size 720x360 with 1 Axes>"
      ]
     },
     "metadata": {
      "needs_background": "light"
     },
     "output_type": "display_data"
    }
   ],
   "source": [
    "plt.figure(figsize=(10,5))\n",
    "plt.plot(all_knn_scores)\n",
    "plt.xticks(range(len(all_knn_scores)), range(3,99,2), rotation=30)\n",
    "plt.show()"
   ]
  },
  {
   "cell_type": "code",
<<<<<<< HEAD
   "execution_count": 43,
   "metadata": {
    "ExecuteTime": {
     "end_time": "2020-05-09T12:36:15.685449Z",
     "start_time": "2020-05-09T12:36:15.641903Z"
=======
   "execution_count": 70,
   "metadata": {
    "ExecuteTime": {
     "end_time": "2020-05-09T09:19:53.454204Z",
     "start_time": "2020-05-09T09:19:53.408438Z"
>>>>>>> 910c800abce44000ad1704d1558f68fa4eaccb9e
    }
   },
   "outputs": [
    {
     "data": {
      "text/plain": [
       "KNeighborsClassifier(algorithm='auto', leaf_size=30, metric='minkowski',\n",
       "                     metric_params=None, n_jobs=None, n_neighbors=3, p=2,\n",
       "                     weights='uniform')"
      ]
     },
<<<<<<< HEAD
     "execution_count": 43,
=======
     "execution_count": 70,
>>>>>>> 910c800abce44000ad1704d1558f68fa4eaccb9e
     "metadata": {},
     "output_type": "execute_result"
    }
   ],
   "source": [
    "knn_best = KNeighborsClassifier(n_neighbors=3)\n",
    "knn_best.fit(X_train_n, y_train)"
   ]
  },
  {
   "cell_type": "markdown",
   "metadata": {},
   "source": [
    "<a id='nn'></a>\n",
    "## Neural Network"
   ]
  },
  {
   "cell_type": "code",
<<<<<<< HEAD
   "execution_count": 44,
   "metadata": {
    "ExecuteTime": {
     "end_time": "2020-05-09T12:36:17.230557Z",
     "start_time": "2020-05-09T12:36:17.225788Z"
=======
   "execution_count": 71,
   "metadata": {
    "ExecuteTime": {
     "end_time": "2020-05-09T09:20:02.085898Z",
     "start_time": "2020-05-09T09:20:02.080199Z"
>>>>>>> 910c800abce44000ad1704d1558f68fa4eaccb9e
    }
   },
   "outputs": [],
   "source": [
    "X_val_n, X_test_dnn, y_val, y_test_dnn = train_test_split(X_test_n, y_test, test_size=0.2)"
   ]
  },
  {
   "cell_type": "code",
<<<<<<< HEAD
   "execution_count": 45,
   "metadata": {
    "ExecuteTime": {
     "end_time": "2020-05-09T12:36:17.734340Z",
     "start_time": "2020-05-09T12:36:17.729583Z"
=======
   "execution_count": 72,
   "metadata": {
    "ExecuteTime": {
     "end_time": "2020-05-09T09:20:03.097882Z",
     "start_time": "2020-05-09T09:20:03.093575Z"
>>>>>>> 910c800abce44000ad1704d1558f68fa4eaccb9e
    }
   },
   "outputs": [],
   "source": [
    "from keras import models\n",
    "from keras import layers"
   ]
  },
  {
   "cell_type": "code",
<<<<<<< HEAD
   "execution_count": 46,
   "metadata": {
    "ExecuteTime": {
     "end_time": "2020-05-09T12:36:19.148352Z",
     "start_time": "2020-05-09T12:36:18.750331Z"
=======
   "execution_count": 73,
   "metadata": {
    "ExecuteTime": {
     "end_time": "2020-05-09T09:20:05.188561Z",
     "start_time": "2020-05-09T09:20:04.696324Z"
>>>>>>> 910c800abce44000ad1704d1558f68fa4eaccb9e
    }
   },
   "outputs": [
    {
     "name": "stderr",
     "output_type": "stream",
     "text": [
      "WARNING: Logging before flag parsing goes to stderr.\n",
<<<<<<< HEAD
      "W0509 05:36:18.758629 4578244032 deprecation_wrapper.py:119] From /anaconda3/lib/python3.7/site-packages/keras/backend/tensorflow_backend.py:74: The name tf.get_default_graph is deprecated. Please use tf.compat.v1.get_default_graph instead.\n",
      "\n",
      "W0509 05:36:18.777482 4578244032 deprecation_wrapper.py:119] From /anaconda3/lib/python3.7/site-packages/keras/backend/tensorflow_backend.py:517: The name tf.placeholder is deprecated. Please use tf.compat.v1.placeholder instead.\n",
      "\n",
      "W0509 05:36:18.780200 4578244032 deprecation_wrapper.py:119] From /anaconda3/lib/python3.7/site-packages/keras/backend/tensorflow_backend.py:4138: The name tf.random_uniform is deprecated. Please use tf.random.uniform instead.\n",
      "\n",
      "W0509 05:36:18.793843 4578244032 deprecation_wrapper.py:119] From /anaconda3/lib/python3.7/site-packages/keras/backend/tensorflow_backend.py:133: The name tf.placeholder_with_default is deprecated. Please use tf.compat.v1.placeholder_with_default instead.\n",
      "\n",
      "W0509 05:36:18.800410 4578244032 deprecation.py:506] From /anaconda3/lib/python3.7/site-packages/keras/backend/tensorflow_backend.py:3445: calling dropout (from tensorflow.python.ops.nn_ops) with keep_prob is deprecated and will be removed in a future version.\n",
=======
      "W0509 02:20:04.705844 4548527552 deprecation_wrapper.py:119] From /anaconda3/lib/python3.7/site-packages/keras/backend/tensorflow_backend.py:74: The name tf.get_default_graph is deprecated. Please use tf.compat.v1.get_default_graph instead.\n",
      "\n",
      "W0509 02:20:04.829035 4548527552 deprecation_wrapper.py:119] From /anaconda3/lib/python3.7/site-packages/keras/backend/tensorflow_backend.py:517: The name tf.placeholder is deprecated. Please use tf.compat.v1.placeholder instead.\n",
      "\n",
      "W0509 02:20:04.885809 4548527552 deprecation_wrapper.py:119] From /anaconda3/lib/python3.7/site-packages/keras/backend/tensorflow_backend.py:4138: The name tf.random_uniform is deprecated. Please use tf.random.uniform instead.\n",
      "\n",
      "W0509 02:20:04.937172 4548527552 deprecation_wrapper.py:119] From /anaconda3/lib/python3.7/site-packages/keras/backend/tensorflow_backend.py:133: The name tf.placeholder_with_default is deprecated. Please use tf.compat.v1.placeholder_with_default instead.\n",
      "\n",
      "W0509 02:20:04.943943 4548527552 deprecation.py:506] From /anaconda3/lib/python3.7/site-packages/keras/backend/tensorflow_backend.py:3445: calling dropout (from tensorflow.python.ops.nn_ops) with keep_prob is deprecated and will be removed in a future version.\n",
>>>>>>> 910c800abce44000ad1704d1558f68fa4eaccb9e
      "Instructions for updating:\n",
      "Please use `rate` instead of `keep_prob`. Rate should be set to `rate = 1 - keep_prob`.\n"
     ]
    }
   ],
   "source": [
    "dnn = models.Sequential()\n",
    "dnn.add(layers.Dense(128, activation='relu', input_shape=(11,)))\n",
    "dnn.add(layers.Dropout(0.2))\n",
    "dnn.add(layers.Dense(128, activation='relu'))\n",
    "dnn.add(layers.Dropout(0.2))\n",
    "dnn.add(layers.Dense(128, activation='relu'))\n",
    "dnn.add(layers.Dropout(0.2))\n",
    "dnn.add(layers.Dense(128, activation='relu'))\n",
    "dnn.add(layers.Dropout(0.2))\n",
    "dnn.add(layers.Dense(128, activation='relu'))\n",
    "dnn.add(layers.Dropout(0.2))\n",
    "dnn.add(layers.Dense(128, activation='relu'))\n",
    "dnn.add(layers.Dropout(0.2))\n",
    "dnn.add(layers.Dense(128, activation='relu'))\n",
    "dnn.add(layers.Dropout(0.2))\n",
    "dnn.add(layers.Dense(128, activation='relu'))\n",
    "dnn.add(layers.Dropout(0.2))\n",
    "dnn.add(layers.Dense(128, activation='relu', input_shape=(11,)))\n",
    "dnn.add(layers.Dropout(0.2))\n",
    "dnn.add(layers.Dense(128, activation='relu', input_shape=(11,)))\n",
    "dnn.add(layers.Dropout(0.2))\n",
    "dnn.add(layers.Dense(128, activation='relu', input_shape=(11,)))\n",
    "dnn.add(layers.Dropout(0.2))\n",
    "dnn.add(layers.Dense(1, activation='sigmoid'))"
   ]
  },
  {
   "cell_type": "code",
<<<<<<< HEAD
   "execution_count": 47,
   "metadata": {
    "ExecuteTime": {
     "end_time": "2020-05-09T12:36:20.626428Z",
     "start_time": "2020-05-09T12:36:20.555747Z"
=======
   "execution_count": 74,
   "metadata": {
    "ExecuteTime": {
     "end_time": "2020-05-09T09:20:06.890587Z",
     "start_time": "2020-05-09T09:20:06.841671Z"
>>>>>>> 910c800abce44000ad1704d1558f68fa4eaccb9e
    }
   },
   "outputs": [
    {
     "name": "stderr",
     "output_type": "stream",
     "text": [
<<<<<<< HEAD
      "W0509 05:36:20.557605 4578244032 deprecation_wrapper.py:119] From /anaconda3/lib/python3.7/site-packages/keras/optimizers.py:790: The name tf.train.Optimizer is deprecated. Please use tf.compat.v1.train.Optimizer instead.\n",
      "\n",
      "W0509 05:36:20.592142 4578244032 deprecation_wrapper.py:119] From /anaconda3/lib/python3.7/site-packages/keras/backend/tensorflow_backend.py:3376: The name tf.log is deprecated. Please use tf.math.log instead.\n",
      "\n",
      "W0509 05:36:20.597593 4578244032 deprecation.py:323] From /anaconda3/lib/python3.7/site-packages/tensorflow/python/ops/nn_impl.py:180: add_dispatch_support.<locals>.wrapper (from tensorflow.python.ops.array_ops) is deprecated and will be removed in a future version.\n",
=======
      "W0509 02:20:06.843227 4548527552 deprecation_wrapper.py:119] From /anaconda3/lib/python3.7/site-packages/keras/optimizers.py:790: The name tf.train.Optimizer is deprecated. Please use tf.compat.v1.train.Optimizer instead.\n",
      "\n",
      "W0509 02:20:06.866159 4548527552 deprecation_wrapper.py:119] From /anaconda3/lib/python3.7/site-packages/keras/backend/tensorflow_backend.py:3376: The name tf.log is deprecated. Please use tf.math.log instead.\n",
      "\n",
      "W0509 02:20:06.870812 4548527552 deprecation.py:323] From /anaconda3/lib/python3.7/site-packages/tensorflow/python/ops/nn_impl.py:180: add_dispatch_support.<locals>.wrapper (from tensorflow.python.ops.array_ops) is deprecated and will be removed in a future version.\n",
>>>>>>> 910c800abce44000ad1704d1558f68fa4eaccb9e
      "Instructions for updating:\n",
      "Use tf.where in 2.0, which has the same broadcast rule as np.where\n"
     ]
    }
   ],
   "source": [
    "dnn.compile(optimizer='rmsprop', loss='binary_crossentropy', metrics=['acc'])"
   ]
  },
  {
   "cell_type": "code",
<<<<<<< HEAD
   "execution_count": 48,
   "metadata": {
    "ExecuteTime": {
     "end_time": "2020-05-09T12:37:19.727592Z",
     "start_time": "2020-05-09T12:36:21.772312Z"
=======
   "execution_count": 75,
   "metadata": {
    "ExecuteTime": {
     "end_time": "2020-05-09T09:21:12.338048Z",
     "start_time": "2020-05-09T09:20:15.779785Z"
>>>>>>> 910c800abce44000ad1704d1558f68fa4eaccb9e
    },
    "scrolled": true
   },
   "outputs": [
    {
     "name": "stdout",
     "output_type": "stream",
     "text": [
      "Train on 28649 samples, validate on 4044 samples\n",
      "Epoch 1/60\n",
<<<<<<< HEAD
      "28649/28649 [==============================] - 2s 59us/step - loss: 0.6075 - acc: 0.6702 - val_loss: 0.5703 - val_acc: 0.7020\n",
      "Epoch 2/60\n",
      "28649/28649 [==============================] - 1s 30us/step - loss: 0.5814 - acc: 0.7019 - val_loss: 0.5796 - val_acc: 0.7080\n",
      "Epoch 3/60\n",
      "28649/28649 [==============================] - 1s 29us/step - loss: 0.5762 - acc: 0.7054 - val_loss: 0.5619 - val_acc: 0.7161\n",
      "Epoch 4/60\n",
      "28649/28649 [==============================] - 1s 29us/step - loss: 0.5708 - acc: 0.7107 - val_loss: 0.5713 - val_acc: 0.7109\n",
      "Epoch 5/60\n",
      "28649/28649 [==============================] - 1s 30us/step - loss: 0.5699 - acc: 0.7143 - val_loss: 0.5671 - val_acc: 0.7075\n",
      "Epoch 6/60\n",
      "28649/28649 [==============================] - 1s 30us/step - loss: 0.5672 - acc: 0.7171 - val_loss: 0.5583 - val_acc: 0.7260\n",
      "Epoch 7/60\n",
      "28649/28649 [==============================] - 1s 31us/step - loss: 0.5652 - acc: 0.7172 - val_loss: 0.5829 - val_acc: 0.7208\n",
      "Epoch 8/60\n",
      "28649/28649 [==============================] - 1s 31us/step - loss: 0.5604 - acc: 0.7231 - val_loss: 0.5669 - val_acc: 0.7203\n",
      "Epoch 9/60\n",
      "28649/28649 [==============================] - 1s 30us/step - loss: 0.5591 - acc: 0.7217 - val_loss: 0.5612 - val_acc: 0.7223\n",
      "Epoch 10/60\n",
      "28649/28649 [==============================] - 1s 30us/step - loss: 0.5558 - acc: 0.7271 - val_loss: 0.5598 - val_acc: 0.7362\n",
      "Epoch 11/60\n",
      "28649/28649 [==============================] - 1s 34us/step - loss: 0.5502 - acc: 0.7320 - val_loss: 0.5590 - val_acc: 0.7273\n",
      "Epoch 12/60\n",
      "28649/28649 [==============================] - 1s 30us/step - loss: 0.5522 - acc: 0.7312 - val_loss: 0.5504 - val_acc: 0.7354\n",
      "Epoch 13/60\n",
      "28649/28649 [==============================] - 1s 30us/step - loss: 0.5477 - acc: 0.7343 - val_loss: 0.5532 - val_acc: 0.7359\n",
      "Epoch 14/60\n",
      "28649/28649 [==============================] - 1s 36us/step - loss: 0.5438 - acc: 0.7373 - val_loss: 0.5597 - val_acc: 0.7409\n",
      "Epoch 15/60\n",
      "28649/28649 [==============================] - 1s 31us/step - loss: 0.5451 - acc: 0.7375 - val_loss: 0.5467 - val_acc: 0.7374\n",
      "Epoch 16/60\n",
      "28649/28649 [==============================] - 1s 30us/step - loss: 0.5411 - acc: 0.7406 - val_loss: 0.5586 - val_acc: 0.7337\n",
      "Epoch 17/60\n",
      "28649/28649 [==============================] - 1s 31us/step - loss: 0.5394 - acc: 0.7410 - val_loss: 0.5427 - val_acc: 0.7475\n",
      "Epoch 18/60\n",
      "28649/28649 [==============================] - 1s 30us/step - loss: 0.5359 - acc: 0.7436 - val_loss: 0.5470 - val_acc: 0.7369\n",
      "Epoch 19/60\n",
      "28649/28649 [==============================] - 1s 31us/step - loss: 0.5357 - acc: 0.7443 - val_loss: 0.5277 - val_acc: 0.7502\n",
      "Epoch 20/60\n",
      "28649/28649 [==============================] - 1s 30us/step - loss: 0.5333 - acc: 0.7444 - val_loss: 0.5551 - val_acc: 0.7369\n",
      "Epoch 21/60\n",
      "28649/28649 [==============================] - 1s 31us/step - loss: 0.5314 - acc: 0.7474 - val_loss: 0.5265 - val_acc: 0.7606\n",
      "Epoch 22/60\n",
      "28649/28649 [==============================] - 1s 31us/step - loss: 0.5267 - acc: 0.7481 - val_loss: 0.5192 - val_acc: 0.7545\n",
      "Epoch 23/60\n",
      "28649/28649 [==============================] - 1s 35us/step - loss: 0.5264 - acc: 0.7516 - val_loss: 0.5328 - val_acc: 0.7577\n",
      "Epoch 24/60\n",
      "28649/28649 [==============================] - 1s 33us/step - loss: 0.5246 - acc: 0.7529 - val_loss: 0.5253 - val_acc: 0.7478\n",
      "Epoch 25/60\n",
      "28649/28649 [==============================] - 1s 33us/step - loss: 0.5197 - acc: 0.7565 - val_loss: 0.5165 - val_acc: 0.7601\n",
      "Epoch 26/60\n",
      "28649/28649 [==============================] - 1s 34us/step - loss: 0.5174 - acc: 0.7560 - val_loss: 0.5336 - val_acc: 0.7554\n",
      "Epoch 27/60\n",
      "28649/28649 [==============================] - 1s 39us/step - loss: 0.5157 - acc: 0.7581 - val_loss: 0.5275 - val_acc: 0.7596\n",
      "Epoch 28/60\n",
      "28649/28649 [==============================] - 1s 43us/step - loss: 0.5135 - acc: 0.7610 - val_loss: 0.5172 - val_acc: 0.7656\n",
      "Epoch 29/60\n",
      "28649/28649 [==============================] - 1s 39us/step - loss: 0.5130 - acc: 0.7601 - val_loss: 0.5221 - val_acc: 0.7540\n",
      "Epoch 30/60\n",
      "28649/28649 [==============================] - 1s 37us/step - loss: 0.5092 - acc: 0.7639 - val_loss: 0.5487 - val_acc: 0.7478\n",
      "Epoch 31/60\n",
      "28649/28649 [==============================] - 1s 34us/step - loss: 0.5099 - acc: 0.7628 - val_loss: 0.5098 - val_acc: 0.7705\n",
      "Epoch 32/60\n",
      "28649/28649 [==============================] - 1s 37us/step - loss: 0.5064 - acc: 0.7660 - val_loss: 0.5134 - val_acc: 0.7631\n",
      "Epoch 33/60\n",
      "28649/28649 [==============================] - 1s 28us/step - loss: 0.5048 - acc: 0.7662 - val_loss: 0.5153 - val_acc: 0.7727\n",
      "Epoch 34/60\n",
      "28649/28649 [==============================] - 1s 29us/step - loss: 0.5032 - acc: 0.7686 - val_loss: 0.5045 - val_acc: 0.7723\n",
      "Epoch 35/60\n",
      "28649/28649 [==============================] - 1s 26us/step - loss: 0.5020 - acc: 0.7689 - val_loss: 0.5078 - val_acc: 0.7782\n",
      "Epoch 36/60\n",
      "28649/28649 [==============================] - 1s 27us/step - loss: 0.4979 - acc: 0.7720 - val_loss: 0.5005 - val_acc: 0.7782\n",
      "Epoch 37/60\n",
      "28649/28649 [==============================] - 1s 28us/step - loss: 0.4961 - acc: 0.7714 - val_loss: 0.5010 - val_acc: 0.7777\n",
      "Epoch 38/60\n",
      "28649/28649 [==============================] - 1s 28us/step - loss: 0.4968 - acc: 0.7689 - val_loss: 0.4970 - val_acc: 0.7762\n",
      "Epoch 39/60\n",
      "28649/28649 [==============================] - 1s 26us/step - loss: 0.4964 - acc: 0.7714 - val_loss: 0.4978 - val_acc: 0.7799\n",
      "Epoch 40/60\n",
      "28649/28649 [==============================] - 1s 33us/step - loss: 0.4931 - acc: 0.7747 - val_loss: 0.4986 - val_acc: 0.7831\n",
      "Epoch 41/60\n",
      "28649/28649 [==============================] - 1s 33us/step - loss: 0.4924 - acc: 0.7764 - val_loss: 0.4856 - val_acc: 0.7844\n",
      "Epoch 42/60\n",
      "28649/28649 [==============================] - 1s 39us/step - loss: 0.4896 - acc: 0.7769 - val_loss: 0.5022 - val_acc: 0.7817\n",
      "Epoch 43/60\n",
      "28649/28649 [==============================] - 1s 33us/step - loss: 0.4883 - acc: 0.7775 - val_loss: 0.5038 - val_acc: 0.7740\n",
      "Epoch 44/60\n",
      "28649/28649 [==============================] - 1s 32us/step - loss: 0.4865 - acc: 0.7784 - val_loss: 0.4885 - val_acc: 0.7809\n",
      "Epoch 45/60\n",
      "28649/28649 [==============================] - 1s 34us/step - loss: 0.4865 - acc: 0.7775 - val_loss: 0.4860 - val_acc: 0.7836\n",
      "Epoch 46/60\n",
      "28649/28649 [==============================] - 1s 34us/step - loss: 0.4847 - acc: 0.7796 - val_loss: 0.4843 - val_acc: 0.7864\n",
      "Epoch 47/60\n",
      "28649/28649 [==============================] - 1s 40us/step - loss: 0.4855 - acc: 0.7773 - val_loss: 0.4806 - val_acc: 0.7881\n",
      "Epoch 48/60\n",
      "28649/28649 [==============================] - 1s 43us/step - loss: 0.4815 - acc: 0.7806 - val_loss: 0.4779 - val_acc: 0.7849\n",
      "Epoch 49/60\n",
      "28649/28649 [==============================] - 1s 38us/step - loss: 0.4842 - acc: 0.7812 - val_loss: 0.4788 - val_acc: 0.7896\n",
      "Epoch 50/60\n",
      "28649/28649 [==============================] - 1s 35us/step - loss: 0.4787 - acc: 0.7846 - val_loss: 0.4944 - val_acc: 0.7849\n",
      "Epoch 51/60\n",
      "28649/28649 [==============================] - 1s 30us/step - loss: 0.4790 - acc: 0.7856 - val_loss: 0.4714 - val_acc: 0.7886\n",
      "Epoch 52/60\n",
      "28649/28649 [==============================] - 1s 32us/step - loss: 0.4740 - acc: 0.7870 - val_loss: 0.4894 - val_acc: 0.7824\n",
      "Epoch 53/60\n",
      "28649/28649 [==============================] - 1s 33us/step - loss: 0.4742 - acc: 0.7870 - val_loss: 0.4785 - val_acc: 0.7891\n",
      "Epoch 54/60\n",
      "28649/28649 [==============================] - 1s 33us/step - loss: 0.4769 - acc: 0.7839 - val_loss: 0.4795 - val_acc: 0.7920\n",
      "Epoch 55/60\n",
      "28649/28649 [==============================] - 1s 34us/step - loss: 0.4752 - acc: 0.7863 - val_loss: 0.4716 - val_acc: 0.7910\n",
      "Epoch 56/60\n",
      "28649/28649 [==============================] - 1s 34us/step - loss: 0.4740 - acc: 0.7876 - val_loss: 0.4659 - val_acc: 0.7891\n",
      "Epoch 57/60\n",
      "28649/28649 [==============================] - 1s 35us/step - loss: 0.4731 - acc: 0.7892 - val_loss: 0.4711 - val_acc: 0.7995\n",
      "Epoch 58/60\n",
      "28649/28649 [==============================] - 1s 41us/step - loss: 0.4739 - acc: 0.7876 - val_loss: 0.4684 - val_acc: 0.7995\n",
      "Epoch 59/60\n",
      "28649/28649 [==============================] - 1s 34us/step - loss: 0.4735 - acc: 0.7895 - val_loss: 0.4672 - val_acc: 0.8024\n",
=======
      "28649/28649 [==============================] - 2s 62us/step - loss: 0.6043 - acc: 0.6749 - val_loss: 0.5683 - val_acc: 0.7080\n",
      "Epoch 2/60\n",
      "28649/28649 [==============================] - 1s 31us/step - loss: 0.5799 - acc: 0.7019 - val_loss: 0.5699 - val_acc: 0.7203\n",
      "Epoch 3/60\n",
      "28649/28649 [==============================] - 1s 30us/step - loss: 0.5753 - acc: 0.7078 - val_loss: 0.5660 - val_acc: 0.7295\n",
      "Epoch 4/60\n",
      "28649/28649 [==============================] - 1s 30us/step - loss: 0.5685 - acc: 0.7120 - val_loss: 0.5545 - val_acc: 0.7315\n",
      "Epoch 5/60\n",
      "28649/28649 [==============================] - 1s 29us/step - loss: 0.5677 - acc: 0.7146 - val_loss: 0.5662 - val_acc: 0.7273\n",
      "Epoch 6/60\n",
      "28649/28649 [==============================] - 1s 29us/step - loss: 0.5640 - acc: 0.7196 - val_loss: 0.5531 - val_acc: 0.7362\n",
      "Epoch 7/60\n",
      "28649/28649 [==============================] - 1s 31us/step - loss: 0.5609 - acc: 0.7218 - val_loss: 0.5469 - val_acc: 0.7416\n",
      "Epoch 8/60\n",
      "28649/28649 [==============================] - 1s 30us/step - loss: 0.5582 - acc: 0.7265 - val_loss: 0.5496 - val_acc: 0.7416\n",
      "Epoch 9/60\n",
      "28649/28649 [==============================] - 1s 29us/step - loss: 0.5552 - acc: 0.7262 - val_loss: 0.5421 - val_acc: 0.7448\n",
      "Epoch 10/60\n",
      "28649/28649 [==============================] - 1s 30us/step - loss: 0.5516 - acc: 0.7301 - val_loss: 0.5445 - val_acc: 0.7493\n",
      "Epoch 11/60\n",
      "28649/28649 [==============================] - 1s 30us/step - loss: 0.5478 - acc: 0.7349 - val_loss: 0.5313 - val_acc: 0.7470\n",
      "Epoch 12/60\n",
      "28649/28649 [==============================] - 1s 30us/step - loss: 0.5460 - acc: 0.7352 - val_loss: 0.5415 - val_acc: 0.7589\n",
      "Epoch 13/60\n",
      "28649/28649 [==============================] - 1s 31us/step - loss: 0.5440 - acc: 0.7369 - val_loss: 0.5320 - val_acc: 0.7614\n",
      "Epoch 14/60\n",
      "28649/28649 [==============================] - 1s 30us/step - loss: 0.5415 - acc: 0.7376 - val_loss: 0.5264 - val_acc: 0.7582\n",
      "Epoch 15/60\n",
      "28649/28649 [==============================] - 1s 30us/step - loss: 0.5386 - acc: 0.7435 - val_loss: 0.5251 - val_acc: 0.7681\n",
      "Epoch 16/60\n",
      "28649/28649 [==============================] - 1s 30us/step - loss: 0.5374 - acc: 0.7447 - val_loss: 0.5342 - val_acc: 0.7569\n",
      "Epoch 17/60\n",
      "28649/28649 [==============================] - 1s 31us/step - loss: 0.5343 - acc: 0.7431 - val_loss: 0.5351 - val_acc: 0.7648\n",
      "Epoch 18/60\n",
      "28649/28649 [==============================] - 1s 31us/step - loss: 0.5308 - acc: 0.7483 - val_loss: 0.5355 - val_acc: 0.7594\n",
      "Epoch 19/60\n",
      "28649/28649 [==============================] - 1s 30us/step - loss: 0.5290 - acc: 0.7513 - val_loss: 0.5305 - val_acc: 0.7673\n",
      "Epoch 20/60\n",
      "28649/28649 [==============================] - 1s 30us/step - loss: 0.5273 - acc: 0.7518 - val_loss: 0.5155 - val_acc: 0.7690\n",
      "Epoch 21/60\n",
      "28649/28649 [==============================] - 1s 31us/step - loss: 0.5246 - acc: 0.7506 - val_loss: 0.5152 - val_acc: 0.7703\n",
      "Epoch 22/60\n",
      "28649/28649 [==============================] - 1s 30us/step - loss: 0.5225 - acc: 0.7566 - val_loss: 0.5209 - val_acc: 0.7770\n",
      "Epoch 23/60\n",
      "28649/28649 [==============================] - 1s 31us/step - loss: 0.5195 - acc: 0.7561 - val_loss: 0.5404 - val_acc: 0.7648\n",
      "Epoch 24/60\n",
      "28649/28649 [==============================] - 1s 31us/step - loss: 0.5199 - acc: 0.7537 - val_loss: 0.5152 - val_acc: 0.7757\n",
      "Epoch 25/60\n",
      "28649/28649 [==============================] - 1s 30us/step - loss: 0.5160 - acc: 0.7589 - val_loss: 0.5081 - val_acc: 0.7755\n",
      "Epoch 26/60\n",
      "28649/28649 [==============================] - 1s 31us/step - loss: 0.5141 - acc: 0.7572 - val_loss: 0.4997 - val_acc: 0.7799\n",
      "Epoch 27/60\n",
      "28649/28649 [==============================] - 1s 31us/step - loss: 0.5135 - acc: 0.7621 - val_loss: 0.5074 - val_acc: 0.7745\n",
      "Epoch 28/60\n",
      "28649/28649 [==============================] - 1s 31us/step - loss: 0.5102 - acc: 0.7615 - val_loss: 0.5202 - val_acc: 0.7740\n",
      "Epoch 29/60\n",
      "28649/28649 [==============================] - 1s 31us/step - loss: 0.5075 - acc: 0.7657 - val_loss: 0.4909 - val_acc: 0.7844\n",
      "Epoch 30/60\n",
      "28649/28649 [==============================] - 1s 32us/step - loss: 0.5036 - acc: 0.7680 - val_loss: 0.4952 - val_acc: 0.7839\n",
      "Epoch 31/60\n",
      "28649/28649 [==============================] - 1s 30us/step - loss: 0.4996 - acc: 0.7684 - val_loss: 0.4850 - val_acc: 0.7851\n",
      "Epoch 32/60\n",
      "28649/28649 [==============================] - 1s 31us/step - loss: 0.4991 - acc: 0.7700 - val_loss: 0.4904 - val_acc: 0.7888\n",
      "Epoch 33/60\n",
      "28649/28649 [==============================] - 1s 31us/step - loss: 0.4991 - acc: 0.7692 - val_loss: 0.4953 - val_acc: 0.7839\n",
      "Epoch 34/60\n",
      "28649/28649 [==============================] - 1s 31us/step - loss: 0.4936 - acc: 0.7739 - val_loss: 0.4909 - val_acc: 0.7873\n",
      "Epoch 35/60\n",
      "28649/28649 [==============================] - 1s 30us/step - loss: 0.4969 - acc: 0.7688 - val_loss: 0.4857 - val_acc: 0.7849\n",
      "Epoch 36/60\n",
      "28649/28649 [==============================] - 1s 31us/step - loss: 0.4939 - acc: 0.7723 - val_loss: 0.5032 - val_acc: 0.7826\n",
      "Epoch 37/60\n",
      "28649/28649 [==============================] - 1s 31us/step - loss: 0.4908 - acc: 0.7731 - val_loss: 0.4716 - val_acc: 0.7960\n",
      "Epoch 38/60\n",
      "28649/28649 [==============================] - 1s 31us/step - loss: 0.4887 - acc: 0.7755 - val_loss: 0.4877 - val_acc: 0.7955\n",
      "Epoch 39/60\n",
      "28649/28649 [==============================] - 1s 33us/step - loss: 0.4843 - acc: 0.7804 - val_loss: 0.4777 - val_acc: 0.7980\n",
      "Epoch 40/60\n",
      "28649/28649 [==============================] - 1s 36us/step - loss: 0.4857 - acc: 0.7797 - val_loss: 0.4834 - val_acc: 0.7913\n",
      "Epoch 41/60\n",
      "28649/28649 [==============================] - 1s 34us/step - loss: 0.4819 - acc: 0.7801 - val_loss: 0.4639 - val_acc: 0.7982\n",
      "Epoch 42/60\n",
      "28649/28649 [==============================] - 1s 33us/step - loss: 0.4804 - acc: 0.7812 - val_loss: 0.4764 - val_acc: 0.7985\n",
      "Epoch 43/60\n",
      "28649/28649 [==============================] - 1s 34us/step - loss: 0.4814 - acc: 0.7815 - val_loss: 0.4582 - val_acc: 0.7997\n",
      "Epoch 44/60\n",
      "28649/28649 [==============================] - 1s 41us/step - loss: 0.4768 - acc: 0.7865 - val_loss: 0.4615 - val_acc: 0.8012\n",
      "Epoch 45/60\n",
      "28649/28649 [==============================] - 1s 37us/step - loss: 0.4780 - acc: 0.7843 - val_loss: 0.4714 - val_acc: 0.8037\n",
      "Epoch 46/60\n",
      "28649/28649 [==============================] - 1s 38us/step - loss: 0.4718 - acc: 0.7866 - val_loss: 0.4698 - val_acc: 0.7945\n",
      "Epoch 47/60\n",
      "28649/28649 [==============================] - 1s 33us/step - loss: 0.4766 - acc: 0.7861 - val_loss: 0.4612 - val_acc: 0.8037\n",
      "Epoch 48/60\n",
      "28649/28649 [==============================] - 1s 32us/step - loss: 0.4708 - acc: 0.7892 - val_loss: 0.4572 - val_acc: 0.8019\n",
      "Epoch 49/60\n",
      "28649/28649 [==============================] - 1s 31us/step - loss: 0.4713 - acc: 0.7870 - val_loss: 0.4789 - val_acc: 0.7980\n",
      "Epoch 50/60\n",
      "28649/28649 [==============================] - 1s 32us/step - loss: 0.4690 - acc: 0.7905 - val_loss: 0.4694 - val_acc: 0.8051\n",
      "Epoch 51/60\n",
      "28649/28649 [==============================] - 1s 36us/step - loss: 0.4715 - acc: 0.7868 - val_loss: 0.4372 - val_acc: 0.8098\n",
      "Epoch 52/60\n",
      "28649/28649 [==============================] - 1s 37us/step - loss: 0.4653 - acc: 0.7915 - val_loss: 0.4487 - val_acc: 0.8089\n",
      "Epoch 53/60\n",
      "28649/28649 [==============================] - 1s 39us/step - loss: 0.4639 - acc: 0.7936 - val_loss: 0.4494 - val_acc: 0.8148\n",
      "Epoch 54/60\n",
      "28649/28649 [==============================] - 1s 39us/step - loss: 0.4681 - acc: 0.7942 - val_loss: 0.4428 - val_acc: 0.8091\n",
      "Epoch 55/60\n",
      "28649/28649 [==============================] - 1s 33us/step - loss: 0.4622 - acc: 0.7956 - val_loss: 0.4605 - val_acc: 0.8024\n",
      "Epoch 56/60\n",
      "28649/28649 [==============================] - 1s 31us/step - loss: 0.4606 - acc: 0.7922 - val_loss: 0.4484 - val_acc: 0.8111\n",
      "Epoch 57/60\n",
      "28649/28649 [==============================] - 1s 35us/step - loss: 0.4563 - acc: 0.7967 - val_loss: 0.4428 - val_acc: 0.8155\n",
      "Epoch 58/60\n",
      "28649/28649 [==============================] - 1s 31us/step - loss: 0.4638 - acc: 0.7951 - val_loss: 0.4384 - val_acc: 0.8163\n",
      "Epoch 59/60\n",
      "28649/28649 [==============================] - 1s 32us/step - loss: 0.4614 - acc: 0.7951 - val_loss: 0.4428 - val_acc: 0.8185\n",
>>>>>>> 910c800abce44000ad1704d1558f68fa4eaccb9e
      "Epoch 60/60\n"
     ]
    },
    {
     "name": "stdout",
     "output_type": "stream",
     "text": [
<<<<<<< HEAD
      "28649/28649 [==============================] - 1s 30us/step - loss: 0.5460 - acc: 0.7858 - val_loss: 0.4696 - val_acc: 0.7898\n"
=======
      "28649/28649 [==============================] - 1s 33us/step - loss: 0.4595 - acc: 0.7977 - val_loss: 0.4417 - val_acc: 0.8140\n"
>>>>>>> 910c800abce44000ad1704d1558f68fa4eaccb9e
     ]
    }
   ],
   "source": [
    "history = dnn.fit(X_train_n, y_train, \n",
    "                    epochs=60, \n",
    "                    batch_size=512, \n",
    "                    verbose=1,\n",
    "                    validation_data=[X_val_n, y_val])"
   ]
  },
  {
   "cell_type": "code",
<<<<<<< HEAD
   "execution_count": 49,
   "metadata": {
    "ExecuteTime": {
     "end_time": "2020-05-09T12:37:22.200527Z",
     "start_time": "2020-05-09T12:37:21.897953Z"
=======
   "execution_count": 76,
   "metadata": {
    "ExecuteTime": {
     "end_time": "2020-05-09T09:21:18.137682Z",
     "start_time": "2020-05-09T09:21:17.907501Z"
>>>>>>> 910c800abce44000ad1704d1558f68fa4eaccb9e
    }
   },
   "outputs": [
    {
     "data": {
<<<<<<< HEAD
      "image/png": "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\n",
=======
      "image/png": "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\n",
>>>>>>> 910c800abce44000ad1704d1558f68fa4eaccb9e
      "text/plain": [
       "<Figure size 720x360 with 2 Axes>"
      ]
     },
     "metadata": {
      "needs_background": "light"
     },
     "output_type": "display_data"
    }
   ],
   "source": [
    "plt.figure(figsize=(10,5))\n",
    "\n",
    "plt.subplot(2,1,1)\n",
    "plt.plot(history.history['acc'], label='acc')\n",
    "plt.plot(history.history['val_acc'], label='val_acc')\n",
    "plt.legend()\n",
    "\n",
    "plt.subplot(2,1,2)\n",
    "plt.plot(history.history['loss'], label='loss')\n",
    "plt.plot(history.history['val_loss'], label='val_loss')\n",
    "plt.legend()\n",
    "\n",
    "plt.show()"
   ]
  },
  {
   "cell_type": "code",
<<<<<<< HEAD
   "execution_count": 51,
   "metadata": {
    "ExecuteTime": {
     "end_time": "2020-05-09T12:37:43.550708Z",
     "start_time": "2020-05-09T12:37:43.268116Z"
=======
   "execution_count": 77,
   "metadata": {
    "ExecuteTime": {
     "end_time": "2020-05-09T09:21:26.102566Z",
     "start_time": "2020-05-09T09:21:25.726555Z"
>>>>>>> 910c800abce44000ad1704d1558f68fa4eaccb9e
    }
   },
   "outputs": [],
   "source": [
    "dnn_best = models.Sequential()\n",
    "dnn_best.add(layers.Dense(128, activation='relu', input_shape=(11,)))\n",
    "dnn_best.add(layers.Dropout(0.2))\n",
    "dnn_best.add(layers.Dense(128, activation='relu'))\n",
    "dnn_best.add(layers.Dropout(0.2))\n",
    "dnn_best.add(layers.Dense(128, activation='relu'))\n",
    "dnn_best.add(layers.Dropout(0.2))\n",
    "dnn_best.add(layers.Dense(128, activation='relu'))\n",
    "dnn_best.add(layers.Dropout(0.2))\n",
    "dnn_best.add(layers.Dense(128, activation='relu'))\n",
    "dnn_best.add(layers.Dropout(0.2))\n",
    "dnn_best.add(layers.Dense(128, activation='relu'))\n",
    "dnn_best.add(layers.Dropout(0.2))\n",
    "dnn_best.add(layers.Dense(128, activation='relu'))\n",
    "dnn_best.add(layers.Dropout(0.2))\n",
    "dnn_best.add(layers.Dense(128, activation='relu'))\n",
    "dnn_best.add(layers.Dropout(0.2))\n",
    "dnn_best.add(layers.Dense(128, activation='relu', input_shape=(11,)))\n",
    "dnn_best.add(layers.Dropout(0.2))\n",
    "dnn_best.add(layers.Dense(128, activation='relu', input_shape=(11,)))\n",
    "dnn_best.add(layers.Dropout(0.2))\n",
    "dnn_best.add(layers.Dense(128, activation='relu', input_shape=(11,)))\n",
    "dnn_best.add(layers.Dropout(0.2))\n",
    "dnn_best.add(layers.Dense(1, activation='sigmoid'))"
   ]
  },
  {
   "cell_type": "code",
<<<<<<< HEAD
   "execution_count": 52,
   "metadata": {
    "ExecuteTime": {
     "end_time": "2020-05-09T12:37:43.828126Z",
     "start_time": "2020-05-09T12:37:43.786662Z"
=======
   "execution_count": 78,
   "metadata": {
    "ExecuteTime": {
     "end_time": "2020-05-09T09:21:30.063060Z",
     "start_time": "2020-05-09T09:21:30.020697Z"
>>>>>>> 910c800abce44000ad1704d1558f68fa4eaccb9e
    }
   },
   "outputs": [],
   "source": [
    "dnn_best.compile(optimizer='rmsprop', loss='binary_crossentropy', metrics=['acc'])"
   ]
  },
  {
   "cell_type": "code",
<<<<<<< HEAD
   "execution_count": 53,
   "metadata": {
    "ExecuteTime": {
     "end_time": "2020-05-09T12:37:53.044297Z",
     "start_time": "2020-05-09T12:37:44.427634Z"
=======
   "execution_count": 79,
   "metadata": {
    "ExecuteTime": {
     "end_time": "2020-05-09T09:21:44.584572Z",
     "start_time": "2020-05-09T09:21:36.087210Z"
>>>>>>> 910c800abce44000ad1704d1558f68fa4eaccb9e
    }
   },
   "outputs": [],
   "source": [
    "history_best = dnn_best.fit(X_train_n, y_train, \n",
    "                            epochs=10, \n",
    "                            batch_size=512, \n",
    "                            verbose=0,\n",
    "                            validation_data=[X_val_n, y_val])"
   ]
  },
  {
   "cell_type": "markdown",
   "metadata": {},
   "source": [
    "<a id='evaluation'></a>\n",
    "# Evaluation"
   ]
  },
  {
   "cell_type": "markdown",
   "metadata": {},
   "source": [
    "<a id='precision_recall'></a>\n",
    "## Precision & Recall"
   ]
  },
  {
   "cell_type": "code",
<<<<<<< HEAD
   "execution_count": 54,
   "metadata": {
    "ExecuteTime": {
     "end_time": "2020-05-09T12:37:58.025730Z",
     "start_time": "2020-05-09T12:37:56.174706Z"
=======
   "execution_count": 80,
   "metadata": {
    "ExecuteTime": {
     "end_time": "2020-05-09T09:21:49.545540Z",
     "start_time": "2020-05-09T09:21:46.788648Z"
>>>>>>> 910c800abce44000ad1704d1558f68fa4eaccb9e
    }
   },
   "outputs": [],
   "source": [
    "# random forest\n",
    "rf_score = rf_best.score(X_test, y_test)\n",
    "rf_predict = rf_best.predict(X_test)"
   ]
  },
  {
   "cell_type": "code",
<<<<<<< HEAD
   "execution_count": 55,
   "metadata": {
    "ExecuteTime": {
     "end_time": "2020-05-09T12:38:01.848198Z",
     "start_time": "2020-05-09T12:37:58.560513Z"
=======
   "execution_count": 81,
   "metadata": {
    "ExecuteTime": {
     "end_time": "2020-05-09T09:21:53.521870Z",
     "start_time": "2020-05-09T09:21:50.154167Z"
>>>>>>> 910c800abce44000ad1704d1558f68fa4eaccb9e
    }
   },
   "outputs": [],
   "source": [
    "# svm\n",
    "svm_score = svm.score(X_test_n, y_test)\n",
    "svm_predict = svm.predict(X_test_n)"
   ]
  },
  {
   "cell_type": "code",
<<<<<<< HEAD
   "execution_count": 56,
   "metadata": {
    "ExecuteTime": {
     "end_time": "2020-05-09T12:38:01.863180Z",
     "start_time": "2020-05-09T12:38:01.850513Z"
=======
   "execution_count": 82,
   "metadata": {
    "ExecuteTime": {
     "end_time": "2020-05-09T09:21:57.683793Z",
     "start_time": "2020-05-09T09:21:57.674843Z"
>>>>>>> 910c800abce44000ad1704d1558f68fa4eaccb9e
    }
   },
   "outputs": [],
   "source": [
    "# gnb\n",
    "gnb_score = gnb.score(X_test, y_test)\n",
    "gnb_predict = gnb.predict(X_test)"
   ]
  },
  {
   "cell_type": "code",
<<<<<<< HEAD
   "execution_count": 57,
   "metadata": {
    "ExecuteTime": {
     "end_time": "2020-05-09T12:38:01.883212Z",
     "start_time": "2020-05-09T12:38:01.872794Z"
=======
   "execution_count": 83,
   "metadata": {
    "ExecuteTime": {
     "end_time": "2020-05-09T09:21:58.839052Z",
     "start_time": "2020-05-09T09:21:58.831167Z"
>>>>>>> 910c800abce44000ad1704d1558f68fa4eaccb9e
    }
   },
   "outputs": [],
   "source": [
    "# logistic regression\n",
    "logit_score = logit.score(X_test_n, y_test)\n",
    "logit_predict = logit.predict(X_test_n)"
   ]
  },
  {
   "cell_type": "code",
<<<<<<< HEAD
   "execution_count": 58,
   "metadata": {
    "ExecuteTime": {
     "end_time": "2020-05-09T12:38:02.632754Z",
     "start_time": "2020-05-09T12:38:01.884964Z"
=======
   "execution_count": 84,
   "metadata": {
    "ExecuteTime": {
     "end_time": "2020-05-09T09:22:00.558818Z",
     "start_time": "2020-05-09T09:21:59.812528Z"
>>>>>>> 910c800abce44000ad1704d1558f68fa4eaccb9e
    }
   },
   "outputs": [],
   "source": [
    "# knn\n",
    "knn_score = knn_best.score(X_test_n, y_test)\n",
    "knn_predict = knn_best.predict(X_test_n)"
   ]
  },
  {
   "cell_type": "code",
<<<<<<< HEAD
   "execution_count": 59,
   "metadata": {
    "ExecuteTime": {
     "end_time": "2020-05-09T12:38:02.866101Z",
     "start_time": "2020-05-09T12:38:02.634738Z"
=======
   "execution_count": 85,
   "metadata": {
    "ExecuteTime": {
     "end_time": "2020-05-09T09:22:02.458356Z",
     "start_time": "2020-05-09T09:22:02.244760Z"
>>>>>>> 910c800abce44000ad1704d1558f68fa4eaccb9e
    }
   },
   "outputs": [
    {
     "name": "stdout",
     "output_type": "stream",
     "text": [
<<<<<<< HEAD
      "1012/1012 [==============================] - 0s 38us/step\n"
=======
      "1012/1012 [==============================] - 0s 32us/step\n"
>>>>>>> 910c800abce44000ad1704d1558f68fa4eaccb9e
     ]
    }
   ],
   "source": [
    "# nn\n",
    "dnn_loss, dnn_score = dnn_best.evaluate(X_test_dnn, y_test_dnn)\n",
    "dnn_predict = pd.Series(dnn_best.predict(X_test_dnn).reshape(-1) >= 0.5).astype('int')"
   ]
  },
  {
   "cell_type": "code",
<<<<<<< HEAD
   "execution_count": 60,
   "metadata": {
    "ExecuteTime": {
     "end_time": "2020-05-09T12:38:03.978679Z",
     "start_time": "2020-05-09T12:38:03.973191Z"
=======
   "execution_count": 86,
   "metadata": {
    "ExecuteTime": {
     "end_time": "2020-05-09T09:22:03.216878Z",
     "start_time": "2020-05-09T09:22:03.213212Z"
>>>>>>> 910c800abce44000ad1704d1558f68fa4eaccb9e
    }
   },
   "outputs": [],
   "source": [
    "from sklearn.metrics import roc_curve, auc"
   ]
  },
  {
   "cell_type": "code",
<<<<<<< HEAD
   "execution_count": 61,
   "metadata": {
    "ExecuteTime": {
     "end_time": "2020-05-09T12:38:04.489273Z",
     "start_time": "2020-05-09T12:38:04.459677Z"
=======
   "execution_count": 87,
   "metadata": {
    "ExecuteTime": {
     "end_time": "2020-05-09T09:22:04.135711Z",
     "start_time": "2020-05-09T09:22:04.088973Z"
>>>>>>> 910c800abce44000ad1704d1558f68fa4eaccb9e
    }
   },
   "outputs": [],
   "source": [
    "dnn_fpr, dnn_tpr, dnn_threshold = roc_curve(y_test_dnn, dnn_best.predict(X_test_dnn).reshape(-1))\n",
    "dnn_auc = auc(dnn_fpr, dnn_tpr)"
   ]
  },
  {
   "cell_type": "code",
<<<<<<< HEAD
   "execution_count": 62,
   "metadata": {
    "ExecuteTime": {
     "end_time": "2020-05-09T12:38:05.692015Z",
     "start_time": "2020-05-09T12:38:05.627167Z"
=======
   "execution_count": 88,
   "metadata": {
    "ExecuteTime": {
     "end_time": "2020-05-09T09:22:04.820597Z",
     "start_time": "2020-05-09T09:22:04.770320Z"
>>>>>>> 910c800abce44000ad1704d1558f68fa4eaccb9e
    }
   },
   "outputs": [],
   "source": [
    "pr_dict = {\n",
    "    'rf':precision_recall(y_test, rf_predict, print_=False),\n",
    "    'svm':precision_recall(y_test, svm_predict, print_=False),\n",
    "    'gnb':precision_recall(y_test, gnb_predict, print_=False),\n",
    "    'logit':precision_recall(y_test, logit_predict, print_=False),\n",
    "    'knn':precision_recall(y_test, knn_predict, print_=False),\n",
    "    'dnn':precision_recall(y_test_dnn, dnn_predict, print_=False)\n",
    "}"
   ]
  },
  {
   "cell_type": "code",
<<<<<<< HEAD
   "execution_count": 63,
   "metadata": {
    "ExecuteTime": {
     "end_time": "2020-05-09T12:38:06.237303Z",
     "start_time": "2020-05-09T12:38:06.214323Z"
=======
   "execution_count": 89,
   "metadata": {
    "ExecuteTime": {
     "end_time": "2020-05-09T09:22:05.417137Z",
     "start_time": "2020-05-09T09:22:05.410244Z"
>>>>>>> 910c800abce44000ad1704d1558f68fa4eaccb9e
    }
   },
   "outputs": [],
   "source": [
    "pr_df = pd.DataFrame.from_dict(pr_dict, orient='index', columns=['precision','recall'])\n",
    "pr_df['F1'] = 2*((pr_df['precision']*pr_df['recall']) / (pr_df['precision']+pr_df['recall']))\n",
    "pr_df['accuracy'] = [rf_score, svm_score, gnb_score, logit_score, knn_score, dnn_score]"
   ]
  },
  {
   "cell_type": "code",
<<<<<<< HEAD
   "execution_count": 64,
   "metadata": {
    "ExecuteTime": {
     "end_time": "2020-05-09T12:38:06.856503Z",
     "start_time": "2020-05-09T12:38:06.842144Z"
=======
   "execution_count": 90,
   "metadata": {
    "ExecuteTime": {
     "end_time": "2020-05-09T09:22:06.319058Z",
     "start_time": "2020-05-09T09:22:06.307335Z"
>>>>>>> 910c800abce44000ad1704d1558f68fa4eaccb9e
    }
   },
   "outputs": [
    {
     "data": {
      "text/html": [
       "<div>\n",
       "<style scoped>\n",
       "    .dataframe tbody tr th:only-of-type {\n",
       "        vertical-align: middle;\n",
       "    }\n",
       "\n",
       "    .dataframe tbody tr th {\n",
       "        vertical-align: top;\n",
       "    }\n",
       "\n",
       "    .dataframe thead th {\n",
       "        text-align: right;\n",
       "    }\n",
       "</style>\n",
       "<table border=\"1\" class=\"dataframe\">\n",
       "  <thead>\n",
       "    <tr style=\"text-align: right;\">\n",
       "      <th></th>\n",
       "      <th>precision</th>\n",
       "      <th>recall</th>\n",
       "      <th>F1</th>\n",
       "      <th>accuracy</th>\n",
       "    </tr>\n",
       "  </thead>\n",
       "  <tbody>\n",
       "    <tr>\n",
       "      <th>rf</th>\n",
<<<<<<< HEAD
       "      <td>0.977326</td>\n",
       "      <td>0.915892</td>\n",
       "      <td>0.945612</td>\n",
       "      <td>0.952927</td>\n",
       "    </tr>\n",
       "    <tr>\n",
       "      <th>svm</th>\n",
       "      <td>0.722886</td>\n",
       "      <td>0.669765</td>\n",
       "      <td>0.695312</td>\n",
       "      <td>0.737737</td>\n",
       "    </tr>\n",
       "    <tr>\n",
       "      <th>gnb</th>\n",
       "      <td>0.649413</td>\n",
       "      <td>0.660912</td>\n",
       "      <td>0.655112</td>\n",
       "      <td>0.689082</td>\n",
       "    </tr>\n",
       "    <tr>\n",
       "      <th>logit</th>\n",
       "      <td>0.684521</td>\n",
       "      <td>0.616645</td>\n",
       "      <td>0.648812</td>\n",
       "      <td>0.701741</td>\n",
       "    </tr>\n",
       "    <tr>\n",
       "      <th>knn</th>\n",
       "      <td>0.799852</td>\n",
       "      <td>0.958831</td>\n",
       "      <td>0.872156</td>\n",
       "      <td>0.874407</td>\n",
       "    </tr>\n",
       "    <tr>\n",
       "      <th>dnn</th>\n",
       "      <td>0.659247</td>\n",
       "      <td>0.813953</td>\n",
       "      <td>0.728477</td>\n",
       "      <td>0.716403</td>\n",
=======
       "      <td>0.974846</td>\n",
       "      <td>0.914108</td>\n",
       "      <td>0.943500</td>\n",
       "      <td>0.951345</td>\n",
       "    </tr>\n",
       "    <tr>\n",
       "      <th>svm</th>\n",
       "      <td>0.731909</td>\n",
       "      <td>0.670672</td>\n",
       "      <td>0.699954</td>\n",
       "      <td>0.744462</td>\n",
       "    </tr>\n",
       "    <tr>\n",
       "      <th>gnb</th>\n",
       "      <td>0.647693</td>\n",
       "      <td>0.668447</td>\n",
       "      <td>0.657906</td>\n",
       "      <td>0.691060</td>\n",
       "    </tr>\n",
       "    <tr>\n",
       "      <th>logit</th>\n",
       "      <td>0.687592</td>\n",
       "      <td>0.623943</td>\n",
       "      <td>0.654223</td>\n",
       "      <td>0.706883</td>\n",
       "    </tr>\n",
       "    <tr>\n",
       "      <th>knn</th>\n",
       "      <td>0.809578</td>\n",
       "      <td>0.955496</td>\n",
       "      <td>0.876505</td>\n",
       "      <td>0.880340</td>\n",
       "    </tr>\n",
       "    <tr>\n",
       "      <th>dnn</th>\n",
       "      <td>0.703093</td>\n",
       "      <td>0.771493</td>\n",
       "      <td>0.735707</td>\n",
       "      <td>0.757905</td>\n",
>>>>>>> 910c800abce44000ad1704d1558f68fa4eaccb9e
       "    </tr>\n",
       "  </tbody>\n",
       "</table>\n",
       "</div>"
      ],
      "text/plain": [
       "       precision    recall        F1  accuracy\n",
<<<<<<< HEAD
       "rf      0.977326  0.915892  0.945612  0.952927\n",
       "svm     0.722886  0.669765  0.695312  0.737737\n",
       "gnb     0.649413  0.660912  0.655112  0.689082\n",
       "logit   0.684521  0.616645  0.648812  0.701741\n",
       "knn     0.799852  0.958831  0.872156  0.874407\n",
       "dnn     0.659247  0.813953  0.728477  0.716403"
      ]
     },
     "execution_count": 64,
=======
       "rf      0.974846  0.914108  0.943500  0.951345\n",
       "svm     0.731909  0.670672  0.699954  0.744462\n",
       "gnb     0.647693  0.668447  0.657906  0.691060\n",
       "logit   0.687592  0.623943  0.654223  0.706883\n",
       "knn     0.809578  0.955496  0.876505  0.880340\n",
       "dnn     0.703093  0.771493  0.735707  0.757905"
      ]
     },
     "execution_count": 90,
>>>>>>> 910c800abce44000ad1704d1558f68fa4eaccb9e
     "metadata": {},
     "output_type": "execute_result"
    }
   ],
   "source": [
    "pr_df"
   ]
  },
  {
   "cell_type": "markdown",
   "metadata": {},
   "source": [
    "<a id='auc_roc'></a>\n",
    "## AUC ROC"
   ]
  },
  {
   "cell_type": "code",
<<<<<<< HEAD
   "execution_count": 65,
   "metadata": {
    "ExecuteTime": {
     "end_time": "2020-05-09T12:38:11.838096Z",
     "start_time": "2020-05-09T12:38:11.834351Z"
=======
   "execution_count": 91,
   "metadata": {
    "ExecuteTime": {
     "end_time": "2020-05-09T09:22:14.315330Z",
     "start_time": "2020-05-09T09:22:14.308431Z"
>>>>>>> 910c800abce44000ad1704d1558f68fa4eaccb9e
    }
   },
   "outputs": [],
   "source": [
    "from sklearn.metrics import plot_roc_curve"
   ]
  },
  {
   "cell_type": "code",
<<<<<<< HEAD
   "execution_count": 66,
   "metadata": {
    "ExecuteTime": {
     "end_time": "2020-05-09T12:38:15.987347Z",
     "start_time": "2020-05-09T12:38:13.151704Z"
=======
   "execution_count": 92,
   "metadata": {
    "ExecuteTime": {
     "end_time": "2020-05-09T09:22:18.645820Z",
     "start_time": "2020-05-09T09:22:15.041579Z"
>>>>>>> 910c800abce44000ad1704d1558f68fa4eaccb9e
    }
   },
   "outputs": [
    {
     "data": {
<<<<<<< HEAD
      "image/png": "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\n",
=======
      "image/png": "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\n",
>>>>>>> 910c800abce44000ad1704d1558f68fa4eaccb9e
      "text/plain": [
       "<Figure size 720x360 with 1 Axes>"
      ]
     },
     "metadata": {
      "needs_background": "light"
     },
     "output_type": "display_data"
    }
   ],
   "source": [
    "fig, ax = plt.subplots(figsize=(10,5))\n",
    "plot_roc_curve(rf_best, X_test, y_test, ax=ax)\n",
    "plot_roc_curve(svm, X_test_n, y_test, ax=ax)\n",
    "plot_roc_curve(gnb, X_test, y_test, ax=ax)\n",
    "plot_roc_curve(logit, X_test_n, y_test, ax=ax)\n",
    "plot_roc_curve(knn_best, X_test_n, y_test, ax=ax)\n",
    "plt.plot(dnn_fpr, dnn_tpr, label='Deep Neural Network (AUC={})'.format(round(dnn_auc, 3)))\n",
    "ax.plot([0, 1], [0, 1], linestyle='--', lw=2, color='black',\n",
    "        label='Chance', alpha=.8)\n",
    "plt.legend()\n",
    "plt.show()"
   ]
  },
  {
   "cell_type": "markdown",
   "metadata": {},
   "source": [
    "# Validation from new data"
   ]
  },
  {
   "cell_type": "code",
   "execution_count": 26,
   "metadata": {
    "ExecuteTime": {
     "end_time": "2020-05-09T10:25:33.353171Z",
     "start_time": "2020-05-09T10:25:33.209064Z"
    }
   },
   "outputs": [],
   "source": [
    "import sys\n",
    "sys.path.insert(1, '../ETL/')\n",
    "\n",
    "import load_data\n",
    "from tools import *"
   ]
  },
  {
   "cell_type": "code",
   "execution_count": 27,
   "metadata": {
    "ExecuteTime": {
     "end_time": "2020-05-09T10:25:35.130964Z",
     "start_time": "2020-05-09T10:25:33.920797Z"
    }
   },
   "outputs": [
    {
     "name": "stdout",
     "output_type": "stream",
     "text": [
      "File 1\n",
      "Loading file: /Users/esmondchu/Desktop/M2020-05-03D.xls\n",
      "Loaded: Race(1)\n",
      "Loaded: Race(2)\n",
      "Loaded: Race(3)\n",
      "Loaded: Race(4)\n",
      "Loaded: Race(5)\n",
      "Loaded: Race(6)\n",
      "Loaded: Race(7)\n",
      "Loaded: Race(8)\n",
      "Loaded: Race(9)\n",
      "Loaded: Race(10)\n",
      "Loaded: Race(11)\n",
      "Status: Completed\n",
      "\n",
      "File 2\n",
      "Loading file: /Users/esmondchu/Desktop/M2020-04-29D.xls\n",
      "Loaded: Race(1)\n",
      "Loaded: Race(2)\n",
      "Loaded: Race(3)\n",
      "Loaded: Race(4)\n",
      "Loaded: Race(5)\n",
      "Loaded: Race(6)\n",
      "Loaded: Race(7)\n",
      "Loaded: Race(8)\n",
      "Loaded: Race(9)\n",
      "Status: Completed\n",
      "\n",
      "Loaded 2 files\n"
     ]
    }
   ],
   "source": [
    "new_data = load_data.flow_from_dir('/Users/esmondchu/Desktop/', '.xls', 'Race', combined=False)"
   ]
  },
  {
   "cell_type": "code",
   "execution_count": 31,
   "metadata": {
    "ExecuteTime": {
     "end_time": "2020-05-09T10:25:50.173392Z",
     "start_time": "2020-05-09T10:25:50.169515Z"
    }
   },
   "outputs": [],
   "source": [
    "include_col = ['東(正)','東(副)','東(冷)','蘋(正)','蘋(副)','蘋(冷)','專(正)','專(副)','專(冷)','W.H. FixOdd','S.B.      FixOdd']"
   ]
  }
 ],
 "metadata": {
  "kernelspec": {
   "display_name": "Python 3",
   "language": "python",
   "name": "python3"
  },
  "language_info": {
   "codemirror_mode": {
    "name": "ipython",
    "version": 3
   },
   "file_extension": ".py",
   "mimetype": "text/x-python",
   "name": "python",
   "nbconvert_exporter": "python",
   "pygments_lexer": "ipython3",
   "version": "3.7.3"
  },
  "toc": {
   "base_numbering": 1,
   "nav_menu": {},
   "number_sections": true,
   "sideBar": true,
   "skip_h1_title": false,
   "title_cell": "Table of Contents",
   "title_sidebar": "Contents",
   "toc_cell": false,
   "toc_position": {},
   "toc_section_display": true,
   "toc_window_display": false
  }
 },
 "nbformat": 4,
 "nbformat_minor": 2
}
